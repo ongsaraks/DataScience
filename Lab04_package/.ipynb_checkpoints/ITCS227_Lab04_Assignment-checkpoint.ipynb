{
 "cells": [
  {
   "cell_type": "markdown",
   "id": "7bca3098",
   "metadata": {},
   "source": [
    "<p style=\"text-align:center\">\n",
    "    <a href=\"https://www.ict.mahidol.ac.th/en/\" target=\"_blank\">\n",
    "    <img src=\"https://www3.ict.mahidol.ac.th/ICTSurveysV2/Content/image/MUICT2.png\" width=\"400\" alt=\"Faculty of ICT\">\n",
    "    </a>\n",
    "</p>\n",
    "\n",
    "# Lab04: Basic Visualization\n",
    "\n",
    "This lab assesses your ability to create effective data visualizations using Matplotlib and Seaborn. You will work with real-world datasets to generate various plot types, including line plots for time series data, bar charts for categorical data, and histograms/scatter plots for numerical data.\n",
    "\n",
    "__Intructions:__\n",
    "1. Append your ID at the end of this jupyter file name. For example, ```ITCS227_Lab04_Assignment_6788123.ipynb```\n",
    "2. Complete each task in the lab.\n",
    "3. Once finished, raise your hand to call a TA.\n",
    "4. The TA will check your work and give you an appropriate score.\n",
    "5. Submit the source code to MyCourse as record-keeping."
   ]
  },
  {
   "cell_type": "markdown",
   "id": "513828ae",
   "metadata": {},
   "source": [
    "## Task 01: Time Series Visualization with Matplotlib and Seaborn\n",
    "\n",
    "In this task, we'll use the Global Land Temperatures By Major City dataset from Berkeley Earth data ('files/GlobalLandTemperatures-small.csv.csv'). For this example, we'll focus on Bangkok, Thailand."
   ]
  },
  {
   "cell_type": "code",
   "execution_count": 1,
   "id": "5e4acee6-bd6b-49c2-bb34-e1ef19da7cf2",
   "metadata": {},
   "outputs": [
    {
     "name": "stdout",
     "output_type": "stream",
     "text": [
      "Requirement already satisfied: pandas in c:\\users\\gifly\\anaconda3\\lib\\site-packages (2.0.3)\n",
      "Requirement already satisfied: matplotlib in c:\\users\\gifly\\anaconda3\\lib\\site-packages (3.7.2)\n",
      "Requirement already satisfied: python-dateutil>=2.8.2 in c:\\users\\gifly\\appdata\\roaming\\python\\python311\\site-packages (from pandas) (2.8.2)\n",
      "Requirement already satisfied: pytz>=2020.1 in c:\\users\\gifly\\anaconda3\\lib\\site-packages (from pandas) (2023.3.post1)\n",
      "Requirement already satisfied: tzdata>=2022.1 in c:\\users\\gifly\\anaconda3\\lib\\site-packages (from pandas) (2023.3)\n",
      "Requirement already satisfied: numpy>=1.21.0 in c:\\users\\gifly\\anaconda3\\lib\\site-packages (from pandas) (1.24.3)\n",
      "Requirement already satisfied: contourpy>=1.0.1 in c:\\users\\gifly\\anaconda3\\lib\\site-packages (from matplotlib) (1.0.5)\n",
      "Requirement already satisfied: cycler>=0.10 in c:\\users\\gifly\\anaconda3\\lib\\site-packages (from matplotlib) (0.11.0)\n",
      "Requirement already satisfied: fonttools>=4.22.0 in c:\\users\\gifly\\anaconda3\\lib\\site-packages (from matplotlib) (4.25.0)\n",
      "Requirement already satisfied: kiwisolver>=1.0.1 in c:\\users\\gifly\\anaconda3\\lib\\site-packages (from matplotlib) (1.4.4)\n",
      "Requirement already satisfied: packaging>=20.0 in c:\\users\\gifly\\appdata\\roaming\\python\\python311\\site-packages (from matplotlib) (23.2)\n",
      "Requirement already satisfied: pillow>=6.2.0 in c:\\users\\gifly\\anaconda3\\lib\\site-packages (from matplotlib) (10.0.1)\n",
      "Requirement already satisfied: pyparsing<3.1,>=2.3.1 in c:\\users\\gifly\\anaconda3\\lib\\site-packages (from matplotlib) (3.0.9)\n",
      "Requirement already satisfied: six>=1.5 in c:\\users\\gifly\\appdata\\roaming\\python\\python311\\site-packages (from python-dateutil>=2.8.2->pandas) (1.16.0)\n"
     ]
    }
   ],
   "source": [
    "!pip install pandas matplotlib"
   ]
  },
  {
   "cell_type": "code",
   "execution_count": 2,
   "id": "6fb4a94b",
   "metadata": {},
   "outputs": [],
   "source": [
    "# Install necessary libraries (if you haven't already):\n",
    "# !pip install pandas matplotlib seaborn requests\n",
    "\n",
    "#%matplotlib notebook\n",
    "\n",
    "import pandas as pd\n",
    "import matplotlib.pyplot as plt\n",
    "import seaborn as sns"
   ]
  },
  {
   "cell_type": "code",
   "execution_count": 3,
   "id": "7fd6aaef",
   "metadata": {},
   "outputs": [],
   "source": [
    "# Load the dataset into a dataframe\n",
    "try:\n",
    "    df = pd.read_csv('files/GlobalLandTemperatures-small.csv')\n",
    "except pd.errors.ParserError as e:\n",
    "    print(f\"Error parsing CSV data: {e}\")\n",
    "    raise"
   ]
  },
  {
   "cell_type": "code",
   "execution_count": 4,
   "id": "00132d69",
   "metadata": {},
   "outputs": [
    {
     "name": "stdout",
     "output_type": "stream",
     "text": [
      "First 5 rows of Bangkok temperature data:\n",
      "            AverageTemperature  AverageTemperatureUncertainty     City  \\\n",
      "dt                                                                       \n",
      "1950-01-01              25.109                          0.194  Bangkok   \n",
      "1950-02-01              27.185                          0.301  Bangkok   \n",
      "1950-03-01              29.122                          0.356  Bangkok   \n",
      "1950-04-01              29.255                          0.387  Bangkok   \n",
      "1950-05-01              28.805                          0.437  Bangkok   \n",
      "\n",
      "             Country Latitude Longitude  \n",
      "dt                                       \n",
      "1950-01-01  Thailand   13.66N    99.91E  \n",
      "1950-02-01  Thailand   13.66N    99.91E  \n",
      "1950-03-01  Thailand   13.66N    99.91E  \n",
      "1950-04-01  Thailand   13.66N    99.91E  \n",
      "1950-05-01  Thailand   13.66N    99.91E  \n",
      "\n",
      "Dataset Info:\n",
      "<class 'pandas.core.frame.DataFrame'>\n",
      "DatetimeIndex: 765 entries, 1950-01-01 to 2013-09-01\n",
      "Data columns (total 6 columns):\n",
      " #   Column                         Non-Null Count  Dtype  \n",
      "---  ------                         --------------  -----  \n",
      " 0   AverageTemperature             764 non-null    float64\n",
      " 1   AverageTemperatureUncertainty  764 non-null    float64\n",
      " 2   City                           765 non-null    object \n",
      " 3   Country                        765 non-null    object \n",
      " 4   Latitude                       765 non-null    object \n",
      " 5   Longitude                      765 non-null    object \n",
      "dtypes: float64(2), object(4)\n",
      "memory usage: 41.8+ KB\n"
     ]
    }
   ],
   "source": [
    "# Filter data for Bangkok\n",
    "bangkok_df = df[df['City'] == 'Bangkok'].copy()\n",
    "\n",
    "# Convert 'dt' to datetime\n",
    "bangkok_df['dt'] = pd.to_datetime(bangkok_df['dt'])\n",
    "\n",
    "# Set 'dt' as index\n",
    "bangkok_df.set_index('dt', inplace=True)\n",
    "\n",
    "print(\"First 5 rows of Bangkok temperature data:\")\n",
    "print(bangkok_df.head())\n",
    "print(\"\\nDataset Info:\")\n",
    "bangkok_df.info()"
   ]
  },
  {
   "cell_type": "markdown",
   "id": "aa374d9c",
   "metadata": {},
   "source": [
    "###  Basic Line Plots (Matplotlib)\n",
    "Plot the average temperature over time - AverageTemperature on the y-axis and Date on the x-axis."
   ]
  },
  {
   "cell_type": "code",
   "execution_count": 5,
   "id": "7d626e43",
   "metadata": {},
   "outputs": [],
   "source": [
    "# Your code here"
   ]
  },
  {
   "cell_type": "markdown",
   "id": "1a5f65f6",
   "metadata": {},
   "source": [
    "<details><summary><span style=\"color:red\">&#x1F6C8; Help</span> (Use this only as a last resort!!)</summary>\n",
    "    \n",
    "```Python\n",
    "plt.figure(figsize=(12, 6))\n",
    "plt.plot(bangkok_df.index, bangkok_df['AverageTemperature'])\n",
    "plt.title('Average Temperature in Bangkok Over Time')\n",
    "plt.xlabel('Date')\n",
    "plt.ylabel('Average Temperature (°C)')\n",
    "plt.show()\n",
    "```\n",
    "</details>"
   ]
  },
  {
   "cell_type": "markdown",
   "id": "0a1f20cc",
   "metadata": {},
   "source": [
    "### Time Series Plots with Seaborn\n",
    "Use Seaborn's lineplot for a smoother visualization of AverageTemperature (y-axis) and dates (x-axis)."
   ]
  },
  {
   "cell_type": "code",
   "execution_count": 6,
   "id": "1314dde6",
   "metadata": {},
   "outputs": [],
   "source": [
    "# Your code here"
   ]
  },
  {
   "cell_type": "markdown",
   "id": "b3e7aaf6",
   "metadata": {
    "scrolled": true
   },
   "source": [
    "<details><summary><span style=\"color:red\">&#x1F6C8; Help</span> (Use this only as a last resort!!)</summary>\n",
    "    \n",
    "```Python\n",
    "plt.figure(figsize=(12, 6))\n",
    "sns.lineplot(x=bangkok_df.index, y='AverageTemperature', data=bangkok_df)\n",
    "plt.title('Average Temperature in Bangkok Over Time (Seaborn)')\n",
    "plt.xlabel('Date')\n",
    "plt.ylabel('Average Temperature (°C)')\n",
    "plt.show()\n",
    "```\n",
    "</details>"
   ]
  },
  {
   "cell_type": "markdown",
   "id": "454244da",
   "metadata": {},
   "source": [
    "### Rolling Statistics\n",
    "a) Calculate a 12-month rolling average of the average temperature."
   ]
  },
  {
   "cell_type": "code",
   "execution_count": 7,
   "id": "4a261289",
   "metadata": {},
   "outputs": [],
   "source": [
    "# Your code here"
   ]
  },
  {
   "cell_type": "markdown",
   "id": "56550bc7",
   "metadata": {},
   "source": [
    "<details><summary><span style=\"color:red\">&#x1F6C8; Help</span> (Use this only as a last resort!!)</summary>\n",
    "    \n",
    "```Python\n",
    "bangkok_df['12_month_rolling_avg'] = bangkok_df['AverageTemperature'].rolling(window=12).mean()\n",
    "```\n",
    "</details>\n"
   ]
  },
  {
   "cell_type": "markdown",
   "id": "1b997e3a",
   "metadata": {},
   "source": [
    "b) Plot a 12-month rolling average of the average temperature, using either the traditional Matplotlib or Seaborn methods."
   ]
  },
  {
   "cell_type": "code",
   "execution_count": 8,
   "id": "f2c84b23",
   "metadata": {},
   "outputs": [],
   "source": [
    "# Your code here"
   ]
  },
  {
   "cell_type": "markdown",
   "id": "7a970423",
   "metadata": {},
   "source": [
    "<details><summary><span style=\"color:red\">&#x1F6C8; Help</span> (Use this only as a last resort!!)</summary>\n",
    "    \n",
    "```Python\n",
    "#Matplotlib \n",
    "plt.figure(figsize=(12, 6))\n",
    "plt.plot(bangkok_df.index, bangkok_df['AverageTemperature'], label='Average Temperature', alpha=0.7)\n",
    "plt.plot(bangkok_df.index, bangkok_df['12_month_rolling_avg'], label='12-Month Rolling Average', color='red')\n",
    "plt.title('Average Temperature and 12-Month Rolling Average in Bangkok')\n",
    "plt.xlabel('Date')\n",
    "plt.ylabel('Average Temperature (°C)')\n",
    "plt.legend()\n",
    "plt.show()\n",
    "\n",
    "#Seaborn\n",
    "plt.figure(figsize=(12, 6))\n",
    "sns.lineplot(x=bangkok_df.index, y='AverageTemperature', data=bangkok_df, label='Average Temperature', alpha=0.7)\n",
    "sns.lineplot(x=bangkok_df.index, y='12_month_rolling_avg', data=bangkok_df, label='12-Month Rolling Average')\n",
    "plt.title('Average Temperature and 12-Month Rolling Average in Bangkok (Seaborn)')\n",
    "plt.xlabel('Date')\n",
    "plt.ylabel('Average Temperature (°C)')\n",
    "plt.legend()\n",
    "plt.show()\n",
    "```\n",
    "</details>"
   ]
  },
  {
   "cell_type": "markdown",
   "id": "1a48415c",
   "metadata": {},
   "source": [
    "## Task 02: Visualizing Numerical and Categorical Data with Seaborn\n",
    "In this task, you'll explore the Palmer Penguins dataset using Seaborn to create informative visualizations.This dataset contains measurements for three different penguin species observed in the Palmer Archipelago, Antarctica.\n",
    "\n",
    "**Dataset Description:**\n",
    "- `species`: Penguin species (Adelie, Chinstrap, Gentoo)\n",
    "- `island`: Island where the penguin was observed (Torgersen, Biscoe, Dream)\n",
    "- `bill_length_mm`: Bill length in millimeters\n",
    "- `bill_depth_mm`: Bill depth in millimeters\n",
    "- `flipper_length_mm`: Flipper length in millimeters\n",
    "- `body_mass_g`: Body mass in grams\n",
    "- `sex`: Penguin sex (Male, Female)"
   ]
  },
  {
   "cell_type": "code",
   "execution_count": 9,
   "id": "8db80de3",
   "metadata": {},
   "outputs": [],
   "source": [
    "# Setup and Imports\n",
    "import seaborn as sns\n",
    "import matplotlib.pyplot as plt\n",
    "import pandas as pd\n",
    "import numpy as np"
   ]
  },
  {
   "cell_type": "code",
   "execution_count": 10,
   "id": "0fdb4c4a",
   "metadata": {},
   "outputs": [],
   "source": [
    "# Load the dataset (using the Palmer Penguins dataset)\n",
    "penguins = sns.load_dataset('penguins')"
   ]
  },
  {
   "cell_type": "markdown",
   "id": "5d3c0228",
   "metadata": {},
   "source": [
    "*Note*: Seaborn provides example datasets to assist exploring its visualization features. Learn more about these available datasets here: https://www.geeksforgeeks.org/seaborn-datasets-for-data-science/"
   ]
  },
  {
   "cell_type": "code",
   "execution_count": 11,
   "id": "dbba3534",
   "metadata": {},
   "outputs": [
    {
     "data": {
      "text/html": [
       "<div>\n",
       "<style scoped>\n",
       "    .dataframe tbody tr th:only-of-type {\n",
       "        vertical-align: middle;\n",
       "    }\n",
       "\n",
       "    .dataframe tbody tr th {\n",
       "        vertical-align: top;\n",
       "    }\n",
       "\n",
       "    .dataframe thead th {\n",
       "        text-align: right;\n",
       "    }\n",
       "</style>\n",
       "<table border=\"1\" class=\"dataframe\">\n",
       "  <thead>\n",
       "    <tr style=\"text-align: right;\">\n",
       "      <th></th>\n",
       "      <th>species</th>\n",
       "      <th>island</th>\n",
       "      <th>bill_length_mm</th>\n",
       "      <th>bill_depth_mm</th>\n",
       "      <th>flipper_length_mm</th>\n",
       "      <th>body_mass_g</th>\n",
       "      <th>sex</th>\n",
       "    </tr>\n",
       "  </thead>\n",
       "  <tbody>\n",
       "    <tr>\n",
       "      <th>0</th>\n",
       "      <td>Adelie</td>\n",
       "      <td>Torgersen</td>\n",
       "      <td>39.1</td>\n",
       "      <td>18.7</td>\n",
       "      <td>181.0</td>\n",
       "      <td>3750.0</td>\n",
       "      <td>Male</td>\n",
       "    </tr>\n",
       "    <tr>\n",
       "      <th>1</th>\n",
       "      <td>Adelie</td>\n",
       "      <td>Torgersen</td>\n",
       "      <td>39.5</td>\n",
       "      <td>17.4</td>\n",
       "      <td>186.0</td>\n",
       "      <td>3800.0</td>\n",
       "      <td>Female</td>\n",
       "    </tr>\n",
       "    <tr>\n",
       "      <th>2</th>\n",
       "      <td>Adelie</td>\n",
       "      <td>Torgersen</td>\n",
       "      <td>40.3</td>\n",
       "      <td>18.0</td>\n",
       "      <td>195.0</td>\n",
       "      <td>3250.0</td>\n",
       "      <td>Female</td>\n",
       "    </tr>\n",
       "    <tr>\n",
       "      <th>3</th>\n",
       "      <td>Adelie</td>\n",
       "      <td>Torgersen</td>\n",
       "      <td>NaN</td>\n",
       "      <td>NaN</td>\n",
       "      <td>NaN</td>\n",
       "      <td>NaN</td>\n",
       "      <td>NaN</td>\n",
       "    </tr>\n",
       "    <tr>\n",
       "      <th>4</th>\n",
       "      <td>Adelie</td>\n",
       "      <td>Torgersen</td>\n",
       "      <td>36.7</td>\n",
       "      <td>19.3</td>\n",
       "      <td>193.0</td>\n",
       "      <td>3450.0</td>\n",
       "      <td>Female</td>\n",
       "    </tr>\n",
       "  </tbody>\n",
       "</table>\n",
       "</div>"
      ],
      "text/plain": [
       "  species     island  bill_length_mm  bill_depth_mm  flipper_length_mm  \\\n",
       "0  Adelie  Torgersen            39.1           18.7              181.0   \n",
       "1  Adelie  Torgersen            39.5           17.4              186.0   \n",
       "2  Adelie  Torgersen            40.3           18.0              195.0   \n",
       "3  Adelie  Torgersen             NaN            NaN                NaN   \n",
       "4  Adelie  Torgersen            36.7           19.3              193.0   \n",
       "\n",
       "   body_mass_g     sex  \n",
       "0       3750.0    Male  \n",
       "1       3800.0  Female  \n",
       "2       3250.0  Female  \n",
       "3          NaN     NaN  \n",
       "4       3450.0  Female  "
      ]
     },
     "execution_count": 11,
     "metadata": {},
     "output_type": "execute_result"
    }
   ],
   "source": [
    "# Display first few rows\n",
    "penguins.head()"
   ]
  },
  {
   "cell_type": "code",
   "execution_count": 12,
   "id": "fec9d07b",
   "metadata": {},
   "outputs": [],
   "source": [
    "# Preliminary data processing\n",
    "\n",
    "# Check for missing values\n",
    "penguins.isnull().sum()\n",
    "\n",
    "# Drop rows with missing values\n",
    "penguins.dropna(inplace=True)"
   ]
  },
  {
   "cell_type": "markdown",
   "id": "cc7917ff",
   "metadata": {},
   "source": [
    "### Distribution Plots (Histograms and KDEs)\n",
    "a) Create a histogram of 'bill_length_mm'. Add a Kernel Density Estimate (KDE) curve."
   ]
  },
  {
   "cell_type": "code",
   "execution_count": 13,
   "id": "cda797cb",
   "metadata": {},
   "outputs": [],
   "source": [
    "# Your code here"
   ]
  },
  {
   "cell_type": "markdown",
   "id": "d356e2e1",
   "metadata": {},
   "source": [
    "<details><summary><span style=\"color:red\">&#x1F6C8; Help</span> (Use this only as a last resort!!)</summary>\n",
    "    \n",
    "```Python\n",
    "plt.figure(figsize=(8,6))\n",
    "sns.histplot(penguins['bill_length_mm'],kde=True)\n",
    "plt.title('Distribution of Bill Length')\n",
    "plt.xlabel('Bill Length (mm)')\n",
    "plt.ylabel('Frequency')\n",
    "plt.show()\n",
    "```\n",
    "</details>"
   ]
  },
  {
   "cell_type": "markdown",
   "id": "7176c685",
   "metadata": {},
   "source": [
    "b) Create a similar plot for 'body_mass_g'."
   ]
  },
  {
   "cell_type": "code",
   "execution_count": 14,
   "id": "e23ac587",
   "metadata": {},
   "outputs": [],
   "source": [
    "# Your code here"
   ]
  },
  {
   "cell_type": "markdown",
   "id": "c055f30f",
   "metadata": {},
   "source": [
    "<details><summary><span style=\"color:red\">&#x1F6C8; Help</span> (Use this only as a last resort!!)</summary>\n",
    "    \n",
    "```Python\n",
    "plt.figure(figsize=(8,6))\n",
    "sns.histplot(penguins['body_mass_g'],kde=True)\n",
    "plt.title('Distribution of Body Mass')\n",
    "plt.xlabel('Body Mass (g)')\n",
    "plt.ylabel('Frequency')\n",
    "plt.show()\n",
    "```\n",
    "</details>"
   ]
  },
  {
   "cell_type": "markdown",
   "id": "0f460792",
   "metadata": {},
   "source": [
    "### Box Plots and Violin Plots (Categorical vs. Numerical)\n",
    "a) Create box plots of 'flipper_length_mm' for each 'species'."
   ]
  },
  {
   "cell_type": "code",
   "execution_count": 15,
   "id": "1a0ab0ab",
   "metadata": {},
   "outputs": [],
   "source": [
    "# Your code here"
   ]
  },
  {
   "cell_type": "markdown",
   "id": "fed7cc7c",
   "metadata": {},
   "source": [
    "<details><summary><span style=\"color:red\">&#x1F6C8; Help</span> (Use this only as a last resort!!)</summary>\n",
    "    \n",
    "```Python\n",
    "plt.figure(figsize=(8,6))\n",
    "sns.boxplot(x='species',y='flipper_length_mm',data=penguins)\n",
    "plt.title('Flipper Length by Species')\n",
    "plt.xlabel('Species')\n",
    "plt.ylabel('Flipper Length (mm)')\n",
    "plt.show()\n",
    "```\n",
    "</details>"
   ]
  },
  {
   "cell_type": "markdown",
   "id": "cfe5a473",
   "metadata": {},
   "source": [
    "b) Create violin plots of 'bill_depth_mm' for each 'island'."
   ]
  },
  {
   "cell_type": "code",
   "execution_count": 16,
   "id": "2aad53a4",
   "metadata": {},
   "outputs": [],
   "source": [
    "# Your code here"
   ]
  },
  {
   "cell_type": "markdown",
   "id": "dc74a5d1",
   "metadata": {},
   "source": [
    "<details><summary><span style=\"color:red\">&#x1F6C8; Help</span> (Use this only as a last resort!!)</summary>\n",
    "    \n",
    "```Python\n",
    "plt.figure(figsize=(8,6))\n",
    "sns.violinplot(x='island',y='bill_depth_mm',data=penguins)\n",
    "plt.title('Bill Depth by Island')\n",
    "plt.xlabel('Island')\n",
    "plt.ylabel('Bill Depth (mm)')\n",
    "plt.show()\n",
    "```\n",
    "</details>"
   ]
  },
  {
   "cell_type": "markdown",
   "id": "1d6b6470",
   "metadata": {},
   "source": [
    "### Scatter Plots and Pair Plots (Numerical vs. Numerical)\n",
    "a) Create a scatter plot of 'bill_length_mm' vs. 'bill_depth_mm'. Color the points by 'species'."
   ]
  },
  {
   "cell_type": "code",
   "execution_count": 17,
   "id": "bfa99331",
   "metadata": {},
   "outputs": [],
   "source": [
    "# Your code here"
   ]
  },
  {
   "cell_type": "markdown",
   "id": "f89211a0",
   "metadata": {},
   "source": [
    "<details><summary><span style=\"color:red\">&#x1F6C8; Help</span> (Use this only as a last resort!!)</summary>\n",
    "    \n",
    "```Python\n",
    "plt.figure(figsize=(8,6))\n",
    "sns.scatterplot(x='bill_length_mm',y='bill_depth_mm',hue='species',data=penguins)\n",
    "plt.title('Bill Length vs. Bill Depth by Species')\n",
    "plt.xlabel('Bill Length (mm)')\n",
    "plt.ylabel('Bill Depth (mm)')\n",
    "plt.show()\n",
    "```\n",
    "</details>"
   ]
  },
  {
   "cell_type": "markdown",
   "id": "9952562f",
   "metadata": {},
   "source": [
    "b) Create a pair plot to visualize relationships between all numerical variables, colored by 'species'."
   ]
  },
  {
   "cell_type": "code",
   "execution_count": 18,
   "id": "10b3937e",
   "metadata": {},
   "outputs": [],
   "source": [
    "# Your code here"
   ]
  },
  {
   "cell_type": "markdown",
   "id": "482fbeea",
   "metadata": {},
   "source": [
    "<details><summary><span style=\"color:red\">&#x1F6C8; Help</span> (Use this only as a last resort!!)</summary>\n",
    "    \n",
    "```Python\n",
    "sns.pairplot(penguins,hue='species')\n",
    "plt.show()\n",
    "```\n",
    "</details>"
   ]
  },
  {
   "cell_type": "markdown",
   "id": "7abbd4d1",
   "metadata": {},
   "source": [
    "### Count Plots (Categorical Data)\n",
    "a) Create a count plot to show the number of penguins from each 'island'."
   ]
  },
  {
   "cell_type": "code",
   "execution_count": 19,
   "id": "4e5c9978",
   "metadata": {},
   "outputs": [],
   "source": [
    "# Your code here"
   ]
  },
  {
   "cell_type": "markdown",
   "id": "abdf4d06",
   "metadata": {},
   "source": [
    "<details><summary><span style=\"color:red\">&#x1F6C8; Help</span> (Use this only as a last resort!!)</summary>\n",
    "    \n",
    "```Python\n",
    "plt.figure(figsize=(8,6))\n",
    "sns.countplot(x='island',data=penguins)\n",
    "plt.title('Number of Penguins per Island')\n",
    "plt.xlabel('Island')\n",
    "plt.ylabel('Count')\n",
    "plt.show()\n",
    "```\n",
    "</details>"
   ]
  },
  {
   "cell_type": "markdown",
   "id": "2c917e01",
   "metadata": {},
   "source": [
    "b) Create a count plot to show the distribution of 'sex' within each 'species'. (Hint: use the 'hue' parameter)"
   ]
  },
  {
   "cell_type": "code",
   "execution_count": 20,
   "id": "a9b247bc",
   "metadata": {},
   "outputs": [],
   "source": [
    "# Your code here"
   ]
  },
  {
   "cell_type": "markdown",
   "id": "d1d1694e",
   "metadata": {},
   "source": [
    "<details><summary><span style=\"color:red\">&#x1F6C8; Help</span> (Use this only as a last resort!!)</summary>\n",
    "    \n",
    "```Python\n",
    "plt.figure(figsize=(8,6))\n",
    "sns.countplot(x='species',hue='sex',data=penguins)\n",
    "plt.title('Sex Distribution within Each Species')\n",
    "plt.xlabel('Species')\n",
    "plt.ylabel('Count')\n",
    "plt.show()\n",
    "```\n",
    "</details>"
   ]
  },
  {
   "cell_type": "markdown",
   "id": "3cb38aea",
   "metadata": {},
   "source": [
    "### Heatmap (Correlation Matrix)\n",
    "a) Calculate the correlation matrix for the numerical variables."
   ]
  },
  {
   "cell_type": "code",
   "execution_count": 21,
   "id": "71d21d79",
   "metadata": {},
   "outputs": [],
   "source": [
    "# Your code here"
   ]
  },
  {
   "cell_type": "markdown",
   "id": "38e84153",
   "metadata": {},
   "source": [
    "<details><summary><span style=\"color:red\">&#x1F6C8; Help</span> (Use this only as a last resort!!)</summary>\n",
    "    \n",
    "```Python\n",
    "correlation_matrix = penguins.corr(numeric_only=True)\n",
    "```\n",
    "</details>"
   ]
  },
  {
   "cell_type": "markdown",
   "id": "3e4aab59",
   "metadata": {},
   "source": [
    "b) Create a heatmap to visualize the correlation matrix."
   ]
  },
  {
   "cell_type": "code",
   "execution_count": 22,
   "id": "cd18b25b",
   "metadata": {},
   "outputs": [],
   "source": [
    "# Your code here"
   ]
  },
  {
   "cell_type": "markdown",
   "id": "64f047a2",
   "metadata": {},
   "source": [
    "<details><summary><span style=\"color:red\">&#x1F6C8; Help</span> (Use this only as a last resort!!)</summary>\n",
    "    \n",
    "```Python\n",
    "plt.figure(figsize=(8,6))\n",
    "sns.heatmap(correlation_matrix,annot=True,cmap='coolwarm') # annot for values and cmap for color\n",
    "plt.title('Correlation Heatmap')\n",
    "plt.show()\n",
    "```\n",
    "</details>"
   ]
  },
  {
   "cell_type": "markdown",
   "id": "d280a8bd",
   "metadata": {},
   "source": [
    "## Optional: Other types of plots\n",
    "This optional task focuses on two powerful Seaborn plot types: joint plots and swarm plots. These plots are particularly useful for exploring relationships between variables, especially when dealing with distributions and categorical data. We'll continue using the Palmer Penguins dataset."
   ]
  },
  {
   "cell_type": "markdown",
   "id": "a2b48461",
   "metadata": {},
   "source": [
    "### Joint Plots\n",
    "\n",
    "a) Create a joint plot of 'bill_length_mm' vs. 'bill_depth_mm' using the default 'scatter' kind."
   ]
  },
  {
   "cell_type": "code",
   "execution_count": 23,
   "id": "5b40737b",
   "metadata": {},
   "outputs": [],
   "source": [
    "# Your code here"
   ]
  },
  {
   "cell_type": "markdown",
   "id": "65f65daa",
   "metadata": {},
   "source": [
    "<details><summary><span style=\"color:red\">&#x1F6C8; Help</span> (Use this only as a last resort!!)</summary>\n",
    "    \n",
    "```Python\n",
    "sns.jointplot(x='bill_length_mm',y='bill_depth_mm',data=penguins)\n",
    "plt.suptitle(\"Joint Plot of Bill Length vs. Bill Depth (Scatter)\", y=1.02) # Title adjustment\n",
    "plt.show()\n",
    "```\n",
    "</details>"
   ]
  },
  {
   "cell_type": "markdown",
   "id": "59ddad42",
   "metadata": {},
   "source": [
    "b) Create a joint plot of 'flipper_length_mm' vs. 'body_mass_g' using the 'kde' kind."
   ]
  },
  {
   "cell_type": "code",
   "execution_count": 24,
   "id": "ddf035c1",
   "metadata": {},
   "outputs": [],
   "source": [
    "# Your code here"
   ]
  },
  {
   "cell_type": "markdown",
   "id": "30d4fe02",
   "metadata": {},
   "source": [
    "<details><summary><span style=\"color:red\">&#x1F6C8; Help</span> (Use this only as a last resort!!)</summary>\n",
    "    \n",
    "```Python\n",
    "sns.jointplot(x='flipper_length_mm',y='body_mass_g',data=penguins,kind='kde')\n",
    "plt.suptitle(\"Joint Plot of Flipper Length vs. Body Mass (KDE)\", y=1.02)\n",
    "plt.show()\n",
    "```\n",
    "</details>"
   ]
  },
  {
   "cell_type": "markdown",
   "id": "7cc4c485",
   "metadata": {},
   "source": [
    "c) Create a joint plot of 'bill_length_mm' vs. 'body_mass_g' using the 'hex' kind."
   ]
  },
  {
   "cell_type": "code",
   "execution_count": 25,
   "id": "b3ce1c5c",
   "metadata": {},
   "outputs": [],
   "source": [
    "# Your code here"
   ]
  },
  {
   "cell_type": "markdown",
   "id": "3fcbceec",
   "metadata": {},
   "source": [
    "<details><summary><span style=\"color:red\">&#x1F6C8; Help</span> (Use this only as a last resort!!)</summary>\n",
    "    \n",
    "```Python\n",
    "sns.jointplot(x='bill_length_mm',y='body_mass_g',data=penguins,kind='hex')\n",
    "plt.suptitle(\"Joint Plot of Bill Length vs. Body Mass (Hex)\", y=1.02)\n",
    "plt.show()\n",
    "```\n",
    "</details>"
   ]
  },
  {
   "cell_type": "markdown",
   "id": "89dd2ec0",
   "metadata": {},
   "source": [
    "d) Create a joint plot with regression line and histograms using kind='reg'."
   ]
  },
  {
   "cell_type": "code",
   "execution_count": 26,
   "id": "73c7a29f",
   "metadata": {},
   "outputs": [],
   "source": [
    "# Your code here"
   ]
  },
  {
   "cell_type": "markdown",
   "id": "629c4b02",
   "metadata": {},
   "source": [
    "<details><summary><span style=\"color:red\">&#x1F6C8; Help</span> (Use this only as a last resort!!)</summary>\n",
    "    \n",
    "```Python\n",
    "sns.jointplot(x=\"bill_length_mm\", y=\"body_mass_g\", data=penguins, kind=\"reg\")\n",
    "plt.suptitle(\"Joint Plot with Regression and Histograms\", y=1.02)\n",
    "plt.show()\n",
    "```\n",
    "</details>"
   ]
  },
  {
   "cell_type": "markdown",
   "id": "d0e494fd",
   "metadata": {},
   "source": [
    "### JointGrid for more customization\n",
    "a) Create a JointGrid for 'bill_length_mm' vs. 'bill_depth_mm'. Plot a scatterplot on the joint axes, a histogram on the marginal x axis, and a kde on the marginal y axis."
   ]
  },
  {
   "cell_type": "code",
   "execution_count": 27,
   "id": "b0bf3345",
   "metadata": {},
   "outputs": [],
   "source": [
    "# Your code here"
   ]
  },
  {
   "cell_type": "markdown",
   "id": "09df3562",
   "metadata": {},
   "source": [
    "<details><summary><span style=\"color:red\">&#x1F6C8; Help</span> (Use this only as a last resort!!)</summary>\n",
    "    \n",
    "```Python\n",
    "g = sns.JointGrid(x=\"bill_length_mm\", y=\"bill_depth_mm\", data=penguins)\n",
    "g.plot_joint(sns.scatterplot)\n",
    "g.plot_marginals(sns.histplot, kde=True)\n",
    "plt.suptitle(\"Custom JointGrid\", y=1.02)\n",
    "plt.show()\n",
    "```\n",
    "</details>"
   ]
  },
  {
   "cell_type": "markdown",
   "id": "35fe4560",
   "metadata": {},
   "source": [
    "### Swarm Plots\n",
    "a) Create a swarm plot of 'bill_length_mm' for each 'species'."
   ]
  },
  {
   "cell_type": "code",
   "execution_count": 28,
   "id": "7e5715b6",
   "metadata": {},
   "outputs": [],
   "source": [
    "# Your code here"
   ]
  },
  {
   "cell_type": "markdown",
   "id": "115c0907",
   "metadata": {},
   "source": [
    "<details><summary><span style=\"color:red\">&#x1F6C8; Help</span> (Use this only as a last resort!!)</summary>\n",
    "    \n",
    "```Python\n",
    "plt.figure(figsize=(8, 6))  # Adjust figure size for better readability\n",
    "sns.swarmplot(x='species', y='bill_length_mm', data=penguins)\n",
    "plt.title('Bill Length Distribution by Species (Swarm Plot)')\n",
    "plt.xlabel('Species')\n",
    "plt.ylabel('Bill Length (mm)')\n",
    "plt.show()\n",
    "```\n",
    "</details>"
   ]
  },
  {
   "cell_type": "markdown",
   "id": "00f2ca04",
   "metadata": {},
   "source": [
    "b) Create a swarm plot of 'body_mass_g' for each 'island'."
   ]
  },
  {
   "cell_type": "code",
   "execution_count": 29,
   "id": "1daaa476",
   "metadata": {},
   "outputs": [],
   "source": [
    "# Your code here"
   ]
  },
  {
   "cell_type": "markdown",
   "id": "e4fe14b8",
   "metadata": {},
   "source": [
    "<details><summary><span style=\"color:red\">&#x1F6C8; Help</span> (Use this only as a last resort!!)</summary>\n",
    "    \n",
    "```Python\n",
    "plt.figure(figsize=(8, 6))\n",
    "sns.swarmplot(x='island', y='body_mass_g', data=penguins)\n",
    "plt.title('Body Mass Distribution by Island (Swarm Plot)')\n",
    "plt.xlabel('Island')\n",
    "plt.ylabel('Body Mass (g)')\n",
    "plt.show()\n",
    "```\n",
    "</details>"
   ]
  },
  {
   "cell_type": "markdown",
   "id": "5dd9b908",
   "metadata": {},
   "source": [
    "c) Combine swarmplot with boxplot"
   ]
  },
  {
   "cell_type": "code",
   "execution_count": 30,
   "id": "140e2661",
   "metadata": {},
   "outputs": [],
   "source": [
    "# Your code here"
   ]
  },
  {
   "cell_type": "markdown",
   "id": "04a830b5",
   "metadata": {},
   "source": [
    "<details><summary><span style=\"color:red\">&#x1F6C8; Help</span> (Use this only as a last resort!!)</summary>\n",
    "    \n",
    "```Python\n",
    "plt.figure(figsize=(8, 6))\n",
    "sns.boxplot(x='species', y='bill_length_mm', data=penguins, whis=np.inf)\n",
    "sns.swarmplot(x='species', y='bill_length_mm', data=penguins, color=\".2\")\n",
    "plt.title(\"Bill Length by Species (Boxplot + Swarmplot)\")\n",
    "plt.show()\n",
    "```\n",
    "</details>"
   ]
  },
  {
   "cell_type": "markdown",
   "id": "9d7f5a16",
   "metadata": {},
   "source": [
    "<p style=\"text-align:center;\">That's it! Congratulations! <br> \n",
    "    Now, call an LA to check your solution. Then, upload your code on MyCourses.</p>"
   ]
  }
 ],
 "metadata": {
  "kernelspec": {
   "display_name": "Python 3 (ipykernel)",
   "language": "python",
   "name": "python3"
  },
  "language_info": {
   "codemirror_mode": {
    "name": "ipython",
    "version": 3
   },
   "file_extension": ".py",
   "mimetype": "text/x-python",
   "name": "python",
   "nbconvert_exporter": "python",
   "pygments_lexer": "ipython3",
   "version": "3.11.5"
  }
 },
 "nbformat": 4,
 "nbformat_minor": 5
}
