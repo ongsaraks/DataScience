{
 "cells": [
  {
   "cell_type": "markdown",
   "id": "a44ee3ed",
   "metadata": {},
   "source": [
    "<p style=\"text-align:center\">\n",
    "    <a href=\"https://www.ict.mahidol.ac.th/en/\" target=\"_blank\">\n",
    "    <img src=\"https://www3.ict.mahidol.ac.th/ICTSurveysV2/Content/image/MUICT2.png\" width=\"400\" alt=\"Faculty of ICT\">\n",
    "    </a>\n",
    "</p>\n",
    "\n",
    "# Tutorial 04: Basic Visualization\n",
    "\n",
    "Data visualization is a crucial part of the data science workflow. It allows us to explore data, identify patterns, and communicate insights effectively. This tutorial introduces two powerful Python libraries for creating visualizations: Matplotlib and Seaborn.\n",
    "\n",
    "**Matplotlib** is the foundation for plotting in Python. It provides a wide range of plotting functions and gives you fine-grained control over every aspect of your visualizations. While powerful, it can sometimes require more code to create visually appealing plots.\n",
    "\n",
    "**Seaborn** builds on top of Matplotlib and provides a high-level interface for creating statistical graphics. It simplifies the process of creating complex visualizations and produces aesthetically pleasing plots with less code. Seaborn is particularly useful for exploring relationships between variables and visualizing statistical distributions.\n",
    "\n",
    "## This tutorial aims to teach you how to:\n",
    "\n",
    "* Use Matplotlib to create and configure visualization.\n",
    "* Know, create, and understand different types of plots.\n",
    "* Use Seaborn to visualize and describe real-world datasets."
   ]
  },
  {
   "cell_type": "markdown",
   "id": "e38563a1",
   "metadata": {},
   "source": [
    "## Exercise 01: Basic Sequenced Data Visualization with Matplotlib\n",
    "\n",
    "This exercise uses historical Apple stock price data (in 'files/AAPL.csv') to demonstrate simple, yet effective data visualization with Matplotlib.\n",
    "\n",
    "The first thing is to import neccessary libraries, including `pandas` for manipulating the data and `matplotlib.pyplot` for plotting."
   ]
  },
  {
   "cell_type": "code",
   "execution_count": null,
   "id": "4db07486",
   "metadata": {},
   "outputs": [],
   "source": [
    "# Install necessary libraries (if you haven't already):\n",
    "# !pip install pandas matplotlib\n",
    "\n",
    "#So that the plot appears in the Notebook\n",
    "#%matplotlib notebook \n",
    "\n",
    "#If you're using Python < 3.x, comment the above line, and uncomment the following:\n",
    "#%matplotlib nbagg\n",
    "\n",
    "import pandas as pd\n",
    "import matplotlib.pyplot as plt"
   ]
  },
  {
   "cell_type": "markdown",
   "id": "09bdc9b6",
   "metadata": {},
   "source": [
    "Load our case-study dataset AAPL.csv (Apple's historical stock prices)."
   ]
  },
  {
   "cell_type": "code",
   "execution_count": null,
   "id": "f2237eee",
   "metadata": {},
   "outputs": [],
   "source": [
    "try:\n",
    "    df = pd.read_csv(\"files/AAPL.csv\", index_col='Date', parse_dates=True) #Apple Stock price\n",
    "except FileNotFoundError:\n",
    "    print(\"Please upload the AAPL.csv file or place it in the same directory as the notebook\")\n",
    "    raise #stop execution"
   ]
  },
  {
   "cell_type": "code",
   "execution_count": null,
   "id": "513763e0",
   "metadata": {},
   "outputs": [],
   "source": [
    "print(\"First 5 rows of the dataset:\")\n",
    "print(df.head())\n",
    "print(\"\\nDataset Info:\")\n",
    "df.info()"
   ]
  },
  {
   "cell_type": "markdown",
   "id": "b6996d66",
   "metadata": {},
   "source": [
    "### Creating Figures and Axes"
   ]
  },
  {
   "cell_type": "code",
   "execution_count": null,
   "id": "dc38d0da",
   "metadata": {},
   "outputs": [],
   "source": [
    "# Create a figure and an axes object\n",
    "fig, ax = plt.subplots(figsize=(10, 5))  # figsize sets the figure size (width, height) in inches\n",
    "plt.show()"
   ]
  },
  {
   "cell_type": "markdown",
   "id": "8de24fd0",
   "metadata": {},
   "source": [
    "### Plotting Lines, Points, and Bars"
   ]
  },
  {
   "cell_type": "code",
   "execution_count": null,
   "id": "2d2c6f63",
   "metadata": {},
   "outputs": [],
   "source": [
    "##### From Previous Cell ####\n",
    "fig, ax = plt.subplots(figsize=(10, 5))  # figsize sets the figure size (width, height) in inches\n",
    "#############################\n",
    "\n",
    "# Plot the 'Close' price as a line plot\n",
    "ax.plot(df.index, df['Close'], label='Closing Price', color='blue', linestyle='-', linewidth=2)\n",
    "\n",
    "plt.show() #show what you have drawn so far"
   ]
  },
  {
   "cell_type": "code",
   "execution_count": null,
   "id": "9fbf1f21",
   "metadata": {},
   "outputs": [],
   "source": [
    "##### From Previous Cell ####\n",
    "fig, ax = plt.subplots(figsize=(10, 5))  # figsize sets the figure size (width, height) in inches\n",
    "ax.plot(df.index, df['Close'], label='Closing Price', color='blue', linestyle='-', linewidth=2)\n",
    "#############################\n",
    "\n",
    "# Plot the 'Volume' as a bar chart (using a secondary y-axis)\n",
    "ax2 = ax.twinx()  # Create a twin Axes sharing the x-axis\n",
    "ax2.bar(df.index, df['Volume'], label='Volume', color='gray', alpha=0.5, width=2) #alpha sets transparency\n",
    "\n",
    "plt.show()"
   ]
  },
  {
   "cell_type": "markdown",
   "id": "50fad9f3",
   "metadata": {},
   "source": [
    "### Setting Titles, Labels, and Legends"
   ]
  },
  {
   "cell_type": "code",
   "execution_count": null,
   "id": "35b794f8",
   "metadata": {},
   "outputs": [],
   "source": [
    "##### From Previous Cell ####\n",
    "fig, ax = plt.subplots(figsize=(10, 5))  # figsize sets the figure size (width, height) in inches\n",
    "ax.plot(df.index, df['Close'], label='Closing Price', color='blue', linestyle='-', linewidth=2)\n",
    "ax2 = ax.twinx()  # Create a twin Axes sharing the x-axis\n",
    "ax2.bar(df.index, df['Volume'], label='Volume', color='gray', alpha=0.5, width=2) #alpha sets transparency\n",
    "#############################\n",
    "\n",
    "# Set titles and labels\n",
    "ax.set_title('Apple Stock Closing Price and Volume in 2020')\n",
    "ax.set_xlabel('Date')\n",
    "ax.set_ylabel('Closing Price (USD)')\n",
    "ax2.set_ylabel('Volume')\n",
    "\n",
    "plt.show()"
   ]
  },
  {
   "cell_type": "code",
   "execution_count": null,
   "id": "ad84b3a1",
   "metadata": {},
   "outputs": [],
   "source": [
    "##### From Previous Cell ####\n",
    "fig, ax = plt.subplots(figsize=(10, 5))  # figsize sets the figure size (width, height) in inches\n",
    "ax.plot(df.index, df['Close'], label='Closing Price', color='blue', linestyle='-', linewidth=2)\n",
    "ax2 = ax.twinx()  # Create a twin Axes sharing the x-axis\n",
    "ax2.bar(df.index, df['Volume'], label='Volume', color='gray', alpha=0.5, width=2) #alpha sets transparency\n",
    "ax.set_title('Apple Stock Closing Price and Volume in 2020')\n",
    "ax.set_xlabel('Date')\n",
    "ax.set_ylabel('Closing Price (USD)')\n",
    "ax2.set_ylabel('Volume')\n",
    "#############################\n",
    "\n",
    "# Format x-axis dates\n",
    "import matplotlib.dates as mdates\n",
    "ax.xaxis.set_major_locator(mdates.MonthLocator())\n",
    "ax.xaxis.set_major_formatter(mdates.DateFormatter('%B')) #Play around with %m, %d, %Y, etc.\n",
    "plt.gcf().autofmt_xdate() #rotate the date labels\n",
    "\n",
    "plt.show()"
   ]
  },
  {
   "cell_type": "code",
   "execution_count": null,
   "id": "37fe32d0",
   "metadata": {},
   "outputs": [],
   "source": [
    "##### From Previous Cell ####\n",
    "fig, ax = plt.subplots(figsize=(10, 5))  # figsize sets the figure size (width, height) in inches\n",
    "ax.plot(df.index, df['Close'], label='Closing Price', color='blue', linestyle='-', linewidth=2)\n",
    "ax2 = ax.twinx()  # Create a twin Axes sharing the x-axis\n",
    "ax2.bar(df.index, df['Volume'], label='Volume', color='gray', alpha=0.5, width=2) #alpha sets transparency\n",
    "ax.set_title('Apple Stock Closing Price and Volume in 2020')\n",
    "ax.set_xlabel('Date')\n",
    "ax.set_ylabel('Closing Price (USD)')\n",
    "ax2.set_ylabel('Volume')\n",
    "import matplotlib.dates as mdates\n",
    "ax.xaxis.set_major_locator(mdates.MonthLocator())\n",
    "ax.xaxis.set_major_formatter(mdates.DateFormatter('%B')) #Play around with %m, %d, %Y, etc.\n",
    "plt.gcf().autofmt_xdate() #rotate the date labels\n",
    "#############################\n",
    "\n",
    "# Add legends\n",
    "ax.legend(loc='upper left')\n",
    "ax2.legend(loc='upper right')\n",
    "\n",
    "plt.show()"
   ]
  },
  {
   "cell_type": "markdown",
   "id": "b5b6936e",
   "metadata": {},
   "source": [
    "### Customizing Plot Appearance"
   ]
  },
  {
   "cell_type": "code",
   "execution_count": null,
   "id": "22637414",
   "metadata": {},
   "outputs": [],
   "source": [
    "##### From Previous Cell ####\n",
    "fig, ax = plt.subplots(figsize=(10, 5))  # figsize sets the figure size (width, height) in inches\n",
    "ax.plot(df.index, df['Close'], label='Closing Price', color='blue', linestyle='-', linewidth=2)\n",
    "ax2 = ax.twinx()  # Create a twin Axes sharing the x-axis\n",
    "ax2.bar(df.index, df['Volume'], label='Volume', color='gray', alpha=0.5, width=2) #alpha sets transparency\n",
    "ax.set_title('Apple Stock Closing Price and Volume in 2020')\n",
    "ax.set_xlabel('Date')\n",
    "ax.set_ylabel('Closing Price (USD)')\n",
    "ax2.set_ylabel('Volume')\n",
    "import matplotlib.dates as mdates\n",
    "ax.xaxis.set_major_locator(mdates.MonthLocator())\n",
    "ax.xaxis.set_major_formatter(mdates.DateFormatter('%B')) #Play around with %m, %d, %Y, etc.\n",
    "plt.gcf().autofmt_xdate() #rotate the date labels\n",
    "ax.legend(loc='upper left')\n",
    "ax2.legend(loc='upper right')\n",
    "#############################\n",
    "\n",
    "# Customize plot appearance (already done some above, here are more examples)\n",
    "ax.grid(True, alpha=0.3)  # Add a grid with transparency\n",
    "ax.set_facecolor('#f0f0f0') #set background color\n",
    "\n",
    "plt.show()"
   ]
  },
  {
   "cell_type": "markdown",
   "id": "885a8ed4",
   "metadata": {},
   "source": [
    "### Subplots: Creating Multiple Plots within a Single Figure"
   ]
  },
  {
   "cell_type": "code",
   "execution_count": null,
   "id": "93a477bf",
   "metadata": {},
   "outputs": [],
   "source": [
    "# Create a figure with two subplots (1 row, 2 columns)\n",
    "fig, (ax1, ax2) = plt.subplots(1, 2, figsize=(10, 4))\n",
    "\n",
    "plt.show()"
   ]
  },
  {
   "cell_type": "code",
   "execution_count": null,
   "id": "6255176b",
   "metadata": {},
   "outputs": [],
   "source": [
    "##### From Previous Cell ####\n",
    "fig, (ax1, ax2) = plt.subplots(1, 2, figsize=(10, 4))\n",
    "#############################\n",
    "\n",
    "# Plot 'Open' and 'Close' prices on the first subplot\n",
    "ax1.clear() # If you execute this cell multiple times, the draws will stack up. Clear the axis first.\n",
    "ax1.plot(df.index, df['Open'], label='Opening Price', color='green')\n",
    "ax1.plot(df.index, df['Close'], label='Closing Price', color='blue')\n",
    "ax1.set_title('Open vs. Close Price')\n",
    "ax1.set_xlabel('Date')\n",
    "ax1.set_ylabel('Price (USD)')\n",
    "ax1.legend()\n",
    "ax1.xaxis.set_major_locator(mdates.MonthLocator())\n",
    "ax1.xaxis.set_major_formatter(mdates.DateFormatter('%B'))\n",
    "plt.gcf().autofmt_xdate()\n",
    "\n",
    "plt.show()"
   ]
  },
  {
   "cell_type": "code",
   "execution_count": null,
   "id": "1cf22fc5",
   "metadata": {},
   "outputs": [],
   "source": [
    "##### From Previous Cell ####\n",
    "fig, (ax1, ax2) = plt.subplots(1, 2, figsize=(10, 4))\n",
    "ax1.clear() # If you execute this cell multiple times, the draws will stack up. Clear the axis first.\n",
    "ax1.plot(df.index, df['Open'], label='Opening Price', color='green')\n",
    "ax1.plot(df.index, df['Close'], label='Closing Price', color='blue')\n",
    "ax1.set_title('Open vs. Close Price')\n",
    "ax1.set_xlabel('Date')\n",
    "ax1.set_ylabel('Price (USD)')\n",
    "ax1.legend()\n",
    "ax1.xaxis.set_major_locator(mdates.MonthLocator())\n",
    "ax1.xaxis.set_major_formatter(mdates.DateFormatter('%B'))\n",
    "plt.gcf().autofmt_xdate()\n",
    "#############################\n",
    "\n",
    "# Plot 'High' and 'Low' prices on the second subplot\n",
    "ax2.clear()\n",
    "ax2.plot(df.index, df['High'], label='High Price', color='red')\n",
    "ax2.plot(df.index, df['Low'], label='Low Price', color='orange')\n",
    "ax2.set_title('High vs. Low Price')\n",
    "ax2.set_xlabel('Date')\n",
    "ax2.set_ylabel('Price (USD)')\n",
    "ax2.legend()\n",
    "ax2.xaxis.set_major_locator(mdates.MonthLocator())\n",
    "ax2.xaxis.set_major_formatter(mdates.DateFormatter('%Y-%m'))\n",
    "plt.gcf().autofmt_xdate()\n",
    "\n",
    "plt.tight_layout() #important so the subplots do not overlap\n",
    "\n",
    "plt.show()"
   ]
  },
  {
   "cell_type": "code",
   "execution_count": null,
   "id": "dc619862",
   "metadata": {
    "scrolled": true
   },
   "outputs": [],
   "source": [
    "# Example of plotting multiple lines in the same plot.\n",
    "fig, ax = plt.subplots(figsize=(10,5))\n",
    "ax.plot(df.index, df['Open'], label='Opening Price', color='green')\n",
    "ax.plot(df.index, df['Close'], label='Closing Price', color='blue')\n",
    "ax.plot(df.index, df['High'], label='High Price', color='red')\n",
    "ax.plot(df.index, df['Low'], label='Low Price', color='orange')\n",
    "ax.set_title('All Prices')\n",
    "ax.set_xlabel('Date')\n",
    "ax.set_ylabel('Price (USD)')\n",
    "ax.legend()\n",
    "ax.xaxis.set_major_locator(mdates.MonthLocator())\n",
    "ax.xaxis.set_major_formatter(mdates.DateFormatter('%B'))\n",
    "plt.gcf().autofmt_xdate()\n",
    "plt.show()"
   ]
  },
  {
   "cell_type": "code",
   "execution_count": null,
   "id": "264c8af6",
   "metadata": {
    "scrolled": true
   },
   "outputs": [],
   "source": [
    "# Saving the figure\n",
    "fig, ax = plt.subplots(figsize=(10, 5))\n",
    "ax.plot(df.index, df['Close'], label='Closing Price', color='blue', linestyle='-', linewidth=2)\n",
    "ax.set_title('Apple Stock Closing Price')\n",
    "ax.set_xlabel('Date')\n",
    "ax.set_ylabel('Closing Price (USD)')\n",
    "ax.xaxis.set_major_locator(mdates.MonthLocator())\n",
    "ax.xaxis.set_major_formatter(mdates.DateFormatter('%B %Y'))\n",
    "plt.gcf().autofmt_xdate()\n",
    "plt.savefig(\"apple_stock_price.png\") #save the figure as a png\n",
    "plt.show()"
   ]
  },
  {
   "cell_type": "markdown",
   "id": "9612c536",
   "metadata": {},
   "source": [
    "## Exercise 02: Different Plot Types with Matplotlib\n",
    "This exercise uses the Titanic dataset ('files/titanic.csv') to demonstrate different types of data visualization with Matplotlib.\n",
    "\n",
    "First, let's import neccessary libraries. "
   ]
  },
  {
   "cell_type": "code",
   "execution_count": null,
   "id": "50cc84eb",
   "metadata": {},
   "outputs": [],
   "source": [
    "# Install necessary libraries (if you haven't already):\n",
    "# !pip install pandas matplotlib\n",
    "\n",
    "#%matplotlib notebook \n",
    "\n",
    "import pandas as pd\n",
    "import matplotlib.pyplot as plt\n",
    "import numpy as np"
   ]
  },
  {
   "cell_type": "markdown",
   "id": "512a6a07",
   "metadata": {},
   "source": [
    "Then load the dataset into a dataframe."
   ]
  },
  {
   "cell_type": "code",
   "execution_count": null,
   "id": "247ea667",
   "metadata": {},
   "outputs": [],
   "source": [
    "try:\n",
    "    df = pd.read_csv(\"files/titanic.csv\")\n",
    "except FileNotFoundError:\n",
    "    print(\"Please upload the titanic.csv file or place it in the same directory as the notebook\")\n",
    "    raise #stop execution"
   ]
  },
  {
   "cell_type": "code",
   "execution_count": null,
   "id": "90dba57c",
   "metadata": {},
   "outputs": [],
   "source": [
    "print(\"First 5 rows of the dataset:\")\n",
    "print(df.head())\n",
    "print(\"Dataset Info:\")\n",
    "df.info()"
   ]
  },
  {
   "cell_type": "code",
   "execution_count": null,
   "id": "e41bdaa6",
   "metadata": {},
   "outputs": [],
   "source": [
    "# Data Cleaning (handling missing values for 'Age')\n",
    "df['Age'].fillna(df['Age'].median(), inplace=True)"
   ]
  },
  {
   "cell_type": "markdown",
   "id": "62f508da",
   "metadata": {},
   "source": [
    "### Histograms"
   ]
  },
  {
   "cell_type": "code",
   "execution_count": null,
   "id": "56b8b449",
   "metadata": {},
   "outputs": [],
   "source": [
    "# Create a histogram of passenger ages\n",
    "plt.figure(figsize=(8, 6))  # Set figure size\n",
    "plt.hist(df['Age'], bins=20, color='skyblue', edgecolor='black') #bins defines the number of bins\n",
    "plt.title('Distribution of Passenger Ages')\n",
    "plt.xlabel('Age')\n",
    "plt.ylabel('Frequency')\n",
    "plt.show()"
   ]
  },
  {
   "cell_type": "code",
   "execution_count": null,
   "id": "0ae19090",
   "metadata": {},
   "outputs": [],
   "source": [
    "# Create a histogram of passenger fares\n",
    "plt.figure(figsize=(8, 6))\n",
    "plt.hist(df['Fare'], bins=np.arange(0,600,50), color='lightgreen', edgecolor='black') #bins can be a list defining the edges\n",
    "plt.title('Distribution of Passenger Fares')\n",
    "plt.xlabel('Fare')\n",
    "plt.ylabel('Frequency')\n",
    "plt.show()"
   ]
  },
  {
   "cell_type": "markdown",
   "id": "262a7e17",
   "metadata": {},
   "source": [
    "### Box Plots"
   ]
  },
  {
   "cell_type": "code",
   "execution_count": null,
   "id": "7cd7df2e",
   "metadata": {},
   "outputs": [],
   "source": [
    "# Create a box plot of passenger ages by passenger class (Pclass)\n",
    "plt.figure(figsize=(8, 6))\n",
    "plt.boxplot([df[df['Pclass'] == 1]['Age'],\n",
    "            df[df['Pclass'] == 2]['Age'],\n",
    "            df[df['Pclass'] == 3]['Age']],\n",
    "            labels=['1st Class', '2nd Class', '3rd Class'],\n",
    "            patch_artist=True, #fill with color\n",
    "            boxprops=dict(facecolor=\"skyblue\", color=\"black\"),\n",
    "            capprops=dict(color=\"black\"),\n",
    "            whiskerprops=dict(color=\"black\"),\n",
    "            flierprops=dict(color=\"black\", markeredgecolor=\"black\"),\n",
    "            medianprops=dict(color=\"black\"))\n",
    "plt.title('Passenger Age Distribution by Class')\n",
    "plt.xlabel('Passenger Class')\n",
    "plt.ylabel('Age')\n",
    "plt.show()"
   ]
  },
  {
   "cell_type": "code",
   "execution_count": null,
   "id": "9ef6cf16",
   "metadata": {},
   "outputs": [],
   "source": [
    "# Create a boxplot of Fare by Embarked\n",
    "plt.figure(figsize=(8, 6))\n",
    "plt.boxplot([df[df['Embarked'] == 'S']['Fare'],\n",
    "            df[df['Embarked'] == 'C']['Fare'],\n",
    "            df[df['Embarked'] == 'Q']['Fare']],\n",
    "            labels=['Southampton', 'Cherbourg', 'Queenstown'],\n",
    "            patch_artist=True, #fill with color\n",
    "            boxprops=dict(facecolor=\"lightgreen\", color=\"black\"),\n",
    "            capprops=dict(color=\"black\"),\n",
    "            whiskerprops=dict(color=\"black\"),\n",
    "            flierprops=dict(color=\"black\", markeredgecolor=\"black\"),\n",
    "            medianprops=dict(color=\"black\"))\n",
    "plt.title('Passenger Fare Distribution by Embarked Port')\n",
    "plt.xlabel('Embarked Port')\n",
    "plt.ylabel('Fare')\n",
    "plt.show()"
   ]
  },
  {
   "cell_type": "markdown",
   "id": "7c15accb",
   "metadata": {},
   "source": [
    "### Bar Charts"
   ]
  },
  {
   "cell_type": "code",
   "execution_count": null,
   "id": "5957a8b1",
   "metadata": {},
   "outputs": [],
   "source": [
    "# Create a bar chart of the number of passengers who survived and did not survive\n",
    "survival_counts = df['Survived'].value_counts()\n",
    "plt.figure(figsize=(6, 4))\n",
    "plt.bar(survival_counts.index, survival_counts.values, color=['green', 'red'])\n",
    "plt.xticks([0, 1], ['Did Not Survive', 'Survived']) #set correct labels\n",
    "plt.title('Survival Counts')\n",
    "plt.xlabel('Survival Status')\n",
    "plt.ylabel('Number of Passengers')\n",
    "plt.show()"
   ]
  },
  {
   "cell_type": "code",
   "execution_count": null,
   "id": "c25b3eee",
   "metadata": {},
   "outputs": [],
   "source": [
    "# Create a bar chart of the number of passengers in each Pclass.\n",
    "pclass_counts = df['Pclass'].value_counts()\n",
    "plt.figure(figsize=(6, 4))\n",
    "plt.bar(pclass_counts.index, pclass_counts.values, color=['skyblue', 'lightgreen', 'orange'])\n",
    "plt.xticks([1, 2, 3], ['1st Class', '2nd Class', '3rd Class']) #set correct labels\n",
    "plt.title('Passenger Counts by Pclass')\n",
    "plt.xlabel('Passenger Class')\n",
    "plt.ylabel('Number of Passengers')\n",
    "plt.show()"
   ]
  },
  {
   "cell_type": "markdown",
   "id": "921a29ca",
   "metadata": {},
   "source": [
    "### Scatter Plots"
   ]
  },
  {
   "cell_type": "code",
   "execution_count": null,
   "id": "70c151f3",
   "metadata": {},
   "outputs": [],
   "source": [
    "# Create a scatter plot of age vs. fare\n",
    "plt.figure(figsize=(8, 6))\n",
    "plt.scatter(df['Age'], df['Fare'], alpha=0.5, color='purple') #alpha sets transparency\n",
    "plt.title('Passenger Age vs. Fare')\n",
    "plt.xlabel('Age')\n",
    "plt.ylabel('Fare')\n",
    "plt.show()"
   ]
  },
  {
   "cell_type": "code",
   "execution_count": null,
   "id": "8f89ee0a",
   "metadata": {},
   "outputs": [],
   "source": [
    "# Adding a third dimension to the scatter plot using color\n",
    "plt.figure(figsize=(8, 6))\n",
    "plt.scatter(df['Age'], df['Fare'], c=df['Survived'], cmap='viridis', alpha=0.7) #c sets the color according to Survived, cmap sets the color map\n",
    "plt.colorbar(label='Survived')\n",
    "plt.title('Passenger Age vs. Fare (Colored by Survival)')\n",
    "plt.xlabel('Age')\n",
    "plt.ylabel('Fare')\n",
    "plt.show()"
   ]
  },
  {
   "cell_type": "markdown",
   "id": "903424c4",
   "metadata": {},
   "source": [
    "### Pie Charts"
   ]
  },
  {
   "cell_type": "code",
   "execution_count": null,
   "id": "9e281b68",
   "metadata": {},
   "outputs": [],
   "source": [
    "# Create a pie chart of passenger distribution by embarkation port.\n",
    "embarked_counts = df['Embarked'].value_counts()\n",
    "plt.figure(figsize=(6, 6))\n",
    "plt.pie(embarked_counts, labels=embarked_counts.index, autopct='%1.1f%%', startangle=90, colors=['lightcoral', 'lightskyblue', 'lightgreen']) #autopct shows percentages\n",
    "plt.title('Passenger Distribution by Embarkation Port')\n",
    "plt.show()"
   ]
  },
  {
   "cell_type": "code",
   "execution_count": null,
   "id": "61b44640",
   "metadata": {},
   "outputs": [],
   "source": [
    "# Create a pie chart of passenger distribution by gender.\n",
    "sex_counts = df['Sex'].value_counts()\n",
    "plt.figure(figsize=(6, 6))\n",
    "plt.pie(sex_counts, labels=sex_counts.index, autopct='%1.1f%%', startangle=90, colors=['lightcoral', 'lightskyblue']) #autopct shows percentages\n",
    "plt.title('Passenger Distribution by Gender')\n",
    "plt.show()"
   ]
  },
  {
   "cell_type": "markdown",
   "id": "29a45653",
   "metadata": {},
   "source": [
    "## Exercise 03: Matplotlib Tips and Tricks\n",
    "This exercise explores various tips and tricks to enhance your Matplotlib visualizations."
   ]
  },
  {
   "cell_type": "code",
   "execution_count": null,
   "id": "63cdfbe7",
   "metadata": {},
   "outputs": [],
   "source": [
    "# Install necessary libraries (if you haven't already):\n",
    "# !pip install pandas matplotlib\n",
    "\n",
    "#%matplotlib notebook \n",
    "\n",
    "import pandas as pd\n",
    "import matplotlib.pyplot as plt\n",
    "import numpy as np"
   ]
  },
  {
   "cell_type": "code",
   "execution_count": null,
   "id": "2b66a33f",
   "metadata": {},
   "outputs": [],
   "source": [
    "# Sample Data (using NumPy to create some data for demonstration)\n",
    "np.random.seed(42)  # for reproducibility\n",
    "x = np.linspace(0, 10, 100)\n",
    "y1 = np.sin(x)\n",
    "y2 = np.cos(x)\n",
    "y3 = np.random.rand(100) * 5"
   ]
  },
  {
   "cell_type": "markdown",
   "id": "7055e293",
   "metadata": {},
   "source": [
    "### Setting Figure Size and DPI"
   ]
  },
  {
   "cell_type": "code",
   "execution_count": null,
   "id": "fd4a2593",
   "metadata": {},
   "outputs": [],
   "source": [
    "# Control the size and resolution of your plots\n",
    "plt.figure(figsize=(10, 6), dpi=100)  # Width, height in inches, dots per inch\n",
    "plt.plot(x, y1)\n",
    "plt.title(\"Plot with Custom Figure Size and DPI\")\n",
    "plt.show()"
   ]
  },
  {
   "cell_type": "markdown",
   "id": "121d54bd",
   "metadata": {},
   "source": [
    "### Setting Plot Styles"
   ]
  },
  {
   "cell_type": "code",
   "execution_count": null,
   "id": "ec00ec9a",
   "metadata": {},
   "outputs": [],
   "source": [
    "# Use pre-defined styles for quick visual enhancements\n",
    "plt.style.use('ggplot') #try different styles like 'classic', 'seaborn-v0_8-darkgrid'\n",
    "\n",
    "plt.figure(figsize=(10, 6))\n",
    "plt.plot(x, y1, label='sin(x)')\n",
    "plt.plot(x, y2, label='cos(x)')\n",
    "plt.title(\"Plot with ggplot Style\")\n",
    "plt.legend()\n",
    "plt.show()\n",
    "\n",
    "plt.style.use('default') #reset the style"
   ]
  },
  {
   "cell_type": "markdown",
   "id": "9ec8e32e",
   "metadata": {},
   "source": [
    "### Customizing Lines and Markers"
   ]
  },
  {
   "cell_type": "code",
   "execution_count": null,
   "id": "48f26907",
   "metadata": {},
   "outputs": [],
   "source": [
    "# Control line styles, colors, and markers\n",
    "plt.figure(figsize=(10, 6))\n",
    "plt.plot(x, y1, label='sin(x)', color='navy', linestyle='--', linewidth=2, marker='o', markersize=4, markerfacecolor='orange')\n",
    "plt.title('Customized Line and Markers')\n",
    "plt.legend()\n",
    "plt.show()"
   ]
  },
  {
   "cell_type": "markdown",
   "id": "ac325d40",
   "metadata": {},
   "source": [
    "### Setting Axis Limits and Ticks"
   ]
  },
  {
   "cell_type": "code",
   "execution_count": null,
   "id": "55c47cb6",
   "metadata": {},
   "outputs": [],
   "source": [
    "# Control the range of the axes and customize tick locations and labels\n",
    "plt.figure(figsize=(10, 6))\n",
    "plt.plot(x, y1)\n",
    "plt.xlim(2, 8)  # Set x-axis limits\n",
    "plt.ylim(-1.2, 1.2)  # Set y-axis limits\n",
    "plt.xticks(np.arange(2, 9, 1)) #set x ticks\n",
    "plt.yticks(np.arange(-1, 1.1, 0.5)) #set y ticks\n",
    "plt.title('Custom Axis Limits and Ticks')\n",
    "plt.show()"
   ]
  },
  {
   "cell_type": "markdown",
   "id": "2aef73e2",
   "metadata": {},
   "source": [
    "### Adding Text and Annotations"
   ]
  },
  {
   "cell_type": "code",
   "execution_count": null,
   "id": "c61bae39",
   "metadata": {},
   "outputs": [],
   "source": [
    "# Add text labels, annotations, and arrows to highlight specific points\n",
    "plt.figure(figsize=(10, 6))\n",
    "plt.plot(x, y1)\n",
    "plt.text(np.pi/2, 1, 'Maximum Value', fontsize=12, color='red') #add text\n",
    "plt.annotate('Important Point', xy=(np.pi, 0), xytext=(5, 0.5), #add annotation\n",
    "             arrowprops=dict(facecolor='black', shrink=0.05))\n",
    "plt.title('Text and Annotations')\n",
    "plt.show()"
   ]
  },
  {
   "cell_type": "markdown",
   "id": "bb86c399",
   "metadata": {},
   "source": [
    "### Using LaTeX for Mathematical Expressions"
   ]
  },
  {
   "cell_type": "code",
   "execution_count": null,
   "id": "724b0336",
   "metadata": {},
   "outputs": [],
   "source": [
    "# Display mathematical symbols and formulas using LaTeX\n",
    "plt.figure(figsize=(10, 6))\n",
    "plt.plot(x, y1)\n",
    "plt.title(r'Plot of $sin(x)$', fontsize=16) #using raw string (r'') to use latex\n",
    "plt.xlabel(r'$x$', fontsize=14)\n",
    "plt.ylabel(r'$sin(x)$', fontsize=14)\n",
    "plt.show()"
   ]
  },
  {
   "cell_type": "markdown",
   "id": "3af9afbb",
   "metadata": {},
   "source": [
    "### Working with Legends"
   ]
  },
  {
   "cell_type": "code",
   "execution_count": null,
   "id": "90fb5ed7",
   "metadata": {},
   "outputs": [],
   "source": [
    "# Customize legend appearance and placement\n",
    "plt.figure(figsize=(10, 6))\n",
    "plt.plot(x, y1, label='Sine Wave')\n",
    "plt.plot(x, y2, label='Cosine Wave')\n",
    "plt.legend(loc='upper right', frameon=True, shadow=True, fontsize='large', borderpad=1) #customize legend\n",
    "plt.title('Customized Legend')\n",
    "plt.show()"
   ]
  },
  {
   "cell_type": "markdown",
   "id": "efba0961",
   "metadata": {},
   "source": [
    "### Saving Figures"
   ]
  },
  {
   "cell_type": "code",
   "execution_count": null,
   "id": "7fd8afee",
   "metadata": {},
   "outputs": [],
   "source": [
    "# Save your plots to different file formats\n",
    "plt.figure(figsize=(10, 6))\n",
    "plt.plot(x, y1)\n",
    "plt.savefig('my_plot.png', dpi=300, bbox_inches='tight') #save as png with high dpi and tight bounding box\n",
    "plt.savefig('my_plot.pdf') #save as pdf\n",
    "plt.title(\"Saving the plot\")\n",
    "plt.show()"
   ]
  },
  {
   "cell_type": "markdown",
   "id": "e472352f",
   "metadata": {},
   "source": [
    "### Using Subplots with different axis"
   ]
  },
  {
   "cell_type": "code",
   "execution_count": null,
   "id": "b47d3836",
   "metadata": {},
   "outputs": [],
   "source": [
    "fig, axes = plt.subplots(2, 2, figsize=(10,8))\n",
    "\n",
    "axes[0, 0].plot(x, y1)\n",
    "axes[0, 0].set_title(\"sin(x)\")\n",
    "axes[0, 1].plot(x, y2)\n",
    "axes[0, 1].set_title(\"cos(x)\")\n",
    "axes[1, 0].plot(x, y3)\n",
    "axes[1, 0].set_title(\"random values\")\n",
    "axes[1, 1].hist(y3)\n",
    "axes[1, 1].set_title(\"random values histogram\")\n",
    "\n",
    "plt.tight_layout()\n",
    "plt.show()"
   ]
  },
  {
   "cell_type": "markdown",
   "id": "7d564b57",
   "metadata": {},
   "source": [
    "### Object-Oriented Interface vs. pyplot Interface\n",
    "- **pyplot interface** (`plt.plot()`, `plt.title()`, etc.): Easier for quick plotting.\n",
    "- **Object-oriented interface** (fig, ax = `plt.subplots()`; `ax.plot()`, `ax.set_title()`, etc.): More control and flexibility, especially for complex plots."
   ]
  },
  {
   "cell_type": "code",
   "execution_count": null,
   "id": "0f2b159c",
   "metadata": {},
   "outputs": [],
   "source": [
    "# The examples above mostly used the pyplot interface, but here is a quick example of the object oriented interface.\n",
    "fig, ax = plt.subplots(figsize=(10,6))\n",
    "line, = ax.plot(x,y1, label = \"sine wave\") #the comma after line is important\n",
    "ax.set_xlabel(\"x\")\n",
    "ax.set_ylabel(\"sin(x)\")\n",
    "ax.set_title(\"Sine Wave\")\n",
    "ax.legend()\n",
    "plt.show()"
   ]
  },
  {
   "cell_type": "markdown",
   "id": "102a90b2",
   "metadata": {},
   "source": [
    "## Exercise 04: Data Visualization with Seaborn\n",
    "This exercise uses the Titanic and AAPL datasets to demonstrate data visualization with Seaborn."
   ]
  },
  {
   "cell_type": "code",
   "execution_count": null,
   "id": "dfd09c1d",
   "metadata": {},
   "outputs": [],
   "source": [
    "# Install necessary libraries (if you haven't already):\n",
    "# !pip install pandas matplotlib seaborn\n",
    "\n",
    "#%matplotlib notebook\n",
    "\n",
    "import pandas as pd\n",
    "import matplotlib.pyplot as plt\n",
    "import seaborn as sns"
   ]
  },
  {
   "cell_type": "code",
   "execution_count": null,
   "id": "ed489470",
   "metadata": {},
   "outputs": [],
   "source": [
    "# Load datasets\n",
    "try:\n",
    "    titanic_df = pd.read_csv(\"files/titanic.csv\")\n",
    "    aapl_df = pd.read_csv(\"files/AAPL.csv\", index_col='Date', parse_dates=True)\n",
    "except FileNotFoundError as e:\n",
    "    print(f\"File not found: {e.filename}\")\n",
    "    print(\"Please upload the titanic.csv and AAPL.csv files or place them in the same directory as the notebook.\")\n",
    "    raise"
   ]
  },
  {
   "cell_type": "code",
   "execution_count": null,
   "id": "bfe39384",
   "metadata": {},
   "outputs": [],
   "source": [
    "print(\"Titanic Dataset Head:\")\n",
    "print(titanic_df.head())"
   ]
  },
  {
   "cell_type": "code",
   "execution_count": null,
   "id": "c61d0644",
   "metadata": {},
   "outputs": [],
   "source": [
    "print(\"\\nTitanic Dataset Info:\")\n",
    "titanic_df.info()"
   ]
  },
  {
   "cell_type": "code",
   "execution_count": null,
   "id": "9ef73856",
   "metadata": {},
   "outputs": [],
   "source": [
    "print(\"\\nAAPL Dataset Head:\")\n",
    "print(aapl_df.head())"
   ]
  },
  {
   "cell_type": "code",
   "execution_count": null,
   "id": "3525bd58",
   "metadata": {},
   "outputs": [],
   "source": [
    "print(\"\\nAAPL Dataset Info:\")\n",
    "aapl_df.info()"
   ]
  },
  {
   "cell_type": "code",
   "execution_count": null,
   "id": "4a7527f5",
   "metadata": {},
   "outputs": [],
   "source": [
    "# Data Cleaning for Titanic dataset (handling missing values for 'Age' and 'Embarked')\n",
    "titanic_df['Age'].fillna(titanic_df['Age'].median(), inplace=True)\n",
    "titanic_df['Embarked'].fillna(titanic_df['Embarked'].mode()[0], inplace=True)"
   ]
  },
  {
   "cell_type": "markdown",
   "id": "97041148",
   "metadata": {},
   "source": [
    "### Distribution Plots"
   ]
  },
  {
   "cell_type": "code",
   "execution_count": null,
   "id": "2efa1a2a",
   "metadata": {},
   "outputs": [],
   "source": [
    "# a) Histogram with KDE (Kernel Density Estimate) for Age (Titanic)\n",
    "plt.figure(figsize=(8, 6))\n",
    "sns.histplot(titanic_df['Age'], kde=True, color='skyblue')\n",
    "plt.title('Distribution of Passenger Ages')\n",
    "plt.show()"
   ]
  },
  {
   "cell_type": "code",
   "execution_count": null,
   "id": "9a3f7074",
   "metadata": {},
   "outputs": [],
   "source": [
    "# b) Violin Plot for Age by Survival (Titanic)\n",
    "plt.figure(figsize=(8, 6))\n",
    "sns.violinplot(x='Survived', y='Age', data=titanic_df, palette=['red','green'])\n",
    "plt.xticks([0, 1], ['Did not survive', 'Survived'])\n",
    "plt.title('Age Distribution by Survival')\n",
    "plt.show()"
   ]
  },
  {
   "cell_type": "markdown",
   "id": "4f08be61",
   "metadata": {},
   "source": [
    "### Relational Plots"
   ]
  },
  {
   "cell_type": "code",
   "execution_count": null,
   "id": "cf99795a",
   "metadata": {},
   "outputs": [],
   "source": [
    "# a) Scatter Plot for Age vs. Fare (Titanic), colored by Survival\n",
    "plt.figure(figsize=(8, 6))\n",
    "sns.scatterplot(x='Age', y='Fare', hue='Survived', data=titanic_df, palette={0: 'red', 1: 'green'}) #hue adds a third dimension using colors\n",
    "plt.title('Age vs. Fare (Colored by Survival)')\n",
    "plt.show()"
   ]
  },
  {
   "cell_type": "code",
   "execution_count": null,
   "id": "17dda69e",
   "metadata": {},
   "outputs": [],
   "source": [
    "# b) Line Plot for Closing Price over Time (AAPL)\n",
    "plt.figure(figsize=(12, 6))\n",
    "sns.lineplot(x='Date', y='Close', data=aapl_df)\n",
    "plt.title('AAPL Closing Price Over Time')\n",
    "plt.xlabel('Date')\n",
    "plt.ylabel('Closing Price (USD)')\n",
    "plt.show()"
   ]
  },
  {
   "cell_type": "code",
   "execution_count": null,
   "id": "5c3b89ba",
   "metadata": {},
   "outputs": [],
   "source": [
    "# c) Pair plot\n",
    "sns.pairplot(titanic_df,hue='Survived')\n",
    "plt.show()"
   ]
  },
  {
   "cell_type": "markdown",
   "id": "6eacb56b",
   "metadata": {},
   "source": [
    "### Rolling Statistics\n",
    "Visualizing rolling statistics for time-series data involves two steps: \n",
    "1. Calculating rolling statistics (typically, mean values) with Pandas. \n",
    "Note: *Moving average* is the rolling statistics with *mean*.\n",
    "2. Visualize rolling statistics with Seaborn's line plots."
   ]
  },
  {
   "cell_type": "code",
   "execution_count": null,
   "id": "83369a2a",
   "metadata": {},
   "outputs": [],
   "source": [
    "# 1. Calculate Rolling Statistics (Pandas)\n",
    "\n",
    "# a) Calculate the 7-day rolling mean of the 'Close' price\n",
    "aapl_df['7_day_rolling_mean'] = aapl_df['Close'].rolling(window=7).mean()\n",
    "\n",
    "# b) Calculate the 30-day rolling mean of the 'Close' price\n",
    "aapl_df['30_day_rolling_mean'] = aapl_df['Close'].rolling(window=30).mean()"
   ]
  },
  {
   "cell_type": "code",
   "execution_count": null,
   "id": "dc6f2d68",
   "metadata": {},
   "outputs": [],
   "source": [
    "# 2. Visualize Rolling Mean (Seaborn)\n",
    "\n",
    "# a) Plot the 'Close' price and the 7-day rolling mean\n",
    "plt.figure(figsize=(14, 7))\n",
    "sns.lineplot(x=aapl_df.index, y='Close', data=aapl_df, label='Close Price', color='blue')\n",
    "sns.lineplot(x=aapl_df.index, y='7_day_rolling_mean', data=aapl_df, label='7-Day Rolling Mean', color='red')\n",
    "plt.title('AAPL Close Price and 7-Day Rolling Mean')\n",
    "plt.xlabel('Date')\n",
    "plt.ylabel('Price (USD)')\n",
    "plt.legend()\n",
    "plt.show()"
   ]
  },
  {
   "cell_type": "code",
   "execution_count": null,
   "id": "cac8b5a6",
   "metadata": {},
   "outputs": [],
   "source": [
    "# b) Plot the 'Close' price, the 7-day rolling mean and the 30-day rolling mean in the same plot\n",
    "plt.figure(figsize=(14, 7))\n",
    "sns.lineplot(x=aapl_df.index, y='Close', data=aapl_df, label='Close Price', color='blue')\n",
    "sns.lineplot(x=aapl_df.index, y='7_day_rolling_mean', data=aapl_df, label='7-Day Rolling Mean', color='red')\n",
    "sns.lineplot(x=aapl_df.index, y='30_day_rolling_mean', data=aapl_df, label='30-Day Rolling Mean', color='green')\n",
    "plt.title('AAPL Close Price, 7-Day and 30-Day Rolling Mean')\n",
    "plt.xlabel('Date')\n",
    "plt.ylabel('Price (USD)')\n",
    "plt.legend()\n",
    "plt.show()"
   ]
  },
  {
   "cell_type": "code",
   "execution_count": null,
   "id": "1308f45c",
   "metadata": {},
   "outputs": [],
   "source": [
    "# 4. Using different window sizes\n",
    "\n",
    "# Calculate and plot rolling statistics with different window sizes in the same plot.\n",
    "windows = [7, 14, 30, 90]\n",
    "plt.figure(figsize=(14,7))\n",
    "sns.lineplot(x=aapl_df.index, y='Close', data=aapl_df, label='Close Price', color='blue', alpha = 0.5)\n",
    "for window in windows:\n",
    "    aapl_df[f'{window}_day_rolling_mean'] = aapl_df['Close'].rolling(window=window).mean()\n",
    "    sns.lineplot(x = aapl_df.index, y = f'{window}_day_rolling_mean', data = aapl_df, label = f'{window}-Day Rolling Mean')\n",
    "\n",
    "plt.title('AAPL Close Price with different rolling means')\n",
    "plt.xlabel('Date')\n",
    "plt.ylabel('Price (USD)')\n",
    "plt.legend()\n",
    "plt.show()"
   ]
  },
  {
   "cell_type": "markdown",
   "id": "e261c7a5",
   "metadata": {},
   "source": [
    "### Categorical Plots"
   ]
  },
  {
   "cell_type": "code",
   "execution_count": null,
   "id": "aca35fc2",
   "metadata": {},
   "outputs": [],
   "source": [
    "# a) Count Plot for Passenger Class (Titanic)\n",
    "plt.figure(figsize=(6, 4))\n",
    "sns.countplot(x='Pclass', data=titanic_df, palette='cubehelix')\n",
    "plt.title('Passenger Count by Class')\n",
    "plt.show()"
   ]
  },
  {
   "cell_type": "code",
   "execution_count": null,
   "id": "1a49366b",
   "metadata": {},
   "outputs": [],
   "source": [
    "# b) Bar Plot for Survival Rate by Gender (Titanic)\n",
    "plt.figure(figsize=(6, 4))\n",
    "sns.barplot(x='Sex', y='Survived', data=titanic_df, palette=['pink','blue'])\n",
    "plt.title('Survival Rate by Gender')\n",
    "plt.show()"
   ]
  },
  {
   "cell_type": "markdown",
   "id": "da694804",
   "metadata": {},
   "source": [
    "### Matrix Plots (Correlation Heatmap)"
   ]
  },
  {
   "cell_type": "code",
   "execution_count": null,
   "id": "5cd19ca1",
   "metadata": {},
   "outputs": [],
   "source": [
    "# Calculate the correlation matrix for numerical features (Titanic)\n",
    "correlation_matrix = titanic_df[['Survived', 'Pclass', 'Age', 'SibSp', 'Parch', 'Fare']].corr()\n",
    "print(correlation_matrix)"
   ]
  },
  {
   "cell_type": "code",
   "execution_count": null,
   "id": "89cff4af",
   "metadata": {},
   "outputs": [],
   "source": [
    "# Create a heatmap of the correlation matrix\n",
    "plt.figure(figsize=(8, 6))\n",
    "sns.heatmap(correlation_matrix, annot=True, cmap='coolwarm', fmt=\".2f\") #annot adds numbers to the heatmap\n",
    "plt.title('Correlation Matrix of Titanic Features')\n",
    "plt.show()"
   ]
  },
  {
   "cell_type": "markdown",
   "id": "a023fce3",
   "metadata": {},
   "source": [
    "### FacetGrid (for more complex multi-plot grids)"
   ]
  },
  {
   "cell_type": "code",
   "execution_count": null,
   "id": "9970c39c",
   "metadata": {},
   "outputs": [],
   "source": [
    "# Create a FacetGrid to show the distribution of Age by Passenger Class and Survival (Titanic)\n",
    "g = sns.FacetGrid(titanic_df, col='Pclass', row='Survived', hue = 'Sex', palette = ['pink','blue'])\n",
    "g.map(sns.histplot, 'Age')\n",
    "g.set_axis_labels(\"Age\", \"Count\")\n",
    "g.set_titles(col_template=\"Class {col_name}\", row_template=\"Survived = {row_name}\")\n",
    "plt.show()"
   ]
  },
  {
   "cell_type": "markdown",
   "id": "306e7984",
   "metadata": {},
   "source": [
    "### Setting Styles and Themes"
   ]
  },
  {
   "cell_type": "code",
   "execution_count": null,
   "id": "bebbdc98",
   "metadata": {},
   "outputs": [],
   "source": [
    "# Set a different style for all subsequent plots\n",
    "sns.set_style('darkgrid') # Try 'whitegrid', 'dark', 'white', 'ticks'\n",
    "\n",
    "# Example using the new style\n",
    "plt.figure(figsize=(8, 6))\n",
    "sns.scatterplot(x='Age', y='Fare', data=titanic_df)\n",
    "plt.title('Age vs. Fare (with darkgrid style)')\n",
    "plt.show()"
   ]
  },
  {
   "cell_type": "code",
   "execution_count": null,
   "id": "55105c5b",
   "metadata": {},
   "outputs": [],
   "source": [
    "# Reset to default style\n",
    "sns.set_style('white')"
   ]
  },
  {
   "cell_type": "code",
   "execution_count": null,
   "id": "132462ef",
   "metadata": {
    "scrolled": true
   },
   "outputs": [],
   "source": [
    "# Using themes\n",
    "sns.set_theme(context=\"notebook\", style=\"darkgrid\", palette=\"deep\", font=\"sans-serif\", font_scale=1, color_codes=True, rc=None)\n",
    "plt.figure(figsize=(8, 6))\n",
    "sns.scatterplot(x='Age', y='Fare', data=titanic_df)\n",
    "plt.title('Age vs. Fare (with Theme)')\n",
    "plt.show()"
   ]
  },
  {
   "cell_type": "code",
   "execution_count": null,
   "id": "5ce03c24",
   "metadata": {},
   "outputs": [],
   "source": [
    "# Reset to default theme\n",
    "sns.set_theme()"
   ]
  },
  {
   "cell_type": "markdown",
   "id": "2eef1104",
   "metadata": {},
   "source": [
    "### Customizing Plots (using Matplotlib with Seaborn)"
   ]
  },
  {
   "cell_type": "code",
   "execution_count": null,
   "id": "f6779713",
   "metadata": {},
   "outputs": [],
   "source": [
    "# Use Matplotlib to further customize a Seaborn plot\n",
    "plt.figure(figsize=(8, 6))\n",
    "ax = sns.countplot(x='Embarked', data=titanic_df)\n",
    "ax.set_title('Passenger Count by Embarkation Port')\n",
    "ax.set_xlabel('Port')\n",
    "ax.set_ylabel('Number of Passengers')\n",
    "for p in ax.patches: #add count labels above the bars\n",
    "    ax.annotate(str(p.get_height()), (p.get_x() * 1.005, p.get_height() * 1.005))\n",
    "plt.show()"
   ]
  },
  {
   "cell_type": "markdown",
   "id": "d3908343",
   "metadata": {},
   "source": [
    "<p style=\"text-align:center;\">That's it! Congratulations! <br> \n",
    "    Let's now work on your lab assigment.</p>"
   ]
  }
 ],
 "metadata": {
  "kernelspec": {
   "display_name": "Python 3 (ipykernel)",
   "language": "python",
   "name": "python3"
  },
  "language_info": {
   "codemirror_mode": {
    "name": "ipython",
    "version": 3
   },
   "file_extension": ".py",
   "mimetype": "text/x-python",
   "name": "python",
   "nbconvert_exporter": "python",
   "pygments_lexer": "ipython3",
   "version": "3.11.7"
  }
 },
 "nbformat": 4,
 "nbformat_minor": 5
}
