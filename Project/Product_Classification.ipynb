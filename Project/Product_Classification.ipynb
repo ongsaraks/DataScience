{
 "cells": [
  {
   "cell_type": "code",
   "execution_count": 2,
   "metadata": {},
   "outputs": [],
   "source": [
    "# from roboflow import Roboflow\n",
    "# rf = Roboflow(api_key=\"T7uEFXRKxnlKwmjBGbBD\")\n",
    "# project = rf.workspace(\"ongsa-23tub\").project(\"noocr\")\n",
    "# version = project.version(2)\n",
    "# dataset = version.download(\"yolov8\")\n",
    "                "
   ]
  },
  {
   "cell_type": "code",
   "execution_count": 3,
   "metadata": {},
   "outputs": [
    {
     "name": "stdout",
     "output_type": "stream",
     "text": [
      "Thu Apr 17 11:26:41 2025       \n",
      "+-----------------------------------------------------------------------------------------+\n",
      "| NVIDIA-SMI 572.83                 Driver Version: 572.83         CUDA Version: 12.8     |\n",
      "|-----------------------------------------+------------------------+----------------------+\n",
      "| GPU  Name                  Driver-Model | Bus-Id          Disp.A | Volatile Uncorr. ECC |\n",
      "| Fan  Temp   Perf          Pwr:Usage/Cap |           Memory-Usage | GPU-Util  Compute M. |\n",
      "|                                         |                        |               MIG M. |\n",
      "|=========================================+========================+======================|\n",
      "|   0  NVIDIA GeForce GTX 1660 Ti   WDDM  |   00000000:01:00.0 Off |                  N/A |\n",
      "| N/A   56C    P8              4W /   80W |     347MiB /   6144MiB |     29%      Default |\n",
      "|                                         |                        |                  N/A |\n",
      "+-----------------------------------------+------------------------+----------------------+\n",
      "                                                                                         \n",
      "+-----------------------------------------------------------------------------------------+\n",
      "| Processes:                                                                              |\n",
      "|  GPU   GI   CI              PID   Type   Process name                        GPU Memory |\n",
      "|        ID   ID                                                               Usage      |\n",
      "|=========================================================================================|\n",
      "|    0   N/A  N/A            1344    C+G   ...ms\\Microsoft VS Code\\Code.exe      N/A      |\n",
      "|    0   N/A  N/A            4224    C+G   ...h_cw5n1h2txyewy\\SearchApp.exe      N/A      |\n",
      "|    0   N/A  N/A            5064    C+G   ....0.3179.73\\msedgewebview2.exe      N/A      |\n",
      "|    0   N/A  N/A            5556    C+G   ...crosoft OneDrive\\OneDrive.exe      N/A      |\n",
      "|    0   N/A  N/A            6304    C+G   ...5n1h2txyewy\\TextInputHost.exe      N/A      |\n",
      "|    0   N/A  N/A           11188    C+G   ...4__w2gh52qy24etm\\Nahimic3.exe      N/A      |\n",
      "|    0   N/A  N/A           14720    C+G   ...ekyb3d8bbwe\\CalculatorApp.exe      N/A      |\n",
      "|    0   N/A  N/A           16124    C+G   ...4__8wekyb3d8bbwe\\Video.UI.exe      N/A      |\n",
      "|    0   N/A  N/A           22836    C+G   ...h_cw5n1h2txyewy\\SearchApp.exe      N/A      |\n",
      "|    0   N/A  N/A           24468    C+G   ...\\app-3.4.18\\GitHubDesktop.exe      N/A      |\n",
      "|    0   N/A  N/A           25960    C+G   ...\\Creative Cloud UI Helper.exe      N/A      |\n",
      "|    0   N/A  N/A           29424    C+G   ...em_tray\\lghub_system_tray.exe      N/A      |\n",
      "+-----------------------------------------------------------------------------------------+\n"
     ]
    }
   ],
   "source": [
    "!nvidia-smi"
   ]
  },
  {
   "cell_type": "code",
   "execution_count": 4,
   "metadata": {},
   "outputs": [],
   "source": [
    "data_dir = 'NoOCR'  "
   ]
  },
  {
   "cell_type": "code",
   "execution_count": null,
   "metadata": {},
   "outputs": [
    {
     "data": {
      "text/plain": [
       "'object_counts.csv'"
      ]
     },
     "execution_count": 9,
     "metadata": {},
     "output_type": "execute_result"
    }
   ],
   "source": [
    "# def initialize_csv():\n",
    "#     # Create or update CSV file with initial counts\n",
    "#     csv_path = 'object_counts.csv'\n",
    "#     if not os.path.exists(csv_path):\n",
    "#         with open(csv_path, 'w', newline='') as file:\n",
    "#             writer = csv.writer(file)\n",
    "#             writer.writerow(['Object', 'ID', 'NUM'])\n",
    "#             writer.writerow(['SOBO_WP_4200', 'WP0010', '0'])\n",
    "#             writer.writerow(['YAMANO_LPP_20', 'AP0020', '0'])\n",
    "#     return csv_path\n",
    "# initialize_csv()"
   ]
  },
  {
   "cell_type": "code",
   "execution_count": 6,
   "metadata": {},
   "outputs": [
    {
     "name": "stdout",
     "output_type": "stream",
     "text": [
      "Training model...\n",
      "New https://pypi.org/project/ultralytics/8.3.109 available  Update with 'pip install -U ultralytics'\n",
      "Ultralytics 8.3.108  Python-3.11.2 torch-2.6.0+cu126 CUDA:0 (NVIDIA GeForce GTX 1660 Ti, 6144MiB)\n",
      "\u001b[34m\u001b[1mengine\\trainer: \u001b[0mtask=detect, mode=train, model=yolov8n.pt, data=C:\\Users\\gifly\\Desktop\\DataScience\\Project\\NoOCR\\data.yaml, epochs=50, time=None, patience=5, batch=16, imgsz=640, save=True, save_period=-1, cache=False, device=0, workers=8, project=None, name=train, exist_ok=False, pretrained=True, optimizer=auto, verbose=True, seed=0, deterministic=True, single_cls=False, rect=False, cos_lr=False, close_mosaic=10, resume=False, amp=True, fraction=1.0, profile=False, freeze=None, multi_scale=False, overlap_mask=True, mask_ratio=4, dropout=0.0, val=True, split=val, save_json=False, conf=None, iou=0.7, max_det=300, half=False, dnn=False, plots=True, source=None, vid_stride=1, stream_buffer=False, visualize=False, augment=False, agnostic_nms=False, classes=None, retina_masks=False, embed=None, show=False, save_frames=False, save_txt=False, save_conf=False, save_crop=False, show_labels=True, show_conf=True, show_boxes=True, line_width=None, format=torchscript, keras=False, optimize=False, int8=False, dynamic=False, simplify=True, opset=None, workspace=None, nms=False, lr0=0.01, lrf=0.01, momentum=0.937, weight_decay=0.0005, warmup_epochs=3.0, warmup_momentum=0.8, warmup_bias_lr=0.1, box=7.5, cls=0.5, dfl=1.5, pose=12.0, kobj=1.0, nbs=64, hsv_h=0.015, hsv_s=0.7, hsv_v=0.4, degrees=0.0, translate=0.1, scale=0.5, shear=0.0, perspective=0.0, flipud=0.0, fliplr=0.5, bgr=0.0, mosaic=1.0, mixup=0.0, copy_paste=0.0, copy_paste_mode=flip, auto_augment=randaugment, erasing=0.4, cfg=None, tracker=botsort.yaml, save_dir=runs\\detect\\train\n",
      "Overriding model.yaml nc=80 with nc=2\n",
      "\n",
      "                   from  n    params  module                                       arguments                     \n",
      "  0                  -1  1       464  ultralytics.nn.modules.conv.Conv             [3, 16, 3, 2]                 \n",
      "  1                  -1  1      4672  ultralytics.nn.modules.conv.Conv             [16, 32, 3, 2]                \n",
      "  2                  -1  1      7360  ultralytics.nn.modules.block.C2f             [32, 32, 1, True]             \n",
      "  3                  -1  1     18560  ultralytics.nn.modules.conv.Conv             [32, 64, 3, 2]                \n",
      "  4                  -1  2     49664  ultralytics.nn.modules.block.C2f             [64, 64, 2, True]             \n",
      "  5                  -1  1     73984  ultralytics.nn.modules.conv.Conv             [64, 128, 3, 2]               \n",
      "  6                  -1  2    197632  ultralytics.nn.modules.block.C2f             [128, 128, 2, True]           \n",
      "  7                  -1  1    295424  ultralytics.nn.modules.conv.Conv             [128, 256, 3, 2]              \n",
      "  8                  -1  1    460288  ultralytics.nn.modules.block.C2f             [256, 256, 1, True]           \n",
      "  9                  -1  1    164608  ultralytics.nn.modules.block.SPPF            [256, 256, 5]                 \n",
      " 10                  -1  1         0  torch.nn.modules.upsampling.Upsample         [None, 2, 'nearest']          \n",
      " 11             [-1, 6]  1         0  ultralytics.nn.modules.conv.Concat           [1]                           \n",
      " 12                  -1  1    148224  ultralytics.nn.modules.block.C2f             [384, 128, 1]                 \n",
      " 13                  -1  1         0  torch.nn.modules.upsampling.Upsample         [None, 2, 'nearest']          \n",
      " 14             [-1, 4]  1         0  ultralytics.nn.modules.conv.Concat           [1]                           \n",
      " 15                  -1  1     37248  ultralytics.nn.modules.block.C2f             [192, 64, 1]                  \n",
      " 16                  -1  1     36992  ultralytics.nn.modules.conv.Conv             [64, 64, 3, 2]                \n",
      " 17            [-1, 12]  1         0  ultralytics.nn.modules.conv.Concat           [1]                           \n",
      " 18                  -1  1    123648  ultralytics.nn.modules.block.C2f             [192, 128, 1]                 \n",
      " 19                  -1  1    147712  ultralytics.nn.modules.conv.Conv             [128, 128, 3, 2]              \n",
      " 20             [-1, 9]  1         0  ultralytics.nn.modules.conv.Concat           [1]                           \n",
      " 21                  -1  1    493056  ultralytics.nn.modules.block.C2f             [384, 256, 1]                 \n",
      " 22        [15, 18, 21]  1    751702  ultralytics.nn.modules.head.Detect           [2, [64, 128, 256]]           \n",
      "Model summary: 129 layers, 3,011,238 parameters, 3,011,222 gradients, 8.2 GFLOPs\n",
      "\n",
      "Transferred 319/355 items from pretrained weights\n",
      "\u001b[34m\u001b[1mTensorBoard: \u001b[0mStart with 'tensorboard --logdir runs\\detect\\train', view at http://localhost:6006/\n",
      "Freezing layer 'model.22.dfl.conv.weight'\n",
      "\u001b[34m\u001b[1mAMP: \u001b[0mchecks failed . AMP training on NVIDIA GeForce GTX 1660 Ti GPU may cause NaN losses or zero-mAP results, so AMP will be disabled during training.\n"
     ]
    },
    {
     "name": "stderr",
     "output_type": "stream",
     "text": [
      "\u001b[34m\u001b[1mtrain: \u001b[0mScanning C:\\Users\\gifly\\Desktop\\DataScience\\Project\\NoOCR\\train\\labels... 491 images, 80 backgrounds, 0 corrupt: 100%|██████████| 491/491 [00:00<00:00, 1509.15it/s]\n"
     ]
    },
    {
     "name": "stdout",
     "output_type": "stream",
     "text": [
      "\u001b[34m\u001b[1mtrain: \u001b[0mNew cache created: C:\\Users\\gifly\\Desktop\\DataScience\\Project\\NoOCR\\train\\labels.cache\n"
     ]
    },
    {
     "name": "stderr",
     "output_type": "stream",
     "text": [
      "\u001b[34m\u001b[1mval: \u001b[0mScanning C:\\Users\\gifly\\Desktop\\DataScience\\Project\\NoOCR\\valid\\labels... 141 images, 14 backgrounds, 0 corrupt: 100%|██████████| 141/141 [00:00<00:00, 811.67it/s]\n"
     ]
    },
    {
     "name": "stdout",
     "output_type": "stream",
     "text": [
      "\u001b[34m\u001b[1mval: \u001b[0mNew cache created: C:\\Users\\gifly\\Desktop\\DataScience\\Project\\NoOCR\\valid\\labels.cache\n",
      "Plotting labels to runs\\detect\\train\\labels.jpg... \n",
      "\u001b[34m\u001b[1moptimizer:\u001b[0m 'optimizer=auto' found, ignoring 'lr0=0.01' and 'momentum=0.937' and determining best 'optimizer', 'lr0' and 'momentum' automatically... \n",
      "\u001b[34m\u001b[1moptimizer:\u001b[0m AdamW(lr=0.001667, momentum=0.9) with parameter groups 57 weight(decay=0.0), 64 weight(decay=0.0005), 63 bias(decay=0.0)\n",
      "\u001b[34m\u001b[1mTensorBoard: \u001b[0mmodel graph visualization added \n",
      "Image sizes 640 train, 640 val\n",
      "Using 8 dataloader workers\n",
      "Logging results to \u001b[1mruns\\detect\\train\u001b[0m\n",
      "Starting training for 50 epochs...\n",
      "\n",
      "      Epoch    GPU_mem   box_loss   cls_loss   dfl_loss  Instances       Size\n"
     ]
    },
    {
     "name": "stderr",
     "output_type": "stream",
     "text": [
      "       1/50      3.88G     0.6421      2.024       1.17         19        640: 100%|██████████| 31/31 [00:09<00:00,  3.24it/s]\n",
      "                 Class     Images  Instances      Box(P          R      mAP50  mAP50-95): 100%|██████████| 5/5 [00:02<00:00,  2.23it/s]\n"
     ]
    },
    {
     "name": "stdout",
     "output_type": "stream",
     "text": [
      "                   all        141        127    0.00301          1      0.927      0.782\n",
      "\n",
      "      Epoch    GPU_mem   box_loss   cls_loss   dfl_loss  Instances       Size\n"
     ]
    },
    {
     "name": "stderr",
     "output_type": "stream",
     "text": [
      "       2/50      4.12G     0.5871      1.332      1.116         26        640: 100%|██████████| 31/31 [00:08<00:00,  3.47it/s]\n",
      "                 Class     Images  Instances      Box(P          R      mAP50  mAP50-95): 100%|██████████| 5/5 [00:01<00:00,  2.97it/s]"
     ]
    },
    {
     "name": "stdout",
     "output_type": "stream",
     "text": [
      "                   all        141        127      0.913      0.965      0.977      0.882\n"
     ]
    },
    {
     "name": "stderr",
     "output_type": "stream",
     "text": [
      "\n"
     ]
    },
    {
     "name": "stdout",
     "output_type": "stream",
     "text": [
      "\n",
      "      Epoch    GPU_mem   box_loss   cls_loss   dfl_loss  Instances       Size\n"
     ]
    },
    {
     "name": "stderr",
     "output_type": "stream",
     "text": [
      "       3/50      4.13G     0.5978      1.126      1.115         29        640: 100%|██████████| 31/31 [00:09<00:00,  3.43it/s]\n",
      "                 Class     Images  Instances      Box(P          R      mAP50  mAP50-95): 100%|██████████| 5/5 [00:01<00:00,  3.66it/s]"
     ]
    },
    {
     "name": "stdout",
     "output_type": "stream",
     "text": [
      "                   all        141        127      0.902      0.893      0.936      0.734\n"
     ]
    },
    {
     "name": "stderr",
     "output_type": "stream",
     "text": [
      "\n"
     ]
    },
    {
     "name": "stdout",
     "output_type": "stream",
     "text": [
      "\n",
      "      Epoch    GPU_mem   box_loss   cls_loss   dfl_loss  Instances       Size\n"
     ]
    },
    {
     "name": "stderr",
     "output_type": "stream",
     "text": [
      "       4/50      4.15G     0.5847      1.027      1.079         26        640: 100%|██████████| 31/31 [00:09<00:00,  3.38it/s]\n",
      "                 Class     Images  Instances      Box(P          R      mAP50  mAP50-95): 100%|██████████| 5/5 [00:01<00:00,  3.43it/s]"
     ]
    },
    {
     "name": "stdout",
     "output_type": "stream",
     "text": [
      "                   all        141        127      0.821      0.948      0.952      0.845\n"
     ]
    },
    {
     "name": "stderr",
     "output_type": "stream",
     "text": [
      "\n"
     ]
    },
    {
     "name": "stdout",
     "output_type": "stream",
     "text": [
      "\n",
      "      Epoch    GPU_mem   box_loss   cls_loss   dfl_loss  Instances       Size\n"
     ]
    },
    {
     "name": "stderr",
     "output_type": "stream",
     "text": [
      "       5/50      4.17G     0.5703      0.937      1.076         24        640: 100%|██████████| 31/31 [00:09<00:00,  3.33it/s]\n",
      "                 Class     Images  Instances      Box(P          R      mAP50  mAP50-95): 100%|██████████| 5/5 [00:01<00:00,  3.38it/s]"
     ]
    },
    {
     "name": "stdout",
     "output_type": "stream",
     "text": [
      "                   all        141        127      0.927      0.975      0.989      0.823\n"
     ]
    },
    {
     "name": "stderr",
     "output_type": "stream",
     "text": [
      "\n"
     ]
    },
    {
     "name": "stdout",
     "output_type": "stream",
     "text": [
      "\n",
      "      Epoch    GPU_mem   box_loss   cls_loss   dfl_loss  Instances       Size\n"
     ]
    },
    {
     "name": "stderr",
     "output_type": "stream",
     "text": [
      "       6/50      4.18G     0.5434      0.836      1.071         30        640: 100%|██████████| 31/31 [00:09<00:00,  3.25it/s]\n",
      "                 Class     Images  Instances      Box(P          R      mAP50  mAP50-95): 100%|██████████| 5/5 [00:01<00:00,  3.42it/s]"
     ]
    },
    {
     "name": "stdout",
     "output_type": "stream",
     "text": [
      "                   all        141        127      0.716      0.483      0.363      0.301\n"
     ]
    },
    {
     "name": "stderr",
     "output_type": "stream",
     "text": [
      "\n"
     ]
    },
    {
     "name": "stdout",
     "output_type": "stream",
     "text": [
      "\n",
      "      Epoch    GPU_mem   box_loss   cls_loss   dfl_loss  Instances       Size\n"
     ]
    },
    {
     "name": "stderr",
     "output_type": "stream",
     "text": [
      "       7/50       4.2G      0.515     0.7747      1.051         26        640: 100%|██████████| 31/31 [00:09<00:00,  3.30it/s]\n",
      "                 Class     Images  Instances      Box(P          R      mAP50  mAP50-95): 100%|██████████| 5/5 [00:01<00:00,  3.68it/s]"
     ]
    },
    {
     "name": "stdout",
     "output_type": "stream",
     "text": [
      "                   all        141        127      0.606      0.903      0.889      0.802\n",
      "\u001b[34m\u001b[1mEarlyStopping: \u001b[0mTraining stopped early as no improvement observed in last 5 epochs. Best results observed at epoch 2, best model saved as best.pt.\n",
      "To update EarlyStopping(patience=5) pass a new patience value, i.e. `patience=300` or use `patience=0` to disable EarlyStopping.\n"
     ]
    },
    {
     "name": "stderr",
     "output_type": "stream",
     "text": [
      "\n"
     ]
    },
    {
     "name": "stdout",
     "output_type": "stream",
     "text": [
      "\n",
      "7 epochs completed in 0.023 hours.\n",
      "Optimizer stripped from runs\\detect\\train\\weights\\last.pt, 6.2MB\n",
      "Optimizer stripped from runs\\detect\\train\\weights\\best.pt, 6.2MB\n",
      "\n",
      "Validating runs\\detect\\train\\weights\\best.pt...\n",
      "Ultralytics 8.3.108  Python-3.11.2 torch-2.6.0+cu126 CUDA:0 (NVIDIA GeForce GTX 1660 Ti, 6144MiB)\n",
      "Model summary (fused): 72 layers, 3,006,038 parameters, 0 gradients, 8.1 GFLOPs\n"
     ]
    },
    {
     "name": "stderr",
     "output_type": "stream",
     "text": [
      "                 Class     Images  Instances      Box(P          R      mAP50  mAP50-95): 100%|██████████| 5/5 [00:02<00:00,  2.18it/s]\n"
     ]
    },
    {
     "name": "stdout",
     "output_type": "stream",
     "text": [
      "                   all        141        127      0.913      0.965      0.977      0.882\n",
      "          SOBO_WP_4200         60         60      0.886          1      0.976      0.894\n",
      "         YAMANO_LPP_20         67         67       0.94      0.929      0.979      0.871\n",
      "Speed: 1.7ms preprocess, 4.0ms inference, 0.0ms loss, 5.6ms postprocess per image\n",
      "Results saved to \u001b[1mruns\\detect\\train\u001b[0m\n",
      "CSV file initialized at object_counts.csv\n",
      "\n",
      "Processing complete!\n"
     ]
    }
   ],
   "source": [
    "import os\n",
    "import csv\n",
    "from  datetime import datetime\n",
    "from ultralytics import YOLO\n",
    "import cv2\n",
    "import numpy as np\n",
    "\n",
    "def train_model():\n",
    "    # Initialize YOLO model\n",
    "    model= YOLO('yolov8n.pt')\n",
    "    \n",
    "    # Train the model\n",
    "    results = model.train(\n",
    "        data=r'C:\\Users\\gifly\\Desktop\\DataScience\\Project\\NoOCR\\data.yaml',\n",
    "        epochs=50,\n",
    "        batch=16,\n",
    "        imgsz=640,\n",
    "        device=0,\n",
    "        patience=5,\n",
    "    )\n",
    "    \n",
    "    return model\n",
    "\n",
    "def initialize_csv():\n",
    "    # Create or update CSV file with initial counts\n",
    "    csv_path = 'object_counts.csv'\n",
    "    if not os.path.exists(csv_path):\n",
    "        with open(csv_path, 'w', newline='') as file:\n",
    "            writer = csv.writer(file)\n",
    "            writer.writerow(['Object', 'ID', 'NUM'])\n",
    "            writer.writerow(['SOBO_WP_4200', 'WP0010', '0'])\n",
    "            writer.writerow(['YAMANO_LPP_20', 'AP0020', '0'])\n",
    "    return csv_path\n",
    "\n",
    "def update_csv_counts(new_counts):\n",
    "    csv_path = 'object_counts.csv'\n",
    "    \n",
    "    # Check if the CSV file exists\n",
    "    if os.path.exists(csv_path):\n",
    "        # Read the existing CSV file\n",
    "        with open(csv_path, 'r') as file:\n",
    "            reader = csv.DictReader(file)\n",
    "            rows = list(reader)\n",
    "        \n",
    "        # Update the counts\n",
    "        for row in rows:\n",
    "            if row['Object'] == 'SOBO_WP-4200':\n",
    "                row['NUM'] = str(int(row['NUM']) + new_counts['SOBO_WP-4200'])\n",
    "            elif row['Object'] == 'YAMANO_LPP-20':\n",
    "                row['NUM'] = str(int(row['NUM']) + new_counts['YAMANO_LPP-20'])\n",
    "        \n",
    "        # Write the updated counts back to the CSV file\n",
    "        with open(csv_path, 'w', newline='') as file:\n",
    "            writer = csv.DictWriter(file, fieldnames=['Object', 'ID', 'NUM'])\n",
    "            writer.writeheader()\n",
    "            writer.writerows(rows)\n",
    "    else:\n",
    "        # Create a new CSV file if it doesn't exist\n",
    "        with open(csv_path, 'w', newline='') as file:\n",
    "            writer = csv.writer(file)\n",
    "            writer.writerow(['Object', 'ID', 'NUM'])\n",
    "            writer.writerow(['SOBO_WP-4200', 'WP0010', str(new_counts['SOBO_WP-4200'])])\n",
    "            writer.writerow(['YAMANO_LPP-20', 'AP0020', str(new_counts['YAMANO_LPP-20'])])\n",
    "\n",
    "def detect_and_count(model, image_path):\n",
    "    # Read image\n",
    "    image = cv2.imread(image_path)\n",
    "    if image is None:\n",
    "        print(f\"Error: Could not read image {image_path}\")\n",
    "        return None\n",
    "    \n",
    "    # Perform detection\n",
    "    results = model(image)\n",
    "    \n",
    "    # Initialize counts\n",
    "    counts = {'SOBO_WP-4200': 0, 'YAMANO_LPP-20': 0}\n",
    "    \n",
    "    # Process detections\n",
    "    for result in results:\n",
    "        boxes = result.boxes\n",
    "        for box in boxes:\n",
    "            # Get class name\n",
    "            class_id = int(box.cls[0])\n",
    "            class_name = model.names[class_id]\n",
    "            \n",
    "            # Increment count\n",
    "            counts[class_name] += 1\n",
    "            \n",
    "            # Draw bounding box and label\n",
    "            x1, y1, x2, y2 = map(int, box.xyxy[0])\n",
    "            conf = float(box.conf[0])\n",
    "            \n",
    "            # Draw rectangle\n",
    "            cv2.rectangle(image, (x1, y1), (x2, y2), (0, 255, 0), 2)\n",
    "            \n",
    "            # Add label\n",
    "            label = f\"{class_name} {conf:.2f}\"\n",
    "            cv2.putText(image, label, (x1, y1 - 10), \n",
    "                       cv2.FONT_HERSHEY_SIMPLEX, 0.5, (0, 255, 0), 2)\n",
    "    \n",
    "    # Add total counts to image\n",
    "    count_text = f\"SOBO_WP-4200: {counts['SOBO_WP-4200']}, YAMANO_LPP-20: {counts['YAMANO_LPP-20']}\"\n",
    "    cv2.putText(image, count_text, (10, 30), \n",
    "                cv2.FONT_HERSHEY_SIMPLEX, 1, (0, 0, 255), 2)\n",
    "    \n",
    "    # Save annotated image\n",
    "    output_path = f\"detected_{os.path.basename(image_path)}\"\n",
    "    cv2.imwrite(output_path, image)\n",
    "    \n",
    "    return counts\n",
    "\n",
    "def main():\n",
    "    # Step 1: Train the model\n",
    "    print(\"Training model...\")\n",
    "    model = train_model()\n",
    "    \n",
    "    # Step 2: Initialize CSV\n",
    "    csv_path = initialize_csv()\n",
    "    print(f\"CSV file initialized at {csv_path}\")\n",
    "    \n",
    "    # Step 3: Process test images\n",
    "    test_dir = \"test/images\"\n",
    "    if os.path.exists(test_dir):\n",
    "        for image_file in os.listdir(test_dir):\n",
    "            if image_file.lower().endswith(('.png', '.jpg', '.jpeg')):\n",
    "                image_path = os.path.join(test_dir, image_file)\n",
    "                print(f\"\\nProcessing {image_path}\")\n",
    "                \n",
    "                # Detect and count objects\n",
    "                counts = detect_and_count(model, image_path)\n",
    "                if counts:\n",
    "                    # Update CSV with new counts\n",
    "                    update_csv_counts(counts)\n",
    "                    print(f\"Updated counts: SOBO_WP-4200={counts['SOBO_WP-4200']}, YAMANO_LPP-20={counts['YAMANO_LPP-20']}\")\n",
    "    \n",
    "    print(\"\\nProcessing complete!\")\n",
    "\n",
    "\n",
    "if __name__ == \"__main__\":\n",
    "    main()\n"
   ]
  },
  {
   "cell_type": "code",
   "execution_count": 7,
   "metadata": {},
   "outputs": [],
   "source": [
    "# import os\n",
    "# import csv\n",
    "# from datetime import datetime\n",
    "# from ultralytics import YOLO\n",
    "# import cv2\n",
    "# import numpy as np\n",
    "\n",
    "# def train_model():\n",
    "#     # Initialize YOLO model\n",
    "#     model = YOLO('yolov8n.pt')\n",
    "    \n",
    "#     # Train the model\n",
    "#     results = model.train(\n",
    "#         data=r'C:\\Users\\gifly\\Desktop\\DataScience\\Project\\NoOCR\\data.yaml',\n",
    "#         epochs=5,\n",
    "#         batch=16,\n",
    "#         imgsz=640,\n",
    "#         device=0\n",
    "#     )\n",
    "    \n",
    "#     return model\n",
    "\n",
    "# def initialize_csv():\n",
    "#     # Create or update CSV file with initial counts\n",
    "#     csv_path = 'object_counts.csv'\n",
    "#     if not os.path.exists(csv_path):\n",
    "#         with open(csv_path, 'w', newline='') as file:\n",
    "#             writer = csv.writer(file)\n",
    "#             writer.writerow(['Object', 'ID', 'NUM'])\n",
    "#             writer.writerow(['Dryer', 'D0001', '0'])\n",
    "#             writer.writerow(['IRON', 'I0002', '0'])\n",
    "#     return csv_path\n",
    "\n",
    "# def update_csv_counts(counts):\n",
    "#     csv_path = 'object_counts.csv'\n",
    "#     with open(csv_path, 'w', newline='') as file:\n",
    "#         writer = csv.writer(file)\n",
    "#         writer.writerow(['Object', 'ID', 'NUM'])\n",
    "#         writer.writerow(['Dryer', 'D0001', str(counts['Dryer'])])\n",
    "#         writer.writerow(['IRON', 'I0002', str(counts['IRON'])])\n",
    "\n",
    "# def detect_and_count(model, image_path):\n",
    "#     # Read image\n",
    "#     image = cv2.imread(image_path)\n",
    "#     if image is None:\n",
    "#         print(f\"Error: Could not read image {image_path}\")\n",
    "#         return None\n",
    "    \n",
    "#     # Perform detection\n",
    "#     results = model(image)\n",
    "    \n",
    "#     # Initialize counts\n",
    "#     counts = {'Dryer': 0, 'IRON': 0}\n",
    "    \n",
    "#     # Process detections\n",
    "#     for result in results:\n",
    "#         boxes = result.boxes\n",
    "#         for box in boxes:\n",
    "#             # Get class name\n",
    "#             class_id = int(box.cls[0])\n",
    "#             class_name = model.names[class_id]\n",
    "            \n",
    "#             # Increment count\n",
    "#             counts[class_name] += 1\n",
    "            \n",
    "#             # Draw bounding box and label\n",
    "#             x1, y1, x2, y2 = map(int, box.xyxy[0])\n",
    "#             conf = float(box.conf[0])\n",
    "            \n",
    "#             # Draw rectangle\n",
    "#             cv2.rectangle(image, (x1, y1), (x2, y2), (0, 255, 0), 2)\n",
    "            \n",
    "#             # Add label\n",
    "#             label = f\"{class_name} {conf:.2f}\"\n",
    "#             cv2.putText(image, label, (x1, y1 - 10), \n",
    "#                        cv2.FONT_HERSHEY_SIMPLEX, 0.5, (0, 255, 0), 2)\n",
    "    \n",
    "#     # Add total counts to image\n",
    "#     count_text = f\"Dryer: {counts['Dryer']}, IRON: {counts['IRON']}\"\n",
    "#     cv2.putText(image, count_text, (10, 30), \n",
    "#                 cv2.FONT_HERSHEY_SIMPLEX, 1, (0, 0, 255), 2)\n",
    "    \n",
    "#     # Save annotated image\n",
    "#     output_path = f\"detected_{os.path.basename(image_path)}\"\n",
    "#     cv2.imwrite(output_path, image)\n",
    "    \n",
    "#     return counts\n",
    "\n",
    "# def main():\n",
    "#     # Step 1: Train the model\n",
    "#     print(\"Training model...\")\n",
    "#     model = train_model()\n",
    "    \n",
    "#     # Step 2: Initialize CSV\n",
    "#     csv_path = initialize_csv()\n",
    "#     print(f\"CSV file initialized at {csv_path}\")\n",
    "    \n",
    "#     # Step 3: Process test images\n",
    "#     test_dir = \"test/images\"\n",
    "#     if os.path.exists(test_dir):\n",
    "#         for image_file in os.listdir(test_dir):\n",
    "#             if image_file.lower().endswith(('.png', '.jpg', '.jpeg')):\n",
    "#                 image_path = os.path.join(test_dir, image_file)\n",
    "#                 print(f\"\\nProcessing {image_path}\")\n",
    "                \n",
    "#                 # Detect and count objects\n",
    "#                 counts = detect_and_count(model, image_path)\n",
    "#                 if counts:\n",
    "#                     # Update CSV with new counts\n",
    "#                     update_csv_counts(counts)\n",
    "#                     print(f\"Updated counts: Dryer={counts['Dryer']}, IRON={counts['IRON']}\")\n",
    "    \n",
    "#     print(\"\\nProcessing complete!\")\n",
    "\n",
    "# if __name__ == \"__main__\":\n",
    "#     main()"
   ]
  }
 ],
 "metadata": {
  "kernelspec": {
   "display_name": "Python 3",
   "language": "python",
   "name": "python3"
  },
  "language_info": {
   "codemirror_mode": {
    "name": "ipython",
    "version": 3
   },
   "file_extension": ".py",
   "mimetype": "text/x-python",
   "name": "python",
   "nbconvert_exporter": "python",
   "pygments_lexer": "ipython3",
   "version": "3.11.2"
  }
 },
 "nbformat": 4,
 "nbformat_minor": 2
}
