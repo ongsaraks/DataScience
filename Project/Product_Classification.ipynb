{
 "cells": [
  {
   "cell_type": "code",
   "execution_count": 1,
   "metadata": {},
   "outputs": [],
   "source": [
    "# from roboflow import Roboflow\n",
    "# rf = Roboflow(api_key=\"T7uEFXRKxnlKwmjBGbBD\")\n",
    "# project = rf.workspace(\"ongsa-23tub\").project(\"noocr\")\n",
    "# version = project.version(3)\n",
    "# dataset = version.download(\"yolov8\")\n",
    "                "
   ]
  },
  {
   "cell_type": "code",
   "execution_count": 2,
   "metadata": {},
   "outputs": [],
   "source": [
    "# !nvidia-smi"
   ]
  },
  {
   "cell_type": "code",
   "execution_count": 3,
   "metadata": {},
   "outputs": [],
   "source": [
    "# def initialize_csv():\n",
    "#     # Create or update CSV file with initial counts\n",
    "#     csv_path = 'object_counts.csv'\n",
    "#     if not os.path.exists(csv_path):\n",
    "#         with open(csv_path, 'w', newline='') as file:\n",
    "#             writer = csv.writer(file)\n",
    "#             writer.writerow(['Object', 'ID', 'NUM'])\n",
    "#             writer.writerow(['SOBO_WP_4200', 'WP0010', '0'])\n",
    "#             writer.writerow(['YAMANO_LPP_20', 'AP0020', '0'])\n",
    "#     return csv_path\n",
    "# initialize_csv()"
   ]
  },
  {
   "cell_type": "code",
   "execution_count": 4,
   "metadata": {},
   "outputs": [
    {
     "name": "stdout",
     "output_type": "stream",
     "text": [
      "Training model...\n",
      "New https://pypi.org/project/ultralytics/8.3.111 available  Update with 'pip install -U ultralytics'\n",
      "Ultralytics 8.3.108  Python-3.11.2 torch-2.6.0+cu126 CUDA:0 (NVIDIA GeForce GTX 1660 Ti, 6144MiB)\n",
      "\u001b[34m\u001b[1mengine\\trainer: \u001b[0mtask=detect, mode=train, model=yolov8n.pt, data=C:\\Users\\gifly\\Desktop\\DataScience\\Project\\NoOCR-3\\data.yaml, epochs=50, time=None, patience=5, batch=8, imgsz=512, save=True, save_period=-1, cache=False, device=0, workers=8, project=None, name=train5, exist_ok=False, pretrained=True, optimizer=auto, verbose=True, seed=0, deterministic=True, single_cls=False, rect=False, cos_lr=False, close_mosaic=10, resume=False, amp=True, fraction=1.0, profile=False, freeze=None, multi_scale=False, overlap_mask=True, mask_ratio=4, dropout=0.0, val=True, split=val, save_json=False, conf=None, iou=0.7, max_det=300, half=False, dnn=False, plots=True, source=None, vid_stride=1, stream_buffer=False, visualize=False, augment=False, agnostic_nms=False, classes=None, retina_masks=False, embed=None, show=False, save_frames=False, save_txt=False, save_conf=False, save_crop=False, show_labels=True, show_conf=True, show_boxes=True, line_width=None, format=torchscript, keras=False, optimize=False, int8=False, dynamic=False, simplify=True, opset=None, workspace=None, nms=False, lr0=0.01, lrf=0.01, momentum=0.937, weight_decay=0.0005, warmup_epochs=3.0, warmup_momentum=0.8, warmup_bias_lr=0.1, box=7.5, cls=0.5, dfl=1.5, pose=12.0, kobj=1.0, nbs=64, hsv_h=0.015, hsv_s=0.7, hsv_v=0.4, degrees=0.0, translate=0.1, scale=0.5, shear=0.0, perspective=0.0, flipud=0.0, fliplr=0.5, bgr=0.0, mosaic=1.0, mixup=0.0, copy_paste=0.0, copy_paste_mode=flip, auto_augment=randaugment, erasing=0.4, cfg=None, tracker=botsort.yaml, save_dir=runs\\detect\\train5\n",
      "Overriding model.yaml nc=80 with nc=2\n",
      "\n",
      "                   from  n    params  module                                       arguments                     \n",
      "  0                  -1  1       464  ultralytics.nn.modules.conv.Conv             [3, 16, 3, 2]                 \n",
      "  1                  -1  1      4672  ultralytics.nn.modules.conv.Conv             [16, 32, 3, 2]                \n",
      "  2                  -1  1      7360  ultralytics.nn.modules.block.C2f             [32, 32, 1, True]             \n",
      "  3                  -1  1     18560  ultralytics.nn.modules.conv.Conv             [32, 64, 3, 2]                \n",
      "  4                  -1  2     49664  ultralytics.nn.modules.block.C2f             [64, 64, 2, True]             \n",
      "  5                  -1  1     73984  ultralytics.nn.modules.conv.Conv             [64, 128, 3, 2]               \n",
      "  6                  -1  2    197632  ultralytics.nn.modules.block.C2f             [128, 128, 2, True]           \n",
      "  7                  -1  1    295424  ultralytics.nn.modules.conv.Conv             [128, 256, 3, 2]              \n",
      "  8                  -1  1    460288  ultralytics.nn.modules.block.C2f             [256, 256, 1, True]           \n",
      "  9                  -1  1    164608  ultralytics.nn.modules.block.SPPF            [256, 256, 5]                 \n",
      " 10                  -1  1         0  torch.nn.modules.upsampling.Upsample         [None, 2, 'nearest']          \n",
      " 11             [-1, 6]  1         0  ultralytics.nn.modules.conv.Concat           [1]                           \n",
      " 12                  -1  1    148224  ultralytics.nn.modules.block.C2f             [384, 128, 1]                 \n",
      " 13                  -1  1         0  torch.nn.modules.upsampling.Upsample         [None, 2, 'nearest']          \n",
      " 14             [-1, 4]  1         0  ultralytics.nn.modules.conv.Concat           [1]                           \n",
      " 15                  -1  1     37248  ultralytics.nn.modules.block.C2f             [192, 64, 1]                  \n",
      " 16                  -1  1     36992  ultralytics.nn.modules.conv.Conv             [64, 64, 3, 2]                \n",
      " 17            [-1, 12]  1         0  ultralytics.nn.modules.conv.Concat           [1]                           \n",
      " 18                  -1  1    123648  ultralytics.nn.modules.block.C2f             [192, 128, 1]                 \n",
      " 19                  -1  1    147712  ultralytics.nn.modules.conv.Conv             [128, 128, 3, 2]              \n",
      " 20             [-1, 9]  1         0  ultralytics.nn.modules.conv.Concat           [1]                           \n",
      " 21                  -1  1    493056  ultralytics.nn.modules.block.C2f             [384, 256, 1]                 \n",
      " 22        [15, 18, 21]  1    751702  ultralytics.nn.modules.head.Detect           [2, [64, 128, 256]]           \n",
      "Model summary: 129 layers, 3,011,238 parameters, 3,011,222 gradients, 8.2 GFLOPs\n",
      "\n",
      "Transferred 319/355 items from pretrained weights\n",
      "\u001b[34m\u001b[1mTensorBoard: \u001b[0mStart with 'tensorboard --logdir runs\\detect\\train5', view at http://localhost:6006/\n",
      "Freezing layer 'model.22.dfl.conv.weight'\n",
      "\u001b[34m\u001b[1mAMP: \u001b[0mchecks failed . AMP training on NVIDIA GeForce GTX 1660 Ti GPU may cause NaN losses or zero-mAP results, so AMP will be disabled during training.\n"
     ]
    },
    {
     "name": "stderr",
     "output_type": "stream",
     "text": [
      "\u001b[34m\u001b[1mtrain: \u001b[0mScanning C:\\Users\\gifly\\Desktop\\DataScience\\Project\\NoOCR-3\\train\\labels.cache... 1500 images, 164 backgrounds, 0 corrupt: 100%|██████████| 1500/1500 [00:00<?, ?it/s]\n",
      "\u001b[34m\u001b[1mval: \u001b[0mScanning C:\\Users\\gifly\\Desktop\\DataScience\\Project\\NoOCR-3\\valid\\labels.cache... 221 images, 15 backgrounds, 0 corrupt: 100%|██████████| 221/221 [00:00<?, ?it/s]\n"
     ]
    },
    {
     "name": "stdout",
     "output_type": "stream",
     "text": [
      "Plotting labels to runs\\detect\\train5\\labels.jpg... \n",
      "\u001b[34m\u001b[1moptimizer:\u001b[0m 'optimizer=auto' found, ignoring 'lr0=0.01' and 'momentum=0.937' and determining best 'optimizer', 'lr0' and 'momentum' automatically... \n",
      "\u001b[34m\u001b[1moptimizer:\u001b[0m AdamW(lr=0.001667, momentum=0.9) with parameter groups 57 weight(decay=0.0), 64 weight(decay=0.0005), 63 bias(decay=0.0)\n",
      "\u001b[34m\u001b[1mTensorBoard: \u001b[0mmodel graph visualization added \n",
      "Image sizes 512 train, 512 val\n",
      "Using 8 dataloader workers\n",
      "Logging results to \u001b[1mruns\\detect\\train5\u001b[0m\n",
      "Starting training for 50 epochs...\n",
      "\n",
      "      Epoch    GPU_mem   box_loss   cls_loss   dfl_loss  Instances       Size\n"
     ]
    },
    {
     "name": "stderr",
     "output_type": "stream",
     "text": [
      "       1/50      2.28G     0.9957      1.589       1.18         11        512: 100%|██████████| 188/188 [00:23<00:00,  7.90it/s]\n",
      "                 Class     Images  Instances      Box(P          R      mAP50  mAP50-95): 100%|██████████| 14/14 [00:05<00:00,  2.70it/s]"
     ]
    },
    {
     "name": "stdout",
     "output_type": "stream",
     "text": [
      "                   all        221        422      0.898      0.902      0.966      0.637\n"
     ]
    },
    {
     "name": "stderr",
     "output_type": "stream",
     "text": [
      "\n"
     ]
    },
    {
     "name": "stdout",
     "output_type": "stream",
     "text": [
      "\n",
      "      Epoch    GPU_mem   box_loss   cls_loss   dfl_loss  Instances       Size\n"
     ]
    },
    {
     "name": "stderr",
     "output_type": "stream",
     "text": [
      "       2/50       2.3G     0.9663     0.9863       1.14         14        512: 100%|██████████| 188/188 [00:22<00:00,  8.22it/s]\n",
      "                 Class     Images  Instances      Box(P          R      mAP50  mAP50-95): 100%|██████████| 14/14 [00:01<00:00,  7.76it/s]"
     ]
    },
    {
     "name": "stdout",
     "output_type": "stream",
     "text": [
      "                   all        221        422       0.89      0.987      0.959      0.646\n"
     ]
    },
    {
     "name": "stderr",
     "output_type": "stream",
     "text": [
      "\n"
     ]
    },
    {
     "name": "stdout",
     "output_type": "stream",
     "text": [
      "\n",
      "      Epoch    GPU_mem   box_loss   cls_loss   dfl_loss  Instances       Size\n"
     ]
    },
    {
     "name": "stderr",
     "output_type": "stream",
     "text": [
      "       3/50       2.3G     0.9728     0.8915      1.141         10        512: 100%|██████████| 188/188 [00:23<00:00,  8.08it/s]\n",
      "                 Class     Images  Instances      Box(P          R      mAP50  mAP50-95): 100%|██████████| 14/14 [00:01<00:00,  7.84it/s]"
     ]
    },
    {
     "name": "stdout",
     "output_type": "stream",
     "text": [
      "                   all        221        422      0.964      0.982      0.973      0.714\n"
     ]
    },
    {
     "name": "stderr",
     "output_type": "stream",
     "text": [
      "\n"
     ]
    },
    {
     "name": "stdout",
     "output_type": "stream",
     "text": [
      "\n",
      "      Epoch    GPU_mem   box_loss   cls_loss   dfl_loss  Instances       Size\n"
     ]
    },
    {
     "name": "stderr",
     "output_type": "stream",
     "text": [
      "       4/50       2.3G     0.9592     0.7832      1.128         24        512: 100%|██████████| 188/188 [00:23<00:00,  8.04it/s]\n",
      "                 Class     Images  Instances      Box(P          R      mAP50  mAP50-95): 100%|██████████| 14/14 [00:01<00:00,  8.16it/s]"
     ]
    },
    {
     "name": "stdout",
     "output_type": "stream",
     "text": [
      "                   all        221        422      0.959      0.992      0.982      0.735\n"
     ]
    },
    {
     "name": "stderr",
     "output_type": "stream",
     "text": [
      "\n"
     ]
    },
    {
     "name": "stdout",
     "output_type": "stream",
     "text": [
      "\n",
      "      Epoch    GPU_mem   box_loss   cls_loss   dfl_loss  Instances       Size\n"
     ]
    },
    {
     "name": "stderr",
     "output_type": "stream",
     "text": [
      "       5/50       2.3G     0.9159     0.7054      1.106         10        512: 100%|██████████| 188/188 [00:24<00:00,  7.65it/s]\n",
      "                 Class     Images  Instances      Box(P          R      mAP50  mAP50-95): 100%|██████████| 14/14 [00:01<00:00,  7.31it/s]"
     ]
    },
    {
     "name": "stdout",
     "output_type": "stream",
     "text": [
      "                   all        221        422      0.952      0.993      0.972      0.754\n"
     ]
    },
    {
     "name": "stderr",
     "output_type": "stream",
     "text": [
      "\n"
     ]
    },
    {
     "name": "stdout",
     "output_type": "stream",
     "text": [
      "\n",
      "      Epoch    GPU_mem   box_loss   cls_loss   dfl_loss  Instances       Size\n"
     ]
    },
    {
     "name": "stderr",
     "output_type": "stream",
     "text": [
      "       6/50       2.3G     0.9193     0.6755      1.104         15        512: 100%|██████████| 188/188 [00:24<00:00,  7.81it/s]\n",
      "                 Class     Images  Instances      Box(P          R      mAP50  mAP50-95): 100%|██████████| 14/14 [00:01<00:00,  7.46it/s]"
     ]
    },
    {
     "name": "stdout",
     "output_type": "stream",
     "text": [
      "                   all        221        422      0.957      0.995      0.984      0.743\n"
     ]
    },
    {
     "name": "stderr",
     "output_type": "stream",
     "text": [
      "\n"
     ]
    },
    {
     "name": "stdout",
     "output_type": "stream",
     "text": [
      "\n",
      "      Epoch    GPU_mem   box_loss   cls_loss   dfl_loss  Instances       Size\n"
     ]
    },
    {
     "name": "stderr",
     "output_type": "stream",
     "text": [
      "       7/50       2.3G     0.8986     0.6311      1.102         19        512: 100%|██████████| 188/188 [00:24<00:00,  7.74it/s]\n",
      "                 Class     Images  Instances      Box(P          R      mAP50  mAP50-95): 100%|██████████| 14/14 [00:01<00:00,  8.01it/s]"
     ]
    },
    {
     "name": "stdout",
     "output_type": "stream",
     "text": [
      "                   all        221        422      0.967      0.994      0.984      0.745\n"
     ]
    },
    {
     "name": "stderr",
     "output_type": "stream",
     "text": [
      "\n"
     ]
    },
    {
     "name": "stdout",
     "output_type": "stream",
     "text": [
      "\n",
      "      Epoch    GPU_mem   box_loss   cls_loss   dfl_loss  Instances       Size\n"
     ]
    },
    {
     "name": "stderr",
     "output_type": "stream",
     "text": [
      "       8/50       2.3G     0.8956     0.6204      1.091         14        512: 100%|██████████| 188/188 [00:24<00:00,  7.72it/s]\n",
      "                 Class     Images  Instances      Box(P          R      mAP50  mAP50-95): 100%|██████████| 14/14 [00:02<00:00,  6.74it/s]"
     ]
    },
    {
     "name": "stdout",
     "output_type": "stream",
     "text": [
      "                   all        221        422       0.97      0.998       0.99      0.751\n"
     ]
    },
    {
     "name": "stderr",
     "output_type": "stream",
     "text": [
      "\n"
     ]
    },
    {
     "name": "stdout",
     "output_type": "stream",
     "text": [
      "\n",
      "      Epoch    GPU_mem   box_loss   cls_loss   dfl_loss  Instances       Size\n"
     ]
    },
    {
     "name": "stderr",
     "output_type": "stream",
     "text": [
      "       9/50      2.32G     0.8652     0.5985      1.088         16        512: 100%|██████████| 188/188 [00:25<00:00,  7.51it/s]\n",
      "                 Class     Images  Instances      Box(P          R      mAP50  mAP50-95): 100%|██████████| 14/14 [00:01<00:00,  7.70it/s]"
     ]
    },
    {
     "name": "stdout",
     "output_type": "stream",
     "text": [
      "                   all        221        422      0.967          1       0.98      0.783\n"
     ]
    },
    {
     "name": "stderr",
     "output_type": "stream",
     "text": [
      "\n"
     ]
    },
    {
     "name": "stdout",
     "output_type": "stream",
     "text": [
      "\n",
      "      Epoch    GPU_mem   box_loss   cls_loss   dfl_loss  Instances       Size\n"
     ]
    },
    {
     "name": "stderr",
     "output_type": "stream",
     "text": [
      "      10/50      2.34G     0.8552     0.5804       1.08         10        512: 100%|██████████| 188/188 [00:24<00:00,  7.68it/s]\n",
      "                 Class     Images  Instances      Box(P          R      mAP50  mAP50-95): 100%|██████████| 14/14 [00:01<00:00,  7.81it/s]"
     ]
    },
    {
     "name": "stdout",
     "output_type": "stream",
     "text": [
      "                   all        221        422      0.965       0.99      0.982      0.774\n"
     ]
    },
    {
     "name": "stderr",
     "output_type": "stream",
     "text": [
      "\n"
     ]
    },
    {
     "name": "stdout",
     "output_type": "stream",
     "text": [
      "\n",
      "      Epoch    GPU_mem   box_loss   cls_loss   dfl_loss  Instances       Size\n"
     ]
    },
    {
     "name": "stderr",
     "output_type": "stream",
     "text": [
      "      11/50      2.34G     0.8562      0.556      1.072         26        512: 100%|██████████| 188/188 [00:24<00:00,  7.64it/s]\n",
      "                 Class     Images  Instances      Box(P          R      mAP50  mAP50-95): 100%|██████████| 14/14 [00:01<00:00,  7.98it/s]"
     ]
    },
    {
     "name": "stdout",
     "output_type": "stream",
     "text": [
      "                   all        221        422      0.971      0.998      0.986      0.794\n"
     ]
    },
    {
     "name": "stderr",
     "output_type": "stream",
     "text": [
      "\n"
     ]
    },
    {
     "name": "stdout",
     "output_type": "stream",
     "text": [
      "\n",
      "      Epoch    GPU_mem   box_loss   cls_loss   dfl_loss  Instances       Size\n"
     ]
    },
    {
     "name": "stderr",
     "output_type": "stream",
     "text": [
      "      12/50      2.36G     0.8298     0.5423      1.068         10        512: 100%|██████████| 188/188 [00:24<00:00,  7.61it/s]\n",
      "                 Class     Images  Instances      Box(P          R      mAP50  mAP50-95): 100%|██████████| 14/14 [00:01<00:00,  7.52it/s]"
     ]
    },
    {
     "name": "stdout",
     "output_type": "stream",
     "text": [
      "                   all        221        422       0.97          1      0.982        0.8\n"
     ]
    },
    {
     "name": "stderr",
     "output_type": "stream",
     "text": [
      "\n"
     ]
    },
    {
     "name": "stdout",
     "output_type": "stream",
     "text": [
      "\n",
      "      Epoch    GPU_mem   box_loss   cls_loss   dfl_loss  Instances       Size\n"
     ]
    },
    {
     "name": "stderr",
     "output_type": "stream",
     "text": [
      "      13/50      2.37G     0.8348     0.5313       1.07          5        512: 100%|██████████| 188/188 [00:24<00:00,  7.58it/s]\n",
      "                 Class     Images  Instances      Box(P          R      mAP50  mAP50-95): 100%|██████████| 14/14 [00:01<00:00,  7.05it/s]"
     ]
    },
    {
     "name": "stdout",
     "output_type": "stream",
     "text": [
      "                   all        221        422      0.967          1      0.978      0.777\n"
     ]
    },
    {
     "name": "stderr",
     "output_type": "stream",
     "text": [
      "\n"
     ]
    },
    {
     "name": "stdout",
     "output_type": "stream",
     "text": [
      "\n",
      "      Epoch    GPU_mem   box_loss   cls_loss   dfl_loss  Instances       Size\n"
     ]
    },
    {
     "name": "stderr",
     "output_type": "stream",
     "text": [
      "      14/50      2.37G      0.812     0.5293      1.065          9        512: 100%|██████████| 188/188 [00:24<00:00,  7.58it/s]\n",
      "                 Class     Images  Instances      Box(P          R      mAP50  mAP50-95): 100%|██████████| 14/14 [00:01<00:00,  7.27it/s]"
     ]
    },
    {
     "name": "stdout",
     "output_type": "stream",
     "text": [
      "                   all        221        422       0.97      0.995      0.978      0.784\n"
     ]
    },
    {
     "name": "stderr",
     "output_type": "stream",
     "text": [
      "\n"
     ]
    },
    {
     "name": "stdout",
     "output_type": "stream",
     "text": [
      "\n",
      "      Epoch    GPU_mem   box_loss   cls_loss   dfl_loss  Instances       Size\n"
     ]
    },
    {
     "name": "stderr",
     "output_type": "stream",
     "text": [
      "      15/50      2.37G     0.8136     0.5081      1.052         19        512: 100%|██████████| 188/188 [00:25<00:00,  7.47it/s]\n",
      "                 Class     Images  Instances      Box(P          R      mAP50  mAP50-95): 100%|██████████| 14/14 [00:01<00:00,  7.77it/s]"
     ]
    },
    {
     "name": "stdout",
     "output_type": "stream",
     "text": [
      "                   all        221        422      0.968          1      0.976      0.799\n"
     ]
    },
    {
     "name": "stderr",
     "output_type": "stream",
     "text": [
      "\n"
     ]
    },
    {
     "name": "stdout",
     "output_type": "stream",
     "text": [
      "\n",
      "      Epoch    GPU_mem   box_loss   cls_loss   dfl_loss  Instances       Size\n"
     ]
    },
    {
     "name": "stderr",
     "output_type": "stream",
     "text": [
      "      16/50      2.39G     0.7989     0.5049      1.051         19        512: 100%|██████████| 188/188 [00:24<00:00,  7.55it/s]\n",
      "                 Class     Images  Instances      Box(P          R      mAP50  mAP50-95): 100%|██████████| 14/14 [00:02<00:00,  6.29it/s]"
     ]
    },
    {
     "name": "stdout",
     "output_type": "stream",
     "text": [
      "                   all        221        422      0.975      0.995      0.989      0.816\n"
     ]
    },
    {
     "name": "stderr",
     "output_type": "stream",
     "text": [
      "\n"
     ]
    },
    {
     "name": "stdout",
     "output_type": "stream",
     "text": [
      "\n",
      "      Epoch    GPU_mem   box_loss   cls_loss   dfl_loss  Instances       Size\n"
     ]
    },
    {
     "name": "stderr",
     "output_type": "stream",
     "text": [
      "      17/50       2.4G     0.7915     0.4959      1.052          9        512: 100%|██████████| 188/188 [00:25<00:00,  7.28it/s]\n",
      "                 Class     Images  Instances      Box(P          R      mAP50  mAP50-95): 100%|██████████| 14/14 [00:01<00:00,  7.00it/s]"
     ]
    },
    {
     "name": "stdout",
     "output_type": "stream",
     "text": [
      "                   all        221        422       0.97      0.997      0.988      0.796\n"
     ]
    },
    {
     "name": "stderr",
     "output_type": "stream",
     "text": [
      "\n"
     ]
    },
    {
     "name": "stdout",
     "output_type": "stream",
     "text": [
      "\n",
      "      Epoch    GPU_mem   box_loss   cls_loss   dfl_loss  Instances       Size\n"
     ]
    },
    {
     "name": "stderr",
     "output_type": "stream",
     "text": [
      "      18/50      2.42G     0.7908     0.4942      1.049         15        512: 100%|██████████| 188/188 [00:24<00:00,  7.70it/s]\n",
      "                 Class     Images  Instances      Box(P          R      mAP50  mAP50-95): 100%|██████████| 14/14 [00:01<00:00,  8.05it/s]"
     ]
    },
    {
     "name": "stdout",
     "output_type": "stream",
     "text": [
      "                   all        221        422      0.972      0.998      0.988      0.802\n"
     ]
    },
    {
     "name": "stderr",
     "output_type": "stream",
     "text": [
      "\n"
     ]
    },
    {
     "name": "stdout",
     "output_type": "stream",
     "text": [
      "\n",
      "      Epoch    GPU_mem   box_loss   cls_loss   dfl_loss  Instances       Size\n"
     ]
    },
    {
     "name": "stderr",
     "output_type": "stream",
     "text": [
      "      19/50      2.42G     0.7882     0.4767      1.047          5        512: 100%|██████████| 188/188 [00:24<00:00,  7.62it/s]\n",
      "                 Class     Images  Instances      Box(P          R      mAP50  mAP50-95): 100%|██████████| 14/14 [00:01<00:00,  7.09it/s]"
     ]
    },
    {
     "name": "stdout",
     "output_type": "stream",
     "text": [
      "                   all        221        422       0.97      0.996      0.987      0.801\n"
     ]
    },
    {
     "name": "stderr",
     "output_type": "stream",
     "text": [
      "\n"
     ]
    },
    {
     "name": "stdout",
     "output_type": "stream",
     "text": [
      "\n",
      "      Epoch    GPU_mem   box_loss   cls_loss   dfl_loss  Instances       Size\n"
     ]
    },
    {
     "name": "stderr",
     "output_type": "stream",
     "text": [
      "      20/50      2.42G     0.7774     0.4818      1.049         15        512: 100%|██████████| 188/188 [00:25<00:00,  7.40it/s]\n",
      "                 Class     Images  Instances      Box(P          R      mAP50  mAP50-95): 100%|██████████| 14/14 [00:01<00:00,  7.74it/s]"
     ]
    },
    {
     "name": "stdout",
     "output_type": "stream",
     "text": [
      "                   all        221        422      0.968       0.99      0.985      0.811\n"
     ]
    },
    {
     "name": "stderr",
     "output_type": "stream",
     "text": [
      "\n"
     ]
    },
    {
     "name": "stdout",
     "output_type": "stream",
     "text": [
      "\n",
      "      Epoch    GPU_mem   box_loss   cls_loss   dfl_loss  Instances       Size\n"
     ]
    },
    {
     "name": "stderr",
     "output_type": "stream",
     "text": [
      "      21/50      2.42G     0.7651     0.4597       1.04          9        512: 100%|██████████| 188/188 [00:25<00:00,  7.34it/s]\n",
      "                 Class     Images  Instances      Box(P          R      mAP50  mAP50-95): 100%|██████████| 14/14 [00:01<00:00,  7.70it/s]"
     ]
    },
    {
     "name": "stdout",
     "output_type": "stream",
     "text": [
      "                   all        221        422       0.97      0.998      0.984      0.814\n",
      "\u001b[34m\u001b[1mEarlyStopping: \u001b[0mTraining stopped early as no improvement observed in last 5 epochs. Best results observed at epoch 16, best model saved as best.pt.\n",
      "To update EarlyStopping(patience=5) pass a new patience value, i.e. `patience=300` or use `patience=0` to disable EarlyStopping.\n"
     ]
    },
    {
     "name": "stderr",
     "output_type": "stream",
     "text": [
      "\n"
     ]
    },
    {
     "name": "stdout",
     "output_type": "stream",
     "text": [
      "\n",
      "21 epochs completed in 0.158 hours.\n",
      "Optimizer stripped from runs\\detect\\train5\\weights\\last.pt, 6.2MB\n",
      "Optimizer stripped from runs\\detect\\train5\\weights\\best.pt, 6.2MB\n",
      "\n",
      "Validating runs\\detect\\train5\\weights\\best.pt...\n",
      "Ultralytics 8.3.108  Python-3.11.2 torch-2.6.0+cu126 CUDA:0 (NVIDIA GeForce GTX 1660 Ti, 6144MiB)\n",
      "Model summary (fused): 72 layers, 3,006,038 parameters, 0 gradients, 8.1 GFLOPs\n"
     ]
    },
    {
     "name": "stderr",
     "output_type": "stream",
     "text": [
      "                 Class     Images  Instances      Box(P          R      mAP50  mAP50-95): 100%|██████████| 14/14 [00:02<00:00,  6.01it/s]\n"
     ]
    },
    {
     "name": "stdout",
     "output_type": "stream",
     "text": [
      "                   all        221        422      0.975      0.995      0.989      0.816\n",
      "          SOBO_WP_4200        132        204      0.975          1      0.991       0.79\n",
      "         YAMANO_LPP_20        146        218      0.975      0.991      0.987      0.841\n",
      "Speed: 0.2ms preprocess, 2.8ms inference, 0.0ms loss, 1.7ms postprocess per image\n",
      "Results saved to \u001b[1mruns\\detect\\train5\u001b[0m\n",
      "CSV file initialized at object_counts.csv\n",
      "\n",
      "Processing complete!\n"
     ]
    }
   ],
   "source": [
    "import os\n",
    "import csv\n",
    "from  datetime import datetime\n",
    "from ultralytics import YOLO\n",
    "import cv2\n",
    "import numpy as np\n",
    "\n",
    "def train_model():\n",
    "    # Initialize YOLO model\n",
    "    model= YOLO('yolov8n.pt')\n",
    "    \n",
    "    # Train the model\n",
    "    results = model.train(\n",
    "        data=r'C:\\Users\\gifly\\Desktop\\DataScience\\Project\\NoOCR-3\\data.yaml',\n",
    "        epochs=50,\n",
    "        batch=8,\n",
    "        imgsz=512,\n",
    "        device=0,\n",
    "        patience=5,\n",
    "    )\n",
    "    \n",
    "    return model\n",
    "\n",
    "def initialize_csv():\n",
    "    # Create or update CSV file with initial counts\n",
    "    csv_path = 'object_counts.csv'\n",
    "    if not os.path.exists(csv_path):\n",
    "        with open(csv_path, 'w', newline='') as file:\n",
    "            writer = csv.writer(file)\n",
    "            writer.writerow(['Object', 'ID', 'NUM'])\n",
    "            writer.writerow(['SOBO_WP_4200', 'WP0010', '0'])\n",
    "            writer.writerow(['YAMANO_LPP_20', 'AP0020', '0'])\n",
    "    return csv_path\n",
    "\n",
    "def update_csv_counts(new_counts):\n",
    "    csv_path = 'object_counts.csv'\n",
    "    \n",
    "    # Check if the CSV file exists\n",
    "    if os.path.exists(csv_path):\n",
    "        # Read the existing CSV file\n",
    "        with open(csv_path, 'r') as file:\n",
    "            reader = csv.DictReader(file)\n",
    "            rows = list(reader)\n",
    "        \n",
    "        # Update the counts\n",
    "        for row in rows:\n",
    "            if row['Object'] == 'SOBO_WP-4200':\n",
    "                row['NUM'] = str(int(row['NUM']) + new_counts['SOBO_WP-4200'])\n",
    "            elif row['Object'] == 'YAMANO_LPP-20':\n",
    "                row['NUM'] = str(int(row['NUM']) + new_counts['YAMANO_LPP-20'])\n",
    "        \n",
    "        # Write the updated counts back to the CSV file\n",
    "        with open(csv_path, 'w', newline='') as file:\n",
    "            writer = csv.DictWriter(file, fieldnames=['Object', 'ID', 'NUM'])\n",
    "            writer.writeheader()\n",
    "            writer.writerows(rows)\n",
    "    else:\n",
    "        # Create a new CSV file if it doesn't exist\n",
    "        with open(csv_path, 'w', newline='') as file:\n",
    "            writer = csv.writer(file)\n",
    "            writer.writerow(['Object', 'ID', 'NUM'])\n",
    "            writer.writerow(['SOBO_WP-4200', 'WP0010', str(new_counts['SOBO_WP-4200'])])\n",
    "            writer.writerow(['YAMANO_LPP-20', 'AP0020', str(new_counts['YAMANO_LPP-20'])])\n",
    "\n",
    "def detect_and_count(model, image_path):\n",
    "    # Read image\n",
    "    image = cv2.imread(image_path)\n",
    "    if image is None:\n",
    "        print(f\"Error: Could not read image {image_path}\")\n",
    "        return None\n",
    "    \n",
    "    # Perform detection\n",
    "    results = model(image)\n",
    "    \n",
    "    # Initialize counts\n",
    "    counts = {'SOBO_WP-4200': 0, 'YAMANO_LPP-20': 0}\n",
    "    \n",
    "    # Process detections\n",
    "    for result in results:\n",
    "        boxes = result.boxes\n",
    "        for box in boxes:\n",
    "            # Get class name\n",
    "            class_id = int(box.cls[0])\n",
    "            class_name = model.names[class_id]\n",
    "            \n",
    "            # Increment count\n",
    "            counts[class_name] += 1\n",
    "            \n",
    "            # Draw bounding box and label\n",
    "            x1, y1, x2, y2 = map(int, box.xyxy[0])\n",
    "            conf = float(box.conf[0])\n",
    "            \n",
    "            # Draw rectangle\n",
    "            cv2.rectangle(image, (x1, y1), (x2, y2), (0, 255, 0), 2)\n",
    "            \n",
    "            # Add label\n",
    "            label = f\"{class_name} {conf:.2f}\"\n",
    "            cv2.putText(image, label, (x1, y1 - 10), \n",
    "                       cv2.FONT_HERSHEY_SIMPLEX, 0.5, (0, 255, 0), 2)\n",
    "    \n",
    "    # Add total counts to image\n",
    "    count_text = f\"SOBO_WP-4200: {counts['SOBO_WP-4200']}, YAMANO_LPP-20: {counts['YAMANO_LPP-20']}\"\n",
    "    cv2.putText(image, count_text, (10, 30), \n",
    "                cv2.FONT_HERSHEY_SIMPLEX, 1, (0, 0, 255), 2)\n",
    "    \n",
    "    # Save annotated image\n",
    "    output_path = f\"detected_{os.path.basename(image_path)}\"\n",
    "    cv2.imwrite(output_path, image)\n",
    "    \n",
    "    return counts\n",
    "\n",
    "def main():\n",
    "    # Step 1: Train the model\n",
    "    print(\"Training model...\")\n",
    "    model = train_model()\n",
    "    \n",
    "    # Step 2: Initialize CSV\n",
    "    csv_path = initialize_csv()\n",
    "    print(f\"CSV file initialized at {csv_path}\")\n",
    "    \n",
    "    # Step 3: Process test images\n",
    "    test_dir = \"test/images\"\n",
    "    if os.path.exists(test_dir):\n",
    "        for image_file in os.listdir(test_dir):\n",
    "            if image_file.lower().endswith(('.png', '.jpg', '.jpeg')):\n",
    "                image_path = os.path.join(test_dir, image_file)\n",
    "                print(f\"\\nProcessing {image_path}\")\n",
    "                \n",
    "                # Detect and count objects\n",
    "                counts = detect_and_count(model, image_path)\n",
    "                if counts:\n",
    "                    # Update CSV with new counts\n",
    "                    update_csv_counts(counts)\n",
    "                    print(f\"Updated counts: SOBO_WP-4200={counts['SOBO_WP-4200']}, YAMANO_LPP-20={counts['YAMANO_LPP-20']}\")\n",
    "    \n",
    "    print(\"\\nProcessing complete!\")\n",
    "\n",
    "\n",
    "if __name__ == \"__main__\":\n",
    "    main()\n"
   ]
  },
  {
   "cell_type": "code",
   "execution_count": 5,
   "metadata": {},
   "outputs": [],
   "source": [
    "# import os\n",
    "# import csv\n",
    "# from datetime import datetime\n",
    "# from ultralytics import YOLO\n",
    "# import cv2\n",
    "# import numpy as np\n",
    "\n",
    "# def train_model():\n",
    "#     # Initialize YOLO model\n",
    "#     model = YOLO('yolov8n.pt')\n",
    "    \n",
    "#     # Train the model\n",
    "#     results = model.train(\n",
    "#         data=r'C:\\Users\\gifly\\Desktop\\DataScience\\Project\\NoOCR\\data.yaml',\n",
    "#         epochs=5,\n",
    "#         batch=16,\n",
    "#         imgsz=640,\n",
    "#         device=0\n",
    "#     )\n",
    "    \n",
    "#     return model\n",
    "\n",
    "# def initialize_csv():\n",
    "#     # Create or update CSV file with initial counts\n",
    "#     csv_path = 'object_counts.csv'\n",
    "#     if not os.path.exists(csv_path):\n",
    "#         with open(csv_path, 'w', newline='') as file:\n",
    "#             writer = csv.writer(file)\n",
    "#             writer.writerow(['Object', 'ID', 'NUM'])\n",
    "#             writer.writerow(['Dryer', 'D0001', '0'])\n",
    "#             writer.writerow(['IRON', 'I0002', '0'])\n",
    "#     return csv_path\n",
    "\n",
    "# def update_csv_counts(counts):\n",
    "#     csv_path = 'object_counts.csv'\n",
    "#     with open(csv_path, 'w', newline='') as file:\n",
    "#         writer = csv.writer(file)\n",
    "#         writer.writerow(['Object', 'ID', 'NUM'])\n",
    "#         writer.writerow(['Dryer', 'D0001', str(counts['Dryer'])])\n",
    "#         writer.writerow(['IRON', 'I0002', str(counts['IRON'])])\n",
    "\n",
    "# def detect_and_count(model, image_path):\n",
    "#     # Read image\n",
    "#     image = cv2.imread(image_path)\n",
    "#     if image is None:\n",
    "#         print(f\"Error: Could not read image {image_path}\")\n",
    "#         return None\n",
    "    \n",
    "#     # Perform detection\n",
    "#     results = model(image)\n",
    "    \n",
    "#     # Initialize counts\n",
    "#     counts = {'Dryer': 0, 'IRON': 0}\n",
    "    \n",
    "#     # Process detections\n",
    "#     for result in results:\n",
    "#         boxes = result.boxes\n",
    "#         for box in boxes:\n",
    "#             # Get class name\n",
    "#             class_id = int(box.cls[0])\n",
    "#             class_name = model.names[class_id]\n",
    "            \n",
    "#             # Increment count\n",
    "#             counts[class_name] += 1\n",
    "            \n",
    "#             # Draw bounding box and label\n",
    "#             x1, y1, x2, y2 = map(int, box.xyxy[0])\n",
    "#             conf = float(box.conf[0])\n",
    "            \n",
    "#             # Draw rectangle\n",
    "#             cv2.rectangle(image, (x1, y1), (x2, y2), (0, 255, 0), 2)\n",
    "            \n",
    "#             # Add label\n",
    "#             label = f\"{class_name} {conf:.2f}\"\n",
    "#             cv2.putText(image, label, (x1, y1 - 10), \n",
    "#                        cv2.FONT_HERSHEY_SIMPLEX, 0.5, (0, 255, 0), 2)\n",
    "    \n",
    "#     # Add total counts to image\n",
    "#     count_text = f\"Dryer: {counts['Dryer']}, IRON: {counts['IRON']}\"\n",
    "#     cv2.putText(image, count_text, (10, 30), \n",
    "#                 cv2.FONT_HERSHEY_SIMPLEX, 1, (0, 0, 255), 2)\n",
    "    \n",
    "#     # Save annotated image\n",
    "#     output_path = f\"detected_{os.path.basename(image_path)}\"\n",
    "#     cv2.imwrite(output_path, image)\n",
    "    \n",
    "#     return counts\n",
    "\n",
    "# def main():\n",
    "#     # Step 1: Train the model\n",
    "#     print(\"Training model...\")\n",
    "#     model = train_model()\n",
    "    \n",
    "#     # Step 2: Initialize CSV\n",
    "#     csv_path = initialize_csv()\n",
    "#     print(f\"CSV file initialized at {csv_path}\")\n",
    "    \n",
    "#     # Step 3: Process test images\n",
    "#     test_dir = \"test/images\"\n",
    "#     if os.path.exists(test_dir):\n",
    "#         for image_file in os.listdir(test_dir):\n",
    "#             if image_file.lower().endswith(('.png', '.jpg', '.jpeg')):\n",
    "#                 image_path = os.path.join(test_dir, image_file)\n",
    "#                 print(f\"\\nProcessing {image_path}\")\n",
    "                \n",
    "#                 # Detect and count objects\n",
    "#                 counts = detect_and_count(model, image_path)\n",
    "#                 if counts:\n",
    "#                     # Update CSV with new counts\n",
    "#                     update_csv_counts(counts)\n",
    "#                     print(f\"Updated counts: Dryer={counts['Dryer']}, IRON={counts['IRON']}\")\n",
    "    \n",
    "#     print(\"\\nProcessing complete!\")\n",
    "\n",
    "# if __name__ == \"__main__\":\n",
    "#     main()"
   ]
  }
 ],
 "metadata": {
  "kernelspec": {
   "display_name": "Python 3",
   "language": "python",
   "name": "python3"
  },
  "language_info": {
   "codemirror_mode": {
    "name": "ipython",
    "version": 3
   },
   "file_extension": ".py",
   "mimetype": "text/x-python",
   "name": "python",
   "nbconvert_exporter": "python",
   "pygments_lexer": "ipython3",
   "version": "3.11.2"
  }
 },
 "nbformat": 4,
 "nbformat_minor": 2
}
