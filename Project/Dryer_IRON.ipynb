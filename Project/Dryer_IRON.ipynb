{
 "cells": [
  {
   "cell_type": "code",
   "execution_count": 1,
   "metadata": {},
   "outputs": [],
   "source": [
    "# !nvidia-smi"
   ]
  },
  {
   "cell_type": "code",
   "execution_count": 2,
   "metadata": {},
   "outputs": [],
   "source": [
    "data_dir = 'Product_Classification'  "
   ]
  },
  {
   "cell_type": "code",
   "execution_count": null,
   "metadata": {},
   "outputs": [
    {
     "name": "stderr",
     "output_type": "stream",
     "text": [
      "\u001b[34m\u001b[1mval: \u001b[0mScanning C:\\Users\\gifly\\Desktop\\DataScience\\Project\\Product_Classification\\data\\valid\\labels... 71 images, 1 backgrounds, 0 corrupt: 100%|██████████| 71/71 [00:00<00:00, 717.19it/s]"
     ]
    },
    {
     "name": "stdout",
     "output_type": "stream",
     "text": [
      "\u001b[34m\u001b[1mval: \u001b[0mNew cache created: C:\\Users\\gifly\\Desktop\\DataScience\\Project\\Product_Classification\\data\\valid\\labels.cache\n"
     ]
    },
    {
     "name": "stderr",
     "output_type": "stream",
     "text": [
      "\n"
     ]
    }
   ],
   "source": [
    "# Install the ultralytics package if not already installed\n",
    "\n",
    "from ultralytics import YOLO\n",
    "\n",
    "# Step 1: Load the YOLOv8 model\n",
    "# You can use a pre-trained model (e.g., 'yolov8n.pt') or start from scratch\n",
    "model = YOLO('yolov8n.pt')  # Replace 'yolov8n.pt' with the desired YOLOv8 model variant\n",
    "\n",
    "# Step 2: Train the model on your custom dataset\n",
    "# Ensure your dataset is in YOLO format with a proper data.yaml file\n",
    "results = model.train(\n",
    "    data=r'C:\\Users\\gifly\\Desktop\\DataScience\\Project\\Product_Classification\\data\\data.yaml',  # Path to your dataset's YAML file\n",
    "    epochs=5,                # Number of training epochs\n",
    "    batch=16,                 # Batch size\n",
    "    imgsz=640,                # Image size\n",
    "    device=0                  # Use GPU (0) or CPU (-1)\n",
    ")\n",
    "\n",
    "# Step 3: Evaluate the model (optional)\n",
    "metrics = model.val()\n",
    "# print(\"Validation Metrics:\", metrics)\n",
    "# print(\"Training Loss:\", results.metrics['train/loss'])\n",
    "# print(\"Validation Loss:\", results.metrics['val/loss'])\n",
    "# print(\"Training Accuracy:\", results.metrics['train/accuracy'])\n",
    "# Step 4: Export the trained model (optional)\n",
    "# Export to ONNX, TensorRT, CoreML, etc., if needed\n",
    "model.export(format='onnx')  # Replace 'onnx' with the desired format\n",
    "\n",
    "print(\"Training complete!\")"
   ]
  },
  {
   "cell_type": "code",
   "execution_count": null,
   "metadata": {},
   "outputs": [],
   "source": [
    "import torch\n",
    "torch.save(model.state_dict(), 'test.pt')"
   ]
  },
  {
   "cell_type": "code",
   "execution_count": null,
   "metadata": {},
   "outputs": [],
   "source": [
    "import matplotlib.pyplot as plt\n",
    "\n",
    "# Assuming `results` contains loss values\n",
    "train_loss = results.metrics['train/loss']\n",
    "val_loss = results.metrics['val/loss']\n",
    "\n",
    "plt.plot(train_loss, label='Training Loss')\n",
    "plt.plot(val_loss, label='Validation Loss')\n",
    "plt.xlabel('Epochs')\n",
    "plt.ylabel('Loss')\n",
    "plt.legend()\n",
    "plt.title('Training vs Validation Loss')\n",
    "plt.show()"
   ]
  }
 ],
 "metadata": {
  "kernelspec": {
   "display_name": "Python 3",
   "language": "python",
   "name": "python3"
  },
  "language_info": {
   "codemirror_mode": {
    "name": "ipython",
    "version": 3
   },
   "file_extension": ".py",
   "mimetype": "text/x-python",
   "name": "python",
   "nbconvert_exporter": "python",
   "pygments_lexer": "ipython3",
   "version": "3.11.2"
  }
 },
 "nbformat": 4,
 "nbformat_minor": 2
}
