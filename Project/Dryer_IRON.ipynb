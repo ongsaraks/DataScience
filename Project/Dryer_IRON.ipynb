{
 "cells": [
  {
   "cell_type": "code",
   "execution_count": 1,
   "metadata": {},
   "outputs": [
    {
     "name": "stdout",
     "output_type": "stream",
     "text": [
      "Tue Apr 15 23:50:30 2025       \n",
      "+-----------------------------------------------------------------------------------------+\n",
      "| NVIDIA-SMI 572.83                 Driver Version: 572.83         CUDA Version: 12.8     |\n",
      "|-----------------------------------------+------------------------+----------------------+\n",
      "| GPU  Name                  Driver-Model | Bus-Id          Disp.A | Volatile Uncorr. ECC |\n",
      "| Fan  Temp   Perf          Pwr:Usage/Cap |           Memory-Usage | GPU-Util  Compute M. |\n",
      "|                                         |                        |               MIG M. |\n",
      "|=========================================+========================+======================|\n",
      "|   0  NVIDIA GeForce GTX 1660 Ti   WDDM  |   00000000:01:00.0 Off |                  N/A |\n",
      "| N/A   63C    P8              6W /   80W |     488MiB /   6144MiB |     29%      Default |\n",
      "|                                         |                        |                  N/A |\n",
      "+-----------------------------------------+------------------------+----------------------+\n",
      "                                                                                         \n",
      "+-----------------------------------------------------------------------------------------+\n",
      "| Processes:                                                                              |\n",
      "|  GPU   GI   CI              PID   Type   Process name                        GPU Memory |\n",
      "|        ID   ID                                                               Usage      |\n",
      "|=========================================================================================|\n",
      "|    0   N/A  N/A            9792    C+G   ....0.3179.73\\msedgewebview2.exe      N/A      |\n",
      "|    0   N/A  N/A           12800    C+G   ...8wekyb3d8bbwe\\WebViewHost.exe      N/A      |\n",
      "|    0   N/A  N/A           18308    C+G   ...h_cw5n1h2txyewy\\SearchApp.exe      N/A      |\n",
      "|    0   N/A  N/A           18980    C+G   ...crosoft OneDrive\\OneDrive.exe      N/A      |\n",
      "|    0   N/A  N/A           19696    C+G   ...y\\StartMenuExperienceHost.exe      N/A      |\n",
      "|    0   N/A  N/A           21788    C+G   ...ktop\\EA Desktop\\EADesktop.exe      N/A      |\n",
      "|    0   N/A  N/A           22900    C+G   ...\\Creative Cloud UI Helper.exe      N/A      |\n",
      "|    0   N/A  N/A           23024    C+G   ...cord\\app-1.0.9188\\Discord.exe      N/A      |\n",
      "|    0   N/A  N/A           23908    C+G   ...5n1h2txyewy\\TextInputHost.exe      N/A      |\n",
      "|    0   N/A  N/A           26564    C+G   ...ms\\Microsoft VS Code\\Code.exe      N/A      |\n",
      "|    0   N/A  N/A           27584    C+G   ...\\app-3.4.18\\GitHubDesktop.exe      N/A      |\n",
      "|    0   N/A  N/A           28076    C+G   ...h_cw5n1h2txyewy\\SearchApp.exe      N/A      |\n",
      "|    0   N/A  N/A           28528    C+G   ...em_tray\\lghub_system_tray.exe      N/A      |\n",
      "|    0   N/A  N/A           30240    C+G   ...A Desktop\\EACefSubProcess.exe      N/A      |\n",
      "+-----------------------------------------------------------------------------------------+\n"
     ]
    }
   ],
   "source": [
    "!nvidia-smi"
   ]
  },
  {
   "cell_type": "code",
   "execution_count": 2,
   "metadata": {},
   "outputs": [],
   "source": [
    "data_dir = 'Product_Classification'  "
   ]
  },
  {
   "cell_type": "code",
   "execution_count": 3,
   "metadata": {},
   "outputs": [
    {
     "name": "stdout",
     "output_type": "stream",
     "text": [
      "Training model...\n",
      "Ultralytics 8.3.108  Python-3.11.2 torch-2.6.0+cu126 CUDA:0 (NVIDIA GeForce GTX 1660 Ti, 6144MiB)\n",
      "\u001b[34m\u001b[1mengine\\trainer: \u001b[0mtask=detect, mode=train, model=yolov8n.pt, data=C:\\Users\\gifly\\Desktop\\DataScience\\Project\\Product_Classification\\data.yaml, epochs=50, time=None, patience=5, batch=16, imgsz=640, save=True, save_period=-1, cache=False, device=0, workers=8, project=None, name=train3, exist_ok=False, pretrained=True, optimizer=auto, verbose=True, seed=0, deterministic=True, single_cls=False, rect=False, cos_lr=False, close_mosaic=10, resume=False, amp=True, fraction=1.0, profile=False, freeze=None, multi_scale=False, overlap_mask=True, mask_ratio=4, dropout=0.0, val=True, split=val, save_json=False, conf=None, iou=0.7, max_det=300, half=False, dnn=False, plots=True, source=None, vid_stride=1, stream_buffer=False, visualize=False, augment=False, agnostic_nms=False, classes=None, retina_masks=False, embed=None, show=False, save_frames=False, save_txt=False, save_conf=False, save_crop=False, show_labels=True, show_conf=True, show_boxes=True, line_width=None, format=torchscript, keras=False, optimize=False, int8=False, dynamic=False, simplify=True, opset=None, workspace=None, nms=False, lr0=0.01, lrf=0.01, momentum=0.937, weight_decay=0.0005, warmup_epochs=3.0, warmup_momentum=0.8, warmup_bias_lr=0.1, box=7.5, cls=0.5, dfl=1.5, pose=12.0, kobj=1.0, nbs=64, hsv_h=0.015, hsv_s=0.7, hsv_v=0.4, degrees=0.0, translate=0.1, scale=0.5, shear=0.0, perspective=0.0, flipud=0.0, fliplr=0.5, bgr=0.0, mosaic=1.0, mixup=0.0, copy_paste=0.0, copy_paste_mode=flip, auto_augment=randaugment, erasing=0.4, cfg=None, tracker=botsort.yaml, save_dir=runs\\detect\\train3\n",
      "Overriding model.yaml nc=80 with nc=2\n",
      "\n",
      "                   from  n    params  module                                       arguments                     \n",
      "  0                  -1  1       464  ultralytics.nn.modules.conv.Conv             [3, 16, 3, 2]                 \n",
      "  1                  -1  1      4672  ultralytics.nn.modules.conv.Conv             [16, 32, 3, 2]                \n",
      "  2                  -1  1      7360  ultralytics.nn.modules.block.C2f             [32, 32, 1, True]             \n",
      "  3                  -1  1     18560  ultralytics.nn.modules.conv.Conv             [32, 64, 3, 2]                \n",
      "  4                  -1  2     49664  ultralytics.nn.modules.block.C2f             [64, 64, 2, True]             \n",
      "  5                  -1  1     73984  ultralytics.nn.modules.conv.Conv             [64, 128, 3, 2]               \n",
      "  6                  -1  2    197632  ultralytics.nn.modules.block.C2f             [128, 128, 2, True]           \n",
      "  7                  -1  1    295424  ultralytics.nn.modules.conv.Conv             [128, 256, 3, 2]              \n",
      "  8                  -1  1    460288  ultralytics.nn.modules.block.C2f             [256, 256, 1, True]           \n",
      "  9                  -1  1    164608  ultralytics.nn.modules.block.SPPF            [256, 256, 5]                 \n",
      " 10                  -1  1         0  torch.nn.modules.upsampling.Upsample         [None, 2, 'nearest']          \n",
      " 11             [-1, 6]  1         0  ultralytics.nn.modules.conv.Concat           [1]                           \n",
      " 12                  -1  1    148224  ultralytics.nn.modules.block.C2f             [384, 128, 1]                 \n",
      " 13                  -1  1         0  torch.nn.modules.upsampling.Upsample         [None, 2, 'nearest']          \n",
      " 14             [-1, 4]  1         0  ultralytics.nn.modules.conv.Concat           [1]                           \n",
      " 15                  -1  1     37248  ultralytics.nn.modules.block.C2f             [192, 64, 1]                  \n",
      " 16                  -1  1     36992  ultralytics.nn.modules.conv.Conv             [64, 64, 3, 2]                \n",
      " 17            [-1, 12]  1         0  ultralytics.nn.modules.conv.Concat           [1]                           \n",
      " 18                  -1  1    123648  ultralytics.nn.modules.block.C2f             [192, 128, 1]                 \n",
      " 19                  -1  1    147712  ultralytics.nn.modules.conv.Conv             [128, 128, 3, 2]              \n",
      " 20             [-1, 9]  1         0  ultralytics.nn.modules.conv.Concat           [1]                           \n",
      " 21                  -1  1    493056  ultralytics.nn.modules.block.C2f             [384, 256, 1]                 \n",
      " 22        [15, 18, 21]  1    751702  ultralytics.nn.modules.head.Detect           [2, [64, 128, 256]]           \n",
      "Model summary: 129 layers, 3,011,238 parameters, 3,011,222 gradients, 8.2 GFLOPs\n",
      "\n",
      "Transferred 319/355 items from pretrained weights\n",
      "\u001b[34m\u001b[1mTensorBoard: \u001b[0mStart with 'tensorboard --logdir runs\\detect\\train3', view at http://localhost:6006/\n",
      "Freezing layer 'model.22.dfl.conv.weight'\n",
      "\u001b[34m\u001b[1mAMP: \u001b[0mchecks failed . AMP training on NVIDIA GeForce GTX 1660 Ti GPU may cause NaN losses or zero-mAP results, so AMP will be disabled during training.\n"
     ]
    },
    {
     "name": "stderr",
     "output_type": "stream",
     "text": [
      "\u001b[34m\u001b[1mtrain: \u001b[0mScanning C:\\Users\\gifly\\Desktop\\DataScience\\Project\\Product_Classification\\train\\labels.cache... 759 images, 9 backgrounds, 0 corrupt: 100%|██████████| 759/759 [00:00<?, ?it/s]\n",
      "\u001b[34m\u001b[1mval: \u001b[0mScanning C:\\Users\\gifly\\Desktop\\DataScience\\Project\\Product_Classification\\valid\\labels.cache... 70 images, 1 backgrounds, 0 corrupt: 100%|██████████| 70/70 [00:00<?, ?it/s]\n"
     ]
    },
    {
     "name": "stdout",
     "output_type": "stream",
     "text": [
      "Plotting labels to runs\\detect\\train3\\labels.jpg... \n",
      "\u001b[34m\u001b[1moptimizer:\u001b[0m 'optimizer=auto' found, ignoring 'lr0=0.01' and 'momentum=0.937' and determining best 'optimizer', 'lr0' and 'momentum' automatically... \n",
      "\u001b[34m\u001b[1moptimizer:\u001b[0m AdamW(lr=0.001667, momentum=0.9) with parameter groups 57 weight(decay=0.0), 64 weight(decay=0.0005), 63 bias(decay=0.0)\n",
      "\u001b[34m\u001b[1mTensorBoard: \u001b[0mmodel graph visualization added \n",
      "Image sizes 640 train, 640 val\n",
      "Using 8 dataloader workers\n",
      "Logging results to \u001b[1mruns\\detect\\train3\u001b[0m\n",
      "Starting training for 50 epochs...\n",
      "\n",
      "      Epoch    GPU_mem   box_loss   cls_loss   dfl_loss  Instances       Size\n"
     ]
    },
    {
     "name": "stderr",
     "output_type": "stream",
     "text": [
      "       1/50      4.98G     0.5342      1.759     0.9806         21        640: 100%|██████████| 48/48 [00:19<00:00,  2.49it/s]\n",
      "                 Class     Images  Instances      Box(P          R      mAP50  mAP50-95): 100%|██████████| 3/3 [00:02<00:00,  1.07it/s]"
     ]
    },
    {
     "name": "stdout",
     "output_type": "stream",
     "text": [
      "                   all         70         75      0.789      0.723      0.834       0.71\n"
     ]
    },
    {
     "name": "stderr",
     "output_type": "stream",
     "text": [
      "\n"
     ]
    },
    {
     "name": "stdout",
     "output_type": "stream",
     "text": [
      "\n",
      "      Epoch    GPU_mem   box_loss   cls_loss   dfl_loss  Instances       Size\n"
     ]
    },
    {
     "name": "stderr",
     "output_type": "stream",
     "text": [
      "       2/50         5G      0.526      1.164     0.9504         24        640: 100%|██████████| 48/48 [00:15<00:00,  3.11it/s]\n",
      "                 Class     Images  Instances      Box(P          R      mAP50  mAP50-95): 100%|██████████| 3/3 [00:00<00:00,  3.23it/s]"
     ]
    },
    {
     "name": "stdout",
     "output_type": "stream",
     "text": [
      "                   all         70         75      0.903      0.713      0.895      0.841\n"
     ]
    },
    {
     "name": "stderr",
     "output_type": "stream",
     "text": [
      "\n"
     ]
    },
    {
     "name": "stdout",
     "output_type": "stream",
     "text": [
      "\n",
      "      Epoch    GPU_mem   box_loss   cls_loss   dfl_loss  Instances       Size\n"
     ]
    },
    {
     "name": "stderr",
     "output_type": "stream",
     "text": [
      "       3/50      5.02G     0.5772      1.017     0.9762         18        640: 100%|██████████| 48/48 [00:15<00:00,  3.06it/s]\n",
      "                 Class     Images  Instances      Box(P          R      mAP50  mAP50-95): 100%|██████████| 3/3 [00:00<00:00,  4.00it/s]"
     ]
    },
    {
     "name": "stdout",
     "output_type": "stream",
     "text": [
      "                   all         70         75      0.702      0.875      0.886      0.804\n"
     ]
    },
    {
     "name": "stderr",
     "output_type": "stream",
     "text": [
      "\n"
     ]
    },
    {
     "name": "stdout",
     "output_type": "stream",
     "text": [
      "\n",
      "      Epoch    GPU_mem   box_loss   cls_loss   dfl_loss  Instances       Size\n"
     ]
    },
    {
     "name": "stderr",
     "output_type": "stream",
     "text": [
      "       4/50      5.02G     0.5143     0.8785     0.9305         19        640: 100%|██████████| 48/48 [00:15<00:00,  3.06it/s]\n",
      "                 Class     Images  Instances      Box(P          R      mAP50  mAP50-95): 100%|██████████| 3/3 [00:00<00:00,  3.95it/s]"
     ]
    },
    {
     "name": "stdout",
     "output_type": "stream",
     "text": [
      "                   all         70         75      0.824      0.776      0.896      0.807\n"
     ]
    },
    {
     "name": "stderr",
     "output_type": "stream",
     "text": [
      "\n"
     ]
    },
    {
     "name": "stdout",
     "output_type": "stream",
     "text": [
      "\n",
      "      Epoch    GPU_mem   box_loss   cls_loss   dfl_loss  Instances       Size\n"
     ]
    },
    {
     "name": "stderr",
     "output_type": "stream",
     "text": [
      "       5/50      5.02G     0.5007     0.7875      0.941         12        640: 100%|██████████| 48/48 [00:15<00:00,  3.01it/s]\n",
      "                 Class     Images  Instances      Box(P          R      mAP50  mAP50-95): 100%|██████████| 3/3 [00:00<00:00,  3.89it/s]"
     ]
    },
    {
     "name": "stdout",
     "output_type": "stream",
     "text": [
      "                   all         70         75      0.762      0.997      0.951       0.89\n"
     ]
    },
    {
     "name": "stderr",
     "output_type": "stream",
     "text": [
      "\n"
     ]
    },
    {
     "name": "stdout",
     "output_type": "stream",
     "text": [
      "\n",
      "      Epoch    GPU_mem   box_loss   cls_loss   dfl_loss  Instances       Size\n"
     ]
    },
    {
     "name": "stderr",
     "output_type": "stream",
     "text": [
      "       6/50      5.02G      0.485     0.7373     0.9306         13        640: 100%|██████████| 48/48 [00:16<00:00,  2.95it/s]\n",
      "                 Class     Images  Instances      Box(P          R      mAP50  mAP50-95): 100%|██████████| 3/3 [00:00<00:00,  3.60it/s]"
     ]
    },
    {
     "name": "stdout",
     "output_type": "stream",
     "text": [
      "                   all         70         75      0.835      0.779      0.878      0.856\n"
     ]
    },
    {
     "name": "stderr",
     "output_type": "stream",
     "text": [
      "\n"
     ]
    },
    {
     "name": "stdout",
     "output_type": "stream",
     "text": [
      "\n",
      "      Epoch    GPU_mem   box_loss   cls_loss   dfl_loss  Instances       Size\n"
     ]
    },
    {
     "name": "stderr",
     "output_type": "stream",
     "text": [
      "       7/50      5.02G     0.4823     0.7072     0.9316         14        640: 100%|██████████| 48/48 [00:16<00:00,  2.86it/s]\n",
      "                 Class     Images  Instances      Box(P          R      mAP50  mAP50-95): 100%|██████████| 3/3 [00:00<00:00,  4.16it/s]"
     ]
    },
    {
     "name": "stdout",
     "output_type": "stream",
     "text": [
      "                   all         70         75      0.908      0.849      0.954      0.912\n"
     ]
    },
    {
     "name": "stderr",
     "output_type": "stream",
     "text": [
      "\n"
     ]
    },
    {
     "name": "stdout",
     "output_type": "stream",
     "text": [
      "\n",
      "      Epoch    GPU_mem   box_loss   cls_loss   dfl_loss  Instances       Size\n"
     ]
    },
    {
     "name": "stderr",
     "output_type": "stream",
     "text": [
      "       8/50      5.02G     0.4336     0.6343     0.9161         14        640: 100%|██████████| 48/48 [00:16<00:00,  2.86it/s]\n",
      "                 Class     Images  Instances      Box(P          R      mAP50  mAP50-95): 100%|██████████| 3/3 [00:00<00:00,  3.89it/s]"
     ]
    },
    {
     "name": "stdout",
     "output_type": "stream",
     "text": [
      "                   all         70         75       0.75          1      0.957      0.885\n"
     ]
    },
    {
     "name": "stderr",
     "output_type": "stream",
     "text": [
      "\n"
     ]
    },
    {
     "name": "stdout",
     "output_type": "stream",
     "text": [
      "\n",
      "      Epoch    GPU_mem   box_loss   cls_loss   dfl_loss  Instances       Size\n"
     ]
    },
    {
     "name": "stderr",
     "output_type": "stream",
     "text": [
      "       9/50      5.02G     0.4457     0.5966     0.9157         17        640: 100%|██████████| 48/48 [00:17<00:00,  2.79it/s]\n",
      "                 Class     Images  Instances      Box(P          R      mAP50  mAP50-95): 100%|██████████| 3/3 [00:01<00:00,  2.57it/s]"
     ]
    },
    {
     "name": "stdout",
     "output_type": "stream",
     "text": [
      "                   all         70         75       0.73      0.909      0.919      0.826\n"
     ]
    },
    {
     "name": "stderr",
     "output_type": "stream",
     "text": [
      "\n"
     ]
    },
    {
     "name": "stdout",
     "output_type": "stream",
     "text": [
      "\n",
      "      Epoch    GPU_mem   box_loss   cls_loss   dfl_loss  Instances       Size\n"
     ]
    },
    {
     "name": "stderr",
     "output_type": "stream",
     "text": [
      "      10/50      5.02G     0.4029     0.5648     0.8928         14        640: 100%|██████████| 48/48 [00:17<00:00,  2.78it/s]\n",
      "                 Class     Images  Instances      Box(P          R      mAP50  mAP50-95): 100%|██████████| 3/3 [00:00<00:00,  4.09it/s]"
     ]
    },
    {
     "name": "stdout",
     "output_type": "stream",
     "text": [
      "                   all         70         75      0.773      0.911      0.948      0.933\n"
     ]
    },
    {
     "name": "stderr",
     "output_type": "stream",
     "text": [
      "\n"
     ]
    },
    {
     "name": "stdout",
     "output_type": "stream",
     "text": [
      "\n",
      "      Epoch    GPU_mem   box_loss   cls_loss   dfl_loss  Instances       Size\n"
     ]
    },
    {
     "name": "stderr",
     "output_type": "stream",
     "text": [
      "      11/50      5.02G     0.4128     0.5593      0.899         19        640: 100%|██████████| 48/48 [00:16<00:00,  2.85it/s]\n",
      "                 Class     Images  Instances      Box(P          R      mAP50  mAP50-95): 100%|██████████| 3/3 [00:00<00:00,  4.14it/s]"
     ]
    },
    {
     "name": "stdout",
     "output_type": "stream",
     "text": [
      "                   all         70         75      0.834      0.931      0.959      0.931\n"
     ]
    },
    {
     "name": "stderr",
     "output_type": "stream",
     "text": [
      "\n"
     ]
    },
    {
     "name": "stdout",
     "output_type": "stream",
     "text": [
      "\n",
      "      Epoch    GPU_mem   box_loss   cls_loss   dfl_loss  Instances       Size\n"
     ]
    },
    {
     "name": "stderr",
     "output_type": "stream",
     "text": [
      "      12/50      5.02G     0.3774     0.5433     0.8907         13        640: 100%|██████████| 48/48 [00:17<00:00,  2.81it/s]\n",
      "                 Class     Images  Instances      Box(P          R      mAP50  mAP50-95): 100%|██████████| 3/3 [00:00<00:00,  4.19it/s]"
     ]
    },
    {
     "name": "stdout",
     "output_type": "stream",
     "text": [
      "                   all         70         75      0.912      0.764      0.942      0.921\n"
     ]
    },
    {
     "name": "stderr",
     "output_type": "stream",
     "text": [
      "\n"
     ]
    },
    {
     "name": "stdout",
     "output_type": "stream",
     "text": [
      "\n",
      "      Epoch    GPU_mem   box_loss   cls_loss   dfl_loss  Instances       Size\n"
     ]
    },
    {
     "name": "stderr",
     "output_type": "stream",
     "text": [
      "      13/50      5.02G     0.3848     0.5125     0.9004         20        640: 100%|██████████| 48/48 [00:17<00:00,  2.82it/s]\n",
      "                 Class     Images  Instances      Box(P          R      mAP50  mAP50-95): 100%|██████████| 3/3 [00:00<00:00,  3.78it/s]"
     ]
    },
    {
     "name": "stdout",
     "output_type": "stream",
     "text": [
      "                   all         70         75      0.787      0.923      0.948      0.914\n"
     ]
    },
    {
     "name": "stderr",
     "output_type": "stream",
     "text": [
      "\n"
     ]
    },
    {
     "name": "stdout",
     "output_type": "stream",
     "text": [
      "\n",
      "      Epoch    GPU_mem   box_loss   cls_loss   dfl_loss  Instances       Size\n"
     ]
    },
    {
     "name": "stderr",
     "output_type": "stream",
     "text": [
      "      14/50      5.02G     0.3717     0.5104     0.8915         18        640: 100%|██████████| 48/48 [00:17<00:00,  2.81it/s]\n",
      "                 Class     Images  Instances      Box(P          R      mAP50  mAP50-95): 100%|██████████| 3/3 [00:00<00:00,  3.97it/s]"
     ]
    },
    {
     "name": "stdout",
     "output_type": "stream",
     "text": [
      "                   all         70         75      0.929      0.862      0.955       0.93\n"
     ]
    },
    {
     "name": "stderr",
     "output_type": "stream",
     "text": [
      "\n"
     ]
    },
    {
     "name": "stdout",
     "output_type": "stream",
     "text": [
      "\n",
      "      Epoch    GPU_mem   box_loss   cls_loss   dfl_loss  Instances       Size\n"
     ]
    },
    {
     "name": "stderr",
     "output_type": "stream",
     "text": [
      "      15/50      5.02G     0.3767     0.5371     0.8906         18        640: 100%|██████████| 48/48 [00:17<00:00,  2.76it/s]\n",
      "                 Class     Images  Instances      Box(P          R      mAP50  mAP50-95): 100%|██████████| 3/3 [00:00<00:00,  4.13it/s]"
     ]
    },
    {
     "name": "stdout",
     "output_type": "stream",
     "text": [
      "                   all         70         75      0.815      0.928      0.952      0.927\n",
      "\u001b[34m\u001b[1mEarlyStopping: \u001b[0mTraining stopped early as no improvement observed in last 5 epochs. Best results observed at epoch 10, best model saved as best.pt.\n",
      "To update EarlyStopping(patience=5) pass a new patience value, i.e. `patience=300` or use `patience=0` to disable EarlyStopping.\n"
     ]
    },
    {
     "name": "stderr",
     "output_type": "stream",
     "text": [
      "\n"
     ]
    },
    {
     "name": "stdout",
     "output_type": "stream",
     "text": [
      "\n",
      "15 epochs completed in 0.078 hours.\n",
      "Optimizer stripped from runs\\detect\\train3\\weights\\last.pt, 6.2MB\n",
      "Optimizer stripped from runs\\detect\\train3\\weights\\best.pt, 6.2MB\n",
      "\n",
      "Validating runs\\detect\\train3\\weights\\best.pt...\n",
      "Ultralytics 8.3.108  Python-3.11.2 torch-2.6.0+cu126 CUDA:0 (NVIDIA GeForce GTX 1660 Ti, 6144MiB)\n",
      "Model summary (fused): 72 layers, 3,006,038 parameters, 0 gradients, 8.1 GFLOPs\n"
     ]
    },
    {
     "name": "stderr",
     "output_type": "stream",
     "text": [
      "                 Class     Images  Instances      Box(P          R      mAP50  mAP50-95): 100%|██████████| 3/3 [00:01<00:00,  2.58it/s]\n"
     ]
    },
    {
     "name": "stdout",
     "output_type": "stream",
     "text": [
      "                   all         70         75      0.772      0.911      0.947      0.932\n",
      "                 Dryer         29         29      0.638      0.931      0.928       0.91\n",
      "                  IRON         46         46      0.905      0.891      0.966      0.955\n",
      "Speed: 0.2ms preprocess, 3.1ms inference, 0.0ms loss, 3.6ms postprocess per image\n",
      "Results saved to \u001b[1mruns\\detect\\train3\u001b[0m\n",
      "CSV file initialized at object_counts.csv\n",
      "\n",
      "Processing complete!\n"
     ]
    }
   ],
   "source": [
    "import os\n",
    "import csv\n",
    "from  datetime import datetime\n",
    "from ultralytics import YOLO\n",
    "import cv2\n",
    "import numpy as np\n",
    "\n",
    "def train_model():\n",
    "    # Initialize YOLO model\n",
    "    model= YOLO('yolov8n.pt')\n",
    "    \n",
    "    # Train the model\n",
    "    results = model.train(\n",
    "        data=r'C:\\Users\\gifly\\Desktop\\DataScience\\Project\\Product_Classification\\data.yaml',\n",
    "        epochs=50,\n",
    "        batch=16,\n",
    "        imgsz=640,\n",
    "        device=0,\n",
    "        patience=5,\n",
    "    )\n",
    "    \n",
    "    return model\n",
    "\n",
    "def initialize_csv():\n",
    "    # Create or update CSV file with initial counts\n",
    "    csv_path = 'object_counts.csv'\n",
    "    if not os.path.exists(csv_path):\n",
    "        with open(csv_path, 'w', newline='') as file:\n",
    "            writer = csv.writer(file)\n",
    "            writer.writerow(['Object', 'ID', 'NUM'])\n",
    "            writer.writerow(['Dryer', 'D0001', '0'])\n",
    "            writer.writerow(['IRON', 'I0002', '0'])\n",
    "    return csv_path\n",
    "\n",
    "def update_csv_counts(new_counts):\n",
    "    csv_path = 'object_counts.csv'\n",
    "    \n",
    "    # Check if the CSV file exists\n",
    "    if os.path.exists(csv_path):\n",
    "        # Read the existing CSV file\n",
    "        with open(csv_path, 'r') as file:\n",
    "            reader = csv.DictReader(file)\n",
    "            rows = list(reader)\n",
    "        \n",
    "        # Update the counts\n",
    "        for row in rows:\n",
    "            if row['Object'] == 'Dryer':\n",
    "                row['NUM'] = str(int(row['NUM']) + new_counts['Dryer'])\n",
    "            elif row['Object'] == 'IRON':\n",
    "                row['NUM'] = str(int(row['NUM']) + new_counts['IRON'])\n",
    "        \n",
    "        # Write the updated counts back to the CSV file\n",
    "        with open(csv_path, 'w', newline='') as file:\n",
    "            writer = csv.DictWriter(file, fieldnames=['Object', 'ID', 'NUM'])\n",
    "            writer.writeheader()\n",
    "            writer.writerows(rows)\n",
    "    else:\n",
    "        # Create a new CSV file if it doesn't exist\n",
    "        with open(csv_path, 'w', newline='') as file:\n",
    "            writer = csv.writer(file)\n",
    "            writer.writerow(['Object', 'ID', 'NUM'])\n",
    "            writer.writerow(['Dryer', 'D0001', str(new_counts['Dryer'])])\n",
    "            writer.writerow(['IRON', 'I0002', str(new_counts['IRON'])])\n",
    "\n",
    "def detect_and_count(model, image_path):\n",
    "    # Read image\n",
    "    image = cv2.imread(image_path)\n",
    "    if image is None:\n",
    "        print(f\"Error: Could not read image {image_path}\")\n",
    "        return None\n",
    "    \n",
    "    # Perform detection\n",
    "    results = model(image)\n",
    "    \n",
    "    # Initialize counts\n",
    "    counts = {'Dryer': 0, 'IRON': 0}\n",
    "    \n",
    "    # Process detections\n",
    "    for result in results:\n",
    "        boxes = result.boxes\n",
    "        for box in boxes:\n",
    "            # Get class name\n",
    "            class_id = int(box.cls[0])\n",
    "            class_name = model.names[class_id]\n",
    "            \n",
    "            # Increment count\n",
    "            counts[class_name] += 1\n",
    "            \n",
    "            # Draw bounding box and label\n",
    "            x1, y1, x2, y2 = map(int, box.xyxy[0])\n",
    "            conf = float(box.conf[0])\n",
    "            \n",
    "            # Draw rectangle\n",
    "            cv2.rectangle(image, (x1, y1), (x2, y2), (0, 255, 0), 2)\n",
    "            \n",
    "            # Add label\n",
    "            label = f\"{class_name} {conf:.2f}\"\n",
    "            cv2.putText(image, label, (x1, y1 - 10), \n",
    "                       cv2.FONT_HERSHEY_SIMPLEX, 0.5, (0, 255, 0), 2)\n",
    "    \n",
    "    # Add total counts to image\n",
    "    count_text = f\"Dryer: {counts['Dryer']}, IRON: {counts['IRON']}\"\n",
    "    cv2.putText(image, count_text, (10, 30), \n",
    "                cv2.FONT_HERSHEY_SIMPLEX, 1, (0, 0, 255), 2)\n",
    "    \n",
    "    # Save annotated image\n",
    "    output_path = f\"detected_{os.path.basename(image_path)}\"\n",
    "    cv2.imwrite(output_path, image)\n",
    "    \n",
    "    return counts\n",
    "\n",
    "def main():\n",
    "    # Step 1: Train the model\n",
    "    print(\"Training model...\")\n",
    "    model = train_model()\n",
    "    \n",
    "    # Step 2: Initialize CSV\n",
    "    csv_path = initialize_csv()\n",
    "    print(f\"CSV file initialized at {csv_path}\")\n",
    "    \n",
    "    # Step 3: Process test images\n",
    "    test_dir = \"test/images\"\n",
    "    if os.path.exists(test_dir):\n",
    "        for image_file in os.listdir(test_dir):\n",
    "            if image_file.lower().endswith(('.png', '.jpg', '.jpeg')):\n",
    "                image_path = os.path.join(test_dir, image_file)\n",
    "                print(f\"\\nProcessing {image_path}\")\n",
    "                \n",
    "                # Detect and count objects\n",
    "                counts = detect_and_count(model, image_path)\n",
    "                if counts:\n",
    "                    # Update CSV with new counts\n",
    "                    update_csv_counts(counts)\n",
    "                    print(f\"Updated counts: Dryer={counts['Dryer']}, IRON={counts['IRON']}\")\n",
    "    \n",
    "    print(\"\\nProcessing complete!\")\n",
    "\n",
    "\n",
    "if __name__ == \"__main__\":\n",
    "    main()\n"
   ]
  },
  {
   "cell_type": "code",
   "execution_count": 4,
   "metadata": {},
   "outputs": [],
   "source": [
    "# import os\n",
    "# import csv\n",
    "# from datetime import datetime\n",
    "# from ultralytics import YOLO\n",
    "# import cv2\n",
    "# import numpy as np\n",
    "\n",
    "# def train_model():\n",
    "#     # Initialize YOLO model\n",
    "#     model = YOLO('yolov8n.pt')\n",
    "    \n",
    "#     # Train the model\n",
    "#     results = model.train(\n",
    "#         data=r'C:\\Users\\gifly\\Desktop\\DataScience\\Project\\Product_Classification\\data.yaml',\n",
    "#         epochs=5,\n",
    "#         batch=16,\n",
    "#         imgsz=640,\n",
    "#         device=0\n",
    "#     )\n",
    "    \n",
    "#     return model\n",
    "\n",
    "# def initialize_csv():\n",
    "#     # Create or update CSV file with initial counts\n",
    "#     csv_path = 'object_counts.csv'\n",
    "#     if not os.path.exists(csv_path):\n",
    "#         with open(csv_path, 'w', newline='') as file:\n",
    "#             writer = csv.writer(file)\n",
    "#             writer.writerow(['Object', 'ID', 'NUM'])\n",
    "#             writer.writerow(['Dryer', 'D0001', '0'])\n",
    "#             writer.writerow(['IRON', 'I0002', '0'])\n",
    "#     return csv_path\n",
    "\n",
    "# def update_csv_counts(counts):\n",
    "#     csv_path = 'object_counts.csv'\n",
    "#     with open(csv_path, 'w', newline='') as file:\n",
    "#         writer = csv.writer(file)\n",
    "#         writer.writerow(['Object', 'ID', 'NUM'])\n",
    "#         writer.writerow(['Dryer', 'D0001', str(counts['Dryer'])])\n",
    "#         writer.writerow(['IRON', 'I0002', str(counts['IRON'])])\n",
    "\n",
    "# def detect_and_count(model, image_path):\n",
    "#     # Read image\n",
    "#     image = cv2.imread(image_path)\n",
    "#     if image is None:\n",
    "#         print(f\"Error: Could not read image {image_path}\")\n",
    "#         return None\n",
    "    \n",
    "#     # Perform detection\n",
    "#     results = model(image)\n",
    "    \n",
    "#     # Initialize counts\n",
    "#     counts = {'Dryer': 0, 'IRON': 0}\n",
    "    \n",
    "#     # Process detections\n",
    "#     for result in results:\n",
    "#         boxes = result.boxes\n",
    "#         for box in boxes:\n",
    "#             # Get class name\n",
    "#             class_id = int(box.cls[0])\n",
    "#             class_name = model.names[class_id]\n",
    "            \n",
    "#             # Increment count\n",
    "#             counts[class_name] += 1\n",
    "            \n",
    "#             # Draw bounding box and label\n",
    "#             x1, y1, x2, y2 = map(int, box.xyxy[0])\n",
    "#             conf = float(box.conf[0])\n",
    "            \n",
    "#             # Draw rectangle\n",
    "#             cv2.rectangle(image, (x1, y1), (x2, y2), (0, 255, 0), 2)\n",
    "            \n",
    "#             # Add label\n",
    "#             label = f\"{class_name} {conf:.2f}\"\n",
    "#             cv2.putText(image, label, (x1, y1 - 10), \n",
    "#                        cv2.FONT_HERSHEY_SIMPLEX, 0.5, (0, 255, 0), 2)\n",
    "    \n",
    "#     # Add total counts to image\n",
    "#     count_text = f\"Dryer: {counts['Dryer']}, IRON: {counts['IRON']}\"\n",
    "#     cv2.putText(image, count_text, (10, 30), \n",
    "#                 cv2.FONT_HERSHEY_SIMPLEX, 1, (0, 0, 255), 2)\n",
    "    \n",
    "#     # Save annotated image\n",
    "#     output_path = f\"detected_{os.path.basename(image_path)}\"\n",
    "#     cv2.imwrite(output_path, image)\n",
    "    \n",
    "#     return counts\n",
    "\n",
    "# def main():\n",
    "#     # Step 1: Train the model\n",
    "#     print(\"Training model...\")\n",
    "#     model = train_model()\n",
    "    \n",
    "#     # Step 2: Initialize CSV\n",
    "#     csv_path = initialize_csv()\n",
    "#     print(f\"CSV file initialized at {csv_path}\")\n",
    "    \n",
    "#     # Step 3: Process test images\n",
    "#     test_dir = \"test/images\"\n",
    "#     if os.path.exists(test_dir):\n",
    "#         for image_file in os.listdir(test_dir):\n",
    "#             if image_file.lower().endswith(('.png', '.jpg', '.jpeg')):\n",
    "#                 image_path = os.path.join(test_dir, image_file)\n",
    "#                 print(f\"\\nProcessing {image_path}\")\n",
    "                \n",
    "#                 # Detect and count objects\n",
    "#                 counts = detect_and_count(model, image_path)\n",
    "#                 if counts:\n",
    "#                     # Update CSV with new counts\n",
    "#                     update_csv_counts(counts)\n",
    "#                     print(f\"Updated counts: Dryer={counts['Dryer']}, IRON={counts['IRON']}\")\n",
    "    \n",
    "#     print(\"\\nProcessing complete!\")\n",
    "\n",
    "# if __name__ == \"__main__\":\n",
    "#     main()"
   ]
  }
 ],
 "metadata": {
  "kernelspec": {
   "display_name": "Python 3",
   "language": "python",
   "name": "python3"
  },
  "language_info": {
   "codemirror_mode": {
    "name": "ipython",
    "version": 3
   },
   "file_extension": ".py",
   "mimetype": "text/x-python",
   "name": "python",
   "nbconvert_exporter": "python",
   "pygments_lexer": "ipython3",
   "version": "3.11.2"
  }
 },
 "nbformat": 4,
 "nbformat_minor": 2
}
