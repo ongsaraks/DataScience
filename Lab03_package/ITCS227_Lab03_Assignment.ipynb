{
 "cells": [
  {
   "cell_type": "markdown",
   "id": "7bca3098",
   "metadata": {},
   "source": [
    "<p style=\"text-align:center\">\n",
    "    <a href=\"https://www.ict.mahidol.ac.th/en/\" target=\"_blank\">\n",
    "    <img src=\"https://www3.ict.mahidol.ac.th/ICTSurveysV2/Content/image/MUICT2.png\" width=\"400\" alt=\"Faculty of ICT\">\n",
    "    </a>\n",
    "</p>\n",
    "\n",
    "# Lab03: Numerical Computation for Data Science\n",
    "\n",
    "This lab assignment will test your understanding of NumPy, SciPy, and Pandas for data manipulation and analysis. It consists of two tasks, covering 1D and 2D NumPy arrays, SciPy statistical functions, and real-world data analysis. Complete the tasks below and submit your Jupyter Notebook.\n",
    "\n",
    "__Intructions:__\n",
    "1. Append your ID at the end of this jupyter file name. For example, ```ITCS227_Lab03_Assignment_6788123.ipynb```\n",
    "2. Complete each task in the lab.\n",
    "3. Once finished, raise your hand to call a TA.\n",
    "4. The TA will check your work and give you an appropriate score.\n",
    "5. Submit the source code to MyCourse as record-keeping."
   ]
  },
  {
   "cell_type": "markdown",
   "id": "074edeb4",
   "metadata": {},
   "source": [
    "## Task 01: NumPy 1D Arrays\n",
    "\n",
    "Let's first import numpy."
   ]
  },
  {
   "cell_type": "code",
   "execution_count": 83,
   "id": "5e803420",
   "metadata": {},
   "outputs": [],
   "source": [
    "import numpy as np"
   ]
  },
  {
   "cell_type": "markdown",
   "id": "52134583",
   "metadata": {},
   "source": [
    "### Array Creation\n",
    "\n",
    "a) Create a 1D NumPy array named 'arr1' containing the integers from 10 to 20 (inclusive)."
   ]
  },
  {
   "cell_type": "code",
   "execution_count": 84,
   "id": "bfd1e7e7",
   "metadata": {
    "scrolled": true
   },
   "outputs": [
    {
     "name": "stdout",
     "output_type": "stream",
     "text": [
      "arr1: [10 11 12 13 14 15 16 17 18 19 20]\n"
     ]
    }
   ],
   "source": [
    "# Your code here\n",
    "import numpy as np\n",
    "# arr = np.array([10,11,12,13,14,15,16,17,18,19,20])\n",
    "arr1 = np.arange(10,21)\n",
    "print(\"arr1:\",arr1)"
   ]
  },
  {
   "cell_type": "markdown",
   "id": "aa27d693",
   "metadata": {},
   "source": [
    "<details><summary><span style=\"color:red\">Help</span> (Use this only as a last resort!!)</summary>\n",
    "\n",
    "```python\n",
    "arr1 = np.arange(10,21)\n",
    "print(\"arr1:\", arr1)\n",
    "```\n",
    "Output:\n",
    "```\n",
    "arr1: [10 11 12 13 14 15 16 17 18 19 20]\n",
    "```\n",
    "</details>"
   ]
  },
  {
   "cell_type": "markdown",
   "id": "839db232",
   "metadata": {},
   "source": [
    "b) Create a 1D NumPy array named 'arr2' containing 10 evenly spaced numbers between 0 and 1 (inclusive)."
   ]
  },
  {
   "cell_type": "code",
   "execution_count": 85,
   "id": "d161ffe0",
   "metadata": {},
   "outputs": [
    {
     "name": "stdout",
     "output_type": "stream",
     "text": [
      "arr2: [0.         0.11111111 0.22222222 0.33333333 0.44444444 0.55555556\n",
      " 0.66666667 0.77777778 0.88888889 1.        ]\n"
     ]
    }
   ],
   "source": [
    "# Your code here\n",
    "arr2 = np.linspace(0,1,10)\n",
    "print(\"arr2:\",arr2)"
   ]
  },
  {
   "cell_type": "markdown",
   "id": "e01e2731",
   "metadata": {},
   "source": [
    "<details><summary><span style=\"color:red\">Help</span> (Use this only as a last resort!!)</summary>\n",
    "\n",
    "```python\n",
    "arr2 = np.linspace(0,1,10)\n",
    "print(\"\\narr2:\", arr2)\n",
    "```\n",
    "Output:\n",
    "```\n",
    "arr2: [0.         0.11111111 0.22222222 0.33333333 0.44444444 0.55555556\n",
    " 0.66666667 0.77777778 0.88888889 1.        ]\n",
    "```\n",
    "</details>"
   ]
  },
  {
   "cell_type": "markdown",
   "id": "64e2fe5f",
   "metadata": {},
   "source": [
    "c) Create a 1D NumPy array named 'arr3' containing 5 random integers between 1 and 10 (inclusive)."
   ]
  },
  {
   "cell_type": "code",
   "execution_count": 86,
   "id": "c3ad11de",
   "metadata": {},
   "outputs": [
    {
     "name": "stdout",
     "output_type": "stream",
     "text": [
      "arr3:  [9 1 6 8 7]\n"
     ]
    }
   ],
   "source": [
    "# Your code here\n",
    "arr3 = np.random.randint(1,11,5)\n",
    "print(\"arr3: \",arr3)"
   ]
  },
  {
   "cell_type": "markdown",
   "id": "7d8f7db6",
   "metadata": {},
   "source": [
    "<details><summary><span style=\"color:red\">Help</span> (Use this only as a last resort!!)</summary>\n",
    "\n",
    "```python\n",
    "arr3 = np.random.randint(1,11,5)\n",
    "print(\"\\narr3:\", arr3)\n",
    "```\n",
    "Output:\n",
    "```\n",
    "arr3: [ 2  2  4 10  3]\n",
    "```\n",
    "</details>"
   ]
  },
  {
   "cell_type": "markdown",
   "id": "9590441c",
   "metadata": {},
   "source": [
    "### Array Operations\n",
    "a) Calculate the sum of all elements in 'arr1'. Store the result in 'sum_arr1'."
   ]
  },
  {
   "cell_type": "code",
   "execution_count": 87,
   "id": "7658006d",
   "metadata": {},
   "outputs": [
    {
     "name": "stdout",
     "output_type": "stream",
     "text": [
      "sum_arr1: 165\n"
     ]
    }
   ],
   "source": [
    "# Your code here\n",
    "sum_arr1 = np.sum(arr1)\n",
    "print(\"sum_arr1:\", sum_arr1)"
   ]
  },
  {
   "cell_type": "markdown",
   "id": "cd33334c",
   "metadata": {},
   "source": [
    "<details><summary><span style=\"color:red\">Help</span> (Use this only as a last resort!!)</summary>\n",
    "\n",
    "```python\n",
    "sum_arr1 = np.sum(arr1)\n",
    "print(\"\\nSum of arr1:\", sum_arr1)\n",
    "```\n",
    "Output:\n",
    "```\n",
    "Sum of arr1: 165\n",
    "```\n",
    "</details>"
   ]
  },
  {
   "cell_type": "markdown",
   "id": "2e3e8e50",
   "metadata": {},
   "source": [
    "b) Calculate the mean of all elements in 'arr2'. Store the result in 'mean_arr2'."
   ]
  },
  {
   "cell_type": "code",
   "execution_count": 88,
   "id": "c76725c3",
   "metadata": {},
   "outputs": [
    {
     "name": "stdout",
     "output_type": "stream",
     "text": [
      "mean_arr2 0.5\n"
     ]
    }
   ],
   "source": [
    "# Your code here\n",
    "mean_arr2 = np.mean(arr2)\n",
    "print(\"mean_arr2\",mean_arr2)"
   ]
  },
  {
   "cell_type": "raw",
   "id": "c312466a-f6b7-4031-a7d2-9c744f9ed86e",
   "metadata": {},
   "source": [
    "<details><summary><span style=\"color:red\">Help</span> (Use this only as a last resort!!)</summary>\n",
    "\n",
    "```python\n",
    "mean_arr2 = np.mean(arr2)\n",
    "print(\"Mean of arr2:\", mean_arr2)\n",
    "```\n",
    "Output:\n",
    "```\n",
    "Mean of arr2: 0.5\n",
    "```\n",
    "</details>"
   ]
  },
  {
   "cell_type": "markdown",
   "id": "f01ae442",
   "metadata": {},
   "source": [
    "c) Multiply each element in 'arr3' by 2. Store the result in 'arr3_multiplied'."
   ]
  },
  {
   "cell_type": "code",
   "execution_count": 89,
   "id": "ce602bcf",
   "metadata": {},
   "outputs": [
    {
     "name": "stdout",
     "output_type": "stream",
     "text": [
      "arr3_mul: [18  2 12 16 14]\n"
     ]
    }
   ],
   "source": [
    "# Your code here\n",
    "arr3_multiplied = np.multiply(arr3,2)\n",
    "print(\"arr3_mul:\", arr3_multiplied)"
   ]
  },
  {
   "cell_type": "markdown",
   "id": "dc214b11",
   "metadata": {},
   "source": [
    "<details><summary><span style=\"color:red\">Help</span> (Use this only as a last resort!!)</summary>\n",
    "\n",
    "```python\n",
    "arr3_multiplied = arr3 * 2\n",
    "print(\"arr3 multiplied by 2:\",arr3_multiplied)\n",
    "```\n",
    "Output:\n",
    "```\n",
    "arr3 multiplied by 2: [ 4  4  8 20  6]\n",
    "```\n",
    "</details>"
   ]
  },
  {
   "cell_type": "markdown",
   "id": "8a0a3ee2",
   "metadata": {},
   "source": [
    "d) Calculate the dot product of 'arr1' and 'arr3'. Store the result in 'dot_product'. Note: arr1 and arr3 have different sizes, so you will need to take the first 5 elements of arr1 to compute the dot product"
   ]
  },
  {
   "cell_type": "code",
   "execution_count": 90,
   "id": "d0d24424",
   "metadata": {},
   "outputs": [
    {
     "name": "stdout",
     "output_type": "stream",
     "text": [
      "dot_product: 375\n"
     ]
    }
   ],
   "source": [
    "# Your code here\n",
    "\n",
    "dot_product = np.dot(arr1[:5],arr3)\n",
    "print(\"dot_product:\",dot_product)"
   ]
  },
  {
   "cell_type": "markdown",
   "id": "740319dc",
   "metadata": {},
   "source": [
    "<details><summary><span style=\"color:red\">Help</span> (Use this only as a last resort!!)</summary>\n",
    "\n",
    "```python\n",
    "dot_product = np.dot(arr1[:5],arr3)\n",
    "print(\"Dot product of arr1[:5] and arr3:\",dot_product))\n",
    "```\n",
    "Output:\n",
    "```\n",
    "Dot product of arr1[:5] and arr3: 262\n",
    "```\n",
    "</details>"
   ]
  },
  {
   "cell_type": "markdown",
   "id": "512ff3c4",
   "metadata": {},
   "source": [
    "### Array Indexing and Slicing\n",
    "a) Extract the first 3 elements of 'arr1' and store them in 'first_three'."
   ]
  },
  {
   "cell_type": "code",
   "execution_count": 91,
   "id": "53e1cee8",
   "metadata": {},
   "outputs": [
    {
     "name": "stdout",
     "output_type": "stream",
     "text": [
      "[10 11 12]\n"
     ]
    }
   ],
   "source": [
    "# Your code here\n",
    "first_three = arr1[:3]\n",
    "print(first_three)\n"
   ]
  },
  {
   "cell_type": "markdown",
   "id": "b72246d8",
   "metadata": {},
   "source": [
    "<details><summary><span style=\"color:red\">Help</span> (Use this only as a last resort!!)</summary>\n",
    "\n",
    "```python\n",
    "first_three = arr1[:3]\n",
    "print(\"\\nFirst three elements of arr1:\",first_three)\n",
    "```\n",
    "Output:\n",
    "```\n",
    "First three elements of arr1: [10 11 12]\n",
    "```\n",
    "</details>"
   ]
  },
  {
   "cell_type": "markdown",
   "id": "c08240dc",
   "metadata": {},
   "source": [
    "b) Extract the last 4 elements of 'arr2' and store them in 'last_four'."
   ]
  },
  {
   "cell_type": "code",
   "execution_count": 92,
   "id": "e4524823",
   "metadata": {},
   "outputs": [
    {
     "name": "stdout",
     "output_type": "stream",
     "text": [
      "lastFour: [0.66666667 0.77777778 0.88888889 1.        ]\n"
     ]
    }
   ],
   "source": [
    "# Your code here\n",
    "last_four = arr2[-4:]\n",
    "print(\"lastFour:\",last_four)"
   ]
  },
  {
   "cell_type": "markdown",
   "id": "be376279",
   "metadata": {},
   "source": [
    "<details><summary><span style=\"color:red\">Help</span> (Use this only as a last resort!!)</summary>\n",
    "\n",
    "```python\n",
    "last_four = arr2[-4:]\n",
    "print(\"Last four elements of arr2:\",last_four)\n",
    "```\n",
    "Output:\n",
    "```\n",
    "Last four elements of arr2: [0.66666667 0.77777778 0.88888889 1.        ]\n",
    "```\n",
    "</details>"
   ]
  },
  {
   "cell_type": "markdown",
   "id": "274cd3a7",
   "metadata": {},
   "source": [
    "c) Extract every other element of 'arr1' starting from the second element (index 1) and store them in 'every_other'."
   ]
  },
  {
   "cell_type": "code",
   "execution_count": 93,
   "id": "8359bb59",
   "metadata": {},
   "outputs": [
    {
     "name": "stdout",
     "output_type": "stream",
     "text": [
      "every_other: [11 12 13 14 15 16 17 18 19 20]\n"
     ]
    }
   ],
   "source": [
    "# Your code here\n",
    "every_other = arr1[1:]\n",
    "print(\"every_other:\",every_other)"
   ]
  },
  {
   "cell_type": "markdown",
   "id": "05f6a092",
   "metadata": {},
   "source": [
    "<details><summary><span style=\"color:red\">Help</span> (Use this only as a last resort!!)</summary>\n",
    "\n",
    "```python\n",
    "every_other = arr1[1::2]\n",
    "print(\"Every other element of arr1 starting from the second element:\",every_other)\n",
    "```\n",
    "Output:\n",
    "```\n",
    "Every other element of arr1 starting from the second element: [11 13 15 17 19]\n",
    "```\n",
    "</details>"
   ]
  },
  {
   "cell_type": "markdown",
   "id": "aebfa1b2",
   "metadata": {},
   "source": [
    "## Task 02: NumPy 2D Arrays\n",
    "\n",
    "### Array Creation"
   ]
  },
  {
   "cell_type": "markdown",
   "id": "58af29be",
   "metadata": {},
   "source": [
    "a) Create a 2D NumPy array named 'matrix1' with shape (3, 4) containing integers from 1 to 12."
   ]
  },
  {
   "cell_type": "code",
   "execution_count": 94,
   "id": "1d248385",
   "metadata": {},
   "outputs": [
    {
     "name": "stdout",
     "output_type": "stream",
     "text": [
      "[[ 1  2  3  4]\n",
      " [ 5  6  7  8]\n",
      " [ 9 10 11 12]]\n"
     ]
    },
    {
     "data": {
      "text/plain": [
       "(None,)"
      ]
     },
     "execution_count": 94,
     "metadata": {},
     "output_type": "execute_result"
    }
   ],
   "source": [
    "#import numpy as np #Uncomment if needed\n",
    "import numpy as np\n",
    "matrix1 = np.arange(1,13).reshape(3,4)\n",
    "print(matrix1),"
   ]
  },
  {
   "cell_type": "code",
   "execution_count": 95,
   "id": "38a646cf",
   "metadata": {},
   "outputs": [],
   "source": [
    "# Your code here"
   ]
  },
  {
   "cell_type": "markdown",
   "id": "8709e318",
   "metadata": {},
   "source": [
    "<details><summary><span style=\"color:red\">Help</span> (Use this only as a last resort!!)</summary>\n",
    "\n",
    "```python\n",
    "matrix1 = np.arange(1,13).reshape(3,4)\n",
    "print(\"\\nmatrix1:\\n\",matrix1)\n",
    "```\n",
    "Output:\n",
    "```\n",
    "matrix1:\n",
    " [[ 1  2  3  4]\n",
    " [ 5  6  7  8]\n",
    " [ 9 10 11 12]]\n",
    "```\n",
    "</details>"
   ]
  },
  {
   "cell_type": "markdown",
   "id": "f52eff6c",
   "metadata": {},
   "source": [
    "b) Create a 2D NumPy array named 'matrix2' with shape (4, 2) containing random floating-point numbers between 0 and 1."
   ]
  },
  {
   "cell_type": "code",
   "execution_count": 96,
   "id": "dad1a6b2",
   "metadata": {},
   "outputs": [
    {
     "name": "stdout",
     "output_type": "stream",
     "text": [
      "Matrix2 = [[0.41914163 0.63381511]\n",
      " [0.38866258 0.5013927 ]\n",
      " [0.16527971 0.85221098]\n",
      " [0.42199884 0.96147701]]\n"
     ]
    }
   ],
   "source": [
    "# Your code here\n",
    "matrix2 = np.random.rand(4,2)\n",
    "print(\"Matrix2 =\",matrix2)"
   ]
  },
  {
   "cell_type": "markdown",
   "id": "e56cc753",
   "metadata": {},
   "source": [
    "<details><summary><span style=\"color:red\">Help</span> (Use this only as a last resort!!)</summary>\n",
    "\n",
    "```python\n",
    "matrix2 = np.random.rand(4,2)\n",
    "print(\"\\nmatrix2:\\n\",matrix2)\n",
    "```\n",
    "Output:\n",
    "```\n",
    "matrix2:\n",
    " [[0.93888543 0.95916952]\n",
    " [0.14125115 0.4530356 ]\n",
    " [0.38127538 0.97827993]\n",
    " [0.30541794 0.00375518]]\n",
    "```\n",
    "**Note**: The numbers may differ due to randomness.\n",
    "    \n",
    "</details>"
   ]
  },
  {
   "cell_type": "markdown",
   "id": "85112abe",
   "metadata": {},
   "source": [
    "c) Create a 2D NumPy array named 'identity_matrix' that is a 4x4 identity matrix."
   ]
  },
  {
   "cell_type": "code",
   "execution_count": 97,
   "id": "983bddb1",
   "metadata": {},
   "outputs": [
    {
     "name": "stdout",
     "output_type": "stream",
     "text": [
      "identity_matrix:\n",
      " [[1. 0. 0. 0.]\n",
      " [0. 1. 0. 0.]\n",
      " [0. 0. 1. 0.]\n",
      " [0. 0. 0. 1.]]\n"
     ]
    }
   ],
   "source": [
    "# Your code here\n",
    "identity_matrix = np.eye(4)\n",
    "print(\"identity_matrix:\\n\",identity_matrix)"
   ]
  },
  {
   "cell_type": "markdown",
   "id": "f4f526cd",
   "metadata": {},
   "source": [
    "<details><summary><span style=\"color:red\">Help</span> (Use this only as a last resort!!)</summary>\n",
    "\n",
    "```python\n",
    "identity_matrix = np.eye(4)\n",
    "print(\"\\nidentity_matrix:\\n\",identity_matrix)\n",
    "```\n",
    "Output:\n",
    "```\n",
    "identity_matrix:\n",
    " [[1. 0. 0. 0.]\n",
    " [0. 1. 0. 0.]\n",
    " [0. 0. 1. 0.]\n",
    " [0. 0. 0. 1.]]\n",
    "```\n",
    "</details>"
   ]
  },
  {
   "cell_type": "markdown",
   "id": "3c700ded",
   "metadata": {},
   "source": [
    "### Array Operations\n",
    "a) Calculate the element-wise sum of 'matrix1' and a new matrix with the same shape containing all ones. Store the result in 'matrix1_plus_ones'."
   ]
  },
  {
   "cell_type": "code",
   "execution_count": 98,
   "id": "2875f1ad",
   "metadata": {},
   "outputs": [
    {
     "name": "stdout",
     "output_type": "stream",
     "text": [
      "matrix1sum:\n",
      " [[ 2.  3.  4.  5.]\n",
      " [ 6.  7.  8.  9.]\n",
      " [10. 11. 12. 13.]]\n"
     ]
    }
   ],
   "source": [
    "# Your code here\n",
    "matrix1_plus_ones = matrix1 + np.ones(matrix1.shape)\n",
    "print(\"matrix1sum:\\n\",matrix1_plus_ones)"
   ]
  },
  {
   "cell_type": "markdown",
   "id": "7f9c7549",
   "metadata": {},
   "source": [
    "<details><summary><span style=\"color:red\">Help</span> (Use this only as a last resort!!)</summary>\n",
    "\n",
    "```python\n",
    "matrix1_plus_ones = matrix1 + np.ones(matrix1.shape)\n",
    "print(\"\\nmatrix1 + ones:\\n\",matrix1_plus_ones)\n",
    "```\n",
    "Output:\n",
    "```\n",
    "matrix1 + ones:\n",
    " [[ 2.  3.  4.  5.]\n",
    " [ 6.  7.  8.  9.]\n",
    " [10. 11. 12. 13.]]\n",
    "```\n",
    "</details>"
   ]
  },
  {
   "cell_type": "markdown",
   "id": "19a6db6e",
   "metadata": {},
   "source": [
    "b) Perform matrix multiplication (dot product) of 'matrix1' and 'matrix2'. Store the result in 'matrix_mult'."
   ]
  },
  {
   "cell_type": "code",
   "execution_count": 99,
   "id": "b1e9d869",
   "metadata": {},
   "outputs": [
    {
     "name": "stdout",
     "output_type": "stream",
     "text": [
      "[[ 3.38030127  8.03914147]\n",
      " [ 8.96063231 19.83472465]\n",
      " [14.54096335 31.63030783]]\n"
     ]
    }
   ],
   "source": [
    "# Your code here\n",
    "matrix_mult = np.dot(matrix1,matrix2)\n",
    "print(matrix_mult)"
   ]
  },
  {
   "cell_type": "markdown",
   "id": "eb539adb",
   "metadata": {},
   "source": [
    "<details><summary><span style=\"color:red\">Help</span> (Use this only as a last resort!!)</summary>\n",
    "\n",
    "```python\n",
    "matrix_mult = np.dot(matrix1,matrix2)\n",
    "print(\"\\nmatrix1 * matrix2:\\n\",matrix_mult)\n",
    "```\n",
    "Output:\n",
    "```\n",
    "matrix1 * matrix2:\n",
    " [[ 3.58688565  4.81510121]\n",
    " [10.65420527 14.3920621 ]\n",
    " [17.72152489 23.969023  ]]\n",
    "```\n",
    "</details>"
   ]
  },
  {
   "cell_type": "markdown",
   "id": "a675cec0",
   "metadata": {},
   "source": [
    "c) Calculate the transpose of 'matrix1'. Store the result in 'matrix1_transposed'."
   ]
  },
  {
   "cell_type": "code",
   "execution_count": 122,
   "id": "3ef71bb5",
   "metadata": {},
   "outputs": [
    {
     "name": "stdout",
     "output_type": "stream",
     "text": [
      "[[ 1  5  9]\n",
      " [ 2  6 10]\n",
      " [ 3  7 11]\n",
      " [ 4  8 12]]\n"
     ]
    }
   ],
   "source": [
    "# Your code here\n",
    "matrix1_transposed = np.transpose(matrix1)\n",
    "print(matrix1_transposed)"
   ]
  },
  {
   "cell_type": "markdown",
   "id": "ed21fe6e",
   "metadata": {},
   "source": [
    "<details><summary><span style=\"color:red\">Help</span> (Use this only as a last resort!!)</summary>\n",
    "\n",
    "```python\n",
    "matrix1_transposed = matrix1.T\n",
    "print(\"\\nTranspose of matrix1:\\n\",matrix1_transposed)\n",
    "```\n",
    "Output:\n",
    "```\n",
    "Transpose of matrix1:\n",
    " [[ 1  5  9]\n",
    " [ 2  6 10]\n",
    " [ 3  7 11]\n",
    " [ 4  8 12]]\n",
    "```\n",
    "</details>"
   ]
  },
  {
   "cell_type": "markdown",
   "id": "bfd338a6",
   "metadata": {},
   "source": [
    "d) Calculate the sum of each column in 'matrix1'. Store the result in 'column_sums'."
   ]
  },
  {
   "cell_type": "code",
   "execution_count": 130,
   "id": "fa837feb",
   "metadata": {},
   "outputs": [
    {
     "name": "stdout",
     "output_type": "stream",
     "text": [
      "[[ 1  2  3  4]\n",
      " [ 5  6  7  8]\n",
      " [ 9 10 11 12]]\n",
      "col_sum [15 18 21 24]\n"
     ]
    }
   ],
   "source": [
    "# Your code here\n",
    "column_sums = np.sum(matrix1, axis = 0)\n",
    "print(matrix1)\n",
    "\n",
    "\n",
    "print(\"col_sum\",column_sums)"
   ]
  },
  {
   "cell_type": "markdown",
   "id": "a9459484",
   "metadata": {},
   "source": [
    "<details><summary><span style=\"color:red\">Help</span> (Use this only as a last resort!!)</summary>\n",
    "\n",
    "```python\n",
    "column_sums = np.sum(matrix1,axis=0)\n",
    "print(\"\\nSum of each column in matrix1:\",column_sums)\n",
    "```\n",
    "Output:\n",
    "```\n",
    "Sum of each column in matrix1: [15 18 21 24]\n",
    "```\n",
    "</details>"
   ]
  },
  {
   "cell_type": "markdown",
   "id": "89fe60c4",
   "metadata": {},
   "source": [
    "e) Calculate the mean of each row in 'matrix1'. Store the result in 'row_means'."
   ]
  },
  {
   "cell_type": "code",
   "execution_count": 131,
   "id": "f0c1e5bd",
   "metadata": {},
   "outputs": [
    {
     "name": "stdout",
     "output_type": "stream",
     "text": [
      "row_mean [ 2.5  6.5 10.5]\n"
     ]
    }
   ],
   "source": [
    "# Your code here\n",
    "row_means = np.mean(matrix1,axis = 1)\n",
    "print(\"row_mean\",row_means)"
   ]
  },
  {
   "cell_type": "markdown",
   "id": "fa4df5ee",
   "metadata": {},
   "source": [
    "<details><summary><span style=\"color:red\">Help</span> (Use this only as a last resort!!)</summary>\n",
    "\n",
    "```python\n",
    "row_means = np.mean(matrix1,axis=1)\n",
    "print(\"Mean of each row in matrix1:\",row_means)\n",
    "```\n",
    "Output:\n",
    "```\n",
    "Mean of each row in matrix1: [ 2.5  6.5 10.5]\n",
    "```\n",
    "</details>"
   ]
  },
  {
   "cell_type": "markdown",
   "id": "8a327153",
   "metadata": {},
   "source": [
    "### Array Indexing and Slicing\n",
    "a) Extract the element at row 1, column 2 of 'matrix1'. Store the result in 'element'."
   ]
  },
  {
   "cell_type": "code",
   "execution_count": 132,
   "id": "c5018f3d",
   "metadata": {},
   "outputs": [
    {
     "name": "stdout",
     "output_type": "stream",
     "text": [
      "7\n"
     ]
    }
   ],
   "source": [
    "# Your code here\n",
    "element = matrix1[1,2]\n",
    "print(element)"
   ]
  },
  {
   "cell_type": "markdown",
   "id": "4356f5a6",
   "metadata": {},
   "source": [
    "<details><summary><span style=\"color:red\">Help</span> (Use this only as a last resort!!)</summary>\n",
    "\n",
    "```python\n",
    "element = matrix1[1,2]\n",
    "print(\"\\nElement at row 1, column 2 of matrix1:\",element)\n",
    "```\n",
    "Output:\n",
    "```\n",
    "Element at row 1, column 2 of matrix1: 7\n",
    "```\n",
    "</details>"
   ]
  },
  {
   "cell_type": "markdown",
   "id": "31356708",
   "metadata": {},
   "source": [
    "b) Extract the first two rows of 'matrix1' and store them in 'first_two_rows'."
   ]
  },
  {
   "cell_type": "code",
   "execution_count": 153,
   "id": "5836ea79",
   "metadata": {},
   "outputs": [
    {
     "name": "stdout",
     "output_type": "stream",
     "text": [
      "[[1 2 3 4]\n",
      " [5 6 7 8]]\n"
     ]
    }
   ],
   "source": [
    "# Your code here\n",
    "first_two_rows = matrix1[:2]\n",
    "print(first_two_rows)"
   ]
  },
  {
   "cell_type": "markdown",
   "id": "14185913",
   "metadata": {},
   "source": [
    "<details><summary><span style=\"color:red\">Help</span> (Use this only as a last resort!!)</summary>\n",
    "\n",
    "```python\n",
    "first_two_rows = matrix1[:2,:]\n",
    "print(\"First two rows of matrix1:\\n\",first_two_rows)\n",
    "```\n",
    "Output:\n",
    "```\n",
    "First two rows of matrix1:\n",
    " [[1 2 3 4]\n",
    " [5 6 7 8]]\n",
    "```\n",
    "</details>"
   ]
  },
  {
   "cell_type": "markdown",
   "id": "3e389130",
   "metadata": {},
   "source": [
    "c) Extract the last column of 'matrix1' and store it in 'last_column'."
   ]
  },
  {
   "cell_type": "code",
   "execution_count": 155,
   "id": "f8fdbc0f",
   "metadata": {},
   "outputs": [
    {
     "name": "stdout",
     "output_type": "stream",
     "text": [
      "[ 4  8 12]\n"
     ]
    }
   ],
   "source": [
    "# Your code here\n",
    "last_column = matrix1[:,-1]\n",
    "print(last_column)"
   ]
  },
  {
   "cell_type": "markdown",
   "id": "0392ce33",
   "metadata": {},
   "source": [
    "<details><summary><span style=\"color:red\">Help</span> (Use this only as a last resort!!)</summary>\n",
    "\n",
    "```python\n",
    "last_column = matrix1[:,-1]\n",
    "print(\"Last column of matrix1:\",last_column)\n",
    "```\n",
    "Output:\n",
    "```\n",
    "Last column of matrix1: [ 4  8 12]\n",
    "```\n",
    "</details>"
   ]
  },
  {
   "cell_type": "markdown",
   "id": "c6f12ee7",
   "metadata": {},
   "source": [
    "d) Extract a submatrix from 'matrix1' consisting of rows 0 and 1, and columns 1 and 2. Store it in 'submatrix'."
   ]
  },
  {
   "cell_type": "code",
   "execution_count": 158,
   "id": "ac236929",
   "metadata": {},
   "outputs": [
    {
     "name": "stdout",
     "output_type": "stream",
     "text": [
      "[[2 3]\n",
      " [6 7]]\n"
     ]
    }
   ],
   "source": [
    "# Your code here\n",
    "submatrix = matrix1[:2,1:3]\n",
    "print(submatrix)"
   ]
  },
  {
   "cell_type": "markdown",
   "id": "6b436618",
   "metadata": {},
   "source": [
    "<details><summary><span style=\"color:red\">Help</span> (Use this only as a last resort!!)</summary>\n",
    "\n",
    "```python\n",
    "submatrix = matrix1[:2,1:3]\n",
    "print(\"Submatrix of matrix1:\\n\",submatrix)\n",
    "```\n",
    "Output:\n",
    "```\n",
    "Submatrix of matrix1:\n",
    " [[2 3]\n",
    " [6 7]]\n",
    "```\n",
    "</details>"
   ]
  },
  {
   "cell_type": "markdown",
   "id": "6e61d6db",
   "metadata": {},
   "source": [
    "## Task 03: Analyzing Student Performance\n",
    "This task uses the Student Performance in Exams dataset to explore relationships between various factors and student scores. You will practice using Pandas, Numpy, and Scipy to analyze real-world data, as well as get a glimpse on simple visualization techniques."
   ]
  },
  {
   "cell_type": "code",
   "execution_count": 107,
   "id": "20e93238",
   "metadata": {},
   "outputs": [],
   "source": [
    "# Install necessary libraries (if you haven't already):\n",
    "# !pip install pandas numpy scipy matplotlib seaborn\n",
    "\n",
    "import pandas as pd\n",
    "import numpy as np\n",
    "import scipy.stats as stats\n",
    "import matplotlib.pyplot as plt # for simple plots\n",
    "import seaborn as sns # for better plots"
   ]
  },
  {
   "cell_type": "markdown",
   "id": "8aa4e17e",
   "metadata": {},
   "source": [
    "First of all, read 'files/StudentsPerformance.csv' into the dataframe `df`."
   ]
  },
  {
   "cell_type": "code",
   "execution_count": 160,
   "id": "4875679e",
   "metadata": {},
   "outputs": [
    {
     "name": "stdout",
     "output_type": "stream",
     "text": [
      "     gender race/ethnicity parental level of education         lunch  \\\n",
      "0    female        group B           bachelor's degree      standard   \n",
      "1    female        group C                some college      standard   \n",
      "2    female        group B             master's degree      standard   \n",
      "3      male        group A          associate's degree  free/reduced   \n",
      "4      male        group C                some college      standard   \n",
      "..      ...            ...                         ...           ...   \n",
      "995  female        group E             master's degree      standard   \n",
      "996    male        group C                 high school  free/reduced   \n",
      "997  female        group C                 high school  free/reduced   \n",
      "998  female        group D                some college      standard   \n",
      "999  female        group D                some college  free/reduced   \n",
      "\n",
      "    test preparation course  math score  reading score  writing score  \n",
      "0                      none          72             72             74  \n",
      "1                 completed          69             90             88  \n",
      "2                      none          90             95             93  \n",
      "3                      none          47             57             44  \n",
      "4                      none          76             78             75  \n",
      "..                      ...         ...            ...            ...  \n",
      "995               completed          88             99             95  \n",
      "996                    none          62             55             55  \n",
      "997               completed          59             71             65  \n",
      "998               completed          68             78             77  \n",
      "999                    none          77             86             86  \n",
      "\n",
      "[1000 rows x 8 columns]\n"
     ]
    }
   ],
   "source": [
    "# Your code here\n",
    "df = pd.read_csv(\"files/StudentsPerformance.csv\")\n",
    "print(df)"
   ]
  },
  {
   "cell_type": "markdown",
   "id": "64c3fab1",
   "metadata": {},
   "source": [
    "<details><summary><span style=\"color:red\">Help</span> (Use this only as a last resort!!)</summary>\n",
    "\n",
    "```python\n",
    "try:\n",
    "    df = pd.read_csv('files/StudentsPerformance.csv')\n",
    "except FileNotFoundError:\n",
    "    print(\"Please upload the StudentsPerformance.csv file or place it in the same directory as the notebook\")\n",
    "    raise #stop execution\n",
    "```\n",
    "</details>"
   ]
  },
  {
   "cell_type": "markdown",
   "id": "d6c45d77",
   "metadata": {},
   "source": [
    "Then, explore the dataset a little bit. Show the first 5 rows, and explore the dataframe's basic information using `.info()`."
   ]
  },
  {
   "cell_type": "code",
   "execution_count": 164,
   "id": "bd385d07",
   "metadata": {},
   "outputs": [
    {
     "name": "stdout",
     "output_type": "stream",
     "text": [
      "   gender race/ethnicity parental level of education         lunch  \\\n",
      "0  female        group B           bachelor's degree      standard   \n",
      "1  female        group C                some college      standard   \n",
      "2  female        group B             master's degree      standard   \n",
      "3    male        group A          associate's degree  free/reduced   \n",
      "4    male        group C                some college      standard   \n",
      "\n",
      "  test preparation course  math score  reading score  writing score  \n",
      "0                    none          72             72             74  \n",
      "1               completed          69             90             88  \n",
      "2                    none          90             95             93  \n",
      "3                    none          47             57             44  \n",
      "4                    none          76             78             75  \n",
      "<class 'pandas.core.frame.DataFrame'>\n",
      "RangeIndex: 1000 entries, 0 to 999\n",
      "Data columns (total 8 columns):\n",
      " #   Column                       Non-Null Count  Dtype \n",
      "---  ------                       --------------  ----- \n",
      " 0   gender                       1000 non-null   object\n",
      " 1   race/ethnicity               1000 non-null   object\n",
      " 2   parental level of education  1000 non-null   object\n",
      " 3   lunch                        1000 non-null   object\n",
      " 4   test preparation course      1000 non-null   object\n",
      " 5   math score                   1000 non-null   int64 \n",
      " 6   reading score                1000 non-null   int64 \n",
      " 7   writing score                1000 non-null   int64 \n",
      "dtypes: int64(3), object(5)\n",
      "memory usage: 62.6+ KB\n",
      "None\n"
     ]
    }
   ],
   "source": [
    "# Your code here\n",
    "print(df.head())\n",
    "print(df.info())"
   ]
  },
  {
   "cell_type": "markdown",
   "id": "2bf55898",
   "metadata": {},
   "source": [
    "<details><summary><span style=\"color:red\">Help</span> (Use this only as a last resort!!)</summary>\n",
    "\n",
    "```python\n",
    "print(\"First 5 rows of the dataset:\")\n",
    "print(df.head())\n",
    "print(\"Dataset Info:\")\n",
    "df.info()\n",
    "```\n",
    "Output:\n",
    "```\n",
    "First 5 rows of the dataset:\n",
    "   gender race/ethnicity parental level of education         lunch  \\\n",
    "0  female        group B           bachelor's degree      standard   \n",
    "1  female        group C                some college      standard   \n",
    "2  female        group B             master's degree      standard   \n",
    "3    male        group A          associate's degree  free/reduced   \n",
    "4    male        group C                some college      standard   \n",
    "\n",
    "  test preparation course  math score  reading score  writing score  \n",
    "0                    none          72             72             74  \n",
    "1               completed          69             90             88  \n",
    "2                    none          90             95             93  \n",
    "3                    none          47             57             44  \n",
    "4                    none          76             78             75  \n",
    "Dataset Info:\n",
    "<class 'pandas.core.frame.DataFrame'>\n",
    "RangeIndex: 1000 entries, 0 to 999\n",
    "Data columns (total 8 columns):\n",
    " #   Column                       Non-Null Count  Dtype \n",
    "---  ------                       --------------  ----- \n",
    " 0   gender                       1000 non-null   object\n",
    " 1   race/ethnicity               1000 non-null   object\n",
    " 2   parental level of education  1000 non-null   object\n",
    " 3   lunch                        1000 non-null   object\n",
    " 4   test preparation course      1000 non-null   object\n",
    " 5   math score                   1000 non-null   int64 \n",
    " 6   reading score                1000 non-null   int64 \n",
    " 7   writing score                1000 non-null   int64 \n",
    "dtypes: int64(3), object(5)\n",
    "memory usage: 62.6+ KB\n",
    "```\n",
    "</details>"
   ]
  },
  {
   "cell_type": "markdown",
   "id": "9488c430",
   "metadata": {},
   "source": [
    "### Basic Descriptive Statistics (Pandas/NumPy)\n",
    "a) What is the average math, reading, and writing score?"
   ]
  },
  {
   "cell_type": "code",
   "execution_count": 168,
   "id": "772ba523",
   "metadata": {},
   "outputs": [
    {
     "name": "stdout",
     "output_type": "stream",
     "text": [
      "Math 66.09\n",
      "Math 69.17\n",
      "Math 68.05\n"
     ]
    }
   ],
   "source": [
    "# Your code here\n",
    "print(\"Math\",round(df['math score'].mean(),2))\n",
    "print(\"reading\",round(df['reading score'].mean(),2))\n",
    "print(\"writing\",round(df['writing score'].mean(),2))"
   ]
  },
  {
   "cell_type": "markdown",
   "id": "754bd5d7",
   "metadata": {},
   "source": [
    "<details><summary><span style=\"color:red\">Help</span> (Use this only as a last resort!!)</summary>\n",
    "\n",
    "```python\n",
    "avg_math = df['math score'].mean()\n",
    "avg_reading = df['reading score'].mean()\n",
    "avg_writing = df['writing score'].mean()\n",
    "print(f\"\\nAverage Math Score: {avg_math:.2f}\")\n",
    "print(f\"Average Reading Score: {avg_reading:.2f}\")\n",
    "print(f\"Average Writing Score: {avg_writing:.2f}\")\n",
    "```\n",
    "Output:\n",
    "```\n",
    "Average Math Score: 66.09\n",
    "Average Reading Score: 69.17\n",
    "Average Writing Score: 68.05\n",
    "```\n",
    "</details>"
   ]
  },
  {
   "cell_type": "markdown",
   "id": "6fe53510",
   "metadata": {},
   "source": [
    "b) What is the standard deviation of each score?"
   ]
  },
  {
   "cell_type": "code",
   "execution_count": 173,
   "id": "26c3a7ba",
   "metadata": {},
   "outputs": [
    {
     "name": "stdout",
     "output_type": "stream",
     "text": [
      "Math std 15.16\n",
      "reading std 14.59\n",
      "writing std 15.19\n"
     ]
    }
   ],
   "source": [
    "# Your code here\n",
    "print(\"Math std\",round(np.std(df['math score']),2))\n",
    "print(\"reading std\",round(np.std(df['reading score']),2))\n",
    "print(\"writing std\",round(np.std(df['writing score']),2))\n"
   ]
  },
  {
   "cell_type": "markdown",
   "id": "7d6f1132",
   "metadata": {},
   "source": [
    "<details><summary><span style=\"color:red\">Help</span> (Use this only as a last resort!!)</summary>\n",
    "\n",
    "```python\n",
    "std_math = df['math score'].std()\n",
    "std_reading = df['reading score'].std()\n",
    "std_writing = df['writing score'].std()\n",
    "print(f\"\\nStandard Deviation Math Score: {std_math:.2f}\")\n",
    "print(f\"Standard Deviation Reading Score: {std_reading:.2f}\")\n",
    "print(f\"Standard Deviation Writing Score: {std_writing:.2f}\")\n",
    "```\n",
    "Output:\n",
    "```\n",
    "Standard Deviation Math Score: 15.16\n",
    "Standard Deviation Reading Score: 14.60\n",
    "Standard Deviation Writing Score: 15.20\n",
    "```\n",
    "</details>"
   ]
  },
  {
   "cell_type": "markdown",
   "id": "09f6e2ff",
   "metadata": {},
   "source": [
    "c) What is the range (max - min) of math scores?"
   ]
  },
  {
   "cell_type": "code",
   "execution_count": 178,
   "id": "2e79b9bb",
   "metadata": {},
   "outputs": [
    {
     "name": "stdout",
     "output_type": "stream",
     "text": [
      "100\n"
     ]
    }
   ],
   "source": [
    "# Your code here\n",
    "print((df['math score'].max()) - (df['math score'].min()))\n"
   ]
  },
  {
   "cell_type": "markdown",
   "id": "9b094619",
   "metadata": {},
   "source": [
    "<details><summary><span style=\"color:red\">Help</span> (Use this only as a last resort!!)</summary>\n",
    "\n",
    "```python\n",
    "math_range = df['math score'].max() - df['math score'].min()\n",
    "print(f\"\\nRange of Math Scores: {math_range}\"))\n",
    "```\n",
    "Output:\n",
    "```\n",
    "Range of Math Scores: 100\n",
    "```\n",
    "</details>"
   ]
  },
  {
   "cell_type": "markdown",
   "id": "95a085bd",
   "metadata": {},
   "source": [
    "### Grouped Statistics (Pandas)\n",
    "a) What is the average math score for each gender?"
   ]
  },
  {
   "cell_type": "code",
   "execution_count": 180,
   "id": "776319a1",
   "metadata": {},
   "outputs": [
    {
     "name": "stdout",
     "output_type": "stream",
     "text": [
      "gender\n",
      "female    63.633205\n",
      "male      68.728216\n",
      "Name: math score, dtype: float64\n"
     ]
    }
   ],
   "source": [
    "# Your code here\n",
    "print((df.groupby('gender')['math score'].mean()))\n"
   ]
  },
  {
   "cell_type": "markdown",
   "id": "a2d2cd94",
   "metadata": {},
   "source": [
    "<details><summary><span style=\"color:red\">Help</span> (Use this only as a last resort!!)</summary>\n",
    "\n",
    "```python\n",
    "avg_math_by_gender = df.groupby('gender')['math score'].mean()\n",
    "print(\"\\nAverage Math Score by Gender:\\n\", avg_math_by_gender)\n",
    "```\n",
    "Output:\n",
    "```\n",
    "Average Math Score by Gender:\n",
    " gender\n",
    "female    63.633205\n",
    "male      68.728216\n",
    "Name: math score, dtype: float64\n",
    "```\n",
    "</details>"
   ]
  },
  {
   "cell_type": "markdown",
   "id": "10a4a8eb",
   "metadata": {},
   "source": [
    "b) What is the average reading score for each parental level of education?"
   ]
  },
  {
   "cell_type": "code",
   "execution_count": 182,
   "id": "aa7663f8",
   "metadata": {},
   "outputs": [
    {
     "name": "stdout",
     "output_type": "stream",
     "text": [
      "parental level of education\n",
      "associate's degree    70.927928\n",
      "bachelor's degree     73.000000\n",
      "high school           64.704082\n",
      "master's degree       75.372881\n",
      "some college          69.460177\n",
      "some high school      66.938547\n",
      "Name: reading score, dtype: float64\n"
     ]
    }
   ],
   "source": [
    "# Your code here\n",
    "print((df.groupby('parental level of education')['reading score'].mean()))\n"
   ]
  },
  {
   "cell_type": "markdown",
   "id": "ed332107",
   "metadata": {},
   "source": [
    "<details><summary><span style=\"color:red\">Help</span> (Use this only as a last resort!!)</summary>\n",
    "\n",
    "```python\n",
    "avg_reading_by_parental_education = df.groupby('parental level of education')['reading score'].mean()\n",
    "print(\"\\nAverage Reading Score by Parental Education:\\n\", avg_reading_by_parental_education)\n",
    "```\n",
    "Output:\n",
    "```\n",
    "Average Reading Score by Parental Education:\n",
    " parental level of education\n",
    "associate's degree    70.927928\n",
    "bachelor's degree     73.000000\n",
    "high school           64.704082\n",
    "master's degree       75.372881\n",
    "some college          69.460177\n",
    "some high school      66.938547\n",
    "Name: reading score, dtype: float64\n",
    "```\n",
    "</details>"
   ]
  },
  {
   "cell_type": "markdown",
   "id": "fc9bf40a",
   "metadata": {},
   "source": [
    "c) Which race/ethnicity group has the highest average writing score?"
   ]
  },
  {
   "cell_type": "code",
   "execution_count": 194,
   "id": "431f9d37",
   "metadata": {},
   "outputs": [
    {
     "name": "stdout",
     "output_type": "stream",
     "text": [
      "\n",
      "Race/Ethnicity with Highest Average Writing Score: group E\n"
     ]
    }
   ],
   "source": [
    "avg_by_race = df.groupby('race/ethnicity')['writing score'].mean()\n",
    "highest_writing_race = avg_by_race.idxmax()\n",
    "print(f\"\\nRace/Ethnicity with Highest Average Writing Score: {highest_writing_race}\")"
   ]
  },
  {
   "cell_type": "markdown",
   "id": "ec6905fc",
   "metadata": {},
   "source": [
    "<details><summary><span style=\"color:red\">Help</span> (Use this only as a last resort!!)</summary>\n",
    "\n",
    "```python\n",
    "avg_writing_by_race = df.groupby('race/ethnicity')['writing score'].mean()\n",
    "highest_writing_race = avg_writing_by_race.idxmax()\n",
    "print(f\"\\nRace/Ethnicity with Highest Average Writing Score: {highest_writing_race}\")\n",
    "```\n",
    "Output:\n",
    "```\n",
    "Race/Ethnicity with Highest Average Writing Score: group E\n",
    "```\n",
    "</details>"
   ]
  },
  {
   "cell_type": "markdown",
   "id": "bd571dcc",
   "metadata": {},
   "source": [
    "### Correlation Analysis (NumPy/SciPy)\n",
    "\n",
    "a) Is there a correlation between math score and reading score?"
   ]
  },
  {
   "cell_type": "code",
   "execution_count": 199,
   "id": "925959f3",
   "metadata": {},
   "outputs": [
    {
     "name": "stdout",
     "output_type": "stream",
     "text": [
      "\n",
      "Correlation = 0.82\n"
     ]
    }
   ],
   "source": [
    "# Your code here\n",
    "correlation_math_reading = np.corrcoef(df['math score'], df['reading score'])[0, 1]\n",
    "print(f\"\\nCorrelation = {correlation_math_reading:.2f}\")"
   ]
  },
  {
   "cell_type": "markdown",
   "id": "36d1d94d",
   "metadata": {},
   "source": [
    "<details><summary><span style=\"color:red\">Help</span> (Use this only as a last resort!!)</summary>\n",
    "\n",
    "```python\n",
    "correlation_math_reading = np.corrcoef(df['math score'], df['reading score'])[0, 1]\n",
    "print(f\"\\nCorrelation between Math and Reading Scores: {correlation_math_reading:.2f}\")\n",
    "```\n",
    "Output:\n",
    "```\n",
    "Correlation between Math and Reading Scores: 0.82\n",
    "```\n",
    "</details>"
   ]
  },
  {
   "cell_type": "markdown",
   "id": "9bc26675",
   "metadata": {},
   "source": [
    "b) Perform a statistical test (Pearson correlation) to determine if the correlation between writing and reading score is statistically significant."
   ]
  },
  {
   "cell_type": "code",
   "execution_count": 204,
   "id": "b400b897",
   "metadata": {},
   "outputs": [
    {
     "name": "stdout",
     "output_type": "stream",
     "text": [
      "Correlation = PearsonRResult(statistic=np.float64(0.9545980771462479), pvalue=np.float64(0.0))\n"
     ]
    }
   ],
   "source": [
    "# Your code here\n",
    "correlation_writing_reading = stats.pearsonr(df['writing score'], df['reading score'])\n",
    "print(f\"Correlation = {correlation_writing_reading}\")\n"
   ]
  },
  {
   "cell_type": "markdown",
   "id": "68db4b50",
   "metadata": {},
   "source": [
    "<details><summary><span style=\"color:red\">Help</span> (Use this only as a last resort!!)</summary>\n",
    "\n",
    "```python\n",
    "correlation_writing_reading = stats.pearsonr(df['writing score'], df['reading score'])\n",
    "print(f\"Correlation test between Writing and Reading scores: {correlation_writing_reading}\")\n",
    "```\n",
    "Output:\n",
    "```\n",
    "Correlation test between Writing and Reading scores: PearsonRResult(statistic=0.9545980771462478, pvalue=0.0)\n",
    "```\n",
    "</details>"
   ]
  },
  {
   "cell_type": "markdown",
   "id": "f3f32ca5",
   "metadata": {},
   "source": [
    "## Optional: Introduction to Basic Data Visualization (Matplotlib/Seaborn)\n",
    "\n",
    "a) Create a box plot to visualize the distribution of math scores by lunch type."
   ]
  },
  {
   "cell_type": "code",
   "execution_count": 118,
   "id": "a3b27416",
   "metadata": {},
   "outputs": [],
   "source": [
    "# Your code here"
   ]
  },
  {
   "cell_type": "markdown",
   "id": "39903953",
   "metadata": {},
   "source": [
    "<details><summary><span style=\"color:red\">Help</span> (Use this only as a last resort!!)</summary>\n",
    "\n",
    "```python\n",
    "plt.figure(figsize=(8, 6))\n",
    "sns.boxplot(x='lunch', y='math score', data=df)\n",
    "plt.title('Math Scores by Lunch Type')\n",
    "plt.show()\n",
    "```\n",
    "</details>"
   ]
  },
  {
   "cell_type": "markdown",
   "id": "5adf471a",
   "metadata": {},
   "source": [
    "b) Create a violin plot to visualize the distribution of writing scores by race/ethnicity."
   ]
  },
  {
   "cell_type": "code",
   "execution_count": 119,
   "id": "c0300391",
   "metadata": {},
   "outputs": [],
   "source": [
    "# Your code here"
   ]
  },
  {
   "cell_type": "markdown",
   "id": "0745eccd",
   "metadata": {},
   "source": [
    "<details><summary><span style=\"color:red\">Help</span> (Use this only as a last resort!!)</summary>\n",
    "\n",
    "```python\n",
    "plt.figure(figsize=(10, 6))\n",
    "sns.violinplot(x='race/ethnicity', y='writing score', data=df)\n",
    "plt.title('Writing Scores by Race/Ethnicity')\n",
    "plt.show()\n",
    "```\n",
    "</details>"
   ]
  },
  {
   "cell_type": "markdown",
   "id": "295f3d70",
   "metadata": {},
   "source": [
    "## Optional: Advanced Questions about the Data\n",
    "\n",
    "a) Does test preparation course seem to have an impact on student performance? How can you analyze this?"
   ]
  },
  {
   "cell_type": "code",
   "execution_count": 120,
   "id": "810fea83",
   "metadata": {},
   "outputs": [],
   "source": [
    "# Your answer here"
   ]
  },
  {
   "cell_type": "markdown",
   "id": "56b62fd4",
   "metadata": {},
   "source": [
    "<details><summary><span style=\"color:red\">Help</span> (Use this only as a last resort!!)</summary>\n",
    "\n",
    "A possible answer:\n",
    "```\n",
    "We can compare the average scores of students who took the test preparation course with those who didn't using group statistics or statistical tests like t-tests.\n",
    "```\n",
    "</details>"
   ]
  },
  {
   "cell_type": "markdown",
   "id": "d1a2ff7f",
   "metadata": {},
   "source": [
    "b) Are there any interactions between parental level of education and race/ethnicity in terms of student performance? How could you investigate this?"
   ]
  },
  {
   "cell_type": "code",
   "execution_count": 121,
   "id": "e6e4b7f6",
   "metadata": {},
   "outputs": [],
   "source": [
    "# Your answer here"
   ]
  },
  {
   "cell_type": "markdown",
   "id": "ae96fead",
   "metadata": {},
   "source": [
    "<details><summary><span style=\"color:red\">Help</span> (Use this only as a last resort!!)</summary>\n",
    "\n",
    "A possible answer:\n",
    "```\n",
    "We could use groupby with multiple columns (e.g., df.groupby(['parental level of education', 'race/ethnicity']) and calculate average scores to see if there are any combined effects.\n",
    "```\n",
    "</details>"
   ]
  },
  {
   "cell_type": "markdown",
   "id": "9d7f5a16",
   "metadata": {},
   "source": [
    "<p style=\"text-align:center;\">That's it! Congratulations! <br> \n",
    "    Now, call an LA to check your solution. Then, upload your code on MyCourses.</p>"
   ]
  }
 ],
 "metadata": {
  "kernelspec": {
   "display_name": "Python 3",
   "language": "python",
   "name": "python3"
  },
  "language_info": {
   "codemirror_mode": {
    "name": "ipython",
    "version": 3
   },
   "file_extension": ".py",
   "mimetype": "text/x-python",
   "name": "python",
   "nbconvert_exporter": "python",
   "pygments_lexer": "ipython3",
   "version": "3.11.2"
  }
 },
 "nbformat": 4,
 "nbformat_minor": 5
}
