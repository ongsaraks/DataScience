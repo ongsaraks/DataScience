{
 "cells": [
  {
   "cell_type": "markdown",
   "id": "a44ee3ed",
   "metadata": {},
   "source": [
    "<p style=\"text-align:center\">\n",
    "    <a href=\"https://www.ict.mahidol.ac.th/en/\" target=\"_blank\">\n",
    "    <img src=\"https://www3.ict.mahidol.ac.th/ICTSurveysV2/Content/image/MUICT2.png\" width=\"400\" alt=\"Faculty of ICT\">\n",
    "    </a>\n",
    "</p>\n",
    "\n",
    "# Tutorial 03: Numerical Computation for Data Science\n",
    "\n",
    "NumPy, short for Numerical Python, is an open-source Python library essential for numerical computing. It's used extensively for array manipulation, linear algebra, Fourier transforms, and working with matrices. NumPy's core data structure is the `ndarray` (n-dimensional array), which comes with a rich set of functions simplifying array operations. Because data science often deals with large datasets where speed and efficient resource use are critical, arrays are fundamental, and NumPy provides optimized array handling. \n",
    "\n",
    "## This tutorial aims to teach you how to:\n",
    "\n",
    "* Use basic operations and datatypes of NumPy.\n",
    "* Perform NumPy array operations on 1D arrays.\n",
    "* Use various mathematical functions as well as linspace.\n",
    "* Basic operations for 2D arrays."
   ]
  },
  {
   "cell_type": "markdown",
   "id": "fe7837aa",
   "metadata": {},
   "source": [
    "## Exercise 01: Introduction to NumPy\n",
    "\n",
    "Typically imported as `np`, NumPy arrays have a fixed size and homogenous data type. Python lists can be converted to NumPy arrays after importing the library."
   ]
  },
  {
   "cell_type": "code",
   "execution_count": null,
   "id": "316c0a81",
   "metadata": {},
   "outputs": [],
   "source": [
    "import numpy as np"
   ]
  },
  {
   "cell_type": "markdown",
   "id": "d6ac5bd6",
   "metadata": {},
   "source": [
    "### Creating NumPy Arrays (ndarray)\n",
    "\n",
    "The core of NumPy is the ndarray object (n-dimensional array). Let's see how to create them:"
   ]
  },
  {
   "cell_type": "code",
   "execution_count": null,
   "id": "53bd79ca",
   "metadata": {},
   "outputs": [],
   "source": [
    "# From a Python list:\n",
    "my_list = [1, 2, 3, 4, 5]\n",
    "my_array = np.array(my_list)\n",
    "print(\"Array from list:\", my_array)\n",
    "print(type(my_array))"
   ]
  },
  {
   "cell_type": "code",
   "execution_count": null,
   "id": "ec126a98",
   "metadata": {},
   "outputs": [],
   "source": [
    "# From a Python tuple:\n",
    "my_tuple = (6, 7, 8, 9, 10)\n",
    "my_array_from_tuple = np.array(my_tuple)\n",
    "print(\"Array from tuple:\", my_array_from_tuple)"
   ]
  },
  {
   "cell_type": "code",
   "execution_count": null,
   "id": "d1178eb7",
   "metadata": {},
   "outputs": [],
   "source": [
    "# Creating specific arrays:\n",
    "zeros_array = np.zeros(5)  # Array of zeros\n",
    "print(\"\\nZeros array:\", zeros_array)"
   ]
  },
  {
   "cell_type": "code",
   "execution_count": null,
   "id": "11e79bf8",
   "metadata": {},
   "outputs": [],
   "source": [
    "ones_array = np.ones((2, 3)) # 2x3 array of ones\n",
    "print(\"Ones array:\\n\", ones_array)"
   ]
  },
  {
   "cell_type": "code",
   "execution_count": null,
   "id": "1d26ebe6",
   "metadata": {},
   "outputs": [],
   "source": [
    "arange_array = np.arange(0, 10, 2) # Array with values from 0 to 10 (exclusive), with a step of 2\n",
    "print(\"Arange array:\", arange_array)"
   ]
  },
  {
   "cell_type": "code",
   "execution_count": null,
   "id": "d4382995",
   "metadata": {},
   "outputs": [],
   "source": [
    "linspace_array = np.linspace(0, 1, 5) # Array with 5 evenly spaced values between 0 and 1 (inclusive)\n",
    "print(\"Linspace array:\", linspace_array)"
   ]
  },
  {
   "cell_type": "markdown",
   "id": "e7ba6e01",
   "metadata": {},
   "source": [
    "### Type (dtype)\n",
    "NumPy arrays are homogeneous, meaning they store elements of the same data type. The dtype attribute tells us the data type of the array elements."
   ]
  },
  {
   "cell_type": "code",
   "execution_count": null,
   "id": "66fd6335",
   "metadata": {},
   "outputs": [],
   "source": [
    "int_array = np.array([1, 2, 3])\n",
    "print(\"\\nInteger array type:\", int_array.dtype)"
   ]
  },
  {
   "cell_type": "code",
   "execution_count": null,
   "id": "7f5f4578",
   "metadata": {},
   "outputs": [],
   "source": [
    "float_array = np.array([1.0, 2.5, 3.7])\n",
    "print(\"Float array type:\", float_array.dtype)"
   ]
  },
  {
   "cell_type": "code",
   "execution_count": null,
   "id": "45905e4f",
   "metadata": {},
   "outputs": [],
   "source": [
    "string_array = np.array(['a', 'b', 'c'])\n",
    "print(\"String array type:\", string_array.dtype)"
   ]
  },
  {
   "cell_type": "code",
   "execution_count": null,
   "id": "f70574bc",
   "metadata": {
    "scrolled": true
   },
   "outputs": [],
   "source": [
    "# Explicitly setting the data type:\n",
    "int8_array = np.array([1, 2, 3], dtype=np.int8)\n",
    "print(\"Int8 array type:\", int8_array.dtype)"
   ]
  },
  {
   "cell_type": "markdown",
   "id": "fced28cb",
   "metadata": {},
   "source": [
    "### Assigning Values\n",
    "You can assign values to individual elements or slices of an array:"
   ]
  },
  {
   "cell_type": "code",
   "execution_count": null,
   "id": "a564e21d",
   "metadata": {},
   "outputs": [],
   "source": [
    "my_array = np.array([10, 20, 30, 40, 50])\n",
    "print(\"\\nOriginal array:\", my_array)"
   ]
  },
  {
   "cell_type": "code",
   "execution_count": null,
   "id": "e15418d1",
   "metadata": {},
   "outputs": [],
   "source": [
    "my_array[0] = 100 # Assign to index 0\n",
    "print(\"Array after assigning to index 0:\", my_array)"
   ]
  },
  {
   "cell_type": "code",
   "execution_count": null,
   "id": "087dd7f7",
   "metadata": {},
   "outputs": [],
   "source": [
    "my_array[-1]=500\n",
    "print(\"Array after assigning to last index:\", my_array)"
   ]
  },
  {
   "cell_type": "markdown",
   "id": "5711ce42",
   "metadata": {},
   "source": [
    "### Slicing\n",
    "Slicing allows you to extract portions of an array:"
   ]
  },
  {
   "cell_type": "code",
   "execution_count": null,
   "id": "bcc0e1dc",
   "metadata": {
    "scrolled": true
   },
   "outputs": [],
   "source": [
    "my_array = np.array([10, 20, 30, 40, 50])\n",
    "\n",
    "slice1 = my_array[1:4] # Elements from index 1 (inclusive) to 4 (exclusive)\n",
    "print(\"\\nSlice 1:\", slice1)"
   ]
  },
  {
   "cell_type": "code",
   "execution_count": null,
   "id": "7d502afb",
   "metadata": {},
   "outputs": [],
   "source": [
    "slice2 = my_array[:3] # Elements from the beginning up to index 3 (exclusive)\n",
    "print(\"Slice 2:\", slice2)"
   ]
  },
  {
   "cell_type": "code",
   "execution_count": null,
   "id": "69a773c0",
   "metadata": {},
   "outputs": [],
   "source": [
    "slice3 = my_array[2:] # Elements from index 2 (inclusive) to the end\n",
    "print(\"Slice 3:\", slice3)"
   ]
  },
  {
   "cell_type": "code",
   "execution_count": null,
   "id": "3c512fd5",
   "metadata": {},
   "outputs": [],
   "source": [
    "slice4 = my_array[:] # All the elements in the array\n",
    "print(\"Slice 4:\", slice4)"
   ]
  },
  {
   "cell_type": "markdown",
   "id": "41e6a570",
   "metadata": {},
   "source": [
    "A powerful feature of NumPy is the ability to assign a single value to an entire slice (broadcasting):"
   ]
  },
  {
   "cell_type": "code",
   "execution_count": null,
   "id": "669a0112",
   "metadata": {},
   "outputs": [],
   "source": [
    "my_array = np.array([10, 20, 30, 40, 50])\n",
    "print(\"\\nOriginal array:\", my_array)"
   ]
  },
  {
   "cell_type": "code",
   "execution_count": null,
   "id": "d3f5ddb5",
   "metadata": {},
   "outputs": [],
   "source": [
    "my_array[1:4] = 99 # Assign 99 to elements at indices 1, 2, and 3\n",
    "print(\"Array after assigning to slice:\", my_array)"
   ]
  },
  {
   "cell_type": "markdown",
   "id": "8ca17c46",
   "metadata": {},
   "source": [
    "Important Note about Slices:"
   ]
  },
  {
   "cell_type": "code",
   "execution_count": null,
   "id": "d4332b4b",
   "metadata": {},
   "outputs": [],
   "source": [
    "#Slices are views, not copies. Modifying a slice modifies the original array:\n",
    "my_array = np.array([10, 20, 30, 40, 50])\n",
    "my_slice = my_array[1:4]\n",
    "my_slice[:] = 0\n",
    "print(\"Original Array after slice modification:\", my_array)"
   ]
  },
  {
   "cell_type": "code",
   "execution_count": null,
   "id": "d91f743b",
   "metadata": {},
   "outputs": [],
   "source": [
    "#To make a copy, use .copy():\n",
    "my_array = np.array([10, 20, 30, 40, 50])\n",
    "my_slice = my_array[1:4].copy()\n",
    "my_slice[:] = 0\n",
    "print(\"Original Array after copy modification:\", my_array)"
   ]
  },
  {
   "cell_type": "markdown",
   "id": "f1d42592",
   "metadata": {},
   "source": [
    "Summary: This exercise covered the basics of NumPy arrays, including creation, data types, assigning values, slicing, and important array attributes. These are fundamental concepts for working with numerical data efficiently in Python for data science."
   ]
  },
  {
   "cell_type": "markdown",
   "id": "6db71b2a",
   "metadata": {},
   "source": [
    "## Exercise 02: 1D Array Operations\n",
    "\n",
    "Fundamental operations on one-dimensional (1D) NumPy arrays are essential for various data science tasks."
   ]
  },
  {
   "cell_type": "markdown",
   "id": "7ffcb596",
   "metadata": {},
   "source": [
    "### Creating NumPy 1D Arrays\n",
    "Let's start by creating some sample 1D arrays:"
   ]
  },
  {
   "cell_type": "code",
   "execution_count": null,
   "id": "afa12740",
   "metadata": {},
   "outputs": [],
   "source": [
    "arr1 = np.array([1, 2, 3, 4, 5])\n",
    "arr2 = np.array([6, 7, 8, 9, 10])\n",
    "\n",
    "print(\"Array 1:\", arr1)\n",
    "print(\"Array 2:\", arr2)"
   ]
  },
  {
   "cell_type": "markdown",
   "id": "ad325647",
   "metadata": {},
   "source": [
    "### Array Addition\n",
    "Adding two NumPy arrays performs element-wise addition:"
   ]
  },
  {
   "cell_type": "code",
   "execution_count": null,
   "id": "45479ac0",
   "metadata": {},
   "outputs": [],
   "source": [
    "arr_sum = arr1 + arr2\n",
    "print(\"\\nArray Addition (arr1 + arr2):\", arr_sum)"
   ]
  },
  {
   "cell_type": "code",
   "execution_count": null,
   "id": "bd12e751",
   "metadata": {},
   "outputs": [],
   "source": [
    "# You can also use the np.add() function:\n",
    "arr_sum_np = np.add(arr1,arr2)\n",
    "print(\"Array Addition using np.add(arr1,arr2):\", arr_sum_np)"
   ]
  },
  {
   "cell_type": "markdown",
   "id": "428e2700",
   "metadata": {},
   "source": [
    "### Array Multiplication\n",
    "Multiplying two NumPy arrays performs element-wise multiplication:"
   ]
  },
  {
   "cell_type": "code",
   "execution_count": null,
   "id": "195f54d6",
   "metadata": {},
   "outputs": [],
   "source": [
    "arr_product = arr1 * arr2\n",
    "print(\"\\nArray Multiplication (arr1 * arr2):\", arr_product)"
   ]
  },
  {
   "cell_type": "code",
   "execution_count": null,
   "id": "c52b5baf",
   "metadata": {},
   "outputs": [],
   "source": [
    "#You can also use the np.multiply() function:\n",
    "arr_product_np = np.multiply(arr1,arr2)\n",
    "print(\"Array Multiplication using np.multiply(arr1,arr2):\", arr_product_np)"
   ]
  },
  {
   "cell_type": "markdown",
   "id": "615cef35",
   "metadata": {},
   "source": [
    "### Product of Two NumPy Arrays (Element-wise)\n",
    "As shown above, the `*` operator performs element-wise multiplication. This is different from the dot product."
   ]
  },
  {
   "cell_type": "code",
   "execution_count": null,
   "id": "a54042c0",
   "metadata": {},
   "outputs": [],
   "source": [
    "#Example demonstrating element-wise multiplication again:\n",
    "arr_element_wise = arr1 * arr2\n",
    "print(\"\\nElement-wise Product (arr1 * arr2):\", arr_element_wise)"
   ]
  },
  {
   "cell_type": "markdown",
   "id": "03cdebbf",
   "metadata": {},
   "source": [
    "### Dot Product\n",
    "The dot product is a different type of multiplication. For 1D arrays, it calculates the sum of the element-wise products."
   ]
  },
  {
   "cell_type": "code",
   "execution_count": null,
   "id": "b573f7df",
   "metadata": {},
   "outputs": [],
   "source": [
    "dot_product = np.dot(arr1, arr2)  # Most common way\n",
    "print(\"\\nDot Product (np.dot(arr1, arr2)):\", dot_product)"
   ]
  },
  {
   "cell_type": "code",
   "execution_count": null,
   "id": "2f00a2aa",
   "metadata": {},
   "outputs": [],
   "source": [
    "dot_product_at = arr1 @ arr2 # Another way to calculate dot product\n",
    "print(\"Dot Product using @ operator (arr1 @ arr2):\", dot_product_at)"
   ]
  },
  {
   "cell_type": "code",
   "execution_count": null,
   "id": "07361ac8",
   "metadata": {},
   "outputs": [],
   "source": [
    "#Manual Calculation to demonstrate the dot product\n",
    "manual_dot_product = sum(arr1[i] * arr2[i] for i in range(len(arr1)))\n",
    "print(\"Manual Dot Product:\", manual_dot_product)"
   ]
  },
  {
   "cell_type": "markdown",
   "id": "6e74a678",
   "metadata": {},
   "source": [
    "### Adding a Constant to a NumPy Array\n",
    "You can add a constant value to each element of a NumPy array:"
   ]
  },
  {
   "cell_type": "code",
   "execution_count": null,
   "id": "8c85baec",
   "metadata": {},
   "outputs": [],
   "source": [
    "constant = 5\n",
    "arr_plus_constant = arr1 + constant\n",
    "print(\"\\nArray + Constant (arr1 + 5):\", arr_plus_constant)"
   ]
  },
  {
   "cell_type": "code",
   "execution_count": null,
   "id": "43eb2643",
   "metadata": {},
   "outputs": [],
   "source": [
    "#You can also use the np.add() function\n",
    "arr_plus_constant_np = np.add(arr1, constant)\n",
    "print(\"Array + Constant using np.add(arr1, 5):\", arr_plus_constant_np)"
   ]
  },
  {
   "cell_type": "markdown",
   "id": "5f60e9f6",
   "metadata": {},
   "source": [
    "### Important Considerations: Broadcasting\n",
    "\n",
    "Broadcasting is NumPy's way of handling operations between arrays of different shapes (under certain rules). In the case of adding a constant to an array, the constant is \"broadcast\" to all elements of the array."
   ]
  },
  {
   "cell_type": "code",
   "execution_count": null,
   "id": "f0701874",
   "metadata": {},
   "outputs": [],
   "source": [
    "# Example of broadcasting with a scalar (constant):\n",
    "arr = np.array([1,2,3])\n",
    "scalar = 10\n",
    "result = arr + scalar #scalar is broadcasted to each element of the array\n",
    "print(\"\\nBroadcasting Example:\", result)"
   ]
  },
  {
   "cell_type": "markdown",
   "id": "b41d2399",
   "metadata": {},
   "source": [
    "**Summary**: This exercise covered essential operations on 1D NumPy arrays, including addition, multiplication (element-wise and dot product), and adding a constant. These operations are fundamental building blocks for more complex data analysis and manipulation tasks in data science."
   ]
  },
  {
   "cell_type": "markdown",
   "id": "9435b76c",
   "metadata": {},
   "source": [
    "## Exercise 03: Mathematical Functions and Linspace\n",
    "This exercise explores essential mathematical functions in NumPy and introduces the linspace function, demonstrating its use in data science, particularly for plotting."
   ]
  },
  {
   "cell_type": "code",
   "execution_count": null,
   "id": "d86314b2",
   "metadata": {},
   "outputs": [],
   "source": [
    "import numpy as np \n",
    "import matplotlib.pyplot as plt  # For plotting (make sure matplotlib is installed: pip install matplotlib)"
   ]
  },
  {
   "cell_type": "markdown",
   "id": "415c3222",
   "metadata": {},
   "source": [
    "### Essential Mathematical Functions\n",
    "NumPy provides a wide range of mathematical functions that are crucial for data science. Here are some commonly used ones:"
   ]
  },
  {
   "cell_type": "code",
   "execution_count": null,
   "id": "3661ebd4",
   "metadata": {},
   "outputs": [],
   "source": [
    "arr = np.array([0, 1, 2, 3, 4, 5])\n",
    "\n",
    "# Trigonometric functions:\n",
    "sin_arr = np.sin(arr)\n",
    "cos_arr = np.cos(arr)\n",
    "tan_arr = np.tan(arr)\n",
    "\n",
    "print(\"Original array:\", arr)\n",
    "print(\"\\nSine values:\", sin_arr)\n",
    "print(\"Cosine values:\", cos_arr)\n",
    "print(\"Tangent values:\", tan_arr)"
   ]
  },
  {
   "cell_type": "code",
   "execution_count": null,
   "id": "8d3afa56",
   "metadata": {
    "scrolled": true
   },
   "outputs": [],
   "source": [
    "# Exponential and logarithmic functions:\n",
    "exp_arr = np.exp(arr)  # e^x\n",
    "log_arr = np.log(arr + 1)  # Natural logarithm (avoiding log(0))\n",
    "log2_arr = np.log2(arr+1) # Base 2 logarithm\n",
    "log10_arr = np.log10(arr+1) # Base 10 logarithm\n",
    "\n",
    "print(\"\\nExponential values:\", exp_arr)\n",
    "print(\"Natural logarithm values:\", log_arr)\n",
    "print(\"Base 2 logarithm values:\", log2_arr)\n",
    "print(\"Base 10 logarithm values:\", log10_arr)"
   ]
  },
  {
   "cell_type": "code",
   "execution_count": null,
   "id": "34cb1398",
   "metadata": {},
   "outputs": [],
   "source": [
    "# Other useful functions:\n",
    "sqrt_arr = np.sqrt(arr)  # Square root\n",
    "abs_arr = np.abs(np.array([-1, -2, 3, -4])) # Absolute value\n",
    "power_arr = np.power(arr, 2) #arr to the power of 2\n",
    "\n",
    "print(\"\\nSquare root values:\", sqrt_arr)\n",
    "print(\"Absolute values:\", abs_arr)\n",
    "print(\"Power values:\", power_arr)"
   ]
  },
  {
   "cell_type": "markdown",
   "id": "9c9cbde7",
   "metadata": {},
   "source": [
    "### Linspace: Creating Evenly Spaced Values\n",
    "The linspace function is incredibly useful for generating evenly spaced numbers over a specified interval. This is particularly important for creating data points for plotting and numerical analysis.\n",
    "\n",
    "`np.linspace(start, stop, num=50, endpoint=True, retstep=False, dtype=None, axis=0)`\n",
    "* `start`: The starting value of the sequence.\n",
    "* `stop`: The end value of the sequence, unless endpoint is set to False. In that case, the sequence consists of all but the last of num + 1 evenly spaced samples, so that stop is excluded. Note that the step size changes when endpoint is False.\n",
    "* `num`: Number of samples to generate. Default is 50. Must be non-negative.\n",
    "* `endpoint`: If True, stop is the last sample. Otherwise, it is not included. Default is True.\n",
    "* `retstep`: If True, returns (samples, step), where step is the spacing between the samples.\n",
    "* `dtype`: The type of the output array. If dtype is not given, infer the data type from the other input arguments.\n",
    "* `axis`: The axis in the result to store the samples. Only relevant if start or stop are array-like. By default (0), the samples will be along a new axis inserted at the beginning. Use -1 to get an axis at the end."
   ]
  },
  {
   "cell_type": "code",
   "execution_count": null,
   "id": "ca383e19",
   "metadata": {},
   "outputs": [],
   "source": [
    "# Example: Create 10 evenly spaced numbers between 0 and 10 (inclusive)\n",
    "x = np.linspace(0, 10, 10)\n",
    "print(\"\\nLinspace example:\", x)"
   ]
  },
  {
   "cell_type": "code",
   "execution_count": null,
   "id": "e3cf6fea",
   "metadata": {
    "scrolled": true
   },
   "outputs": [],
   "source": [
    "x_retstep = np.linspace(0, 10, 10, retstep=True)\n",
    "print(\"\\nLinspace example with retstep:\", x_retstep)"
   ]
  },
  {
   "cell_type": "code",
   "execution_count": null,
   "id": "7212a5b8",
   "metadata": {},
   "outputs": [],
   "source": [
    "x_endpoint_false = np.linspace(0, 10, 10, endpoint = False)\n",
    "print(\"\\nLinspace example with endpoint False:\", x_endpoint_false)"
   ]
  },
  {
   "cell_type": "markdown",
   "id": "73ea160d",
   "metadata": {},
   "source": [
    "### Plotting the sin() Function using Linspace\n",
    "Let's use linspace to generate x-values and then plot the sine function:"
   ]
  },
  {
   "cell_type": "code",
   "execution_count": null,
   "id": "f8396ae3",
   "metadata": {},
   "outputs": [],
   "source": [
    "x = np.linspace(0, 2 * np.pi, 100)  # Create 100 points between 0 and 2*pi\n",
    "y = np.sin(x)"
   ]
  },
  {
   "cell_type": "code",
   "execution_count": null,
   "id": "59aaaf16",
   "metadata": {},
   "outputs": [],
   "source": [
    "# Plotting\n",
    "plt.figure(figsize=(8, 6))  # Adjust figure size for better visualization\n",
    "plt.plot(x, y)\n",
    "plt.title(\"Plot of sin(x)\")\n",
    "plt.xlabel(\"x\")\n",
    "plt.ylabel(\"sin(x)\")\n",
    "plt.grid(True) # Add a grid for better readability\n",
    "plt.show()"
   ]
  },
  {
   "cell_type": "code",
   "execution_count": null,
   "id": "bd4a62e1",
   "metadata": {
    "scrolled": false
   },
   "outputs": [],
   "source": [
    "# Example of plotting other functions\n",
    "x = np.linspace(-5, 5, 100)\n",
    "y = x**2 #y=x^2\n",
    "\n",
    "plt.figure(figsize=(8,6))\n",
    "plt.plot(x,y)\n",
    "plt.title(\"Plot of x^2\")\n",
    "plt.xlabel(\"x\")\n",
    "plt.ylabel(\"x^2\")\n",
    "plt.grid(True)\n",
    "plt.show()"
   ]
  },
  {
   "cell_type": "markdown",
   "id": "82d9b512",
   "metadata": {},
   "source": [
    "**Summary**: This exercise covered essential mathematical functions in NumPy and demonstrated the power of linspace for generating evenly spaced values, particularly in the context of plotting. These tools are fundamental for data analysis, visualization, and various other data science tasks."
   ]
  },
  {
   "cell_type": "markdown",
   "id": "71f184b4",
   "metadata": {},
   "source": [
    "## Exercise 04: 2D Array Operations\n",
    "This exercise focuses on operations with two-dimensional (2D) NumPy arrays, which are essential for representing matrices and tabular data in data science."
   ]
  },
  {
   "cell_type": "code",
   "execution_count": null,
   "id": "fc23b554",
   "metadata": {},
   "outputs": [],
   "source": [
    "#import numpy as np"
   ]
  },
  {
   "cell_type": "markdown",
   "id": "d625abe4",
   "metadata": {},
   "source": [
    "### Creating and Displaying 2D NumPy Arrays\n",
    "Creating a 2D array from a list of lists:"
   ]
  },
  {
   "cell_type": "code",
   "execution_count": null,
   "id": "e73371eb",
   "metadata": {},
   "outputs": [],
   "source": [
    "list_of_lists = [[1, 2, 3], [4, 5, 6], [7, 8, 9]]\n",
    "arr_2d = np.array(list_of_lists)\n",
    "print(\"2D Array:\\n\", arr_2d)"
   ]
  },
  {
   "cell_type": "markdown",
   "id": "b879bc78",
   "metadata": {},
   "source": [
    "Creating a 2D array using other methods:"
   ]
  },
  {
   "cell_type": "code",
   "execution_count": null,
   "id": "6a64e12b",
   "metadata": {},
   "outputs": [],
   "source": [
    "zeros_2d = np.zeros((3, 4))  # 3 rows, 4 columns of zeros\n",
    "ones_2d = np.ones((2, 2), dtype=int) # 2x2 array of ones, integer type\n",
    "eye_2d = np.eye(4) # 4x4 Identity matrix\n",
    "\n",
    "print(\"\\nZeros 2D Array:\\n\", zeros_2d)\n",
    "print(\"Ones 2D Array:\\n\", ones_2d)\n",
    "print(\"Identity 2D Array:\\n\", eye_2d)"
   ]
  },
  {
   "cell_type": "markdown",
   "id": "3864cb85",
   "metadata": {},
   "source": [
    "### Accessing Elements of a 2D NumPy Array"
   ]
  },
  {
   "cell_type": "code",
   "execution_count": null,
   "id": "bf7659ae",
   "metadata": {},
   "outputs": [],
   "source": [
    "# Accessing elements using indexing (row, column):\n",
    "\n",
    "print(\"\\nElement at row 0, column 1:\", arr_2d[0, 1])  # Output: 2\n",
    "print(\"Element at row 1, column 2:\", arr_2d[1, 2])  # Output: 6\n",
    "print(\"Last element of the last row:\", arr_2d[-1, -1]) # Output 9"
   ]
  },
  {
   "cell_type": "code",
   "execution_count": null,
   "id": "8fc2ef1f",
   "metadata": {},
   "outputs": [],
   "source": [
    "# Accessing entire rows and columns:\n",
    "\n",
    "print(\"\\nFirst row:\", arr_2d[0, :])  # All elements of the first row\n",
    "print(\"Second column:\", arr_2d[:, 1])  # All elements of the second column"
   ]
  },
  {
   "cell_type": "code",
   "execution_count": null,
   "id": "839302de",
   "metadata": {},
   "outputs": [],
   "source": [
    "print(\"Last row:\", arr_2d[-1,:]) # All elements of the last row\n",
    "print(\"Last column:\", arr_2d[:,-1]) # All elements of the last column"
   ]
  },
  {
   "cell_type": "code",
   "execution_count": null,
   "id": "db90df5b",
   "metadata": {},
   "outputs": [],
   "source": [
    "# Slicing 2D arrays:\n",
    "print(\"\\nSubmatrix (rows 0-1, cols 1-2):\\n\", arr_2d[0:2, 1:3])"
   ]
  },
  {
   "cell_type": "markdown",
   "id": "9551dfa0",
   "metadata": {},
   "source": [
    "### Basic Operations on 2D NumPy Arrays"
   ]
  },
  {
   "cell_type": "code",
   "execution_count": null,
   "id": "cd744014",
   "metadata": {},
   "outputs": [],
   "source": [
    "arr1_2d = np.array([[1, 2], [3, 4]])\n",
    "arr2_2d = np.array([[5, 6], [7, 8]])"
   ]
  },
  {
   "cell_type": "code",
   "execution_count": null,
   "id": "b8ae2c22",
   "metadata": {},
   "outputs": [],
   "source": [
    "# Element-wise addition:\n",
    "arr_sum_2d = arr1_2d + arr2_2d\n",
    "print(\"\\nElement-wise Addition:\\n\", arr_sum_2d)"
   ]
  },
  {
   "cell_type": "code",
   "execution_count": null,
   "id": "284cc97b",
   "metadata": {},
   "outputs": [],
   "source": [
    "# Element-wise multiplication:\n",
    "arr_product_2d = arr1_2d * arr2_2d\n",
    "print(\"\\nElement-wise Multiplication:\\n\", arr_product_2d)"
   ]
  },
  {
   "cell_type": "code",
   "execution_count": null,
   "id": "6dee05e3",
   "metadata": {},
   "outputs": [],
   "source": [
    "# Matrix multiplication (dot product):\n",
    "matrix_mult = np.dot(arr1_2d, arr2_2d)\n",
    "print(\"\\nMatrix Multiplication (Dot Product):\\n\", matrix_mult)"
   ]
  },
  {
   "cell_type": "code",
   "execution_count": null,
   "id": "f1d99bf1",
   "metadata": {},
   "outputs": [],
   "source": [
    "# Matrix Transpose\n",
    "print(\"\\nTranspose of arr1_2d:\\n\", arr1_2d.T) # or np.transpose(arr1_2d)"
   ]
  },
  {
   "cell_type": "code",
   "execution_count": null,
   "id": "6a298e82",
   "metadata": {},
   "outputs": [],
   "source": [
    "# Scalar multiplication (multiplying by a constant):\n",
    "scalar = 3\n",
    "arr_scalar_mult = arr1_2d * scalar\n",
    "print(\"\\nScalar Multiplication:\\n\", arr_scalar_mult)"
   ]
  },
  {
   "cell_type": "code",
   "execution_count": null,
   "id": "5c906a7f",
   "metadata": {},
   "outputs": [],
   "source": [
    "# Sum of all elements\n",
    "print(\"\\nSum of all elements in arr1_2d:\", np.sum(arr1_2d))"
   ]
  },
  {
   "cell_type": "code",
   "execution_count": null,
   "id": "ec3617ae",
   "metadata": {},
   "outputs": [],
   "source": [
    "# Sum of elements by column (axis=0)\n",
    "print(\"\\nSum of each column in arr1_2d:\", np.sum(arr1_2d, axis=0))"
   ]
  },
  {
   "cell_type": "code",
   "execution_count": null,
   "id": "7ec0e6e5",
   "metadata": {},
   "outputs": [],
   "source": [
    "# Sum of elements by row (axis=1)\n",
    "print(\"\\nSum of each row in arr1_2d:\", np.sum(arr1_2d, axis=1))"
   ]
  },
  {
   "cell_type": "code",
   "execution_count": null,
   "id": "a65e47a3",
   "metadata": {},
   "outputs": [],
   "source": [
    "# Mean of all elements\n",
    "print(\"\\nMean of all elements in arr1_2d:\", np.mean(arr1_2d))"
   ]
  },
  {
   "cell_type": "code",
   "execution_count": null,
   "id": "39853c90",
   "metadata": {},
   "outputs": [],
   "source": [
    "# Mean of elements by column (axis=0)\n",
    "print(\"\\nMean of each column in arr1_2d:\", np.mean(arr1_2d, axis=0))"
   ]
  },
  {
   "cell_type": "code",
   "execution_count": null,
   "id": "afd967ff",
   "metadata": {},
   "outputs": [],
   "source": [
    "# Mean of elements by row (axis=1)\n",
    "print(\"\\nMean of each row in arr1_2d:\", np.mean(arr1_2d, axis=1))"
   ]
  },
  {
   "cell_type": "markdown",
   "id": "f294ce34",
   "metadata": {},
   "source": [
    "### Applications in Data Science\n",
    "2D arrays are fundamental for:\n",
    "\n",
    "*   Representing datasets (rows as samples, columns as features).\n",
    "*   Image processing (images as matrices of pixel values).\n",
    "*   Linear algebra operations in machine learning algorithms."
   ]
  },
  {
   "cell_type": "code",
   "execution_count": null,
   "id": "5632ca1f",
   "metadata": {
    "scrolled": true
   },
   "outputs": [],
   "source": [
    "# Example: Representing a simple dataset:\n",
    "\n",
    "data = np.array([[1, 2, 3], [4, 5, 6], [7, 8, 9]])  # Example data\n",
    "print(\"\\nExample Dataset:\\n\", data)"
   ]
  },
  {
   "cell_type": "markdown",
   "id": "a854d124",
   "metadata": {},
   "source": [
    "**Summary**: This exercise covered creating, accessing, and performing basic operations on 2D NumPy arrays. These skills are essential for working with tabular data, images, and implementing machine learning algorithms in data science."
   ]
  },
  {
   "cell_type": "markdown",
   "id": "bce9a39e",
   "metadata": {},
   "source": [
    "## Exercise 05: SciPy for Data Science\n",
    "SciPy (Scientific Python) builds on NumPy and provides a wide range of scientific computing tools crucial for data science. This tutorial covers frequently used SciPy functionalities with practical examples."
   ]
  },
  {
   "cell_type": "code",
   "execution_count": null,
   "id": "52a4a3a6",
   "metadata": {},
   "outputs": [],
   "source": [
    "import numpy as np\n",
    "import scipy.stats as stats\n",
    "import scipy.optimize as optimize\n",
    "import scipy.interpolate as interpolate\n",
    "import scipy.signal as signal\n",
    "import scipy.linalg as linalg\n",
    "import scipy.integrate as integrate\n",
    "import matplotlib.pyplot as plt"
   ]
  },
  {
   "cell_type": "markdown",
   "id": "40ab42b5",
   "metadata": {},
   "source": [
    "### Statistical Analysis (`scipy.stats`)\n",
    "Probability Distributions:"
   ]
  },
  {
   "cell_type": "code",
   "execution_count": null,
   "id": "096e9811",
   "metadata": {
    "scrolled": true
   },
   "outputs": [],
   "source": [
    "# Normal distribution\n",
    "x = np.linspace(-5, 5, 100)\n",
    "norm_pdf = stats.norm.pdf(x, loc=0, scale=1) # Probability Density Function\n",
    "norm_cdf = stats.norm.cdf(x, loc=0, scale=1) # Cumulative Distribution Function\n",
    "\n",
    "plt.plot(x, norm_pdf, label='PDF')\n",
    "plt.plot(x, norm_cdf, label='CDF')\n",
    "plt.title('Normal Distribution')\n",
    "plt.legend()\n",
    "plt.show()"
   ]
  },
  {
   "cell_type": "code",
   "execution_count": null,
   "id": "b63a52c7",
   "metadata": {},
   "outputs": [],
   "source": [
    "# T-test (Independent samples):\n",
    "\n",
    "group1 = np.random.normal(10, 2, 50)\n",
    "group2 = np.random.normal(12, 2.5, 60)\n",
    "t_statistic, p_value = stats.ttest_ind(group1, group2)\n",
    "print(\"\\nT-test:\")\n",
    "print(\"T-statistic:\", t_statistic)\n",
    "print(\"P-value:\", p_value)"
   ]
  },
  {
   "cell_type": "markdown",
   "id": "7c31d89d",
   "metadata": {},
   "source": [
    "### Optimization (`scipy.optimize`)"
   ]
  },
  {
   "cell_type": "code",
   "execution_count": null,
   "id": "31e2ce21",
   "metadata": {},
   "outputs": [],
   "source": [
    "# Minimizing a function:\n",
    "def f(x):\n",
    "    return x**2 + 5*np.sin(x)\n",
    "\n",
    "result = optimize.minimize(f, x0=0) # x0 is the initial guess\n",
    "print(\"\\nOptimization Result:\")\n",
    "print(result)"
   ]
  },
  {
   "cell_type": "code",
   "execution_count": null,
   "id": "27f3a4ac",
   "metadata": {},
   "outputs": [],
   "source": [
    "# Curve fitting:\n",
    "x_data = np.linspace(-5, 5, 100)\n",
    "y_data = 2*x_data**3 + 3*x_data**2 - 5*x_data + 2 + np.random.normal(0, 5, 100) #add noise\n",
    "def func(x, a, b, c, d):\n",
    "    return a*x**3 + b*x**2 + c*x + d\n",
    "\n",
    "popt, pcov = optimize.curve_fit(func, x_data, y_data)\n",
    "print(\"\\nCurve Fitting Parameters:\", popt)\n",
    "\n",
    "plt.plot(x_data, y_data, 'o', label='data')\n",
    "plt.plot(x_data, func(x_data, *popt), '-', label='fit')\n",
    "plt.legend()\n",
    "plt.show()"
   ]
  },
  {
   "cell_type": "markdown",
   "id": "5dd499ad",
   "metadata": {},
   "source": [
    "### Interpolation (`scipy.interpolate`)"
   ]
  },
  {
   "cell_type": "code",
   "execution_count": null,
   "id": "2b4f9d9d",
   "metadata": {},
   "outputs": [],
   "source": [
    "# 1D Interpolation:\n",
    "\n",
    "x = np.linspace(0, 10, 10)\n",
    "y = np.sin(x)\n",
    "f = interpolate.interp1d(x, y, kind='cubic') #cubic interpolation\n",
    "x_new = np.linspace(0, 10, 50)\n",
    "plt.plot(x, y, 'o', label='data')\n",
    "plt.plot(x_new, f(x_new), '-', label='cubic')\n",
    "plt.legend()\n",
    "plt.show()"
   ]
  },
  {
   "cell_type": "markdown",
   "id": "fec817bf",
   "metadata": {},
   "source": [
    "### Signal Processing (`scipy.signal`)"
   ]
  },
  {
   "cell_type": "code",
   "execution_count": null,
   "id": "a2d32071",
   "metadata": {},
   "outputs": [],
   "source": [
    "# Fourier Transform:\n",
    "t = np.linspace(0, 1, 1000, False)  # 1 second\n",
    "sig = np.sin(2*np.pi*10*t) + np.sin(2*np.pi*20*t)\n",
    "fft_sig = np.fft.fft(sig)\n",
    "freq = np.fft.fftfreq(t.size)\n",
    "\n",
    "plt.plot(freq, np.abs(fft_sig))\n",
    "plt.title(\"Fourier Transform\")\n",
    "plt.xlabel(\"Frequency\")\n",
    "plt.ylabel(\"Magnitude\")\n",
    "plt.show()"
   ]
  },
  {
   "cell_type": "markdown",
   "id": "33c9ff71",
   "metadata": {},
   "source": [
    "### Linear Algebra (`scipy.linalg`)"
   ]
  },
  {
   "cell_type": "code",
   "execution_count": null,
   "id": "26b35694",
   "metadata": {},
   "outputs": [],
   "source": [
    "# Solving linear systems:\n",
    "\n",
    "A = np.array([[1, 2], [3, 4]])\n",
    "b = np.array([5, 6])\n",
    "x = linalg.solve(A, b)\n",
    "print(\"\\nSolution to linear system:\", x)"
   ]
  },
  {
   "cell_type": "code",
   "execution_count": null,
   "id": "2c0b86c7",
   "metadata": {},
   "outputs": [],
   "source": [
    "# Eigenvalues and eigenvectors:\n",
    "eigenvalues, eigenvectors = linalg.eig(A)\n",
    "print(\"\\nEigenvalues:\", eigenvalues)\n",
    "print(\"Eigenvectors:\\n\", eigenvectors)"
   ]
  },
  {
   "cell_type": "markdown",
   "id": "d6c2593f",
   "metadata": {},
   "source": [
    "### Integration (`scipy.integrate`)\n"
   ]
  },
  {
   "cell_type": "code",
   "execution_count": null,
   "id": "b313efee",
   "metadata": {},
   "outputs": [],
   "source": [
    "# Numerical integration:\n",
    "result = integrate.quad(lambda x: np.exp(-x**2), -np.inf, np.inf) #integrate gaussian function\n",
    "print(\"\\nNumerical Integration (Gaussian):\", result)"
   ]
  },
  {
   "cell_type": "markdown",
   "id": "8200b9c0",
   "metadata": {},
   "source": [
    "**Summary**: This tutorial provided an overview of commonly used SciPy modules and functions in data science. These tools are invaluable for statistical analysis, optimization, signal processing, and other essential tasks."
   ]
  },
  {
   "cell_type": "markdown",
   "id": "613a82b3",
   "metadata": {},
   "source": [
    "## Expercise 06: Let's see what we can do.\n",
    "This exercise demonstrates how to analyze real-world data in CSV format using Pandas, NumPy, and SciPy. We will perform data loading, cleaning, exploration, statistical analysis, and simple visualization."
   ]
  },
  {
   "cell_type": "code",
   "execution_count": null,
   "id": "a2a8c2ff",
   "metadata": {},
   "outputs": [],
   "source": [
    "import pandas as pd\n",
    "import numpy as np\n",
    "import scipy.stats as stats\n",
    "import matplotlib.pyplot as plt # For plots\n",
    "import seaborn as sns # For better plots"
   ]
  },
  {
   "cell_type": "markdown",
   "id": "5fbdd0dc",
   "metadata": {},
   "source": [
    "### Data Loading with Pandas\n",
    "\n",
    "The student performance dataset `files/StudentsPerformance.csv` has been provided. Load it into a dataframe."
   ]
  },
  {
   "cell_type": "code",
   "execution_count": null,
   "id": "dd09b39e",
   "metadata": {},
   "outputs": [],
   "source": [
    "try:\n",
    "    df = pd.read_csv('files/StudentsPerformance.csv')\n",
    "except FileNotFoundError:\n",
    "    print(\"Please upload the StudentsPerformance.csv file or place it in the same directory as the notebook\")\n",
    "    raise #stop execution"
   ]
  },
  {
   "cell_type": "code",
   "execution_count": null,
   "id": "9509945f",
   "metadata": {},
   "outputs": [],
   "source": [
    "# Display the first few rows:\n",
    "print(\"First 5 rows of the dataset:\")\n",
    "print(df.head())"
   ]
  },
  {
   "cell_type": "code",
   "execution_count": null,
   "id": "ce667833",
   "metadata": {},
   "outputs": [],
   "source": [
    "# Display dataset info\n",
    "print(\"\\nDataset info:\")\n",
    "df.info()"
   ]
  },
  {
   "cell_type": "markdown",
   "id": "ddaaec6f",
   "metadata": {},
   "source": [
    "### Data Cleaning and Preprocessing (Pandas)"
   ]
  },
  {
   "cell_type": "code",
   "execution_count": null,
   "id": "0d0203a3",
   "metadata": {},
   "outputs": [],
   "source": [
    "# Check for missing values:\n",
    "print(\"\\nMissing values:\")\n",
    "print(df.isnull().sum())"
   ]
  },
  {
   "cell_type": "markdown",
   "id": "81683049",
   "metadata": {},
   "source": [
    "Apparently, no missing values in this dataset, but if there were, we could use methods like `df.fillna()` or `df.dropna()`."
   ]
  },
  {
   "cell_type": "markdown",
   "id": "d8f756aa",
   "metadata": {},
   "source": [
    "### Exploratory Data Analysis (EDA) with Pandas and Matplotlib/Seaborn"
   ]
  },
  {
   "cell_type": "code",
   "execution_count": null,
   "id": "dc6e94a3",
   "metadata": {},
   "outputs": [],
   "source": [
    "# Descriptive statistics:\n",
    "print(\"\\nDescriptive statistics:\")\n",
    "print(df.describe())"
   ]
  },
  {
   "cell_type": "code",
   "execution_count": null,
   "id": "844c5782",
   "metadata": {},
   "outputs": [],
   "source": [
    "# Distribution of scores:\n",
    "plt.figure(figsize=(12, 6))\n",
    "plt.subplot(1, 3, 1)\n",
    "sns.histplot(df['math score'], kde=True)\n",
    "plt.title('Math Score Distribution')\n",
    "plt.subplot(1, 3, 2)\n",
    "sns.histplot(df['reading score'], kde=True)\n",
    "plt.title('Reading Score Distribution')\n",
    "plt.subplot(1, 3, 3)\n",
    "sns.histplot(df['writing score'], kde=True)\n",
    "plt.title('Writing Score Distribution')\n",
    "plt.tight_layout()\n",
    "plt.show()"
   ]
  },
  {
   "cell_type": "code",
   "execution_count": null,
   "id": "27334012",
   "metadata": {},
   "outputs": [],
   "source": [
    "# Relationship between scores:\n",
    "sns.pairplot(df[['math score', 'reading score', 'writing score']])\n",
    "plt.suptitle(\"Pairplot of Scores\", y=1.02)\n",
    "plt.show()"
   ]
  },
  {
   "cell_type": "code",
   "execution_count": null,
   "id": "32a42f9e",
   "metadata": {},
   "outputs": [],
   "source": [
    "# Scores by gender\n",
    "plt.figure(figsize=(10,6))\n",
    "sns.boxplot(x='gender', y='math score', data=df)\n",
    "plt.title(\"Math Score by Gender\")\n",
    "plt.show()"
   ]
  },
  {
   "cell_type": "markdown",
   "id": "18936ab5",
   "metadata": {},
   "source": [
    "### NumPy for Numerical Operations"
   ]
  },
  {
   "cell_type": "code",
   "execution_count": null,
   "id": "2ebd5b7b",
   "metadata": {},
   "outputs": [],
   "source": [
    "# Convert scores to NumPy arrays:\n",
    "math_scores = df['math score'].values\n",
    "reading_scores = df['reading score'].values\n",
    "writing_scores = df['writing score'].values"
   ]
  },
  {
   "cell_type": "code",
   "execution_count": null,
   "id": "2c2e1007",
   "metadata": {},
   "outputs": [],
   "source": [
    "# Calculate mean, median, standard deviation:\n",
    "print(\"\\nMath Score Statistics:\")\n",
    "print(\"Mean:\", np.mean(math_scores))\n",
    "print(\"Median:\", np.median(math_scores))\n",
    "print(\"Standard Deviation:\", np.std(math_scores))"
   ]
  },
  {
   "cell_type": "code",
   "execution_count": null,
   "id": "6776b015",
   "metadata": {},
   "outputs": [],
   "source": [
    "# Correlation between math and reading scores:\n",
    "correlation = np.corrcoef(math_scores, reading_scores)[0, 1]\n",
    "print(\"\\nCorrelation between math and reading scores:\", correlation)"
   ]
  },
  {
   "cell_type": "markdown",
   "id": "27e15727",
   "metadata": {},
   "source": [
    "### SciPy for Statistical Testing"
   ]
  },
  {
   "cell_type": "code",
   "execution_count": null,
   "id": "40f428e6",
   "metadata": {},
   "outputs": [],
   "source": [
    "# Independent samples t-test (comparing math scores of male and female students):\n",
    "male_math_scores = df[df['gender'] == 'male']['math score'].values\n",
    "female_math_scores = df[df['gender'] == 'female']['math score'].values\n",
    "\n",
    "t_statistic, p_value = stats.ttest_ind(male_math_scores, female_math_scores)\n",
    "print(\"\\nT-test (Math scores by gender):\")\n",
    "print(\"T-statistic:\", t_statistic)\n",
    "print(\"P-value:\", p_value)"
   ]
  },
  {
   "cell_type": "code",
   "execution_count": null,
   "id": "19b9a3f5",
   "metadata": {},
   "outputs": [],
   "source": [
    "# One-way ANOVA (comparing scores across different parental levels of education):\n",
    "groups = df.groupby('parental level of education')['math score'].apply(list)\n",
    "f_statistic, p_value = stats.f_oneway(*groups)\n",
    "\n",
    "print(\"\\nOne-way ANOVA (Math scores by parental education):\")\n",
    "print(\"F-statistic:\", f_statistic)\n",
    "print(\"P-value:\", p_value)"
   ]
  },
  {
   "cell_type": "markdown",
   "id": "a7b03bbf",
   "metadata": {},
   "source": [
    "**Summary**: This exercise demonstrated how to use Pandas, NumPy, and SciPy to analyze a real-world dataset. We covered data loading, cleaning, EDA, numerical operations, and statistical testing. These skills are fundamental for any data science project. "
   ]
  },
  {
   "cell_type": "markdown",
   "id": "d3908343",
   "metadata": {},
   "source": [
    "<p style=\"text-align:center;\">That's it! Congratulations! <br> \n",
    "    Let's now work on your lab assigment.</p>"
   ]
  }
 ],
 "metadata": {
  "kernelspec": {
   "display_name": "Python 3 (ipykernel)",
   "language": "python",
   "name": "python3"
  },
  "language_info": {
   "codemirror_mode": {
    "name": "ipython",
    "version": 3
   },
   "file_extension": ".py",
   "mimetype": "text/x-python",
   "name": "python",
   "nbconvert_exporter": "python",
   "pygments_lexer": "ipython3",
   "version": "3.11.7"
  }
 },
 "nbformat": 4,
 "nbformat_minor": 5
}
