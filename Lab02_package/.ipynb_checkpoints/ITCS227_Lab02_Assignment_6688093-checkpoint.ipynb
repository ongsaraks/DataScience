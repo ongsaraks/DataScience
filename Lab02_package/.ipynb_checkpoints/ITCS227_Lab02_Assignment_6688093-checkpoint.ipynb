{
 "cells": [
  {
   "cell_type": "markdown",
   "id": "7bca3098",
   "metadata": {},
   "source": [
    "<p style=\"text-align:center\">\n",
    "    <a href=\"https://www.ict.mahidol.ac.th/en/\" target=\"_blank\">\n",
    "    <img src=\"https://www3.ict.mahidol.ac.th/ICTSurveysV2/Content/image/MUICT2.png\" width=\"400\" alt=\"Faculty of ICT\">\n",
    "    </a>\n",
    "</p>\n",
    "\n",
    "# Lab02: Data Handling and Exploration\n",
    "\n",
    "This Jupyter Notebook lab assignment tests your understanding of file I/O and Pandas DataFrames.\n",
    "\n",
    "__Intructions:__\n",
    "1. Append your ID at the end of this jupyter file name. For example, ```ITCS227_Lab02_Assignment_6788123.ipynb```\n",
    "2. Complete each task in the lab.\n",
    "3. Once finished, raise your hand to call a TA.\n",
    "4. The TA will check your work and give you an appropriate score.\n",
    "5. Submit the source code to MyCourse as record-keeping."
   ]
  },
  {
   "cell_type": "markdown",
   "id": "d10d95ca",
   "metadata": {},
   "source": [
    "## Task 1: File Handling\n",
    "\n",
    "1.  **Read the file (better way):** Use the `with open(...)` method to read the contents of `files/my_data.csv` line by line and print each line to the console (without newline characters)."
   ]
  },
  {
   "cell_type": "markdown",
   "id": "ebdc203f-7b20-4e86-8668-daf97c95ba82",
   "metadata": {},
   "source": [
    "# Your code here\n",
    "with open('files/my_data.csv','r') as file:\n",
    "    print(file.read())"
   ]
  },
  {
   "cell_type": "code",
   "execution_count": 1,
   "id": "ed42452a-2204-49b5-ac71-6c460b6d3074",
   "metadata": {},
   "outputs": [
    {
     "name": "stdout",
     "output_type": "stream",
     "text": [
      "Name,Age,City\n",
      "Alice,25,New York\n",
      "Bob,30,London\n",
      "Charlie,22,Paris\n",
      "David,28,Tokyo\n"
     ]
    }
   ],
   "source": [
    "\n",
    "with open(\"files/my_data.csv\", \"r\") as file:\n",
    "    for line in file:\n",
    "        print(line.strip())"
   ]
  },
  {
   "cell_type": "markdown",
   "id": "f0ff20fb",
   "metadata": {},
   "source": [
    "2. **Write to a new file:** Create a new file named `processed_data.txt`. Write the following content to it:\n",
    "```\n",
    "Processed Data:\n",
    "```"
   ]
  },
  {
   "cell_type": "code",
   "execution_count": 10,
   "id": "5892929f",
   "metadata": {},
   "outputs": [],
   "source": [
    "# Your code here\n",
    "with open(\"processed_data.txt\",\"w\") as file:\n",
    "    file.write(\"Processed Data:\\n\")"
   ]
  },
  {
   "cell_type": "markdown",
   "id": "e87bee0e",
   "metadata": {},
   "source": [
    "<details><summary> >> Help (Use this only as a last resort) </summary>\n",
    "    \n",
    "```\n",
    "with open(\"processed_data.txt\", \"w\") as outfile:\n",
    "    outfile.write(\"Processed Data:\\n\")\n",
    "```\n",
    "\n",
    "</details>"
   ]
  },
  {
   "cell_type": "markdown",
   "id": "d8d81502",
   "metadata": {},
   "source": [
    "3. **Append to the new file:** Append each line read from `files/my_data.csv` (without the header line) to `processed_data.txt`."
   ]
  },
  {
   "cell_type": "code",
   "execution_count": 11,
   "id": "e8d05914",
   "metadata": {},
   "outputs": [],
   "source": [
    "# Your code here\n",
    "with open(\"files/my_data.csv\",\"r\") as fileM:\n",
    "    next(fileM)\n",
    "    with open(\"processed_data.txt\",\"a\") as fileO:\n",
    "        for line in fileM:\n",
    "            fileO.write(line)\n",
    "    "
   ]
  },
  {
   "cell_type": "markdown",
   "id": "444052f0",
   "metadata": {},
   "source": [
    "<details><summary> >> Help (Use this only as a last resort) </summary>\n",
    "    \n",
    "```\n",
    "with open(\"files/my_data.csv\", \"r\") as infile:\n",
    "    next(infile) # skip header\n",
    "    with open(\"processed_data.txt\", \"a\") as outfile:\n",
    "        for line in infile:\n",
    "            outfile.write(line)\n",
    "```\n",
    "\n",
    "</details>"
   ]
  },
  {
   "cell_type": "code",
   "execution_count": 12,
   "id": "9258f416",
   "metadata": {},
   "outputs": [
    {
     "name": "stdout",
     "output_type": "stream",
     "text": [
      "\n",
      "Processed Data File content:\n",
      "Processed Data:\n",
      "Alice,25,New York\n",
      "Bob,30,London\n",
      "Charlie,22,Paris\n",
      "David,28,Tokyo\n"
     ]
    }
   ],
   "source": [
    "# Now let's, verify the file\n",
    "with open(\"processed_data.txt\", \"r\") as file:\n",
    "    print(\"\\nProcessed Data File content:\")\n",
    "    print(file.read())"
   ]
  },
  {
   "cell_type": "markdown",
   "id": "64b4bda2",
   "metadata": {},
   "source": [
    "## Task 2: Pandas DataFrame Manipulation and EDA\n",
    "\n",
    "1.  **Create a DataFrame:** Create a Pandas DataFrame from the data in `files/my_data.csv`."
   ]
  },
  {
   "cell_type": "code",
   "execution_count": 13,
   "id": "a6ce4c26",
   "metadata": {},
   "outputs": [
    {
     "name": "stdout",
     "output_type": "stream",
     "text": [
      "      Name  Age      City\n",
      "0    Alice   25  New York\n",
      "1      Bob   30    London\n",
      "2  Charlie   22     Paris\n",
      "3    David   28     Tokyo\n"
     ]
    }
   ],
   "source": [
    "# Your code here (Don't forget to import pandas)\n",
    "import pandas as pd \n",
    "file = pd.read_csv(\"files/my_data.csv\")\n",
    "print(file)"
   ]
  },
  {
   "cell_type": "markdown",
   "id": "fe24cb80",
   "metadata": {},
   "source": [
    "<details><summary> >> Help (Use this only as a last resort) </summary>\n",
    "    \n",
    "```\n",
    "import pandas as pd\n",
    "\n",
    "df = pd.read_csv(\"files/my_data.csv\")\n",
    "print(\"\\nDataFrame:\")\n",
    "print(df)\n",
    "```\n",
    "\n",
    "</details>"
   ]
  },
  {
   "cell_type": "markdown",
   "id": "c45dd98b",
   "metadata": {},
   "source": [
    "2.  **View Data:**\n",
    "*   Print the first 2 rows using `head()`.\n",
    "*   Print the last row using `tail()`.\n",
    "*   Print the DataFrame's info using `info()`."
   ]
  },
  {
   "cell_type": "code",
   "execution_count": 14,
   "id": "df67ae9a",
   "metadata": {},
   "outputs": [
    {
     "name": "stdout",
     "output_type": "stream",
     "text": [
      "\n",
      "First 2 rows:\n",
      "    Name  Age      City\n",
      "0  Alice   25  New York\n",
      "1    Bob   30    London\n",
      "\n",
      "Last row:\n",
      "    Name  Age   City\n",
      "3  David   28  Tokyo\n",
      "\n",
      "DataFrame info:\n",
      "<class 'pandas.core.frame.DataFrame'>\n",
      "RangeIndex: 4 entries, 0 to 3\n",
      "Data columns (total 3 columns):\n",
      " #   Column  Non-Null Count  Dtype \n",
      "---  ------  --------------  ----- \n",
      " 0   Name    4 non-null      object\n",
      " 1   Age     4 non-null      int64 \n",
      " 2   City    4 non-null      object\n",
      "dtypes: int64(1), object(2)\n",
      "memory usage: 228.0+ bytes\n"
     ]
    }
   ],
   "source": [
    "# Your code here\n",
    "print(\"\\nFirst 2 rows:\")\n",
    "print(file.head(2))\n",
    "print(\"\\nLast row:\")\n",
    "print(file.tail(1))\n",
    "print(\"\\nDataFrame info:\")\n",
    "file.info()"
   ]
  },
  {
   "cell_type": "markdown",
   "id": "577b37ad",
   "metadata": {},
   "source": [
    "<details><summary> >> Help (Use this only as a last resort) </summary>\n",
    "    \n",
    "```\n",
    "print(\"\\nFirst 2 rows:\")\n",
    "print(df.head(2))\n",
    "\n",
    "print(\"\\nLast row:\")\n",
    "print(df.tail(1))\n",
    "\n",
    "print(\"\\nDataFrame info:\")\n",
    "df.info()\n",
    "```\n",
    "\n",
    "</details>"
   ]
  },
  {
   "cell_type": "markdown",
   "id": "e8f197a7",
   "metadata": {},
   "source": [
    "3.  **Access Data:**\n",
    "*   Select the 'Age' column using both bracket notation (`df['Age']`) and dot notation (`df.Age`).\n",
    "*   Select the row with index 1 using `loc()`.\n",
    "*   Select the row at index 2 using `iloc()`.\n",
    "*   Select the 'City' of the person in the first row using both `loc()` and `iloc()`.\n",
    "*   Select the first two rows and the 'Name' and 'Age' columns using slicing and `.loc`."
   ]
  },
  {
   "cell_type": "code",
   "execution_count": 20,
   "id": "71b0c96e",
   "metadata": {},
   "outputs": [
    {
     "name": "stdout",
     "output_type": "stream",
     "text": [
      "\n",
      "'Age' column (bracket notation):\n",
      "0    25\n",
      "1    30\n",
      "2    22\n",
      "3    28\n",
      "Name: Age, dtype: int64\n",
      "\n",
      "'Age' column (bracket notation):\n",
      "0    25\n",
      "1    30\n",
      "2    22\n",
      "3    28\n",
      "Name: Age, dtype: int64\n",
      "\n",
      "Row with index 1 (loc):\n",
      "Name       Bob\n",
      "Age         30\n",
      "City    London\n",
      "Name: 1, dtype: object\n",
      "\n",
      "Row at index 2 (iloc):\n",
      "Name    Charlie\n",
      "Age          22\n",
      "City      Paris\n",
      "Name: 2, dtype: object\n",
      "\n",
      "'City' of the first person (loc):\n",
      "New York\n",
      "\n",
      "'City' of the first person (iloc):\n",
      "New York\n",
      "\n",
      "First two rows, 'Name' and 'Age' columns:\n",
      "    Name  Age\n",
      "0  Alice   25\n",
      "1    Bob   30\n"
     ]
    }
   ],
   "source": [
    "# Your code here\n",
    "import pandas as pd\n",
    "file = pd.read_csv(\"files/my_data.csv\")\n",
    "print(\"\\n'Age' column (bracket notation):\")\n",
    "print(file['Age'])\n",
    "print(\"\\n'Age' column (bracket notation):\")\n",
    "print(file.Age)\n",
    "print(\"\\nRow with index 1 (loc):\")\n",
    "print(file.loc[1])\n",
    "print(\"\\nRow at index 2 (iloc):\")\n",
    "print(file.iloc[2])\n",
    "print(\"\\n'City' of the first person (loc):\")\n",
    "print(file.loc[0,'City'])\n",
    "print(\"\\n'City' of the first person (iloc):\")\n",
    "print(file.iloc[0,2])\n",
    "print(\"\\nFirst two rows, 'Name' and 'Age' columns:\")\n",
    "print(file.loc[:1,['Name','Age']])"
   ]
  },
  {
   "cell_type": "markdown",
   "id": "48904c41",
   "metadata": {},
   "source": [
    "<details><summary> >> Help (Use this only as a last resort) </summary>\n",
    "    \n",
    "```\n",
    "print(\"\\n'Age' column (bracket notation):\")\n",
    "print(df['Age'])\n",
    "\n",
    "print(\"\\n'Age' column (dot notation):\")\n",
    "print(df.Age)\n",
    "\n",
    "print(\"\\nRow with index 1 (loc):\")\n",
    "print(df.loc[1])\n",
    "\n",
    "print(\"\\nRow at index 2 (iloc):\")\n",
    "print(df.iloc[2])\n",
    "\n",
    "print(\"\\n'City' of the first person (loc):\")\n",
    "print(df.loc[0, 'City'])\n",
    "\n",
    "print(\"\\n'City' of the first person (iloc):\")\n",
    "print(df.iloc[0, 2])\n",
    "\n",
    "print(\"\\nFirst two rows, 'Name' and 'Age' columns:\")\n",
    "print(df.loc[:1, ['Name', 'Age']])\n",
    "```\n",
    "\n",
    "</details>"
   ]
  },
  {
   "cell_type": "markdown",
   "id": "93a4162f",
   "metadata": {},
   "source": [
    "4.  **EDA:**\n",
    "*   Use `describe()` to get summary statistics of the 'Age' column."
   ]
  },
  {
   "cell_type": "code",
   "execution_count": 16,
   "id": "3c61dfe0",
   "metadata": {},
   "outputs": [
    {
     "name": "stdout",
     "output_type": "stream",
     "text": [
      "count     4.00\n",
      "mean     26.25\n",
      "std       3.50\n",
      "min      22.00\n",
      "25%      24.25\n",
      "50%      26.50\n",
      "75%      28.50\n",
      "max      30.00\n",
      "Name: Age, dtype: float64\n"
     ]
    }
   ],
   "source": [
    "# Your code here\n",
    "print(file['Age'].describe())"
   ]
  },
  {
   "cell_type": "markdown",
   "id": "e8fac764",
   "metadata": {},
   "source": [
    "<details><summary> >> Help (Use this only as a last resort) </summary>\n",
    "    \n",
    "```\n",
    "print(\"\\n'Age' column summary statistics:\")\n",
    "print(df['Age'].describe())\n",
    "```\n",
    "\n",
    "</details>"
   ]
  },
  {
   "cell_type": "markdown",
   "id": "ad3cae85",
   "metadata": {},
   "source": [
    "5.  **Answer the following questions:**\n",
    "*   What is the average age of the people in the DataFrame?\n",
    "*   How many people are from 'London'?"
   ]
  },
  {
   "cell_type": "code",
   "execution_count": 32,
   "id": "78b475eb",
   "metadata": {},
   "outputs": [
    {
     "name": "stdout",
     "output_type": "stream",
     "text": [
      "Average age = 26.25\n",
      "Total people in London = 1\n"
     ]
    }
   ],
   "source": [
    "# Your code here\n",
    "\n",
    "print(\"Average age =\" , file['Age'].mean())\n",
    "London = (file['City'] == 'London').sum()\n",
    "print(\"Total people in London =\" ,  London)"
   ]
  },
  {
   "cell_type": "markdown",
   "id": "b3f197d6",
   "metadata": {},
   "source": [
    "<details><summary> >> Help (Use this only as a last resort) </summary>\n",
    "    \n",
    "```\n",
    "average_age = df['Age'].mean()\n",
    "print(f\"\\nAverage age: {average_age}\")\n",
    "\n",
    "london_count = (df['City'] == 'London').sum()\n",
    "print(f\"\\nNumber of people from London: {london_count}\")\n",
    "```\n",
    "\n",
    "</details>"
   ]
  },
  {
   "cell_type": "code",
   "execution_count": null,
   "id": "542cad51-c73c-4ee2-a7e9-a8441cfb4de8",
   "metadata": {},
   "outputs": [],
   "source": []
  },
  {
   "cell_type": "markdown",
   "id": "9d7f5a16",
   "metadata": {},
   "source": [
    "<p style=\"text-align:center;\">That's it! Congratulations! <br> \n",
    "    Now, call an LA to check your solution. Then, upload your code on MyCourses.</p>"
   ]
  }
 ],
 "metadata": {
  "kernelspec": {
   "display_name": "Python 3 (ipykernel)",
   "language": "python",
   "name": "python3"
  },
  "language_info": {
   "codemirror_mode": {
    "name": "ipython",
    "version": 3
   },
   "file_extension": ".py",
   "mimetype": "text/x-python",
   "name": "python",
   "nbconvert_exporter": "python",
   "pygments_lexer": "ipython3",
   "version": "3.11.5"
  }
 },
 "nbformat": 4,
 "nbformat_minor": 5
}
