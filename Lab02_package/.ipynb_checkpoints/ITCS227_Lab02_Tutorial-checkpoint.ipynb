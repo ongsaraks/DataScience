{
 "cells": [
  {
   "cell_type": "markdown",
   "id": "a44ee3ed",
   "metadata": {},
   "source": [
    "<p style=\"text-align:center\">\n",
    "    <a href=\"https://www.ict.mahidol.ac.th/en/\" target=\"_blank\">\n",
    "    <img src=\"https://www3.ict.mahidol.ac.th/ICTSurveysV2/Content/image/MUICT2.png\" width=\"400\" alt=\"Faculty of ICT\">\n",
    "    </a>\n",
    "</p>\n",
    "\n",
    "# Tutorial 02: Handling Data\n",
    "\n",
    "In the realm of data manipulation and analysis, Python, along with its powerful libraries Pandas and NumPy, provides a versatile and efficient toolkit.\n",
    "\n",
    "Pandas offers data structures like DataFrames, which are similar to tables, allowing for easy organization and manipulation of data. With Pandas, you can effortlessly clean, filter, merge, and aggregate data, making it a crucial tool for data preprocessing and exploration.\n",
    "\n",
    "NumPy, on the other hand, excels at numerical computations. It provides support for arrays and matrices, enabling fast and efficient operations on large datasets. NumPy is particularly useful for tasks like mathematical operations, data manipulation, and scientific computing.\n",
    "\n",
    "Together, Pandas and NumPy form a powerful combination for handling and manipulating data in Python. Whether you're cleaning messy data, performing complex calculations, or exploring patterns in your data, these libraries provide the tools you need to get the job done.\n",
    "\n",
    "## This tutorial aims to teach you how to:\n",
    "\n",
    "* Read and write simple files using Open.\n",
    "* Select data in dataframes.\n",
    "* Load data with Pandas."
   ]
  },
  {
   "cell_type": "markdown",
   "id": "64a8e9ea",
   "metadata": {},
   "source": [
    "## Exercise 01: Reading Text Files in Python\n",
    "\n",
    "This tutorial covers the basics of reading text files in Python and best practices for file handling.\n",
    "\n",
    "### Reading Text Files (Basic Method)\n",
    "\n",
    "The most straightforward way to read a file is using the open() function with the 'r' (read) mode:"
   ]
  },
  {
   "cell_type": "code",
   "execution_count": null,
   "id": "95197d47",
   "metadata": {
    "scrolled": true
   },
   "outputs": [],
   "source": [
    "file = open(\"files/sample.txt\", \"r\")  # Open the file in read mode\n",
    "content = file.read()           # Read the entire content into a string\n",
    "print(content)                  # Print the content\n",
    "file.close()                   # Close the file (important!)"
   ]
  },
  {
   "cell_type": "markdown",
   "id": "1e8ce82f",
   "metadata": {},
   "source": [
    "This reads the entire file content into a single string. You can also read line by line:"
   ]
  },
  {
   "cell_type": "code",
   "execution_count": null,
   "id": "d3182260",
   "metadata": {
    "scrolled": true
   },
   "outputs": [],
   "source": [
    "file = open(\"files/sample.txt\", \"r\")\n",
    "count = 0\n",
    "for line in file:\n",
    "    count = count + 1\n",
    "    print('Line '+str(count)+': '+line.strip()) # strip() removes newline characters\n",
    "file.close()"
   ]
  },
  {
   "cell_type": "markdown",
   "id": "f4d1992f",
   "metadata": {},
   "source": [
    "### A Better Way to Open a File (Using <code>with</code>)\n",
    "\n",
    "The with statement provides a cleaner and safer way to handle files. It automatically closes the file, even if errors occur.\n",
    "\n",
    "Key Advantages of using with:\n",
    "* Automatic file closing: Prevents resource leaks.\n",
    "* Exception handling: Ensures the file is closed even if errors occur within the with block.\n",
    "\n",
    "This <code>with</code> method is the recommended way to work with files in Python. It's concise, readable, and less prone to errors. This tutorial provides a basic understanding of reading text files in Python. You can further explore reading specific lines, handling different encodings, and other file operations based on your needs."
   ]
  },
  {
   "cell_type": "code",
   "execution_count": null,
   "id": "8d03ae26",
   "metadata": {
    "scrolled": true
   },
   "outputs": [],
   "source": [
    "with open(\"files/sample.txt\", \"r\") as file:\n",
    "    content = file.read()\n",
    "    print(content)\n",
    "\n",
    "# Or read line by line:\n",
    "\n",
    "with open(\"files/sample.txt\", \"r\") as file:\n",
    "    count = 0\n",
    "    for line in file:\n",
    "        count = count + 1\n",
    "        print('Line '+str(count)+': '+line.strip())"
   ]
  },
  {
   "cell_type": "markdown",
   "id": "15a10d49",
   "metadata": {},
   "source": [
    "## Exercise 02: Writing and Saving Files in Python\n",
    "\n",
    "This tutorial covers writing, appending, and copying files in Python.\n",
    "\n",
    "### Writing Files\n",
    "The `open()` function with the 'w' (write) mode creates a new file or overwrites an existing one."
   ]
  },
  {
   "cell_type": "code",
   "execution_count": null,
   "id": "47bddcd8",
   "metadata": {},
   "outputs": [],
   "source": [
    "with open(\"my_new_file.txt\", \"w\") as file:\n",
    "    file.write(\"This is the first line.\\n\")\n",
    "    file.write(\"This is the second line.\\n\")\n",
    "    file.write(\"This is the third line.\\n\")"
   ]
  },
  {
   "cell_type": "markdown",
   "id": "21983a8e",
   "metadata": {},
   "source": [
    " Let's check the contents of the file."
   ]
  },
  {
   "cell_type": "code",
   "execution_count": null,
   "id": "f2f28ed4",
   "metadata": {},
   "outputs": [],
   "source": [
    "with open(\"my_new_file.txt\", \"r\") as file:\n",
    "    print(file.read())"
   ]
  },
  {
   "cell_type": "markdown",
   "id": "a0917d75",
   "metadata": {},
   "source": [
    "**Important Note:** If \"my_new_file.txt\" already existed, its contents would have been completely overwritten."
   ]
  },
  {
   "cell_type": "markdown",
   "id": "842e0d83",
   "metadata": {},
   "source": [
    "### Appending Files\n",
    "\n",
    "To add content to an existing file without overwriting it, use the 'a' (append) mode."
   ]
  },
  {
   "cell_type": "code",
   "execution_count": null,
   "id": "fec81b70",
   "metadata": {},
   "outputs": [],
   "source": [
    "with open(\"my_new_file.txt\", \"a\") as file:\n",
    "    file.write(\"This line is appended.\\n\")\n",
    "    file.write(\"Another appended line.\\n\")"
   ]
  },
  {
   "cell_type": "markdown",
   "id": "0799fafb",
   "metadata": {},
   "source": [
    "Let's check the contents of the file again."
   ]
  },
  {
   "cell_type": "code",
   "execution_count": null,
   "id": "12b5b1b3",
   "metadata": {},
   "outputs": [],
   "source": [
    "with open(\"my_new_file.txt\", \"r\") as file:\n",
    "    print(file.read())"
   ]
  },
  {
   "cell_type": "markdown",
   "id": "61b3956c",
   "metadata": {},
   "source": [
    "### Additional File Modes\n",
    "*   `'r'`: Read (default). Opens the file for reading.\n",
    "*   `'w'`: Write. Opens the file for writing. Creates a new file if it does not exist or truncates the file if it exists.\n",
    "*   `'a'`: Append. Opens the file for appending. Creates a new file if it does not exist.\n",
    "*   `'x'`: Exclusive creation. Opens a file for exclusive creation. If the file already exists, the operation fails.\n",
    "*   `'b'`: Binary mode. Used for non-text files (e.g., images, audio).\n",
    "*   `'t'`: Text mode (default). Used for text files.\n",
    "*   `'+'`: Open for updating (reading and writing).\n",
    "\n",
    "You can combine modes, for example:\n",
    "\n",
    "*   `'rb'`: Read binary.\n",
    "*   `'w+'`: Read and write (overwrites the file).\n",
    "*   `'a+'`: Read and append.\n",
    "\n",
    "Example of using 'x' mode:"
   ]
  },
  {
   "cell_type": "code",
   "execution_count": null,
   "id": "d583b92e",
   "metadata": {},
   "outputs": [],
   "source": [
    "try:\n",
    "    with open(\"new_file_exclusive.txt\", \"x\") as file:\n",
    "        file.write(\"This file was created exclusively.\")\n",
    "except FileExistsError:\n",
    "    print(\"File already exists. Cannot create.\")"
   ]
  },
  {
   "cell_type": "markdown",
   "id": "b291f479",
   "metadata": {},
   "source": [
    "### Copy a File\n",
    "\n",
    "There are several ways to copy files in Python. One simple way is to read the contents of one file and write them to another. For binary files, use binary modes ('rb' and 'wb'). For text files, the following approach works well:"
   ]
  },
  {
   "cell_type": "code",
   "execution_count": null,
   "id": "f910a56a",
   "metadata": {},
   "outputs": [],
   "source": [
    "def copy_file(source, destination):\n",
    "    try:\n",
    "      with open(source, \"r\") as source_file, open(destination, \"w\") as dest_file:\n",
    "          for line in source_file:\n",
    "              dest_file.write(line)\n",
    "      print(f\"File '{source}' copied to '{destination}' successfully.\")\n",
    "    except FileNotFoundError:\n",
    "      print(f\"Error: Source file '{source}' not found.\")\n",
    "    except Exception as e:\n",
    "      print(f\"An error occurred: {e}\")"
   ]
  },
  {
   "cell_type": "markdown",
   "id": "06531322",
   "metadata": {},
   "source": [
    "Example usage:"
   ]
  },
  {
   "cell_type": "code",
   "execution_count": null,
   "id": "223a15ad",
   "metadata": {
    "scrolled": true
   },
   "outputs": [],
   "source": [
    "copy_file(\"my_new_file.txt\", \"my_new_file_copy.txt\")"
   ]
  },
  {
   "cell_type": "markdown",
   "id": "8d8bc446",
   "metadata": {},
   "source": [
    "Check the copy"
   ]
  },
  {
   "cell_type": "code",
   "execution_count": null,
   "id": "df5becae",
   "metadata": {
    "scrolled": true
   },
   "outputs": [],
   "source": [
    "with open(\"my_new_file_copy.txt\", \"r\") as file:\n",
    "    print(file.read())"
   ]
  },
  {
   "cell_type": "markdown",
   "id": "2070a072",
   "metadata": {},
   "source": [
    "Summary: This exercise has covered the basics of writing, appending, using different file modes, and copying files in Python. Remember to use the `with` statement for proper file handling."
   ]
  },
  {
   "cell_type": "markdown",
   "id": "ae8305f7",
   "metadata": {},
   "source": [
    "## Exercise 03: Selecting Data in a Pandas DataFrame\n",
    "\n",
    "This Jupyter Notebook tutorial demonstrates how to select data from a Pandas DataFrame using various methods.\n",
    "\n",
    "### Creating a DataFrame and Series\n",
    "\n",
    "First, let's import the Pandas library and create a sample DataFrame."
   ]
  },
  {
   "cell_type": "code",
   "execution_count": null,
   "id": "fcfcdccd",
   "metadata": {},
   "outputs": [],
   "source": [
    "import pandas as pd\n",
    "\n",
    "data = {\n",
    "    'Name': ['Alice', 'Bob', 'Charlie', 'David', 'Eve'],\n",
    "    'Age': [25, 30, 22, 28, 24],\n",
    "    'City': ['New York', 'London', 'Paris', 'Tokyo', 'Sydney'],\n",
    "    'Score': [85, 92, 78, 88, 95]\n",
    "}\n",
    "\n",
    "df = pd.DataFrame(data)\n",
    "print(\"DataFrame:\")\n",
    "print(df)\n",
    "print(\"\\n\")"
   ]
  },
  {
   "cell_type": "code",
   "execution_count": null,
   "id": "0e6add61",
   "metadata": {
    "scrolled": true
   },
   "outputs": [],
   "source": [
    "# Creating a Series\n",
    "ages = pd.Series([25, 30, 22, 28, 24], name=\"Ages\")\n",
    "print(\"Series:\")\n",
    "print(ages)\n",
    "print(\"\\n\")"
   ]
  },
  {
   "cell_type": "markdown",
   "id": "0b1e261f",
   "metadata": {},
   "source": [
    "### Locating Data using loc()\n",
    "The `loc()` function is used to access data by label (row and column names)."
   ]
  },
  {
   "cell_type": "code",
   "execution_count": null,
   "id": "93661f25",
   "metadata": {},
   "outputs": [],
   "source": [
    "# Selecting a single row\n",
    "print(\"Select the row with index 2:\")\n",
    "print(df.loc[2])\n",
    "print(\"\\n\")"
   ]
  },
  {
   "cell_type": "code",
   "execution_count": null,
   "id": "c47b3291",
   "metadata": {},
   "outputs": [],
   "source": [
    "# Selecting multiple rows\n",
    "print(\"Select rows with index 1 and 3:\")\n",
    "print(df.loc[[1, 3]])\n",
    "print(\"\\n\")"
   ]
  },
  {
   "cell_type": "code",
   "execution_count": null,
   "id": "080c9000",
   "metadata": {},
   "outputs": [],
   "source": [
    "# Selecting a single column\n",
    "print(\"Select the 'Name' column:\")\n",
    "print(df.loc[:, 'Name'])\n",
    "print(\"\\n\")"
   ]
  },
  {
   "cell_type": "code",
   "execution_count": null,
   "id": "2cef3abe",
   "metadata": {},
   "outputs": [],
   "source": [
    "# Selecting multiple columns\n",
    "print(\"Select the 'Name' and 'City' columns:\")\n",
    "print(df.loc[:, ['Name', 'City']])\n",
    "print(\"\\n\")"
   ]
  },
  {
   "cell_type": "code",
   "execution_count": null,
   "id": "4d33b104",
   "metadata": {},
   "outputs": [],
   "source": [
    "# Selecting specific rows and columns\n",
    "print(\"Select the 'Age' and 'Score' from rows 0 and 2:\")\n",
    "print(df.loc[[0, 2], ['Age', 'Score']])\n",
    "print(\"\\n\")"
   ]
  },
  {
   "cell_type": "code",
   "execution_count": null,
   "id": "fce4d2f1",
   "metadata": {},
   "outputs": [],
   "source": [
    "# Selecting a range of rows and columns\n",
    "print(\"Select rows from index 1 to 3 and columns 'Age' to 'City':\")\n",
    "print(df.loc[1:3, 'Age':'City']) # Note: with loc, the end is *inclusive*\n",
    "print(\"\\n\")"
   ]
  },
  {
   "cell_type": "code",
   "execution_count": null,
   "id": "1c03110c",
   "metadata": {},
   "outputs": [],
   "source": [
    "# Boolean indexing with loc()\n",
    "print(\"Select rows where 'Age' is greater than 25:\")\n",
    "print(df.loc[df['Age'] > 25])\n",
    "print(\"\\n\")"
   ]
  },
  {
   "cell_type": "code",
   "execution_count": null,
   "id": "5a0d8b9f",
   "metadata": {},
   "outputs": [],
   "source": [
    "print(\"Select 'Name' and 'City' where 'Score' is greater than 90:\")\n",
    "print(df.loc[df['Score'] > 90, ['Name', 'City']])\n",
    "print(\"\\n\")"
   ]
  },
  {
   "cell_type": "markdown",
   "id": "ebf85998",
   "metadata": {},
   "source": [
    "### Locating Data using iloc()\n",
    "\n",
    "The `iloc()` function is used to access data by integer position (row and column index)."
   ]
  },
  {
   "cell_type": "code",
   "execution_count": null,
   "id": "21de4951",
   "metadata": {},
   "outputs": [],
   "source": [
    "# Selecting a single row\n",
    "print(\"Select the row at index 2:\")\n",
    "print(df.iloc[2])\n",
    "print(\"\\n\")"
   ]
  },
  {
   "cell_type": "code",
   "execution_count": null,
   "id": "f776a7b2",
   "metadata": {},
   "outputs": [],
   "source": [
    "# Selecting multiple rows\n",
    "print(\"Select rows at indices 1 and 3:\")\n",
    "print(df.iloc[[1, 3]])\n",
    "print(\"\\n\")"
   ]
  },
  {
   "cell_type": "code",
   "execution_count": null,
   "id": "3c6459a1",
   "metadata": {},
   "outputs": [],
   "source": [
    "# Selecting a single column\n",
    "print(\"Select the column at index 0 (Name):\")\n",
    "print(df.iloc[:, 0])\n",
    "print(\"\\n\")"
   ]
  },
  {
   "cell_type": "code",
   "execution_count": null,
   "id": "8fc4d231",
   "metadata": {},
   "outputs": [],
   "source": [
    "# Selecting multiple columns\n",
    "print(\"Select the columns at indices 0 and 2 (Name and City):\")\n",
    "print(df.iloc[:, [0, 2]])\n",
    "print(\"\\n\")"
   ]
  },
  {
   "cell_type": "code",
   "execution_count": null,
   "id": "4f53671f",
   "metadata": {},
   "outputs": [],
   "source": [
    "# Selecting specific rows and columns\n",
    "print(\"Select the values at row indices 0 and 2, and column indices 1 and 3:\")\n",
    "print(df.iloc[[0, 2], [1, 3]])\n",
    "print(\"\\n\")"
   ]
  },
  {
   "cell_type": "code",
   "execution_count": null,
   "id": "cceb8d84",
   "metadata": {},
   "outputs": [],
   "source": [
    "# Selecting a range of rows and columns\n",
    "print(\"Select rows from index 1 to 3 (exclusive) and columns from index 1 to 3 (exclusive):\")\n",
    "print(df.iloc[1:3, 1:3]) # Note: with iloc, the end is *exclusive*\n",
    "print(\"\\n\")"
   ]
  },
  {
   "cell_type": "markdown",
   "id": "cdea1895",
   "metadata": {},
   "source": [
    "### Slicing\n",
    "\n",
    "You can use slicing directly on the DataFrame, but it primarily works on row indices."
   ]
  },
  {
   "cell_type": "code",
   "execution_count": null,
   "id": "6720381e",
   "metadata": {},
   "outputs": [],
   "source": [
    "print(\"Select the first 3 rows:\")\n",
    "print(df[:3]) # Equivalent to df.iloc[:3]\n",
    "print(\"\\n\")"
   ]
  },
  {
   "cell_type": "code",
   "execution_count": null,
   "id": "c84f077d",
   "metadata": {},
   "outputs": [],
   "source": [
    "print(\"Select rows from index 2 to the end:\")\n",
    "print(df[2:])\n",
    "print(\"\\n\")"
   ]
  },
  {
   "cell_type": "markdown",
   "id": "ce6ef1c0",
   "metadata": {},
   "source": [
    "Slicing with specific columns requires using .loc or .iloc"
   ]
  },
  {
   "cell_type": "code",
   "execution_count": null,
   "id": "2b59c9e9",
   "metadata": {},
   "outputs": [],
   "source": [
    "print(\"Select the first 2 rows of 'Name' and 'Age' columns\")\n",
    "print(df.loc[:1, ['Name', 'Age']])\n",
    "print(\"\\n\")"
   ]
  },
  {
   "cell_type": "markdown",
   "id": "4e9b36e7",
   "metadata": {},
   "source": [
    "Summary: We covered the fundamental ways to select data from a Pandas DataFrame. Using `loc()` for label-based indexing and `iloc()` for integer-based indexing provides flexible and powerful data access. Remember the important difference in how the end of the range is handled between `loc` (inclusive) and `iloc` (exclusive)."
   ]
  },
  {
   "cell_type": "markdown",
   "id": "c739ce58",
   "metadata": {},
   "source": [
    "## Exercise 04: Loading Data with Pandas and Basic Data Exploration\n",
    "\n",
    "This exercise covers loading data from a CSV file using Pandas and performing basic data exploration.\n",
    "\n",
    "### Introduction to Pandas\n",
    "\n",
    "Pandas is a powerful Python library for data manipulation and analysis. It provides data structures like DataFrames, which are similar to tables in a relational database or spreadsheets.\n",
    "\n",
    "### Importing a CSV File into Pandas"
   ]
  },
  {
   "cell_type": "code",
   "execution_count": null,
   "id": "0002a684",
   "metadata": {},
   "outputs": [],
   "source": [
    "# First, let's import the Pandas library.\n",
    "\n",
    "import pandas as pd"
   ]
  },
  {
   "cell_type": "markdown",
   "id": "9b0a13a7",
   "metadata": {},
   "source": [
    "Now, let's load a CSV file into a Pandas DataFrame. We have provided you with a CSV file called 'titanic.csv'."
   ]
  },
  {
   "cell_type": "code",
   "execution_count": null,
   "id": "bbbaa1d5",
   "metadata": {
    "scrolled": true
   },
   "outputs": [],
   "source": [
    "try:\n",
    "    df = pd.read_csv('files/titanic.csv')\n",
    "    print(\"CSV file loaded successfully!\")\n",
    "except FileNotFoundError:\n",
    "    print(\"Error: 'titanic.csv' not found. Please make sure the file is in the same directory as your notebook or provide the correct path.\")\n",
    "    exit()"
   ]
  },
  {
   "cell_type": "markdown",
   "id": "d8eb5a8e",
   "metadata": {},
   "source": [
    "### Viewing Data\n",
    "\n",
    "Here are some ways to view the data:\n",
    "\n",
    "*   `head()`: Displays the first few rows (default is 5)."
   ]
  },
  {
   "cell_type": "code",
   "execution_count": null,
   "id": "b82d678c",
   "metadata": {},
   "outputs": [],
   "source": [
    "print(\"\\nFirst 5 rows:\")\n",
    "print(df.head())"
   ]
  },
  {
   "cell_type": "markdown",
   "id": "f5c88eaf",
   "metadata": {},
   "source": [
    "*   `tail()`: Displays the last few rows."
   ]
  },
  {
   "cell_type": "code",
   "execution_count": null,
   "id": "2ca3b473",
   "metadata": {
    "scrolled": true
   },
   "outputs": [],
   "source": [
    "print(\"\\nLast 5 rows:\")\n",
    "print(df.tail())"
   ]
  },
  {
   "cell_type": "markdown",
   "id": "95f8cb7a",
   "metadata": {},
   "source": [
    "*   `info()`: Provides information about the DataFrame, including data types and non-null values."
   ]
  },
  {
   "cell_type": "code",
   "execution_count": null,
   "id": "3c5078a4",
   "metadata": {
    "scrolled": true
   },
   "outputs": [],
   "source": [
    "print(\"\\nDataFrame info:\")\n",
    "df.info()"
   ]
  },
  {
   "cell_type": "markdown",
   "id": "5aa057c4",
   "metadata": {},
   "source": [
    "*   `shape`: Returns the dimensions (rows, columns) of the DataFrame."
   ]
  },
  {
   "cell_type": "code",
   "execution_count": null,
   "id": "997ded92",
   "metadata": {},
   "outputs": [],
   "source": [
    "print(\"\\nDataFrame shape:\")\n",
    "print(df.shape)"
   ]
  },
  {
   "cell_type": "markdown",
   "id": "603f74b4",
   "metadata": {},
   "source": [
    "*   `columns`: Returns the column names."
   ]
  },
  {
   "cell_type": "code",
   "execution_count": null,
   "id": "33df87b5",
   "metadata": {},
   "outputs": [],
   "source": [
    "print(\"\\nColumn names:\")\n",
    "print(df.columns)"
   ]
  },
  {
   "cell_type": "markdown",
   "id": "15cd0129",
   "metadata": {},
   "source": [
    "### Accessing Data\n",
    "\n",
    "You can access data in a DataFrame using various methods:\n",
    "\n",
    "**Column selection:**"
   ]
  },
  {
   "cell_type": "code",
   "execution_count": null,
   "id": "fddbbec4",
   "metadata": {},
   "outputs": [],
   "source": [
    "print(\"\\nSelecting the 'Name' column:\")\n",
    "print(df['Name'])  # Or df.Name"
   ]
  },
  {
   "cell_type": "markdown",
   "id": "6b163126",
   "metadata": {},
   "source": [
    "**Row selection using `.loc` (label-based) and `.iloc` (integer-based):**"
   ]
  },
  {
   "cell_type": "code",
   "execution_count": null,
   "id": "934cfd28",
   "metadata": {},
   "outputs": [],
   "source": [
    "print(\"\\nSelecting the row with index 1 using loc:\")\n",
    "print(df.loc[1])"
   ]
  },
  {
   "cell_type": "code",
   "execution_count": null,
   "id": "3c3dcde7",
   "metadata": {},
   "outputs": [],
   "source": [
    "print(\"\\nSelecting the row at index 0 using iloc:\")\n",
    "print(df.iloc[0])"
   ]
  },
  {
   "cell_type": "markdown",
   "id": "f1ec9d64",
   "metadata": {},
   "source": [
    "**Selecting specific cells:**"
   ]
  },
  {
   "cell_type": "code",
   "execution_count": null,
   "id": "50f4c68a",
   "metadata": {},
   "outputs": [],
   "source": [
    "print(\"\\nSelecting the 'Age' value in the second row (index 1) using loc:\")\n",
    "print(df.loc[1, 'Age'])"
   ]
  },
  {
   "cell_type": "code",
   "execution_count": null,
   "id": "1b85667d",
   "metadata": {},
   "outputs": [],
   "source": [
    "print(\"\\nSelecting the 'Age' value in the first row (index 0) using iloc:\")\n",
    "print(df.iloc[0, 1])"
   ]
  },
  {
   "cell_type": "markdown",
   "id": "01024c72",
   "metadata": {},
   "source": [
    "### Simple Exploratory Data Analysis (EDA)\n",
    "\n",
    "The `describe()` method provides summary statistics for numerical columns."
   ]
  },
  {
   "cell_type": "code",
   "execution_count": null,
   "id": "5c6fd63b",
   "metadata": {},
   "outputs": [],
   "source": [
    "print(\"\\nSummary statistics:\")\n",
    "print(df.describe())"
   ]
  },
  {
   "cell_type": "markdown",
   "id": "8eedd9fb",
   "metadata": {},
   "source": [
    "For categorical columns you can use value_counts()"
   ]
  },
  {
   "cell_type": "code",
   "execution_count": null,
   "id": "5a8b3673",
   "metadata": {},
   "outputs": [],
   "source": [
    "print(\"\\nValue counts for Pclass\")\n",
    "print(df['Pclass'].value_counts())"
   ]
  },
  {
   "cell_type": "markdown",
   "id": "ea9f7af6",
   "metadata": {},
   "source": [
    "### Practice: Finding Answers in the Data\n",
    "\n",
    "Let's try to answer some questions using the data.\n",
    "\n",
    "1. What is the average age of the passengers?"
   ]
  },
  {
   "cell_type": "markdown",
   "id": "c9b3dbd7",
   "metadata": {},
   "source": [
    "<details><summary> >> Hint </summary>\n",
    "\n",
    "```\n",
    "average_age = df['Age'].mean()\n",
    "print(f\"\\nAverage age: {average_age}\")\n",
    "```\n",
    "    \n",
    "</details>"
   ]
  },
  {
   "cell_type": "code",
   "execution_count": null,
   "id": "8d0c0e09",
   "metadata": {},
   "outputs": [],
   "source": [
    "# Your code here"
   ]
  },
  {
   "cell_type": "markdown",
   "id": "5b8ba794",
   "metadata": {},
   "source": [
    "2. How many passengers survived?"
   ]
  },
  {
   "cell_type": "markdown",
   "id": "9466d6b4",
   "metadata": {},
   "source": [
    "<details><summary> >> Hint </summary>\n",
    "\n",
    "```\n",
    "number_survived = df['Survived'].sum() # Because survived is 1 or 0 we can just sum it\n",
    "print(f\"\\nNumber of passengers survived: {number_survived}\")\n",
    "```\n",
    "\n",
    "</details>"
   ]
  },
  {
   "cell_type": "code",
   "execution_count": null,
   "id": "619ad58a",
   "metadata": {},
   "outputs": [],
   "source": [
    "# Your code here"
   ]
  },
  {
   "cell_type": "markdown",
   "id": "d07e3e42",
   "metadata": {},
   "source": [
    "3. What is the name of the first passenger?"
   ]
  },
  {
   "cell_type": "markdown",
   "id": "06768c53",
   "metadata": {},
   "source": [
    "<details><summary> >> Hint </summary>\n",
    "\n",
    "```\n",
    "first_passenger_name = df.loc[0, 'Name']\n",
    "print(f\"\\nName of the first passenger: {first_passenger_name}\")\n",
    "```\n",
    "\n",
    "</details>"
   ]
  },
  {
   "cell_type": "code",
   "execution_count": null,
   "id": "de0af0e4",
   "metadata": {},
   "outputs": [],
   "source": [
    "# Your code here"
   ]
  },
  {
   "cell_type": "markdown",
   "id": "9c38cb58",
   "metadata": {},
   "source": [
    "4. How many passengers were in each Pclass?"
   ]
  },
  {
   "cell_type": "markdown",
   "id": "cb4c26f7",
   "metadata": {},
   "source": [
    "<details><summary> >> Hint </summary>\n",
    "\n",
    "```\n",
    "passengers_per_class = df['Pclass'].value_counts()\n",
    "print(f\"\\nPassengers per Pclass:\\n{passengers_per_class}\")\n",
    "```\n",
    "\n",
    "</details>"
   ]
  },
  {
   "cell_type": "code",
   "execution_count": null,
   "id": "9184aa1b",
   "metadata": {},
   "outputs": [],
   "source": [
    "# Your code here"
   ]
  },
  {
   "cell_type": "markdown",
   "id": "07543e6a",
   "metadata": {},
   "source": [
    "Summary: This exercise has covered the basics of loading data with Pandas, viewing and accessing data, and performing some basic EDA."
   ]
  },
  {
   "cell_type": "markdown",
   "id": "d3908343",
   "metadata": {},
   "source": [
    "<p style=\"text-align:center;\">That's it! Congratulations! <br> \n",
    "    Let's now work on your lab assigment.</p>"
   ]
  }
 ],
 "metadata": {
  "kernelspec": {
   "display_name": "Python 3 (ipykernel)",
   "language": "python",
   "name": "python3"
  },
  "language_info": {
   "codemirror_mode": {
    "name": "ipython",
    "version": 3
   },
   "file_extension": ".py",
   "mimetype": "text/x-python",
   "name": "python",
   "nbconvert_exporter": "python",
   "pygments_lexer": "ipython3",
   "version": "3.11.7"
  }
 },
 "nbformat": 4,
 "nbformat_minor": 5
}
