{
 "cells": [
  {
   "cell_type": "markdown",
   "id": "c1ba598b-8ece-47dc-bb28-4709b35bdcc7",
   "metadata": {},
   "source": [
    "<p style=\"text-align:center\">\n",
    "    <a href=\"https://www.ict.mahidol.ac.th/en/\" target=\"_blank\">\n",
    "    <img src=\"https://www3.ict.mahidol.ac.th/ICTSurveysV2/Content/image/MUICT2.png\" width=\"400\" alt=\"Faculty of ICT\">\n",
    "    </a>\n",
    "</p>\n",
    "\n",
    "# Lab08: ML Basics: Classification (Extra Assignment)\n",
    "\n",
    "**If you have finished the First Lab Assignment, you may start on Extra Assignment: Part 4.**\n",
    "\n",
    "This covers a common and difficult problem in classification with imbalanced datasets, trying to make important decisions with limited data. \n",
    "\n",
    "This dataset is on deciding whether to **Lend Money**.\n",
    "\n",
    "**Steps:**\n",
    "1. Stratification\n",
    "2. Cost Sensitive Models\n",
    "3. Many Models\n",
    "4. Undersampling\n",
    "5. Oversampling\n",
    "6. Curriculum Learning (Easy, Medium, Hard)\n",
    "\n",
    "\n",
    "\n",
    "__Instructions:__\n",
    "1. Append your ID at the end of this jupyter file name. For example, ```ITCS227_Lab0X_Assignment_Extra_6788123.ipynb```\n",
    "2. Complete each task and question in the lab.\n",
    "3. Once finished, raise your hand to call a TA.\n",
    "4. The TA will check your work and give you an appropriate score.\n",
    "5. Submit your IPYNB source code to MyCourses as record-keeping."
   ]
  },
  {
   "cell_type": "markdown",
   "id": "ca32f872-2305-4f40-86d9-ad6653644d3a",
   "metadata": {},
   "source": [
    "## Library of Helper Functions"
   ]
  },
  {
   "cell_type": "code",
   "execution_count": null,
   "id": "d59098b6-989b-4640-afa4-da84302804db",
   "metadata": {
    "jupyter": {
     "source_hidden": true
    }
   },
   "outputs": [],
   "source": [
    "import matplotlib.pyplot as plt\n",
    "from sklearn.metrics import accuracy_score, recall_score, confusion_matrix, classification_report, ConfusionMatrixDisplay\n",
    "from sklearn.model_selection import learning_curve\n",
    "import warnings\n",
    "from sklearn.exceptions import FitFailedWarning\n",
    "\n",
    "def _show_classification_report(model, y_true, y_pred, target_names):\n",
    "    '''\n",
    "        Function to print performance metrics\n",
    "    '''\n",
    "    accuracy = accuracy_score(y_true, y_pred)\n",
    "    sensitivity = recall_score(y_true, y_pred, pos_label=1, average='weighted')\n",
    "    specificity = recall_score(y_true, y_pred, pos_label=0, average='weighted')\n",
    "    print(f\"Accuracy: {accuracy:.4f}\")\n",
    "    print(f\"Sensitivity: {sensitivity:.4f}\")\n",
    "    print(f\"Specificity: {specificity:.4f}\")\n",
    "    print(\"Classification Report:\")\n",
    "    class_report = classification_report(y_true, y_pred, target_names=target_names)\n",
    "    print(class_report)\n",
    "    res = classification_report(y_true, y_pred, target_names=target_names, output_dict=True)\n",
    "    return pd.json_normalize(res, sep='_')\n",
    "    \n",
    "def _show_confusion_matrix(model, y_true, y_pred, target_names):\n",
    "    '''\n",
    "        Function to plot confusion matrix\n",
    "    '''\n",
    "    cm = confusion_matrix(y_true, y_pred, labels=model.classes_)\n",
    "    disp = ConfusionMatrixDisplay(confusion_matrix=cm,\n",
    "                                  display_labels=target_names)\n",
    "    disp.plot(cmap=plt.cm.Blues,)\n",
    "    plt.gcf().set_size_inches(3.5, 3.5)\n",
    "    disp.ax_.set_title(f'Confusion Matrix for {model.__class__.__name__}', fontsize=8)\n",
    "    plt.show()\n",
    "    \n",
    "def _plot_histogram_of_frequencies(data, ax=None):\n",
    "    if not ax:\n",
    "        fig, ax = plt.subplots(figsize=(7,2.5))\n",
    "    unique_values, counts = np.unique(data, return_counts=True)\n",
    "    barh = plt.bar(unique_values, counts)\n",
    "    plt.xlabel(\"Values\")\n",
    "    plt.ylabel(\"Frequency\")\n",
    "    plt.title(\"Histogram\")\n",
    "    plt.xticks(unique_values)\n",
    "    ax.bar_label(barh, fmt='%.2f')\n",
    "    ax.set_ylim(bottom=0, top=1.25*max(counts))\n",
    "    print('Class Split:', counts/sum(counts))\n",
    "    plt.show()\n",
    "    \n",
    "def _make_learning_curve(model, X_train, y_train, scoring=\"f1_weighted\", num_training_sizes=10):\n",
    "    def _plot_learning_curve(model, train_sizes, train_scores, valid_scores, metric='F1 Score', plt_text='', ax=None):\n",
    "        if not ax:\n",
    "            fig, ax = plt.subplots(nrows=1, ncols=1, figsize=(6, 3), sharey=True, sharex=True)\n",
    "        train_errors = train_scores.mean(axis=1)\n",
    "        valid_errors = valid_scores.mean(axis=1)\n",
    "        ax.plot(train_sizes, train_errors, \"r-+\", linewidth=2, label=\"train\")\n",
    "        ax.plot(train_sizes, valid_errors, \"b-\", linewidth=3, label=\"valid\")\n",
    "        ax.set_xlabel(\"Training set size\")\n",
    "        ax.set_ylabel(f'{metric}')\n",
    "        # plt.gca().set_xscale(\"log\", nonpositive='clip')\n",
    "        ax.grid()\n",
    "        ax.legend(loc=\"upper right\")\n",
    "        ax.set_ylim(bottom=0, top=1.25*max([1]))\n",
    "        ax.set_title(f'{model.__class__.__name__}\\n{plt_text}', fontsize=8)\n",
    "        plt.show()\n",
    "        \n",
    "    with warnings.catch_warnings():\n",
    "        warnings.filterwarnings(\"ignore\", category=FitFailedWarning)\n",
    "        train_sizes, train_scores, valid_scores = learning_curve( model, \n",
    "                                                    X_train, y_train, \n",
    "                                                    train_sizes=np.linspace(0.01, 1.0, num_training_sizes), # e.g. `num` size intervals, from 1% to 100%\n",
    "                                                    cv=5,     # CV=5 means  Train = 80%  , Test = 20%.\n",
    "                                                              # CV=10 means Train = 90%  , Test = 10%.\n",
    "                                                              #   - The fit/predict is repeated 5 times with random samples taken from X/Y.\n",
    "                                                              #   - The resulting error is the average across all 5 trials; so a smoother and fairer result than CV=1 , which is hold-out.\n",
    "                                                    scoring=scoring,\n",
    "                                                    n_jobs=-1\n",
    "                                                )\n",
    "    _plot_learning_curve(model, train_sizes, train_scores, valid_scores, metric=scoring.replace('_',' ').title(), plt_text='')\n"
   ]
  },
  {
   "cell_type": "markdown",
   "id": "25f0883a-ce5c-43ca-810a-0de4082d4d6d",
   "metadata": {},
   "source": [
    "```\n",
    "\n",
    "\n",
    "\n",
    "```"
   ]
  },
  {
   "cell_type": "markdown",
   "id": "06264b37-2fe1-42cf-8c18-880e15253aaa",
   "metadata": {},
   "source": [
    "**Recommended Steps:**\n",
    "* Think about the techniques you know about that might improve the model's F1 Score to 0.95 or above. \n",
    "* Starting with the **simplest first** (Ocam's Razor!), try those approaches to improve the F1 Score, until 0.95 or above and report back on which worked for you:"
   ]
  },
  {
   "cell_type": "markdown",
   "id": "5c2ac004-ca9b-49a8-af35-e1aaf1b63efc",
   "metadata": {},
   "source": [
    "## Q1: Which techniques / steps led to improving the F1 Score to 0.95 or above?\n",
    "\n",
    "Ans: _________"
   ]
  },
  {
   "cell_type": "markdown",
   "id": "8d59c3e0-27e6-4d86-bed8-5a418f332996",
   "metadata": {},
   "source": [
    "## Q2: Include a Screenshot of your final Orange Workspace and including its best F1-Score:\n",
    "\n",
    "Ans: _________"
   ]
  },
  {
   "cell_type": "markdown",
   "id": "8a4b8997-3580-4175-bb61-59ef7960221f",
   "metadata": {},
   "source": [
    "```\n",
    "\n",
    "\n",
    "\n",
    "\n",
    "\n",
    "\n",
    "\n",
    "\n",
    "\n",
    "\n",
    "\n",
    "\n",
    "\n",
    "\n",
    "\n",
    "\n",
    "\n",
    "\n",
    "\n",
    "\n",
    "\n",
    "```"
   ]
  },
  {
   "cell_type": "markdown",
   "id": "73b7b041-41dd-4022-acf2-3451c6f43f8e",
   "metadata": {
    "id": "q4CZM9lwxPYQ",
    "papermill": {
     "duration": 0.005828,
     "end_time": "2025-02-26T14:13:50.430054",
     "exception": false,
     "start_time": "2025-02-26T14:13:50.424226",
     "status": "completed"
    },
    "tags": []
   },
   "source": [
    "# Part 4 - Analysing the Lending Dataset: Deciding whether to lend. [ML Task: Handling Imbalanced Data]\n",
    "\n",
    "Fill in the code (find examples in Tutorial and in slides) and answer the questions according to the steps below:\n",
    "\n",
    "**Steps:**\n",
    "\n",
    "- **Step 0:** \tDefine the Dataset and Objective:\n",
    "    - Objective:\n",
    "        - Predict applicants that will fail to pay a loan, before lending.\n",
    "    - Consider Actions:\n",
    "        * 0 → Loan fully paid (`Low Risk`) :  `POSITIVE` Class (`P`) -> Lend to Borrower.\n",
    "        * 1 → Loan not fully paid (`High Risk`) :  `NEGATIVE` Class (`N`) -> Do not Lend to Borrower.\n",
    "- **Step 1:** \tIdentify which cell is most crucial.\n",
    "    - TP `\"Loan fully paid\"` - Lender will gain customer, Borrower will receive loan.\n",
    "    - TN `\"Loan not fully paid\"` - Lender will lose customer, Borrower will not receive loan.\n",
    "    - FP - Lender will lose customer, Borrower will not be given loan.\n",
    "    - FN - Lender will lose money, Borrower may go bankrupt.\n",
    "- **Step 2:** \tDefine Positive (P) and Negative (N)\n",
    "    - Consider the two classes are:\n",
    "        - `Loan fully paid` (P)\n",
    "        - `Loan not fully paid` (N)\n",
    "- **Step 3:** \tState True and False\n",
    "-  ... fit model,  evaluate model ,  count errors …\n",
    "- **Step 4:** \tCalculate the metric\n",
    "- **Step 5:** \tDecide if objective met.\n",
    "    - Consider Minimum Metric Score is **0.9 or 90%**.\n",
    "    - If above this level, it can be used by the financial institution to make lending choices.\n",
    "    - If no, **Return to Step 3**: ... many trials to improve performance.."
   ]
  },
  {
   "cell_type": "markdown",
   "id": "79afb024-6fc2-436a-8f13-1bd68a06c83e",
   "metadata": {},
   "source": [
    "## Q1: Identify which Class is most important:\n",
    "(Either - `Loan fully paid` (P) or `Loan not fully paid` (N) )\n",
    "* Ans: _______"
   ]
  },
  {
   "cell_type": "markdown",
   "id": "b4448994-06c4-4d74-9b71-89c0b865f982",
   "metadata": {},
   "source": [
    "## Q2: Identify which Error (FP or FN) is most important:\n",
    "\n",
    "(Either (1)`FP and FN` or (2) `FP` or (3) `FN` is most important. Explain why in a sentence.)\n",
    "\n",
    "* Ans: _______"
   ]
  },
  {
   "cell_type": "markdown",
   "id": "0637685f-d7e3-4188-b90a-9bd2f450e4f0",
   "metadata": {},
   "source": [
    "## Q3: Which Metric is helps measure that condition?\n",
    "\n",
    "* Ans: _______"
   ]
  },
  {
   "cell_type": "markdown",
   "id": "6a754aa7-b0cc-46ed-809d-312376f99e97",
   "metadata": {},
   "source": [
    "##### Domain Knowledge:\n",
    "For a financial institution, this kind of task falls under both \"saving money\" and \"making money\". The bank/ lender wishes to lend money to an applicant that will successfully repay the loan in the longest (maximum) period of time. \n",
    "* `Low Risk` borrower: - Repays loan - repays early, the net income on the loan is smaller.\n",
    "* `Low` (-Medium) `Risk` borrower: - Repays loan - repays in over longer lending period (i.e. maximum period), more interest will be paid, leading to greater net income to the bank.\n",
    "* `High risk` borrower: - Fails to repay loan - The bank reclaims the applicant's collateral (assets) to resell. Leads to extra work and in most cases a **severe loss in net income**.\n",
    "\n",
    "The task is to predict whether a borrower is likely to fail to fully repay a loan (not_fully_paid = 1) based on their financial history and credit-related factors. This model helps lenders assess loan default risk, enabling better decision-making in loan approvals, interest rate adjustments, and risk mitigation strategies."
   ]
  },
  {
   "cell_type": "markdown",
   "id": "d5b801e5",
   "metadata": {
    "id": "bXEMkjcbzndO",
    "papermill": {
     "duration": 0.004413,
     "end_time": "2025-02-26T14:13:50.439495",
     "exception": false,
     "start_time": "2025-02-26T14:13:50.435082",
     "status": "completed"
    },
    "tags": []
   },
   "source": [
    "##### Dataset Description\n",
    "\n",
    "This dataset contains loan data from LendingClub.com, a platform connecting borrowers with investors, spanning the years 2007 to 2010. It includes information on over 9,500 loans, detailing loan structure, borrower characteristics, and loan repayment status. The data is derived from publicly available information on LendingClub.com.\n",
    "**Source:** [Kaggle - Loan Data](https://www.kaggle.com/itssuru/loan-data)\n",
    "\n",
    "\n",
    "| Variable           | Explanation                                                                                                                                                                                                    |\n",
    "|--------------------|----------------------------------------------------------------------------------------------------------------------------------------------------------------------------------------------------------------|\n",
    "| credit_policy      | 1 if the customer meets the credit underwriting criteria; 0 otherwise.                                                                                                                                       |\n",
    "| purpose            | The purpose of the loan.                                                                                                                                                                                      |\n",
    "| int_rate           | The interest rate of the loan (higher rates indicate higher risk).                                                                                                                                            |\n",
    "| installment        | The monthly installments owed by the borrower if the loan is funded.                                                                                                                                         |\n",
    "| log_annual_inc     | The natural logarithm of the borrower's self-reported annual income.                                                                                                                                          |\n",
    "| dti                | The borrower's debt-to-income ratio (debt divided by annual income).                                                                                                                                         |\n",
    "| fico               | The borrower's FICO credit score.                                                                                                                                                                            |\n",
    "| days_with_cr_line  | The number of days the borrower has had a credit line.                                                                                                                                                        |\n",
    "| revol_bal          | The borrower's revolving balance (unpaid amount at the end of the credit card billing cycle).                                                                                                                |\n",
    "| revol_util         | The borrower's revolving line utilization rate (credit line used relative to total available credit).                                                                                                       |\n",
    "| inq_last_6mths     | The borrower's number of credit inquiries in the last 6 months.                                                                                                                                              |\n",
    "| delinq_2yrs        | The number of times the borrower was 30+ days past due on a payment in the past 2 years.                                                                                                                       |\n",
    "| pub_rec            | The borrower's number of derogatory public records.                                                                                                                                                         |\n",
    "| not_fully_paid     | 1 if the loan was not fully paid; 0 otherwise.                                                                                                                                                              |\n"
   ]
  },
  {
   "cell_type": "markdown",
   "id": "e0db500f",
   "metadata": {
    "id": "-I6Jis8ti8Dq",
    "papermill": {
     "duration": 0.004318,
     "end_time": "2025-02-26T14:13:50.448527",
     "exception": false,
     "start_time": "2025-02-26T14:13:50.444209",
     "status": "completed"
    },
    "tags": []
   },
   "source": [
    "### Load Dataset"
   ]
  },
  {
   "cell_type": "code",
   "execution_count": null,
   "id": "b61e57ae",
   "metadata": {
    "id": "RqF9SuVKDYOT",
    "papermill": {
     "duration": 3.755076,
     "end_time": "2025-02-26T14:13:54.208270",
     "exception": false,
     "start_time": "2025-02-26T14:13:50.453194",
     "status": "completed"
    },
    "tags": []
   },
   "outputs": [],
   "source": [
    "# Imports\n",
    "import pandas as pd\n",
    "import numpy as np\n",
    "import seaborn as sns\n",
    "import matplotlib.pyplot as plt"
   ]
  },
  {
   "cell_type": "code",
   "execution_count": null,
   "id": "705c4cd5",
   "metadata": {
    "id": "SVvMgPJzfGjc",
    "outputId": "d554d1b1-5119-4bf9-e76d-2d9bd67561e1",
    "papermill": {
     "duration": 0.469338,
     "end_time": "2025-02-26T14:13:54.683888",
     "exception": false,
     "start_time": "2025-02-26T14:13:54.214550",
     "status": "completed"
    },
    "tags": []
   },
   "outputs": [],
   "source": [
    "# Load a DataFrame with a specific version of a CSV\n",
    "target_names = ['Fully Paid', 'Not Fully Paid'] # [0,1]\n",
    "target_name = 'not.fully.paid'\n",
    "fn = \"Dataset_Loan_Data_2007-2010__Imbalance_Kaggle-ITSSURU_2021/loan_data.csv\"\n",
    "df = pd.read_csv( fn )\n",
    "df.head(1)"
   ]
  },
  {
   "cell_type": "markdown",
   "id": "93ab3261",
   "metadata": {
    "id": "gzq31IyOjVE-",
    "papermill": {
     "duration": 0.009894,
     "end_time": "2025-02-26T14:13:54.702527",
     "exception": false,
     "start_time": "2025-02-26T14:13:54.692633",
     "status": "completed"
    },
    "tags": []
   },
   "source": [
    "##### Explore Dataset:"
   ]
  },
  {
   "cell_type": "code",
   "execution_count": null,
   "id": "9929d899",
   "metadata": {
    "id": "HCAt7Uq3jnp-",
    "outputId": "a68a692e-f0b4-4895-f680-d1f1731b0764",
    "papermill": {
     "duration": 0.110323,
     "end_time": "2025-02-26T14:13:54.819801",
     "exception": false,
     "start_time": "2025-02-26T14:13:54.709478",
     "status": "completed"
    },
    "tags": []
   },
   "outputs": [],
   "source": [
    "# Display basic info\n",
    "print(df.info())\n",
    "df.describe()"
   ]
  },
  {
   "cell_type": "markdown",
   "id": "a8a43a10-c051-4b8c-b215-d916e046c24e",
   "metadata": {},
   "source": [
    "##### Feature Distribution Analysis"
   ]
  },
  {
   "cell_type": "code",
   "execution_count": null,
   "id": "1315033c",
   "metadata": {
    "id": "y9yyP9ys2KMC",
    "outputId": "adde8952-9e4b-4a67-d878-c66dd895f021",
    "papermill": {
     "duration": 1.047202,
     "end_time": "2025-02-26T14:13:56.173305",
     "exception": false,
     "start_time": "2025-02-26T14:13:55.126103",
     "status": "completed"
    },
    "tags": []
   },
   "outputs": [],
   "source": [
    "# Histogram for key numerical features\n",
    "num_features = [\"fico\", \"int.rate\", \"dti\", \"installment\"]\n",
    "df[num_features].hist(figsize=(12, 8), bins=30, edgecolor=\"black\")\n",
    "plt.suptitle(\"Feature Distributions\")\n",
    "plt.show()"
   ]
  },
  {
   "cell_type": "markdown",
   "id": "0999f3c7-3f4d-4b90-943c-814fa68e7fd9",
   "metadata": {},
   "source": [
    "##### Boxplots for outlier detection"
   ]
  },
  {
   "cell_type": "code",
   "execution_count": null,
   "id": "ef390e28",
   "metadata": {
    "id": "NTFeAqoZ2ah5",
    "outputId": "4a82f9f1-2ab6-4d04-d4ac-a8b6cc9e96fb",
    "papermill": {
     "duration": 0.645462,
     "end_time": "2025-02-26T14:13:56.826843",
     "exception": false,
     "start_time": "2025-02-26T14:13:56.181381",
     "status": "completed"
    },
    "tags": []
   },
   "outputs": [],
   "source": [
    "plt.figure(figsize=(12, 6))\n",
    "for i, feature in enumerate(num_features):\n",
    "    plt.subplot(2, 2, i + 1)\n",
    "    sns.boxplot(y=df[feature], color=\"skyblue\")\n",
    "    plt.title(f\"Boxplot of {feature}\")\n",
    "plt.tight_layout()\n",
    "plt.show()"
   ]
  },
  {
   "cell_type": "markdown",
   "id": "51ef8a2f-9438-4b54-993b-3fd3f69d4c7a",
   "metadata": {},
   "source": [
    "##### Encode categorical column 'purpose' using Label Encoding\n",
    "* Now we can treat `purpose` as a numerical column."
   ]
  },
  {
   "cell_type": "code",
   "execution_count": null,
   "id": "a1716c4c",
   "metadata": {
    "id": "5uUkOgNt3xix",
    "papermill": {
     "duration": 0.018168,
     "end_time": "2025-02-26T14:13:56.853904",
     "exception": false,
     "start_time": "2025-02-26T14:13:56.835736",
     "status": "completed"
    },
    "tags": []
   },
   "outputs": [],
   "source": [
    "from sklearn.preprocessing import LabelEncoder\n",
    "\n",
    "le = LabelEncoder()\n",
    "df[\"purpose\"] = le.fit_transform(df[\"purpose\"])"
   ]
  },
  {
   "cell_type": "code",
   "execution_count": null,
   "id": "86d9e00f",
   "metadata": {
    "id": "5ER7wiBffQKF",
    "outputId": "8908b2fe-4e49-49da-c6d0-31e9f950f27f",
    "papermill": {
     "duration": 0.26585,
     "end_time": "2025-02-26T14:13:57.128185",
     "exception": false,
     "start_time": "2025-02-26T14:13:56.862335",
     "status": "completed"
    },
    "tags": []
   },
   "outputs": [],
   "source": [
    "# Class distribution (`not_fully_paid` target feature counts)\n",
    "sns.countplot(data=df, x='purpose', hue=target_name)"
   ]
  },
  {
   "cell_type": "markdown",
   "id": "e880d724-1666-46b7-b132-03993a2ef206",
   "metadata": {},
   "source": [
    "### Measure Class Balance:"
   ]
  },
  {
   "cell_type": "code",
   "execution_count": null,
   "id": "a6818293-9562-4575-bcca-84a950db01cb",
   "metadata": {},
   "outputs": [],
   "source": [
    "_plot_histogram_of_frequencies(df[target_name])"
   ]
  },
  {
   "cell_type": "markdown",
   "id": "8ae64d87-38a3-4941-ba90-8b6f7c6289f7",
   "metadata": {},
   "source": [
    "### Checkpoint: The number of records per class are heavily imbalanced!\n",
    "* In `Part 2` you were recommended to use `StratifiedShuffleSplit` for the mildly imbalanced dataset.\n",
    "* This dataset has a higher **84:16 ratio** imbalance.\n",
    "* In the `slides` example, we artificially `undersampled` a balanced dataset (from 1:1 to 99:1).\n",
    "* In this task, you are asked to implement a solution to `Imbalanced Classification`slides **`-> from 84:16 to 1:1`**"
   ]
  },
  {
   "cell_type": "markdown",
   "id": "f51322ff-5226-4b11-a233-1d24887ab6e7",
   "metadata": {},
   "source": [
    "### Select `X` (input features) and `y` (target feature) and Split as X and y:\n",
    "* Define your X and y data, from features in the dataset.\n",
    "* Split X / y into train and test sets."
   ]
  },
  {
   "cell_type": "code",
   "execution_count": null,
   "id": "87a2b7dc",
   "metadata": {
    "id": "FTlWSWoh-n6Q",
    "papermill": {
     "duration": 0.02878,
     "end_time": "2025-02-26T14:13:57.992083",
     "exception": false,
     "start_time": "2025-02-26T14:13:57.963303",
     "status": "completed"
    },
    "tags": []
   },
   "outputs": [],
   "source": [
    "from sklearn.model_selection import train_test_split\n",
    "\n",
    "X = df.drop(columns=[target_name])\n",
    "y = df[target_name]\n",
    "\n",
    "X_train, X_test, y_train, y_test = train_test_split(\n",
    "    X, y, test_size=0.2, random_state=0, #stratify=y\n",
    ")"
   ]
  },
  {
   "cell_type": "markdown",
   "id": "3b2156c1-71f8-48d3-9456-b886c53d2ef2",
   "metadata": {},
   "source": [
    "### Define a Reusable Function to Evaluate a Model:\n",
    "- Below is a reusable function to evaluate several models. This will let us experiment with many variations to find the best.\n",
    "- Run the cell to use it later."
   ]
  },
  {
   "cell_type": "code",
   "execution_count": null,
   "id": "d4d99db8-e56a-4d27-a3ce-391a6b6557fb",
   "metadata": {},
   "outputs": [],
   "source": [
    "import warnings; from sklearn.exceptions import ConvergenceWarning\n",
    "from sklearn.model_selection import StratifiedShuffleSplit, cross_val_score\n",
    "from sklearn.preprocessing import StandardScaler\n",
    "\n",
    "def evaluate_a_model( model, X_train, y_train, X_test, y_test, target_names, scaling=True, return_pd=False):\n",
    "    with warnings.catch_warnings():\n",
    "        warnings.filterwarnings(\"ignore\", category=ConvergenceWarning)\n",
    "        \n",
    "        # Scale the X data using StandardScaler. (This can improve the performance for this dataset.)\n",
    "        if scaling:\n",
    "            scaler = StandardScaler()\n",
    "            _X_train = scaler.fit_transform(X_train)\n",
    "            _X_test = scaler.transform(X_test)\n",
    "        else:\n",
    "            _X_train = X_train\n",
    "            _X_test = X_test\n",
    "            \n",
    "        # Evalaute the model using Stratified K-Folds:\n",
    "        kf = StratifiedShuffleSplit(n_splits=5)\n",
    "        train_f1_scores = cross_val_score(model, _X_train, y_train, cv=kf, scoring='f1_weighted')\n",
    "        print('Stratified CV - F1 Weighted Score: ', train_f1_scores)\n",
    "        model.fit(_X_train, y_train)\n",
    "        y_pred = model.predict(_X_test)\n",
    "        \n",
    "        # Show the model performance:\n",
    "        res = _show_classification_report(model, y_test, y_pred, target_names)\n",
    "        res['Model'] = model.__class__.__name__\n",
    "        _show_confusion_matrix(model, y_test, y_pred, target_names)\n",
    "        _make_learning_curve(model, _X_train, y_train)\n",
    "        if return_pd:\n",
    "            return res"
   ]
  },
  {
   "cell_type": "markdown",
   "id": "f52e28fa-93ab-4692-a73d-e4eda3b881b4",
   "metadata": {},
   "source": [
    "### Measure the model using a Baseline Classifier Algorithm:"
   ]
  },
  {
   "cell_type": "code",
   "execution_count": null,
   "id": "3ab30a4b-bfe8-4a49-9a9c-57775d04cbec",
   "metadata": {},
   "outputs": [],
   "source": [
    "from sklearn.naive_bayes import GaussianNB\n",
    "\n",
    "model = GaussianNB()\n",
    "evaluate_a_model( model, X_train, y_train, X_test, y_test, target_names)"
   ]
  },
  {
   "cell_type": "markdown",
   "id": "4b10e6df-498c-427b-ac2f-ecdb2fc8bc48",
   "metadata": {},
   "source": [
    "## Q4i: What is the metric score (as you identified above) according to the model's performance on the `test` set:\n",
    "*(example:  F1 Score and 0.95)*\n",
    "* Ans: _______"
   ]
  },
  {
   "cell_type": "markdown",
   "id": "c5cec104-860c-4bbf-9190-dc85a9b347e2",
   "metadata": {},
   "source": [
    "### Q4.ii: What is the model's `weighted avg F1-Score`?\n",
    "\n",
    "Ans: _________\n",
    "\n",
    "### Q4.iii: Are the model's `weighted avg Precision` and `weighted avg Recall` approximately equal?\n",
    "\n",
    "Ans: _________\n",
    "\n",
    "\n",
    "### Q4.iv: Do the `Majority` and `Minority` class(es) have approximately equal F1 Score?\n",
    "\n",
    "Ans: _________"
   ]
  },
  {
   "cell_type": "markdown",
   "id": "8d6c9af5-e120-48ae-8357-20b5a9c33f55",
   "metadata": {},
   "source": [
    "## Q5: Is the objective met?\n",
    "- Considering we defined the **Minimum Metric Score is 0.9 or 90%.**\n",
    "- Does the score from your model meet the objective to deliver this model to a financial institution to make lending choices.\n",
    " \n",
    "* Ans: _______"
   ]
  },
  {
   "cell_type": "markdown",
   "id": "6fb1087e-452e-400c-afd2-657fac34a8d0",
   "metadata": {},
   "source": [
    "## Next Steps: - Experimentation:\n",
    "\n",
    "See the code examples in the Lab Tutorial (and Slides), to apply these steps. \n",
    "\n",
    "1. Stratification\n",
    "2. Cost Sensitive Models\n",
    "3. Many Models\n",
    "4. Undersampling\n",
    "5. Oversampling\n",
    "6. Curriculum Learning (Easy, Medium, Hard)\n",
    "\n",
    "Your task is to find a model that can reach the **Minimum Metric Score** objective."
   ]
  },
  {
   "cell_type": "markdown",
   "id": "0c26e33d-5e1d-4065-b90e-36f8b5607c95",
   "metadata": {},
   "source": [
    "### 1. Different Classifier Algorithms:"
   ]
  },
  {
   "cell_type": "code",
   "execution_count": null,
   "id": "bdf3e6c1-f68b-41a0-a2e8-09867b5e665e",
   "metadata": {},
   "outputs": [],
   "source": [
    "# insert your code here\n"
   ]
  },
  {
   "cell_type": "markdown",
   "id": "0661ee8a-7aa1-4121-8a9a-db01a5dce185",
   "metadata": {},
   "source": [
    "### 2. Cost-Sensitive Algorithms with Scaling and Stratified `train_test_split`:"
   ]
  },
  {
   "cell_type": "code",
   "execution_count": null,
   "id": "ed9b7675-95a5-419c-96d3-041d3e02c6a9",
   "metadata": {},
   "outputs": [],
   "source": [
    "# insert your code here\n"
   ]
  },
  {
   "cell_type": "markdown",
   "id": "054bcceb-f592-46bf-b996-4034d873a28f",
   "metadata": {},
   "source": [
    "### 3. Cost-Sensitive Algorithms with Scaling:"
   ]
  },
  {
   "cell_type": "code",
   "execution_count": null,
   "id": "0b2417ca-6ef1-45ce-b1f8-c72908e8e6f2",
   "metadata": {},
   "outputs": [],
   "source": [
    "# insert your code here\n"
   ]
  },
  {
   "cell_type": "markdown",
   "id": "94ebfbcf-8bc4-467b-a071-d88fb1319fab",
   "metadata": {},
   "source": [
    "### 4. Cost-Sensitive Algorithms without Scaling:"
   ]
  },
  {
   "cell_type": "code",
   "execution_count": null,
   "id": "204878e1-e031-4b39-a438-96b4ec2b9695",
   "metadata": {},
   "outputs": [],
   "source": [
    "# insert your code here\n"
   ]
  },
  {
   "cell_type": "markdown",
   "id": "7af982d1-4974-4596-8b0a-ecca0d77ced8",
   "metadata": {},
   "source": [
    "### 5. Undersampling:"
   ]
  },
  {
   "cell_type": "code",
   "execution_count": null,
   "id": "f50ef492-8e97-43c3-9d03-9d9a278e4701",
   "metadata": {},
   "outputs": [],
   "source": [
    "# insert your code here\n"
   ]
  },
  {
   "cell_type": "markdown",
   "id": "759ab7f7-8f39-49d9-a768-604048603adc",
   "metadata": {},
   "source": [
    "### 6. Oversampling:"
   ]
  },
  {
   "cell_type": "code",
   "execution_count": null,
   "id": "e1104a56-5b60-437d-8722-168209827d6c",
   "metadata": {},
   "outputs": [],
   "source": [
    "# insert your code here\n"
   ]
  },
  {
   "cell_type": "markdown",
   "id": "94df0f88-8ec1-429f-9501-984eb9cb9a22",
   "metadata": {},
   "source": [
    "### 7. Curriculum Learning:"
   ]
  },
  {
   "cell_type": "code",
   "execution_count": null,
   "id": "3fa3a104-8c2c-4e1b-94ae-e4908853d2c8",
   "metadata": {},
   "outputs": [],
   "source": [
    "# insert your code here\n"
   ]
  },
  {
   "cell_type": "markdown",
   "id": "55be7c4b-e6c7-40fc-b192-6ffb9b18259d",
   "metadata": {},
   "source": [
    "```\n",
    "\n",
    "\n",
    "\n",
    "\n",
    "\n",
    "```"
   ]
  },
  {
   "cell_type": "markdown",
   "id": "85a1a426-2a2a-4c3d-9585-8d7bf5c4b2d8",
   "metadata": {},
   "source": [
    "### Q: Describe which model and technique / step led to the highest \"\" ?\n",
    "\n",
    "Ans: _________"
   ]
  },
  {
   "cell_type": "markdown",
   "id": "66c6e414-dcf7-4fec-930d-c6cffb2f4a68",
   "metadata": {},
   "source": [
    "\n",
    "### Q: Include a Screenshot of its `Classification Report and Confusion Matrix` and including your chosen `Metric` and its `best Metric Score`:\n",
    "\n",
    "Ans: _________"
   ]
  },
  {
   "cell_type": "markdown",
   "id": "7bf0deff-b840-4a8f-9a92-5662bcc47ab9",
   "metadata": {},
   "source": [
    "```\n",
    "\n",
    "\n",
    "\n",
    "\n",
    "\n",
    "\n",
    "```\n",
    "<p style=\"text-align:center;\">That's it! Extra Congratulations!! <br> \n",
    "    Now, call an LA to check your solution. Then, upload your code on MyCourses.</p>"
   ]
  }
 ],
 "metadata": {
  "colab": {
   "provenance": []
  },
  "kaggle": {
   "accelerator": "none",
   "dataSources": [
    {
     "databundleVersionId": 2273824,
     "datasetId": 1340957,
     "sourceId": 2232033,
     "sourceType": "datasetVersion"
    }
   ],
   "dockerImageVersionId": 30918,
   "isGpuEnabled": false,
   "isInternetEnabled": false,
   "language": "python",
   "sourceType": "notebook"
  },
  "kernelspec": {
   "display_name": "Python 3 (ipykernel)",
   "language": "python",
   "name": "python3"
  },
  "language_info": {
   "codemirror_mode": {
    "name": "ipython",
    "version": 3
   },
   "file_extension": ".py",
   "mimetype": "text/x-python",
   "name": "python",
   "nbconvert_exporter": "python",
   "pygments_lexer": "ipython3",
   "version": "3.11.9"
  },
  "papermill": {
   "default_parameters": {},
   "duration": 12.354191,
   "end_time": "2025-02-26T14:13:59.772532",
   "environment_variables": {},
   "exception": null,
   "input_path": "__notebook__.ipynb",
   "output_path": "__notebook__.ipynb",
   "parameters": {},
   "start_time": "2025-02-26T14:13:47.418341",
   "version": "2.6.0"
  }
 },
 "nbformat": 4,
 "nbformat_minor": 5
}
