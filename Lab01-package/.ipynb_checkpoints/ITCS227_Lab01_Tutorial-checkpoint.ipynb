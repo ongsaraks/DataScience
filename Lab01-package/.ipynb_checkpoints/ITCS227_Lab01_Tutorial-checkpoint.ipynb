{
 "cells": [
  {
   "cell_type": "markdown",
   "id": "a44ee3ed",
   "metadata": {},
   "source": [
    "<p style=\"text-align:center\">\n",
    "    <a href=\"https://www.ict.mahidol.ac.th/en/\" target=\"_blank\">\n",
    "    <img src=\"https://www3.ict.mahidol.ac.th/ICTSurveysV2/Content/image/MUICT2.png\" width=\"400\" alt=\"Faculty of ICT\">\n",
    "    </a>\n",
    "</p>\n",
    "\n",
    "# Tutorial 01: Using Jupyter Notebooks\n",
    "\n",
    "Jupyter Notebooks combine executable code with formatted text, images, and other content within cells. These formatted cells use Markdown and are key for documenting and explaining the notebook's contents. This lab will focus on practicing Markdown writing.\n",
    "\n",
    "## This tutorial aims to teach you how to:\n",
    "\n",
    "* Determine the kernel used by a Jupyter Notebook.\n",
    "* Format text in Markdown using headings, bold, and italics.\n",
    "* Embed links and images using Markdown.\n",
    "* Construct tables using Markdown.\n",
    "* Create ordered and unordered lists using Markdown.\n",
    "* Effectively use Markdown within Jupyter Notebooks.\n",
    "* Use basic data types in Python.\n",
    "* Use basic loops and conditions in Python."
   ]
  },
  {
   "cell_type": "markdown",
   "id": "0db1fbc3",
   "metadata": {},
   "source": [
    "## Exercise 1: Explores Jupyter Notebook kernels\n",
    "Kernels are the computational engines that run the notebook's code and generate results. The current kernel's name is displayed in the top right corner (e.g., Pyolite in JupyterLite, Python 3 or 2 in JupyterLab). You can select a different kernel from the launch page or via a dropdown menu in the top right. While code is running, the kernel's status changes from \"Idle\" to \"Running.\"\n",
    "\n",
    "<p style=\"text-align:center\">\n",
    "    <img src=\"img/kernel.png\" width=\"800\">\n",
    "</p>\n",
    "\n",
    "You can select a different kernel either from the initial launch page or by using the dropdown menu in the top right corner. While the kernel is actively processing code, its status will change from \"Idle\" to \"Running.\"\n"
   ]
  },
  {
   "cell_type": "markdown",
   "id": "161b511c",
   "metadata": {},
   "source": [
    "### Now, try it yourself:\n",
    "Click on the \"Kernel\" -> \"Change kernel\" menu to view a list of other available kernels. However, please **refrain from changing the currently active kernel.**"
   ]
  },
  {
   "cell_type": "markdown",
   "id": "5e54516f",
   "metadata": {},
   "source": [
    "<details><summary> >> Click here for the solution</summary>\n",
    "\n",
    "The output should look like:\n",
    "\n",
    "<img src=\"img/available_kernel.png\" width=\"600\">\n",
    "\n",
    "</details>\n"
   ]
  },
  {
   "cell_type": "markdown",
   "id": "aff3ad53",
   "metadata": {},
   "source": [
    "## Exercise 2: Headings and font styles\n",
    "Let's learn how to use basic Markdown formatting, including creating headings and styling text with bold and italics.\n",
    "\n",
    "### Markdown Headings\n",
    "Jupyter Notebooks allow you to create headings using the hash symbol (#). There are six heading levels, with one hash (#) for the most prominent (H1) and six hashes (######) for the least prominent (H6).\n",
    "\n",
    "Here's an example of each heading level:\n",
    "\n",
    "# H1: This is a level 1 Heading (Largest)\n",
    "## H2: This is a level 2 Heading\n",
    "### H3: This is a level 3 Heading\n",
    "#### H4: This is a level 4 Heading\n",
    "##### H5: This is a level 5 Heading (Smaller)\n",
    "###### H6: This is a level 6 Heading (Smallest)\n",
    "\n",
    "### Tips:\n",
    "\n",
    "* To switch a code cell to markdown, click the cell and change the cell type from \"Code\" to \"Markdown\" using the dropdown menu in the toolbar.\n",
    "* Run a cell by clicking inside it and pressing *Shift* + *Enter*.\n",
    "* To edit a rendered markdown cell, double-click on the cell.\n",
    "\n",
    "Now, convert the following code cell to a markdown cell, and execute it."
   ]
  },
  {
   "cell_type": "code",
   "execution_count": null,
   "id": "fb1e5751",
   "metadata": {},
   "outputs": [],
   "source": [
    "# Execute it as a markdown cell\n",
    "# H1: Level 1 Heading\n",
    "## H2: Level 2 Heading\n",
    "### H3: Level 3 Heading\n",
    "#### H4: Level 4 Heading\n",
    "##### H5: Level 5 Heading\n",
    "###### H6: Level 6 Heading"
   ]
  },
  {
   "cell_type": "markdown",
   "id": "42961b33",
   "metadata": {},
   "source": [
    "### Bold Text\n",
    "\n",
    "To make text bold, enclose it in double asterisks or underscores.  Try this out by changing the cell below to a Markdown cell and running it."
   ]
  },
  {
   "cell_type": "code",
   "execution_count": null,
   "id": "60ecc6f7",
   "metadata": {},
   "outputs": [],
   "source": [
    "#### Execute it as a markdown cell\n",
    "**Make this text bold using asterisks.**  \n",
    "__Make this text bold using underscores.__"
   ]
  },
  {
   "cell_type": "markdown",
   "id": "55e300ab",
   "metadata": {},
   "source": [
    "### Italic Text\n",
    "\n",
    "To italicize text, enclose it in single asterisks or underscores. Convert the cell below to Markdown and run it to see this in action."
   ]
  },
  {
   "cell_type": "code",
   "execution_count": null,
   "id": "9a39f89b",
   "metadata": {},
   "outputs": [],
   "source": [
    "#### Execute it as a markdown cell\n",
    "*Make this text italic using asterisks.*  \n",
    "_Make this text italic using underscore._"
   ]
  },
  {
   "cell_type": "markdown",
   "id": "ac7b0b1d",
   "metadata": {},
   "source": [
    "### Bold and Italic text\n",
    "\n",
    "You can make text both bold and italic by surrounding it with three asterisks or underscores. Try this out by changing the cell below to a Markdown cell and running it."
   ]
  },
  {
   "cell_type": "code",
   "execution_count": null,
   "id": "7cca593f",
   "metadata": {},
   "outputs": [],
   "source": [
    "#### Execute it as a markdown cell\n",
    "\n",
    "***Make this text bold and italic using asterisks.*** \n",
    "\n",
    "___Make this text bold and italic using underscore.___"
   ]
  },
  {
   "cell_type": "markdown",
   "id": "6032c22a",
   "metadata": {},
   "source": [
    "## Exercise 3: Adding links and images using Markdown."
   ]
  },
  {
   "cell_type": "markdown",
   "id": "3d4887e5",
   "metadata": {},
   "source": [
    "#### Hyperlinks\n",
    "This section shows you how to make clickable links in your notebook using Markdown. Here's the format: \n",
    "```\n",
    "[Faculty of ICT](https://www.ict.mahidol.ac.th/) \n",
    "```\n",
    "\n",
    "Change the cell below to a Markdown cell and execute it:"
   ]
  },
  {
   "cell_type": "code",
   "execution_count": null,
   "id": "1c3660ae",
   "metadata": {},
   "outputs": [],
   "source": [
    "#### Execute it as a markdown cell\n",
    "[Faculty of ICT](https://www.ict.mahidol.ac.th/)"
   ]
  },
  {
   "cell_type": "markdown",
   "id": "4819c16e",
   "metadata": {},
   "source": [
    "#### Images\n",
    "Note: To insert an image, you will need either the url or local path to the image.\n",
    "\n",
    "To display images within your Jupyter Notebook using Markdown, here's the format:\n",
    "```\n",
    "<img src=\"Image URL\">\n",
    "```\n",
    "\n",
    "Change the cell below to a Markdown cell and execute it:"
   ]
  },
  {
   "cell_type": "code",
   "execution_count": null,
   "id": "48abeb33",
   "metadata": {},
   "outputs": [],
   "source": [
    "#### Execute it as a markdown cell\n",
    "\n",
    "<img src=\"img/cat.jpg\" width=\"400\">\n",
    "\n",
    "<a href = \"https://www.ict.mahidol.ac.th/th/ict-round-2-mu-portfolio-academic-year-2025/\"><img src=\"https://www.ict.mahidol.ac.th/wp-content/uploads/2024/09/MUPort68ICT.png\" width=\"400\"></a>\n",
    "\n",
    "\n"
   ]
  },
  {
   "cell_type": "markdown",
   "id": "bcef0530",
   "metadata": {},
   "source": [
    "## Exercise 4: Creating Tables\n",
    "\n",
    "You can create tables in Markdown using the following structure:\n",
    "* Use hyphens (----) to create the header row.\n",
    "* Use vertical pipes (|) to separate the columns in each row.\n",
    "* Put each row on a new line.\n",
    "\n",
    "Try it out! Convert the code cell below into a Markdown cell and run the cell to display the formatted table."
   ]
  },
  {
   "cell_type": "code",
   "execution_count": null,
   "id": "e11d0bf2",
   "metadata": {},
   "outputs": [],
   "source": [
    "### Execute as a markdown cell\n",
    "\n",
    "| Fruit | Color |\n",
    "| -------------| ------ |\n",
    "| Apple | Red |\n",
    "| Banana | Yello |\n",
    "| Orange | Of course, orange! |"
   ]
  },
  {
   "cell_type": "markdown",
   "id": "4571e204",
   "metadata": {},
   "source": [
    "## Exercise 5: Listing\n",
    "\n",
    "To create ordered (numbered) and unordered (bulleted) lists in Markdown.\n",
    "\n",
    "### Unordered Lists (Bulleted Lists)\n",
    "\n",
    "You can make a bulleted list by putting a dash (-), an asterisk (*), or a plus sign (+) before each item.\n",
    "\n",
    "\n",
    "Convert the code cell below to a Markdown cell. Then, run the cell to see the rendered lists."
   ]
  },
  {
   "cell_type": "code",
   "execution_count": null,
   "id": "ebbab3ae",
   "metadata": {},
   "outputs": [],
   "source": [
    "### Execute as a markdown cell\n",
    "- First item using dashes\n",
    "- Second item using dashes\n",
    "- Third item using dashes\n",
    "- Fourth item using dashes\n",
    "\n",
    "* First item using asterisks\n",
    "* Second item using asterisks\n",
    "* Third item using asterisks\n",
    "* Fourth item using asterisks\n",
    "\n",
    "+ First item using plus\n",
    "+ Second item using plus\n",
    "+ Third item using plus\n",
    "+ Fourth item using plus"
   ]
  },
  {
   "cell_type": "markdown",
   "id": "cb1d49e9",
   "metadata": {},
   "source": [
    "### Ordered Lists (Numbered Lists)\n",
    "\n",
    "To make a numbered list (an ordered list) in Markdown, simply start each item with a number followed by a period.\n",
    "\n",
    "Change the cell below to a Markdown cell. Then, run the cell to see the formatted list."
   ]
  },
  {
   "cell_type": "code",
   "execution_count": null,
   "id": "cbf22ff4",
   "metadata": {},
   "outputs": [],
   "source": [
    "### Execute as a markdown cell\n",
    "1. First item\n",
    "2. Second item\n",
    "3. Third item\n",
    "4. Fourth item"
   ]
  },
  {
   "cell_type": "markdown",
   "id": "490f0314",
   "metadata": {},
   "source": [
    "## Exercise 6: Basic Datatypes in Python\n",
    "\n",
    "Python has several built-in data structures that are fundamental to programming. Here are the main ones:\n",
    "\n",
    "### Lists\n",
    "\n",
    "Mutable: You can change them after creation (add, remove, modify elements).\n",
    "Ordered: Elements have a specific order, and you can access them by their position (index).\n",
    "Syntax: Created using square brackets [].\n",
    "Example: my_list = [1, \"hello\", 3.14]\n",
    "\n",
    "### Tuples\n",
    "\n",
    "Immutable: Once created, you cannot change them.\n",
    "Ordered: Elements have a specific order, accessible by index.\n",
    "Syntax: Created using parentheses ().\n",
    "Example: my_tuple = (1, \"hello\", 3.14)\n",
    "\n",
    "\n",
    "### Dictionaries\n",
    "\n",
    "Mutable: Can be changed after creation.\n",
    "Unordered: Elements are stored as key-value pairs, and you access values using their keys (not by position).\n",
    "Syntax: Created using curly braces {}.\n",
    "Example: my_dict = {\"name\": \"Alice\", \"age\": 30}\n",
    "\n",
    "### Sets\n",
    "\n",
    "Mutable: Can be changed after creation.\n",
    "Unordered: Elements have no specific order. Sets automatically remove duplicate values.\n",
    "Syntax: Created using curly braces {} or the set() constructor.\n",
    "Example: my_set = {1, 2, 3, 3} # {1, 2, 3}\n",
    "\n",
    "#### Key Differences\n",
    "\n",
    "Mutability: Lists, dictionaries, and sets are mutable, while tuples are immutable. This is a crucial difference that affects how you use them.\n",
    "Order: Lists and tuples maintain the order of elements, while dictionaries and sets do not.\n",
    "Uniqueness: Sets only store unique elements, automatically discarding duplicates.\n",
    "These data structures are essential for organizing and manipulating data in Python. Understanding their properties and when to use each one is crucial for effective programming.\n",
    "\n",
    "Execute the following cells to se"
   ]
  },
  {
   "cell_type": "code",
   "execution_count": null,
   "id": "0b0d67bc",
   "metadata": {},
   "outputs": [],
   "source": [
    "# Example List\n",
    "my_list = [1, \"hello\", 3.14]\n",
    "my_list.append(\"world\")\n",
    "print(my_list)"
   ]
  },
  {
   "cell_type": "code",
   "execution_count": null,
   "id": "eef556aa",
   "metadata": {},
   "outputs": [],
   "source": [
    "# Example Tuple\n",
    "my_tuple = (1, \"hello\", 3.14)\n",
    "#my_tuple.append(\"world\")  --> Error\n",
    "print(my_tuple)"
   ]
  },
  {
   "cell_type": "code",
   "execution_count": null,
   "id": "3e66e16d",
   "metadata": {},
   "outputs": [],
   "source": [
    "# Example Dictionary\n",
    "my_dict = {\"name\": \"Alice\", \"age\": 30}\n",
    "print(my_dict[\"age\"])"
   ]
  },
  {
   "cell_type": "code",
   "execution_count": null,
   "id": "4240fb25",
   "metadata": {},
   "outputs": [],
   "source": [
    "# Example Set\n",
    "my_set = {1, 2, 3, 3}\n",
    "print(my_set)"
   ]
  },
  {
   "cell_type": "markdown",
   "id": "2341ecdb",
   "metadata": {},
   "source": [
    "## Exercise 6: Basic Loops and Conditions in Python\n",
    "\n",
    "This section covers fundamental control flow structures in Python: loops (for and while) and conditional statements (if, elif, and else). These are essential for creating dynamic and functional programs.\n",
    "\n",
    "### Conditional Statements (if, elif, else)\n",
    "\n",
    "Conditional statements allow your code to execute different blocks of code depending on whether a condition is true or false.\n",
    "\n",
    "* if statement: Executes a block of code if a condition is true."
   ]
  },
  {
   "cell_type": "code",
   "execution_count": null,
   "id": "0e9005af",
   "metadata": {},
   "outputs": [],
   "source": [
    "x = 10\n",
    "if x > 5:\n",
    "    print(\"x is greater than 5\")  # This will be printed"
   ]
  },
  {
   "cell_type": "markdown",
   "id": "f1a536ff",
   "metadata": {},
   "source": [
    "* else statement: Executes a block of code if the if condition is false."
   ]
  },
  {
   "cell_type": "code",
   "execution_count": null,
   "id": "ded4841f",
   "metadata": {},
   "outputs": [],
   "source": [
    "x = 3\n",
    "if x > 5:\n",
    "    print(\"x is greater than 5\")\n",
    "else:\n",
    "    print(\"x is not greater than 5\") # This will be printed"
   ]
  },
  {
   "cell_type": "markdown",
   "id": "0db386db",
   "metadata": {},
   "source": [
    "* elif statement (else if): Allows you to check multiple conditions in sequence."
   ]
  },
  {
   "cell_type": "code",
   "execution_count": null,
   "id": "4faa0175",
   "metadata": {},
   "outputs": [],
   "source": [
    "x = 5\n",
    "if x > 5:\n",
    "    print(\"x is greater than 5\")\n",
    "elif x == 5:\n",
    "    print(\"x is equal to 5\") # This will be printed\n",
    "else:\n",
    "    print(\"x is less than 5\")"
   ]
  },
  {
   "cell_type": "markdown",
   "id": "84091e09",
   "metadata": {},
   "source": [
    "__Example with user input:__"
   ]
  },
  {
   "cell_type": "code",
   "execution_count": null,
   "id": "730cd43a",
   "metadata": {},
   "outputs": [],
   "source": [
    "age = int(input(\"Enter your age: \"))\n",
    "\n",
    "if age < 18:\n",
    "    print(\"You are a minor.\")\n",
    "elif age >= 18 and age < 65: # or simply: elif 18 <= age < 65:\n",
    "    print(\"You are an adult.\")\n",
    "else:\n",
    "    print(\"You are a senior.\")"
   ]
  },
  {
   "cell_type": "markdown",
   "id": "1149abf7",
   "metadata": {},
   "source": [
    "### Loops\n",
    "\n",
    "Loops allow you to execute a block of code repeatedly. Python provides two main types of loops: for and while.\n",
    "\n",
    "* __for loop__: Iterates over a sequence (like a list, tuple, string, or range)."
   ]
  },
  {
   "cell_type": "code",
   "execution_count": null,
   "id": "bc147157",
   "metadata": {},
   "outputs": [],
   "source": [
    "# Iterating through a list:\n",
    "fruits = [\"apple\", \"banana\", \"cherry\"]\n",
    "for fruit in fruits:\n",
    "    print(fruit)"
   ]
  },
  {
   "cell_type": "code",
   "execution_count": null,
   "id": "d5a2f9f9",
   "metadata": {},
   "outputs": [],
   "source": [
    "# Using range(): The range() function generates a sequence of numbers.\n",
    "\n",
    "for i in range(5):  # Generates numbers from 0 to 4\n",
    "    print(i)\n",
    "\n",
    "for i in range(2, 7): # Generates numbers from 2 to 6\n",
    "    print(i)\n",
    "\n",
    "for i in range(0, 10, 2): # Generates even numbers from 0 to 8 (step of 2)\n",
    "    print(i)"
   ]
  },
  {
   "cell_type": "code",
   "execution_count": null,
   "id": "8ec25bbc",
   "metadata": {},
   "outputs": [],
   "source": [
    "# Iterating through a string:\n",
    "for char in \"Python\":\n",
    "    print(char)"
   ]
  },
  {
   "cell_type": "markdown",
   "id": "ad363472",
   "metadata": {},
   "source": [
    "* __while loop__: Executes a block of code as long as a condition is true."
   ]
  },
  {
   "cell_type": "code",
   "execution_count": null,
   "id": "c5631bcf",
   "metadata": {},
   "outputs": [],
   "source": [
    "count = 0\n",
    "while count < 5:\n",
    "    print(count)\n",
    "    count += 1  # Important: Increment the counter to avoid an infinite loop"
   ]
  },
  {
   "cell_type": "markdown",
   "id": "d7bd502c",
   "metadata": {},
   "source": [
    "Example: Calculating the sum of numbers from 1 to 10:"
   ]
  },
  {
   "cell_type": "code",
   "execution_count": null,
   "id": "327233c4",
   "metadata": {},
   "outputs": [],
   "source": [
    "sum = 0\n",
    "i = 1\n",
    "while i <= 10:\n",
    "    sum += i\n",
    "    i += 1\n",
    "print(\"The sum is:\", sum)"
   ]
  },
  {
   "cell_type": "markdown",
   "id": "b41a073d",
   "metadata": {},
   "source": [
    "### break and continue statements\n",
    "\n",
    "* __break__: Terminates the loop immediately."
   ]
  },
  {
   "cell_type": "code",
   "execution_count": null,
   "id": "c2447db5",
   "metadata": {},
   "outputs": [],
   "source": [
    "for i in range(10):\n",
    "    if i == 5:\n",
    "        break  # Exit the loop when i is 5\n",
    "    print(i) # Prints 0 to 4"
   ]
  },
  {
   "cell_type": "markdown",
   "id": "b0a73a45",
   "metadata": {},
   "source": [
    "* __continue__: Skips the current iteration and continues with the next one."
   ]
  },
  {
   "cell_type": "code",
   "execution_count": null,
   "id": "9e5915a7",
   "metadata": {},
   "outputs": [],
   "source": [
    "for i in range(10):\n",
    "    if i % 2 == 0:  # If i is even\n",
    "        continue  # Skip to the next iteration\n",
    "    print(i) # Prints only odd numbers (1, 3, 5, 7, 9)"
   ]
  },
  {
   "cell_type": "markdown",
   "id": "d3908343",
   "metadata": {},
   "source": [
    "<p style=\"text-align:center;\">That's it! Congratulations! <br> \n",
    "    Let's now work on your lab assigment.</p>"
   ]
  }
 ],
 "metadata": {
  "kernelspec": {
   "display_name": "Python 3 (ipykernel)",
   "language": "python",
   "name": "python3"
  },
  "language_info": {
   "codemirror_mode": {
    "name": "ipython",
    "version": 3
   },
   "file_extension": ".py",
   "mimetype": "text/x-python",
   "name": "python",
   "nbconvert_exporter": "python",
   "pygments_lexer": "ipython3",
   "version": "3.11.7"
  }
 },
 "nbformat": 4,
 "nbformat_minor": 5
}
