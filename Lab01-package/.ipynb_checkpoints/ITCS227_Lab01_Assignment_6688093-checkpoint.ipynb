{
 "cells": [
  {
   "cell_type": "markdown",
   "id": "7bca3098",
   "metadata": {},
   "source": [
    "<p style=\"text-align:center\">\n",
    "    <a href=\"https://www.ict.mahidol.ac.th/en/\" target=\"_blank\">\n",
    "    <img src=\"https://www3.ict.mahidol.ac.th/ICTSurveysV2/Content/image/MUICT2.png\" width=\"400\" alt=\"Faculty of ICT\">\n",
    "    </a>\n",
    "</p>\n",
    "\n",
    "# Lab01: Introduction to Jupyter Notebook\n",
    "\n",
    "__Intructions:__\n",
    "1. Append your ID at the end of this jupyter file name. For example, ```ITCS227_Lab01_Assignment_6788123.ipynb```\n",
    "2. Complete each task in the lab.\n",
    "3. Once finished, raise your hand to call a TA.\n",
    "4. The TA will check your work and give you an appropriate score.\n",
    "5. Submit the source code to MyCourse as evidence."
   ]
  },
  {
   "cell_type": "markdown",
   "id": "1da7156e",
   "metadata": {},
   "source": [
    "## Task 1: Markdown Cell\n",
    "\n",
    "Create a Markdown cell that briefly describe the recipe of your favorite food, including the following:\n",
    "\n",
    "1. Recipe Title (Level 1 Header): Choose a simple recipe you know or make one up. Examples: \"Simple Omelette,\" \"Peanut Butter Sandwich,\" \"Microwave Popcorn.\"\n",
    "\n",
    "2. Ingredients (Level 2 Header): List a few ingredients needed for your recipe using an unordered list.\n",
    "\n",
    "3. Instructions (Level 2 Header): Describe the steps to make the recipe using a numbered (ordered) list.\n",
    "\n",
    "4. Recipe Image: Find a relevant image online (or use a placeholder image URL) and include it in your Markdown cell. Make sure to give the image a descriptive alt text."
   ]
  },
  {
   "cell_type": "markdown",
   "id": "a5632524",
   "metadata": {},
   "source": [
    "-- Your solution here --\n",
    "# Hi\n",
    "## Hi\n",
    "## Hi"
   ]
  },
  {
   "cell_type": "code",
   "execution_count": 8,
   "id": "3232a4e7",
   "metadata": {},
   "outputs": [
    {
     "name": "stdout",
     "output_type": "stream",
     "text": [
      "1 is odd\n",
      "5 is odd\n",
      "12 is even\n",
      "18 is even\n",
      "21 is odd\n",
      "22 is even\n",
      "35 is odd\n",
      "38 is even\n",
      "41 is odd\n",
      "50 is even\n"
     ]
    }
   ],
   "source": [
    "# Your code here\n",
    "arr =  [1, 5, 12, 18, 21, 22, 35, 38, 41, 50]\n",
    "for i in arr:\n",
    "    if i % 2 == 0:  # If i is even\n",
    "        print(i, \"is even\") # Prints only odd numbers (1, 3, 5, 7, 9)\n",
    "    elif i % 2 == 1 :\n",
    "        print(i, \"is odd\")"
   ]
  },
  {
   "cell_type": "markdown",
   "id": "6f6453af",
   "metadata": {},
   "source": [
    "## Task 2: Even/Odd Number Sorter\n",
    "\n",
    "Write a Python program that does the following:\n",
    "\n",
    "1. Create a list of numbers: numbers = [1, 5, 12, 18, 21, 22, 35, 38, 41, 50]\n",
    "2. Use a for loop to iterate through the list.\n",
    "3. Inside the loop, use an if/else statement to check if each number is even or odd.\n",
    "4. Print each number along with whether it's \"even\" or \"odd\".\n",
    "\n",
    "Example Output:\n",
    "\n",
    "```1 is odd```<br>\n",
    "```5 is odd```<br>\n",
    "`12 is even`<br>\n",
    "`18 is even`<br>\n",
    "`...`<br>\n",
    "`50 is even`"
   ]
  },
  {
   "cell_type": "code",
   "execution_count": null,
   "id": "00c33972-e8d6-4c0d-86ab-1f9be5769dc6",
   "metadata": {},
   "outputs": [],
   "source": []
  }
 ],
 "metadata": {
  "kernelspec": {
   "display_name": "Python 3 (ipykernel)",
   "language": "python",
   "name": "python3"
  },
  "language_info": {
   "codemirror_mode": {
    "name": "ipython",
    "version": 3
   },
   "file_extension": ".py",
   "mimetype": "text/x-python",
   "name": "python",
   "nbconvert_exporter": "python",
   "pygments_lexer": "ipython3",
   "version": "3.11.5"
  }
 },
 "nbformat": 4,
 "nbformat_minor": 5
}
